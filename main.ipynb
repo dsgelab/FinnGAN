{
 "cells": [
  {
   "cell_type": "code",
   "execution_count": 1,
   "metadata": {},
   "outputs": [
    {
     "name": "stdout",
     "output_type": "stream",
     "text": [
      "Device: cuda:0\n"
     ]
    }
   ],
   "source": [
    "# Imports\n",
    "import torch\n",
    "import torch.nn as nn\n",
    "import torch.nn.functional as F\n",
    "from torch.autograd import Variable\n",
    "import numpy as np\n",
    "from sklearn.model_selection import train_test_split\n",
    "import time\n",
    "from math import log10, floor\n",
    "import os\n",
    "import glob\n",
    "\n",
    "from relational_rnn_models import RelationalMemoryGenerator\n",
    "from discriminator import RelGANDiscriminator\n",
    "\n",
    "cuda = torch.cuda.is_available()\n",
    "\n",
    "# Try setting the device to a GPU\n",
    "device = torch.device(\"cuda:0\" if cuda else \"cpu\")\n",
    "print('Device:', device)\n",
    "\n",
    "Tensor = torch.cuda.FloatTensor if cuda else torch.FloatTensor"
   ]
  },
  {
   "cell_type": "code",
   "execution_count": 2,
   "metadata": {},
   "outputs": [
    {
     "name": "stdout",
     "output_type": "stream",
     "text": [
      "89527\n",
      "['the', 'and', 'a', 'of', 'to', 'is', 'it', 'in', 'i', 'this']\n",
      "1143\n",
      "nobility\n"
     ]
    }
   ],
   "source": [
    "vocab = []\n",
    "\n",
    "with open('aclImdb/imdb.vocab', 'r') as file:\n",
    "    for line in file:\n",
    "        vocab.append(line[:-1])\n",
    "        \n",
    "        \n",
    "vocab_size = len(vocab)\n",
    "print(vocab_size)\n",
    "print(vocab[:10])\n",
    "\n",
    "word_to_index = dict([(w, i) for i, w in enumerate(vocab)])\n",
    "index_to_word = dict([(i, w) for i, w in enumerate(vocab)])\n",
    "\n",
    "print(word_to_index['awesome'])\n",
    "print(index_to_word[12345])"
   ]
  },
  {
   "cell_type": "code",
   "execution_count": 3,
   "metadata": {
    "scrolled": true
   },
   "outputs": [
    {
     "name": "stdout",
     "output_type": "stream",
     "text": [
      "500\n"
     ]
    }
   ],
   "source": [
    "files = glob.glob('aclImdb/train/pos/*.txt')[:500]\n",
    "print(len(files))\n",
    "\n",
    "lengths = []\n",
    "\n",
    "for filename in files:\n",
    "    with open(filename, 'r') as file:\n",
    "        lengths.append(len(file.readline().split(' ')))"
   ]
  },
  {
   "cell_type": "code",
   "execution_count": 4,
   "metadata": {},
   "outputs": [
    {
     "name": "stdout",
     "output_type": "stream",
     "text": [
      "tensor(228.9180, device='cuda:0')\n",
      "34\n",
      "995\n"
     ]
    }
   ],
   "source": [
    "print(torch.mean(torch.tensor(lengths).type(Tensor)))\n",
    "print(min(lengths))\n",
    "print(max(lengths))"
   ]
  },
  {
   "cell_type": "code",
   "execution_count": 14,
   "metadata": {},
   "outputs": [
    {
     "name": "stdout",
     "output_type": "stream",
     "text": [
      "tensor([0.0588, 0.3529, 0.1765, 0.2353, 0.1176, 0.0588], device='cuda:0')\n"
     ]
    }
   ],
   "source": [
    "# Define variables\n",
    "vocab_size = 6\n",
    "var_ids = list(range(vocab_size))\n",
    "var_names = ['var' + str(i) for i in var_ids]\n",
    "var_weights = torch.tensor([15, 5, 3, 4, 2, 1]).type(Tensor) \n",
    "var_weights = var_weights / torch.sum(var_weights)# variable distribution of mock data\n",
    "sequence_length = 10\n",
    "n_individuals = 2000\n",
    "\n",
    "#noise_length = 2\n",
    "print(var_weights)"
   ]
  },
  {
   "cell_type": "code",
   "execution_count": 6,
   "metadata": {},
   "outputs": [],
   "source": [
    "# Helper function(s)\n",
    "\n",
    "# round a number to n significant digits\n",
    "def round_to_n(x, n = 2):\n",
    "    return round(x, -int(floor(log10(abs(x)))) + (n - 1)) if x != 0 else 0"
   ]
  },
  {
   "cell_type": "code",
   "execution_count": 7,
   "metadata": {},
   "outputs": [
    {
     "name": "stdout",
     "output_type": "stream",
     "text": [
      "time taken: 0.8 seconds\n",
      "['var1', 'var1', 'var4', 'var2', 'var0', 'var3', 'var1', 'var1', 'var4', 'var1']\n",
      "['var1', 'var2', 'var0', 'var2', 'var4', 'var3', 'var1', 'var4', 'var1', 'var1']\n",
      "['var1', 'var1', 'var3', 'var1', 'var1', 'var1', 'var3', 'var1', 'var1', 'var3']\n",
      "['var1', 'var1', 'var2', 'var0', 'var1', 'var3', 'var3', 'var3', 'var1', 'var0']\n",
      "['var2', 'var0', 'var2', 'var4', 'var1', 'var1', 'var1', 'var1', 'var1', 'var1']\n",
      "['var1', 'var3', 'var2', 'var5', 'var3', 'var3', 'var1', 'var1', 'var3', 'var3']\n",
      "['var2', 'var2', 'var1', 'var3', 'var1', 'var1', 'var3', 'var3', 'var5', 'var2']\n",
      "['var3', 'var1', 'var3', 'var0', 'var3', 'var1', 'var2', 'var1', 'var3', 'var2']\n",
      "['var1', 'var1', 'var1', 'var3', 'var4', 'var3', 'var3', 'var2', 'var3', 'var1']\n",
      "['var1', 'var3', 'var4', 'var1', 'var1', 'var2', 'var5', 'var1', 'var3', 'var4']\n"
     ]
    }
   ],
   "source": [
    "# Generate mock data\n",
    "\n",
    "events = []\n",
    "\n",
    "start_time = time.time()\n",
    "\n",
    "alternative_weights = torch.tensor([7, 2, 1, 2, 1, 4]).type(torch.FloatTensor) \n",
    "alternative_weights = alternative_weights / torch.sum(alternative_weights)\n",
    "\n",
    "for indv in range(n_individuals):\n",
    "    tmp = []\n",
    "    for t in range(sequence_length):\n",
    "        if t > 0 and tmp[t - 1] == 'var2':\n",
    "            var = np.random.choice(var_names, p=alternative_weights)\n",
    "        else:\n",
    "            var = np.random.choice(var_names, p=var_weights)\n",
    "        tmp.append(var)\n",
    "    events.append(tmp)\n",
    "        \n",
    "print('time taken:', round_to_n(time.time() - start_time), 'seconds')\n",
    "\n",
    "for i in range(10):\n",
    "    print(events[i])"
   ]
  },
  {
   "cell_type": "code",
   "execution_count": 11,
   "metadata": {},
   "outputs": [
    {
     "name": "stdout",
     "output_type": "stream",
     "text": [
      "{'var0': 0, 'var1': 1, 'var2': 2, 'var3': 3, 'var4': 4, 'var5': 5}\n",
      "tensor([[1, 1, 4, 2, 0, 3, 1, 1, 4, 1],\n",
      "        [1, 2, 0, 2, 4, 3, 1, 4, 1, 1],\n",
      "        [1, 1, 3, 1, 1, 1, 3, 1, 1, 3],\n",
      "        [1, 1, 2, 0, 1, 3, 3, 3, 1, 0],\n",
      "        [2, 0, 2, 4, 1, 1, 1, 1, 1, 1],\n",
      "        [1, 3, 2, 5, 3, 3, 1, 1, 3, 3],\n",
      "        [2, 2, 1, 3, 1, 1, 3, 3, 5, 2],\n",
      "        [3, 1, 3, 0, 3, 1, 2, 1, 3, 2],\n",
      "        [1, 1, 1, 3, 4, 3, 3, 2, 3, 1],\n",
      "        [1, 3, 4, 1, 1, 2, 5, 1, 3, 4]], device='cuda:0')\n"
     ]
    }
   ],
   "source": [
    "vars_to_indices = dict([(v, i) for i, v in enumerate(var_names)])\n",
    "print(vars_to_indices)\n",
    "data = torch.tensor([[vars_to_indices[e] for e in event] for event in events])\n",
    "if cuda:\n",
    "    data = data.cuda()\n",
    "print(data[:10])"
   ]
  },
  {
   "cell_type": "code",
   "execution_count": 9,
   "metadata": {},
   "outputs": [
    {
     "name": "stdout",
     "output_type": "stream",
     "text": [
      "tensor([[[1., 0., 0., 0.],\n",
      "         [0., 1., 0., 0.],\n",
      "         [0., 0., 1., 0.],\n",
      "         [0., 0., 0., 1.]]], device='cuda:0')\n",
      "tensor([[[1., 0., 0., 0., 0., 0.],\n",
      "         [0., 0., 0., 0., 1., 0.],\n",
      "         [0., 0., 0., 1., 0., 0.],\n",
      "         [0., 0., 0., 0., 1., 0.],\n",
      "         [0., 0., 0., 0., 1., 0.],\n",
      "         [1., 0., 0., 0., 0., 0.],\n",
      "         [0., 0., 0., 0., 0., 1.],\n",
      "         [0., 1., 0., 0., 0., 0.],\n",
      "         [0., 0., 0., 0., 0., 1.],\n",
      "         [0., 0., 0., 0., 0., 1.]]], device='cuda:0', grad_fn=<CatBackward>)\n",
      "tensor([[0, 4, 3, 4, 4, 0, 5, 1, 5, 5]], device='cuda:0')\n",
      "tensor([[[-0.3938,  0.7008, -2.2735,  1.2140],\n",
      "         [-0.5985,  0.5627, -2.1246,  1.2501],\n",
      "         [-0.4631,  0.5688, -1.6212,  1.2787],\n",
      "         [-0.6056,  0.5891, -2.0371,  1.4096]]], device='cuda:0',\n",
      "       grad_fn=<AddBackward0>)\n"
     ]
    }
   ],
   "source": [
    "# Test generator output\n",
    "\n",
    "mem_slots = 4\n",
    "head_size = 2\n",
    "embed_size = 2\n",
    "temperature = 1\n",
    "num_heads = 2\n",
    "\n",
    "G = RelationalMemoryGenerator(mem_slots, head_size, embed_size, vocab_size, temperature, num_heads)\n",
    "\n",
    "start_token = torch.tensor([[0]])\n",
    "memory = G.initial_state(batch_size = 1)\n",
    "\n",
    "if cuda:\n",
    "    G.cuda()\n",
    "    start_token = start_token.cuda()\n",
    "    memory = memory.cuda()\n",
    "\n",
    "print(memory)\n",
    "logits, tokens, _, memory = G(start_token, memory, sequence_length, None)\n",
    "print(logits)\n",
    "print(tokens)\n",
    "print(memory)\n"
   ]
  },
  {
   "cell_type": "code",
   "execution_count": 17,
   "metadata": {},
   "outputs": [
    {
     "name": "stdout",
     "output_type": "stream",
     "text": [
      "tensor([0.1480, 1.7525, 0.1560, 0.6020, 0.4215, 2.3240], device='cuda:0')\n",
      "tensor([ 2.5160,  4.9654,  0.8840,  2.5585,  3.5828, 39.5080], device='cuda:0')\n",
      "tensor([0.1131, 0.1311, 0.1697, 0.1434, 0.0943, 0.3484], device='cuda:0') tensor([0.1071, 0.1157, 0.1773, 0.1445, 0.1156, 0.3397], device='cuda:0')\n"
     ]
    }
   ],
   "source": [
    "# Define generator evaluation functions\n",
    "\n",
    "def eval_generator(G, data, vocab_size):\n",
    "    memory = G.initial_state(batch_size = data.shape[0])\n",
    "    if cuda:\n",
    "        memory = memory.cuda()\n",
    "    _, data_fake, _, _ = G(data[:, :1], memory, data.shape[1])\n",
    "    word_means = torch.stack([torch.mean((data == i).type(Tensor), dim = 0) for i in range(vocab_size)])\n",
    "    word_means_fake = torch.stack([torch.mean((data_fake == i).type(Tensor), dim = 0) for i in range(vocab_size)])\n",
    "    \n",
    "    scores = torch.sum(torch.abs(word_means - word_means_fake), dim = 1)\n",
    "    \n",
    "    return scores # for each word; the lower the better\n",
    "\n",
    "def count_special_cases(data, vocab_size):\n",
    "    counts1 = torch.zeros(vocab_size)\n",
    "    counts2 = torch.zeros(vocab_size)\n",
    "    \n",
    "    if cuda:\n",
    "        counts1 = counts1.cuda()\n",
    "        counts2 = counts2.cuda()\n",
    "    \n",
    "    for i in range(data.shape[0]):\n",
    "        for t in range(data.shape[1] - 1):\n",
    "            if data[i, t] == 2:\n",
    "                counts1[data[i, t + 1]] += 1\n",
    "            else:\n",
    "                counts2[data[i, t + 1]] += 1\n",
    "                \n",
    "    return counts1, counts2\n",
    "\n",
    "def test_special_case(G, data, vocab_size, return_freq = True):\n",
    "    counts_real1, counts_real2 = count_special_cases(data, vocab_size)\n",
    "    freq_real1 = counts_real1 / torch.sum(counts_real1)\n",
    "    freq_real2 = counts_real2 / torch.sum(counts_real2)\n",
    "    \n",
    "    memory = G.initial_state(batch_size = data.shape[0])\n",
    "\n",
    "    if cuda:\n",
    "        memory = memory.cuda()\n",
    "    \n",
    "    _, data_fake, _, _ = G(data[:, :1], memory, data.shape[1])\n",
    "    \n",
    "    counts_fake1, counts_fake2 = count_special_cases(data_fake, vocab_size)\n",
    "    freq_fake1 = counts_fake1 / torch.sum(counts_fake1)\n",
    "    freq_fake2 = counts_fake2 / torch.sum(counts_fake2)\n",
    "    \n",
    "    scores1 = freq_real1 - freq_fake1\n",
    "    scores2 = freq_real2 - freq_fake2\n",
    "    #print(freq_real1, freq_real2)\n",
    "    \n",
    "    if return_freq:\n",
    "        return freq_fake1, freq_fake2\n",
    "    else:\n",
    "        return torch.mean(torch.abs(scores1)), torch.mean(torch.abs(scores2))\n",
    "\n",
    "#print(data[:5, :])\n",
    "scores = eval_generator(G, data, vocab_size)\n",
    "print(scores)\n",
    "print(scores / var_weights) # adjusted to the words' frequencies\n",
    "\n",
    "scores1, scores2 = test_special_case(G, data, vocab_size)\n",
    "print(scores1, scores2)\n",
    "\n"
   ]
  },
  {
   "cell_type": "code",
   "execution_count": 19,
   "metadata": {},
   "outputs": [
    {
     "name": "stdout",
     "output_type": "stream",
     "text": [
      "tensor([[[1., 0., 0., 0., 0., 0.],\n",
      "         [0., 0., 0., 0., 1., 0.],\n",
      "         [0., 0., 0., 1., 0., 0.],\n",
      "         [0., 0., 0., 0., 1., 0.],\n",
      "         [0., 0., 0., 0., 1., 0.],\n",
      "         [1., 0., 0., 0., 0., 0.],\n",
      "         [0., 0., 0., 0., 0., 1.],\n",
      "         [0., 1., 0., 0., 0., 0.],\n",
      "         [0., 0., 0., 0., 0., 1.],\n",
      "         [0., 0., 0., 0., 0., 1.]]], device='cuda:0', grad_fn=<CatBackward>)\n",
      "tensor([[0.5376, 0.5376]], device='cuda:0', grad_fn=<SqueezeBackward1>)\n",
      "tensor([0.5376], device='cuda:0', grad_fn=<MeanBackward2>)\n"
     ]
    }
   ],
   "source": [
    "# Test Discriminator output\n",
    "\n",
    "n_embeddings = 2\n",
    "embed_size = 2\n",
    "out_channels = 5 \n",
    "filter_sizes = [2, 3] # values can be at most the sequence_length\n",
    "\n",
    "D = RelGANDiscriminator(n_embeddings, vocab_size, embed_size, sequence_length, out_channels, filter_sizes)\n",
    "\n",
    "if cuda:\n",
    "    D.cuda()\n",
    "\n",
    "inp = logits\n",
    "print(inp)\n",
    "print(D(inp, False))\n",
    "print(D(inp))\n"
   ]
  },
  {
   "cell_type": "code",
   "execution_count": 22,
   "metadata": {},
   "outputs": [],
   "source": [
    "# Define the generator pre-train function\n",
    "\n",
    "def pretrain_generator(G, train_data, vocab_size, n_epochs, lr, print_step = 10):\n",
    "    loss_function = nn.BCELoss()\n",
    "    optimizer = torch.optim.Adam(G.parameters(), lr=lr)\n",
    "    \n",
    "    train_data_one_hot = F.one_hot(train_data, vocab_size).type(Tensor)\n",
    "    start_token = train_data[:, :1]\n",
    "    sequence_length = train_data.shape[1]\n",
    "    \n",
    "    if cuda:\n",
    "        G.cuda()\n",
    "        loss_function.cuda()\n",
    "        start_token = start_token.cuda()\n",
    "    \n",
    "    for e in range(n_epochs):\n",
    "        optimizer.zero_grad()\n",
    "        \n",
    "        memory = G.initial_state(batch_size = train_data.shape[0])\n",
    "        \n",
    "        if cuda:\n",
    "            memory = memory.cuda()\n",
    "        \n",
    "        logits, _, _, _ = G(start_token, memory, sequence_length)\n",
    "        \n",
    "        loss = loss_function(logits, train_data_one_hot)\n",
    "        \n",
    "        loss.backward()\n",
    "        optimizer.step()\n",
    "        \n",
    "        if e % print_step == 0:\n",
    "            print(\n",
    "                \"[Epoch %d/%d] [G loss: %f]\"\n",
    "                % (e, n_epochs, loss.item())\n",
    "            )"
   ]
  },
  {
   "cell_type": "code",
   "execution_count": 23,
   "metadata": {},
   "outputs": [
    {
     "name": "stdout",
     "output_type": "stream",
     "text": [
      "tensor([0.3110, 2.0260, 0.7225, 0.0855, 0.5240, 1.8770], device='cuda:0') tensor([ 5.2870,  5.7403,  4.0942,  0.3634,  4.4540, 31.9090], device='cuda:0')\n",
      "[Epoch 0/10] [G loss: 7.064792]\n",
      "[Epoch 2/10] [G loss: 7.051437]\n",
      "[Epoch 4/10] [G loss: 7.003083]\n",
      "[Epoch 6/10] [G loss: 7.015517]\n",
      "[Epoch 8/10] [G loss: 6.998477]\n",
      "tensor([0.3575, 1.8690, 0.5015, 0.2765, 0.4195, 1.3170], device='cuda:0') tensor([ 6.0775,  5.2955,  2.8418,  1.1751,  3.5658, 22.3890], device='cuda:0')\n"
     ]
    }
   ],
   "source": [
    "mem_slots = 4\n",
    "head_size = 2\n",
    "embed_size = 2\n",
    "temperature = 1\n",
    "num_heads = 2\n",
    "\n",
    "G = RelationalMemoryGenerator(mem_slots, head_size, embed_size, vocab_size, temperature, num_heads)\n",
    "\n",
    "if cuda:\n",
    "    G.cuda()\n",
    "\n",
    "# TODO: change to the better evaluation functions\n",
    "scores = eval_generator(G, data, vocab_size)\n",
    "print(scores, scores / var_weights)\n",
    "pretrain_generator(G, data, vocab_size, 10, 0.001, 2)\n",
    "scores = eval_generator(G, data, vocab_size)\n",
    "print(scores, scores / var_weights)"
   ]
  },
  {
   "cell_type": "code",
   "execution_count": 24,
   "metadata": {},
   "outputs": [],
   "source": [
    "# Define the training function\n",
    "\n",
    "def train(G, D, train_data, vocab_size, n_epochs, lr, temperature, print_step = 10, score_fn = test_special_case):\n",
    "    print('pretraining generator...')\n",
    "    pretrain_generator(G, train_data, vocab_size, n_epochs // 10, lr, n_epochs // 10 - 1)\n",
    "    print('pretraining complete')\n",
    "    \n",
    "    adversarial_loss = torch.nn.BCELoss()\n",
    "    \n",
    "    optimizer_G = torch.optim.Adam(G.parameters(), lr=lr)\n",
    "    optimizer_D = torch.optim.Adam(D.parameters(), lr=lr)\n",
    "    \n",
    "    train_data_one_hot = F.one_hot(train_data, vocab_size).type(Tensor)\n",
    "\n",
    "    start_token = train_data[:, :1]\n",
    "    sequence_length = train_data.shape[1]\n",
    "    \n",
    "    if cuda:\n",
    "        G.cuda()\n",
    "        D.cuda()\n",
    "        adversarial_loss.cuda()\n",
    "        start_token = start_token.cuda()\n",
    "    \n",
    "    for e in range(n_epochs):\n",
    "        # Adversarial ground truths\n",
    "        valid = Variable(Tensor(train_data.shape[0], 1).fill_(1.0), requires_grad=False)\n",
    "        fake = Variable(Tensor(train_data.shape[0], 1).fill_(0.0), requires_grad=False)\n",
    "\n",
    "        optimizer_G.zero_grad()\n",
    "\n",
    "        # Generate a batch of images\n",
    "        memory = G.initial_state(batch_size = train_data.shape[0])\n",
    "        if cuda:\n",
    "            memory = memory.cuda()\n",
    "        temp = temperature ** ((e + 1) / n_epochs)\n",
    "        fake_one_hot, _, _, _ = G(start_token, memory, sequence_length, temp)\n",
    "\n",
    "        # Loss measures generator's ability to fool the discriminator\n",
    "        g_loss = adversarial_loss(D(fake_one_hot), valid)\n",
    "\n",
    "        g_loss.backward()\n",
    "        optimizer_G.step()\n",
    "        \n",
    "        optimizer_D.zero_grad()\n",
    "\n",
    "        # Measure discriminator's ability to classify real from generated samples\n",
    "        real_loss = adversarial_loss(D(train_data_one_hot), valid)\n",
    "        fake_loss = adversarial_loss(D(fake_one_hot.detach()), fake)\n",
    "        d_loss = (real_loss + fake_loss) / 2\n",
    "\n",
    "        d_loss.backward()\n",
    "        optimizer_D.step()\n",
    "\n",
    "        if e % print_step == 0:\n",
    "            print(\n",
    "                \"[Epoch %d/%d] [D loss: %f] [G loss: %f]\"\n",
    "                % (e, n_epochs, d_loss.item(), g_loss.item())\n",
    "            )\n",
    "            print(\"[Frequencies:\", score_fn(G, train_data, vocab_size), \"]\")\n",
    "            scores1, scores2 = score_fn(G, train_data, vocab_size, False)\n",
    "            print(\"[Scores:\", scores1, scores2, \"]\")\n",
    "            \n"
   ]
  },
  {
   "cell_type": "code",
   "execution_count": 25,
   "metadata": {},
   "outputs": [
    {
     "name": "stdout",
     "output_type": "stream",
     "text": [
      "scores before training: tensor(0.1212, device='cuda:0') tensor(0.0975, device='cuda:0')\n",
      "distributions before training: tensor([0.1618, 0.1999, 0.1406, 0.1367, 0.2280, 0.1329], device='cuda:0') tensor([0.1663, 0.2050, 0.1401, 0.1168, 0.2494, 0.1224], device='cuda:0')\n",
      "benchmark distributions: tensor([0.4118, 0.1176, 0.0588, 0.1176, 0.0588, 0.2353]) tensor([0.0588, 0.3529, 0.1765, 0.2353, 0.1176, 0.0588], device='cuda:0')\n",
      "pretraining generator...\n",
      "[Epoch 0/100] [G loss: 6.880124]\n",
      "[Epoch 99/100] [G loss: 5.789620]\n",
      "pretraining complete\n"
     ]
    },
    {
     "name": "stderr",
     "output_type": "stream",
     "text": [
      "/opt/anaconda3/lib/python3.7/site-packages/torch/nn/modules/loss.py:512: UserWarning: Using a target size (torch.Size([2000, 1])) that is different to the input size (torch.Size([2000])) is deprecated. Please ensure they have the same size.\n",
      "  return F.binary_cross_entropy(input, target, weight=self.weight, reduction=self.reduction)\n"
     ]
    },
    {
     "name": "stdout",
     "output_type": "stream",
     "text": [
      "[Epoch 0/1000] [D loss: 0.707789] [G loss: 0.529448]\n",
      "[Scores: tensor(0.1964, device='cuda:0') tensor(0.1990, device='cuda:0') ]\n",
      "[Epoch 50/1000] [D loss: 0.697131] [G loss: 0.641678]\n",
      "[Frequencies: (tensor([0.0805, 0.0242, 0.6509, 0.0782, 0.1121, 0.0540], device='cuda:0'), tensor([0.1297, 0.0486, 0.4921, 0.0912, 0.1351, 0.1033], device='cuda:0')) ]\n",
      "[Scores: tensor(0.2151, device='cuda:0') tensor(0.1476, device='cuda:0') ]\n",
      "[Epoch 100/1000] [D loss: 0.700375] [G loss: 0.645965]\n",
      "[Frequencies: (tensor([0.1051, 0.5720, 0.0903, 0.0785, 0.0297, 0.1243], device='cuda:0'), tensor([0.0682, 0.6780, 0.0674, 0.0702, 0.0270, 0.0891], device='cuda:0')) ]\n",
      "[Scores: tensor(0.1710, device='cuda:0') tensor(0.1251, device='cuda:0') ]\n",
      "[Epoch 150/1000] [D loss: 0.689762] [G loss: 0.643644]\n",
      "[Frequencies: (tensor([0.0986, 0.2154, 0.0571, 0.2119, 0.2388, 0.1782], device='cuda:0'), tensor([0.0847, 0.1780, 0.0458, 0.2612, 0.2911, 0.1391], device='cuda:0')) ]\n",
      "[Scores: tensor(0.1360, device='cuda:0') tensor(0.1002, device='cuda:0') ]\n",
      "[Epoch 200/1000] [D loss: 0.691971] [G loss: 0.718779]\n",
      "[Frequencies: (tensor([0.1383, 0.0404, 0.5864, 0.1032, 0.0770, 0.0548], device='cuda:0'), tensor([0.1800, 0.0668, 0.4191, 0.1228, 0.1348, 0.0766], device='cuda:0')) ]\n",
      "[Scores: tensor(0.1825, device='cuda:0') tensor(0.1283, device='cuda:0') ]\n",
      "[Epoch 250/1000] [D loss: 0.651739] [G loss: 0.664348]\n",
      "[Frequencies: (tensor([0.0581, 0.6702, 0.0652, 0.0447, 0.0634, 0.0983], device='cuda:0'), tensor([0.0274, 0.8298, 0.0388, 0.0236, 0.0236, 0.0568], device='cuda:0')) ]\n",
      "[Scores: tensor(0.1899, device='cuda:0') tensor(0.1597, device='cuda:0') ]\n",
      "[Epoch 300/1000] [D loss: 0.598611] [G loss: 0.983926]\n",
      "[Frequencies: (tensor([0.1346, 0.1022, 0.2244, 0.4330, 0.0730, 0.0329], device='cuda:0'), tensor([0.1364, 0.1141, 0.2270, 0.4041, 0.0795, 0.0389], device='cuda:0')) ]\n",
      "[Scores: tensor(0.1659, device='cuda:0') tensor(0.0995, device='cuda:0') ]\n",
      "[Epoch 350/1000] [D loss: 0.631961] [G loss: 0.780437]\n",
      "[Frequencies: (tensor([0.2122, 0.3494, 0.1337, 0.1268, 0.0302, 0.1476], device='cuda:0'), tensor([0.2041, 0.2980, 0.1573, 0.1518, 0.0389, 0.1499], device='cuda:0')) ]\n",
      "[Scores: tensor(0.1153, device='cuda:0') tensor(0.0783, device='cuda:0') ]\n",
      "[Epoch 400/1000] [D loss: 0.620656] [G loss: 0.931431]\n",
      "[Frequencies: (tensor([0.2157, 0.4665, 0.1545, 0.1179, 0.0178, 0.0276], device='cuda:0'), tensor([0.1177, 0.3767, 0.2415, 0.2162, 0.0254, 0.0226], device='cuda:0')) ]\n",
      "[Scores: tensor(0.1453, device='cuda:0') tensor(0.0524, device='cuda:0') ]\n",
      "[Epoch 450/1000] [D loss: 0.516181] [G loss: 0.933592]\n",
      "[Frequencies: (tensor([0.2081, 0.4525, 0.0441, 0.2196, 0.0230, 0.0527], device='cuda:0'), tensor([0.0949, 0.3308, 0.0379, 0.5007, 0.0142, 0.0215], device='cuda:0')) ]\n",
      "[Scores: tensor(0.1561, device='cuda:0') tensor(0.1004, device='cuda:0') ]\n",
      "[Epoch 500/1000] [D loss: 0.659436] [G loss: 0.986229]\n",
      "[Frequencies: (tensor([0.1575, 0.3499, 0.1124, 0.0629, 0.1084, 0.2088], device='cuda:0'), tensor([0.0831, 0.3033, 0.1532, 0.1502, 0.1503, 0.1599], device='cuda:0')) ]\n",
      "[Scores: tensor(0.1150, device='cuda:0') tensor(0.0548, device='cuda:0') ]\n",
      "[Epoch 550/1000] [D loss: 0.560571] [G loss: 0.989680]\n",
      "[Frequencies: (tensor([0.0426, 0.4033, 0.2050, 0.1271, 0.1416, 0.0804], device='cuda:0'), tensor([0.0169, 0.3336, 0.2614, 0.2034, 0.1407, 0.0441], device='cuda:0')) ]\n",
      "[Scores: tensor(0.1778, device='cuda:0') tensor(0.0342, device='cuda:0') ]\n",
      "[Epoch 600/1000] [D loss: 0.571657] [G loss: 0.875620]\n",
      "[Frequencies: (tensor([0.1081, 0.2712, 0.0743, 0.1671, 0.1379, 0.2414], device='cuda:0'), tensor([0.0400, 0.2938, 0.0691, 0.2897, 0.1897, 0.1178], device='cuda:0')) ]\n",
      "[Scores: tensor(0.1106, device='cuda:0') tensor(0.0603, device='cuda:0') ]\n",
      "[Epoch 650/1000] [D loss: 0.642632] [G loss: 0.886207]\n",
      "[Frequencies: (tensor([0.2620, 0.3297, 0.0956, 0.1019, 0.0686, 0.1422], device='cuda:0'), tensor([0.0870, 0.3665, 0.1309, 0.2269, 0.1193, 0.0694], device='cuda:0')) ]\n",
      "[Scores: tensor(0.0886, device='cuda:0') tensor(0.0187, device='cuda:0') ]\n",
      "[Epoch 700/1000] [D loss: 0.682768] [G loss: 0.783497]\n",
      "[Frequencies: (tensor([0.5022, 0.2404, 0.1101, 0.0599, 0.0302, 0.0572], device='cuda:0'), tensor([0.1566, 0.3617, 0.2076, 0.1677, 0.0762, 0.0302], device='cuda:0')) ]\n",
      "[Scores: tensor(0.0830, device='cuda:0') tensor(0.0444, device='cuda:0') ]\n",
      "[Epoch 750/1000] [D loss: 0.612915] [G loss: 0.952657]\n",
      "[Frequencies: (tensor([0.5608, 0.2063, 0.1329, 0.0531, 0.0166, 0.0303], device='cuda:0'), tensor([0.0977, 0.4266, 0.2403, 0.1793, 0.0398, 0.0163], device='cuda:0')) ]\n",
      "[Scores: tensor(0.0945, device='cuda:0') tensor(0.0582, device='cuda:0') ]\n",
      "[Epoch 800/1000] [D loss: 0.790568] [G loss: 0.819125]\n",
      "[Frequencies: (tensor([0.1999, 0.0622, 0.1572, 0.2498, 0.1295, 0.2015], device='cuda:0'), tensor([0.1881, 0.0846, 0.1302, 0.2029, 0.1280, 0.2663], device='cuda:0')) ]\n",
      "[Scores: tensor(0.1089, device='cuda:0') tensor(0.1155, device='cuda:0') ]\n",
      "[Epoch 850/1000] [D loss: 0.721279] [G loss: 0.652394]\n",
      "[Frequencies: (tensor([0.3159, 0.2226, 0.0770, 0.1244, 0.1322, 0.1279], device='cuda:0'), tensor([0.0333, 0.3916, 0.0596, 0.3173, 0.1686, 0.0295], device='cuda:0')) ]\n",
      "[Scores: tensor(0.0718, device='cuda:0') tensor(0.0579, device='cuda:0') ]\n",
      "[Epoch 900/1000] [D loss: 0.624878] [G loss: 1.070288]\n",
      "[Frequencies: (tensor([0.5993, 0.1487, 0.0399, 0.1170, 0.0553, 0.0399], device='cuda:0'), tensor([0.1605, 0.3008, 0.0433, 0.3690, 0.1054, 0.0210], device='cuda:0')) ]\n",
      "[Scores: tensor(0.0692, device='cuda:0') tensor(0.0805, device='cuda:0') ]\n",
      "[Epoch 950/1000] [D loss: 0.639468] [G loss: 0.935137]\n",
      "[Frequencies: (tensor([0.5093, 0.2506, 0.0901, 0.0567, 0.0346, 0.0587], device='cuda:0'), tensor([0.1873, 0.3916, 0.1438, 0.1458, 0.0868, 0.0447], device='cuda:0')) ]\n",
      "[Scores: tensor(0.0777, device='cuda:0') tensor(0.0579, device='cuda:0') ]\n",
      "scores after training: tensor(0.0848, device='cuda:0') tensor(0.0448, device='cuda:0')\n",
      "distributions after training: tensor([0.3309, 0.2229, 0.2170, 0.0497, 0.0535, 0.1260], device='cuda:0') tensor([0.0484, 0.3482, 0.3136, 0.1531, 0.0996, 0.0370], device='cuda:0')\n",
      "benchmark distributions: tensor([0.4118, 0.1176, 0.0588, 0.1176, 0.0588, 0.2353]) tensor([0.0588, 0.3529, 0.1765, 0.2353, 0.1176, 0.0588], device='cuda:0')\n",
      "time taken: 1000.0 seconds\n"
     ]
    }
   ],
   "source": [
    "# Train the GAN\n",
    "\n",
    "start_time = time.time()\n",
    "\n",
    "# Generator params\n",
    "mem_slots = 1\n",
    "head_size = 4\n",
    "embed_size = 3\n",
    "temperature = 50\n",
    "num_heads = 6\n",
    "num_blocks = 4\n",
    "\n",
    "G = RelationalMemoryGenerator(mem_slots, head_size, embed_size, vocab_size, temperature, num_heads, num_blocks)\n",
    "\n",
    "# Discriminator params\n",
    "n_embeddings = 3\n",
    "embed_size = embed_size\n",
    "out_channels = 10\n",
    "filter_sizes = [2, 3, 4] # values can be at most the sequence_length\n",
    "\n",
    "D = RelGANDiscriminator(n_embeddings, vocab_size, embed_size, sequence_length, out_channels, filter_sizes)\n",
    "\n",
    "if cuda:\n",
    "    G.cuda()\n",
    "    D.cuda()\n",
    "\n",
    "#scores = eval_generator(G, data, vocab_size)\n",
    "scores1, scores2 = test_special_case(G, data, vocab_size, False)\n",
    "print('scores before training:', scores1, scores2)\n",
    "scores1, scores2 = test_special_case(G, data, vocab_size)\n",
    "print('distributions before training:', scores1, scores2)\n",
    "print('benchmark distributions:', alternative_weights, var_weights)\n",
    "\n",
    "# Train the GAN\n",
    "train(G, D, data, vocab_size, 1000, 0.001, temperature, 50)\n",
    "\n",
    "#scores = eval_generator(G, data, vocab_size)\n",
    "scores1, scores2 = test_special_case(G, data, vocab_size, False)\n",
    "print('scores after training:', scores1, scores2)\n",
    "scores1, scores2 = test_special_case(G, data, vocab_size)\n",
    "print('distributions after training:', scores1, scores2)\n",
    "print('benchmark distributions:', alternative_weights, var_weights)\n",
    "\n",
    "print('time taken:', round_to_n(time.time() - start_time), 'seconds')\n"
   ]
  },
  {
   "cell_type": "code",
   "execution_count": 26,
   "metadata": {},
   "outputs": [
    {
     "name": "stdout",
     "output_type": "stream",
     "text": [
      "scores after training: tensor(0.0827, device='cuda:0') tensor(0.0468, device='cuda:0')\n",
      "distributions after training: tensor([0.3275, 0.2157, 0.2167, 0.0583, 0.0462, 0.1355], device='cuda:0') tensor([0.0454, 0.3511, 0.3162, 0.1542, 0.0990, 0.0342], device='cuda:0')\n",
      "benchmark distributions: tensor([0.4118, 0.1176, 0.0588, 0.1176, 0.0588, 0.2353]) tensor([0.0588, 0.3529, 0.1765, 0.2353, 0.1176, 0.0588], device='cuda:0')\n"
     ]
    }
   ],
   "source": [
    "scores1, scores2 = test_special_case(G, data, vocab_size, False)\n",
    "print('scores after training:', scores1, scores2)\n",
    "scores1, scores2 = test_special_case(G, data, vocab_size)\n",
    "print('distributions after training:', scores1, scores2)\n",
    "print('benchmark distributions:', alternative_weights, var_weights)"
   ]
  },
  {
   "cell_type": "code",
   "execution_count": null,
   "metadata": {},
   "outputs": [],
   "source": []
  }
 ],
 "metadata": {
  "kernelspec": {
   "display_name": "Python 3",
   "language": "python",
   "name": "python3"
  },
  "language_info": {
   "codemirror_mode": {
    "name": "ipython",
    "version": 3
   },
   "file_extension": ".py",
   "mimetype": "text/x-python",
   "name": "python",
   "nbconvert_exporter": "python",
   "pygments_lexer": "ipython3",
   "version": "3.7.0"
  }
 },
 "nbformat": 4,
 "nbformat_minor": 2
}
