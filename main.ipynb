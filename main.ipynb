{
 "cells": [
  {
   "cell_type": "code",
   "execution_count": 1,
   "metadata": {},
   "outputs": [
    {
     "name": "stdout",
     "output_type": "stream",
     "text": [
      "Device: cuda:0\n"
     ]
    }
   ],
   "source": [
    "# Imports\n",
    "import torch\n",
    "import torch.nn as nn\n",
    "import torch.nn.functional as F\n",
    "from torch.autograd import Variable\n",
    "import numpy as np\n",
    "import pandas as pd\n",
    "from sklearn.model_selection import train_test_split\n",
    "import time\n",
    "from math import log10, floor\n",
    "import os\n",
    "import glob\n",
    "import matplotlib.pyplot as plt\n",
    "import datetime\n",
    "from math import ceil, isnan\n",
    "import sys\n",
    "try:\n",
    "    import torchtext\n",
    "    from torchtext.data import Field, Iterator, Dataset, Example\n",
    "except ImportError: \n",
    "    !{'/opt/anaconda3/bin/python3'} -m pip install --upgrade git+https://github.com/pytorch/text\n",
    "    import torchtext\n",
    "    from torchtext.data import Field, Iterator, Dataset\n",
    "\n",
    "from relational_rnn_models import RelationalMemoryGenerator\n",
    "from discriminator import RelGANDiscriminator\n",
    "\n",
    "cuda = torch.cuda.is_available()\n",
    "\n",
    "# Try setting the device to a GPU\n",
    "device = torch.device(\"cuda:0\" if cuda else \"cpu\")\n",
    "print('Device:', device)\n",
    "\n",
    "Tensor = torch.cuda.FloatTensor if cuda else torch.FloatTensor"
   ]
  },
  {
   "cell_type": "code",
   "execution_count": 14,
   "metadata": {},
   "outputs": [],
   "source": [
    "# Helper function(s)\n",
    "\n",
    "# round a number to n significant digits\n",
    "def round_to_n(x, n = 2):\n",
    "    return round(x, -int(floor(log10(abs(x)))) + (n - 1)) if x != 0 else 0\n",
    "\n",
    "# Transform a date string into a datetime object\n",
    "def str_to_datetime(string):\n",
    "    return datetime.datetime.strptime(string, '%Y-%m-%d %H:%M:%S')\n",
    "\n",
    "# TODO: more complex reduction: takes into account different ICD groups?\n",
    "def reduce_icd(icd_full):\n",
    "    return icd_full[:2]\n",
    "\n",
    "def get_distribution(data, field, vocab_size, fake = True):\n",
    "    counts = torch.zeros(vocab_size - 2)\n",
    "\n",
    "    for i in range(2, vocab_size):\n",
    "        if fake:\n",
    "            counts[i - 2] = torch.sum(data == i)\n",
    "        else:\n",
    "            counts[i - 2] = field.vocab.freqs[field.vocab.itos[i]]\n",
    "\n",
    "    freqs = counts / torch.sum(counts)\n",
    "    \n",
    "    return counts, freqs\n",
    "    "
   ]
  },
  {
   "cell_type": "code",
   "execution_count": 53,
   "metadata": {},
   "outputs": [
    {
     "name": "stdout",
     "output_type": "stream",
     "text": [
      "Index(['FINNGENID', 'EVENT_AGE', 'EVENT_YEAR', 'ENDPOINT'], dtype='object')\n",
      "2724\n",
      "['I9_HYPTENS' 'I9_HEARTFAIL_NS' 'I9_ANGINA' 'I9_CHD' 'I9_STR_EXH']\n",
      "CPU times: user 6.94 s, sys: 60 ms, total: 7 s\n",
      "Wall time: 6.72 s\n"
     ]
    }
   ],
   "source": [
    "%%time\n",
    "\n",
    "filename = 'data/FINNGEN_ENDPOINTS_DF3_longitudinal_V1_for_SandBox.txt.gz'\n",
    "\n",
    "endpoints = ['I9_HYPTENS', 'I9_ANGINA', 'I9_HEARTFAIL_NS', 'I9_STR_EXH', 'I9_CHD']\n",
    "\n",
    "events = pd.read_csv(filename, compression = 'infer', sep='\\t', nrows = 9_000_000)\n",
    "\n",
    "print(events.columns)\n",
    "\n",
    "# include all endpoints in a list\n",
    "events = events[events['ENDPOINT'].isin(endpoints)]\n",
    "events = events.groupby('FINNGENID').filter(lambda x: len(x) > 1)\n",
    "\n",
    "subjects = events['FINNGENID'].unique()\n",
    "n_individuals = len(subjects)\n",
    "print(n_individuals)\n",
    "print(events['ENDPOINT'].unique())"
   ]
  },
  {
   "cell_type": "code",
   "execution_count": 54,
   "metadata": {},
   "outputs": [
    {
     "name": "stdout",
     "output_type": "stream",
     "text": [
      "count    2724.000000\n",
      "mean       10.896098\n",
      "std        11.033168\n",
      "min         0.000000\n",
      "25%         0.927500\n",
      "50%         7.930000\n",
      "75%        17.425000\n",
      "max        47.610000\n",
      "dtype: float64\n",
      "count    2724.000000\n",
      "mean       13.969163\n",
      "std        19.872855\n",
      "min         2.000000\n",
      "25%         3.000000\n",
      "50%         6.000000\n",
      "75%        16.000000\n",
      "max       273.000000\n",
      "dtype: float64\n",
      "CPU times: user 680 ms, sys: 4 ms, total: 684 ms\n",
      "Wall time: 682 ms\n"
     ]
    }
   ],
   "source": [
    "%%time\n",
    "\n",
    "print(events.groupby('FINNGENID').apply(lambda x: x['EVENT_AGE'].max() - x['EVENT_AGE'].min()).describe())\n",
    "print(events.groupby('FINNGENID').apply(lambda x: len(x)).describe())"
   ]
  },
  {
   "cell_type": "code",
   "execution_count": 55,
   "metadata": {},
   "outputs": [
    {
     "name": "stdout",
     "output_type": "stream",
     "text": [
      "5\n"
     ]
    }
   ],
   "source": [
    "max_sequence_length = 5\n",
    "\n",
    "sequence_length = min(events.groupby('FINNGENID').apply(lambda x: len(x)).max(), max_sequence_length)\n",
    "print(sequence_length)\n",
    "\n",
    "def get_sequence_of_codes(subject):\n",
    "    codes = []\n",
    "    \n",
    "    count = 0\n",
    "    for i in subject.sort_values('EVENT_AGE').index:\n",
    "        codes.append(subject.loc[i, 'ENDPOINT'])\n",
    "        count += 1\n",
    "        if count == sequence_length:\n",
    "            break\n",
    "        \n",
    "    res = ' '.join(codes)\n",
    "    return res\n",
    "\n",
    "def get_sequence_of_time_differences(subject):\n",
    "    times = [0]\n",
    "    \n",
    "    count = 0\n",
    "    for i in subject.sort_values('EVENT_AGE').index:\n",
    "        times.append(subject.loc[i, 'EVENT_AGE'])\n",
    "        count += 1\n",
    "        if count == sequence_length:\n",
    "            break\n",
    "        \n",
    "    res = np.diff(times)\n",
    "    return res\n",
    "    "
   ]
  },
  {
   "cell_type": "code",
   "execution_count": 56,
   "metadata": {},
   "outputs": [
    {
     "name": "stdout",
     "output_type": "stream",
     "text": [
      "count    2724.000000\n",
      "mean        4.071219\n",
      "std         1.237524\n",
      "min         2.000000\n",
      "25%         3.000000\n",
      "50%         5.000000\n",
      "75%         5.000000\n",
      "max         5.000000\n",
      "dtype: float64\n",
      "(2724,)\n",
      "count    2724.000000\n",
      "mean        4.071219\n",
      "std         1.237524\n",
      "min         2.000000\n",
      "25%         3.000000\n",
      "50%         5.000000\n",
      "75%         5.000000\n",
      "max         5.000000\n",
      "dtype: float64\n",
      "(2724,)\n",
      "CPU times: user 4 s, sys: 28 ms, total: 4.03 s\n",
      "Wall time: 3.96 s\n"
     ]
    }
   ],
   "source": [
    "%%time\n",
    "\n",
    "sequences_of_codes = events.groupby('FINNGENID').apply(get_sequence_of_codes)\n",
    "#print(sequences_of_codes.head())\n",
    "print(sequences_of_codes.apply(lambda x: len(x.split(' '))).describe())\n",
    "print(sequences_of_codes.shape)\n",
    "\n",
    "sequences_of_times = events.groupby('FINNGENID').apply(get_sequence_of_time_differences)\n",
    "#print(sequences_of_times.head())\n",
    "print(sequences_of_times.apply(lambda x: len(x)).describe())\n",
    "print(sequences_of_times.shape)"
   ]
  },
  {
   "cell_type": "code",
   "execution_count": 57,
   "metadata": {},
   "outputs": [
    {
     "name": "stdout",
     "output_type": "stream",
     "text": [
      "(2724, 2)\n"
     ]
    }
   ],
   "source": [
    "#sequences = pd.DataFrame({'ENDPOINTS': sequences_of_codes.stack(), 'TIME_DIFFS': sequences_of_times.stack()})\n",
    "sequences = pd.DataFrame({'ENDPOINTS': sequences_of_codes, 'TIME_DIFFS': sequences_of_times})\n",
    "print(sequences.shape)\n",
    "#sequences.head()\n"
   ]
  },
  {
   "cell_type": "code",
   "execution_count": 58,
   "metadata": {},
   "outputs": [],
   "source": [
    "# https://stackoverflow.com/questions/52602071/dataframe-as-datasource-in-torchtext\n",
    "\n",
    "class DataFrameDataset(Dataset):\n",
    "    \"\"\"Class for using pandas DataFrames as a datasource\"\"\"\n",
    "    def __init__(self, examples, fields, filter_pred=None):\n",
    "        \"\"\"\n",
    "        Create a dataset from a pandas dataframe of examples and Fields\n",
    "        Arguments:\n",
    "            examples pd.DataFrame: DataFrame of examples\n",
    "            fields {str: Field}: The Fields to use in this tuple. The\n",
    "                string is a field name, and the Field is the associated field.\n",
    "            filter_pred (callable or None): use only exanples for which\n",
    "                filter_pred(example) is true, or use all examples if None.\n",
    "                Default is None\n",
    "        \"\"\"\n",
    "        self.fields = dict(fields)\n",
    "        self.examples = examples.apply(SeriesExample.fromSeries, args=(self.fields,), axis=1).tolist()\n",
    "        if filter_pred is not None:\n",
    "            self.examples = filter(filter_pred, self.examples)\n",
    "        # Unpack field tuples\n",
    "        for n, f in list(self.fields.items()):\n",
    "            if isinstance(n, tuple):\n",
    "                self.fields.update(zip(n, f))\n",
    "                del self.fields[n]\n",
    "\n",
    "class SeriesExample(Example):\n",
    "    \"\"\"Class to convert a pandas Series to an Example\"\"\"\n",
    "    \n",
    "    @classmethod\n",
    "    def fromSeries(cls, data, fields):\n",
    "        return cls.fromdict(data.to_dict(), fields)\n",
    "\n",
    "    @classmethod\n",
    "    def fromdict(cls, data, fields):\n",
    "        ex = cls()\n",
    "        for key, field in fields.items():\n",
    "            if key not in data:\n",
    "                raise ValueError(\"Specified key {} was not found in \"\n",
    "                \"the input data\".format(key))\n",
    "            if field is not None:\n",
    "                setattr(ex, key, field.preprocess(data[key]))\n",
    "            else:\n",
    "                setattr(ex, key, data[key])\n",
    "        return ex"
   ]
  },
  {
   "cell_type": "code",
   "execution_count": 59,
   "metadata": {},
   "outputs": [
    {
     "name": "stdout",
     "output_type": "stream",
     "text": [
      "(2451, 2) (273, 2)\n",
      "CPU times: user 104 ms, sys: 0 ns, total: 104 ms\n",
      "Wall time: 99.7 ms\n"
     ]
    }
   ],
   "source": [
    "%%time\n",
    "\n",
    "tokenize = lambda x: x.split(' ')\n",
    "\n",
    "ENDPOINT = Field(fix_length = sequence_length, tokenize = tokenize)\n",
    "\n",
    "fields = [('ENDPOINTS', ENDPOINT), ('TIME_DIFFS', None)]\n",
    "\n",
    "train_sequences, val_sequences = train_test_split(sequences, test_size = 0.1)\n",
    "print(train_sequences.shape, val_sequences.shape)\n",
    "\n",
    "train = DataFrameDataset(train_sequences, fields)\n",
    "val = DataFrameDataset(val_sequences, fields)\n",
    "\n",
    "ENDPOINT.build_vocab(train, val)"
   ]
  },
  {
   "cell_type": "code",
   "execution_count": 60,
   "metadata": {},
   "outputs": [
    {
     "name": "stdout",
     "output_type": "stream",
     "text": [
      "0\n",
      "I9_HYPTENS\n",
      "7\n",
      "2688\n"
     ]
    }
   ],
   "source": [
    "print(ENDPOINT.vocab.stoi['ANY_ATC'])\n",
    "print(ENDPOINT.vocab.itos[2])\n",
    "vocab_size = len(ENDPOINT.vocab.freqs) + 2\n",
    "print(vocab_size)\n",
    "\n",
    "print(ENDPOINT.vocab.freqs[ENDPOINT.vocab.itos[3]])\n"
   ]
  },
  {
   "cell_type": "code",
   "execution_count": 61,
   "metadata": {},
   "outputs": [
    {
     "data": {
      "text/plain": [
       "torch.Size([273, 5])"
      ]
     },
     "execution_count": 61,
     "metadata": {},
     "output_type": "execute_result"
    }
   ],
   "source": [
    "val_iter = Iterator(val, batch_size = len(val_sequences), repeat = True)\n",
    "\n",
    "next(iter(val_iter)).ENDPOINTS.transpose(0, 1).shape"
   ]
  },
  {
   "cell_type": "code",
   "execution_count": 129,
   "metadata": {},
   "outputs": [
    {
     "name": "stdout",
     "output_type": "stream",
     "text": [
      "tensor([[1296.,    0.,    0.,    0.,    0.,    0.],\n",
      "        [ 607., 2703.,  368.,  194.,  167.,  128.],\n",
      "        [ 149.,  168., 1471.,   45.,   40.,   22.],\n",
      "        [  42.,  178.,   76.,  433.,  255.,   23.],\n",
      "        [ 139.,   76.,   95.,  215.,  320.,   13.],\n",
      "        [  54.,  118.,   28.,   10.,    9.,  362.]])\n",
      "tensor([[1.0000, 0.0000, 0.0000, 0.0000, 0.0000, 0.0000],\n",
      "        [0.1457, 0.6487, 0.0883, 0.0466, 0.0401, 0.0307],\n",
      "        [0.0786, 0.0887, 0.7763, 0.0237, 0.0211, 0.0116],\n",
      "        [0.0417, 0.1768, 0.0755, 0.4300, 0.2532, 0.0228],\n",
      "        [0.1620, 0.0886, 0.1107, 0.2506, 0.3730, 0.0152],\n",
      "        [0.0929, 0.2031, 0.0482, 0.0172, 0.0155, 0.6231]])\n",
      "tensor([1.0000, 1.0000, 1.0000, 1.0000, 1.0000, 1.0000])\n",
      "CPU times: user 704 ms, sys: 0 ns, total: 704 ms\n",
      "Wall time: 703 ms\n"
     ]
    }
   ],
   "source": [
    "%%time\n",
    "\n",
    "def get_transition_matrix(data, vocab_size = vocab_size, d = 1, eps = 1e-20):\n",
    "    transition_count = torch.zeros(vocab_size - 1, vocab_size - 1)\n",
    "\n",
    "    for indv in data:\n",
    "        for idx in range(len(indv) - d):\n",
    "            i1 = idx\n",
    "            i2 = i1 + d\n",
    "            ep1 = indv[i1]\n",
    "            ep2 = indv[i2]\n",
    "            if ep1 > 0 and ep2 > 0:\n",
    "                transition_count[ep1 - 1, ep2 - 1] += 1\n",
    "                    \n",
    "    #print(torch.sum(transition_count, dim = 1))\n",
    "    transition_freq = (transition_count.transpose(0, 1) / (torch.sum(transition_count, dim = 1) + eps)).transpose(0, 1)\n",
    "                    \n",
    "    return transition_count, transition_freq\n",
    "        \n",
    "iterator = Iterator(train, batch_size = len(train_sequences))\n",
    "\n",
    "transition_count, transition_freq = get_transition_matrix(next(iter(iterator)).ENDPOINTS.transpose(0, 1), vocab_size, d = 1)    \n",
    "print(transition_count)\n",
    "print(transition_freq)\n",
    "print(transition_freq.sum(dim = 1))\n"
   ]
  },
  {
   "cell_type": "code",
   "execution_count": 125,
   "metadata": {},
   "outputs": [
    {
     "name": "stdout",
     "output_type": "stream",
     "text": [
      "tensor([[1.0000, 0.0000, 0.0000, 0.0000, 0.0000, 0.0000],\n",
      "        [0.1457, 0.6487, 0.0883, 0.0466, 0.0401, 0.0307],\n",
      "        [0.0786, 0.0887, 0.7763, 0.0237, 0.0211, 0.0116],\n",
      "        [0.0417, 0.1768, 0.0755, 0.4300, 0.2532, 0.0228],\n",
      "        [0.1620, 0.0886, 0.1107, 0.2506, 0.3730, 0.0152],\n",
      "        [0.0929, 0.2031, 0.0482, 0.0172, 0.0155, 0.6231]])\n",
      "tensor([[1.0000, 0.0000, 0.0000, 0.0000, 0.0000, 0.0000],\n",
      "        [0.1483, 0.6441, 0.0975, 0.0466, 0.0318, 0.0318],\n",
      "        [0.0569, 0.0995, 0.7820, 0.0142, 0.0332, 0.0142],\n",
      "        [0.0714, 0.1339, 0.0982, 0.4464, 0.2143, 0.0357],\n",
      "        [0.0722, 0.0928, 0.1237, 0.2887, 0.3918, 0.0309],\n",
      "        [0.1429, 0.2222, 0.0952, 0.0000, 0.0000, 0.5397]])\n",
      "CPU times: user 740 ms, sys: 0 ns, total: 740 ms\n",
      "Wall time: 737 ms\n"
     ]
    }
   ],
   "source": [
    "%%time\n",
    "\n",
    "iterator = Iterator(train, batch_size = len(train_sequences))\n",
    "\n",
    "transition_count1, transition_freq1 = get_transition_matrix(next(iter(iterator)).ENDPOINTS.transpose(0, 1), vocab_size, d = 1)    \n",
    "transition_count2, transition_freq2 = get_transition_matrix(next(iter(val_iter)).ENDPOINTS.transpose(0, 1), vocab_size, d = 1)    \n",
    "\n",
    "print(transition_freq1)\n",
    "print(transition_freq2)\n"
   ]
  },
  {
   "cell_type": "code",
   "execution_count": 16,
   "metadata": {},
   "outputs": [
    {
     "name": "stdout",
     "output_type": "stream",
     "text": [
      "292\n",
      "0.004794520547945206\n"
     ]
    }
   ],
   "source": [
    "subjects = sequences.index\n",
    "n_individuals = len(subjects)\n",
    "print(n_individuals)\n",
    "print(vocab_size / (n_individuals * sequence_length)) # The lower this is the easier it is for the generator to learn"
   ]
  },
  {
   "cell_type": "code",
   "execution_count": 17,
   "metadata": {},
   "outputs": [
    {
     "name": "stdout",
     "output_type": "stream",
     "text": [
      "tensor([[[1., 0., 0., 0.],\n",
      "         [0., 1., 0., 0.],\n",
      "         [0., 0., 1., 0.],\n",
      "         [0., 0., 0., 1.]]], device='cuda:0')\n",
      "tensor([[[1., 0., 0., 0., 0., 0., 0.],\n",
      "         [0., 0., 0., 1., 0., 0., 0.],\n",
      "         [0., 0., 0., 0., 1., 0., 0.],\n",
      "         [0., 0., 1., 0., 0., 0., 0.],\n",
      "         [0., 0., 0., 0., 0., 0., 1.]]], device='cuda:0',\n",
      "       grad_fn=<CatBackward>)\n",
      "tensor([[0, 3, 4, 2, 6]], device='cuda:0')\n",
      "tensor([[[ 0.9680,  0.9800,  0.9856, -0.9201],\n",
      "         [-0.1218,  2.8154,  1.0216, -0.9665],\n",
      "         [-0.7889,  0.0210,  0.9495, -1.2685],\n",
      "         [-0.8723,  0.1495,  0.7579, -0.4874]]], device='cuda:0',\n",
      "       grad_fn=<AddBackward0>)\n"
     ]
    }
   ],
   "source": [
    "# Test generator output\n",
    "\n",
    "mem_slots = 4\n",
    "head_size = 2\n",
    "embed_size = 2\n",
    "temperature = 1\n",
    "num_heads = 2\n",
    "\n",
    "G = RelationalMemoryGenerator(mem_slots, head_size, embed_size, vocab_size, temperature, num_heads)\n",
    "\n",
    "start_token = torch.tensor([[0]])\n",
    "memory = G.initial_state(batch_size = 1)\n",
    "\n",
    "if cuda:\n",
    "    G.cuda()\n",
    "    start_token = start_token.cuda()\n",
    "    memory = memory.cuda()\n",
    "\n",
    "print(memory)\n",
    "logits, tokens, _, memory = G(start_token, memory, sequence_length, None)\n",
    "print(logits)\n",
    "print(tokens)\n",
    "print(memory)\n"
   ]
  },
  {
   "cell_type": "code",
   "execution_count": 136,
   "metadata": {},
   "outputs": [
    {
     "name": "stdout",
     "output_type": "stream",
     "text": [
      "tensor(0.2866)\n",
      "tensor([3.1389, 0.8352, 0.6095, 1.1570, 1.0620, 1.2653])\n",
      "tensor([[3.1441, 1.0423, 0.5093, 1.2882, 1.7576, 0.8656],\n",
      "        [3.2633, 0.8028, 0.4078, 0.7016, 0.9656, 1.1810],\n",
      "        [1.0000, 0.8937, 0.5181, 0.9012, 0.8851, 1.2257],\n",
      "        [0.0000, 1.3153, 0.6881, 1.1076, 1.2478, 1.8617]])\n",
      "CPU times: user 1.72 s, sys: 84 ms, total: 1.8 s\n",
      "Wall time: 1.8 s\n"
     ]
    }
   ],
   "source": [
    "%%time\n",
    "\n",
    "# Define generator evaluation function\n",
    "\n",
    "def chi_sqrd_dist(counts1, counts2, separate = False, eps = 1e-20):\n",
    "    counts1 = counts1.view(1, -1)\n",
    "    counts2 = counts2.view(1, -1)\n",
    "    table = torch.cat([counts1, counts2], dim = 0)\n",
    "    col_sums = torch.sum(table, dim = 0)\n",
    "    row_sums = torch.sum(table, dim = 1)\n",
    "    n = torch.sum(col_sums)\n",
    "    \n",
    "    table_freq = table / (n + eps)\n",
    "    col_freqs = col_sums / (n + eps)\n",
    "    row_freqs = row_sums / (n + eps)\n",
    "    \n",
    "    diffs = table_freq[0, :] / (row_freqs[0] + eps) - table_freq[1, :] / (row_freqs[1] + eps)\n",
    "    diffs_sqrd = diffs ** 2\n",
    "    diffs_sqrd_norm = diffs_sqrd / (col_freqs + eps)\n",
    "    \n",
    "    if separate: \n",
    "        return diffs_sqrd_norm\n",
    "    \n",
    "    chi_sqrd_distance = torch.sum(diffs_sqrd_norm)\n",
    "    \n",
    "    return chi_sqrd_distance\n",
    "\n",
    "def get_fake_distribution(G, start_tokens, vocab_size = vocab_size, sequence_length = sequence_length):\n",
    "    memory = G.initial_state(batch_size = start_tokens.shape[0])\n",
    "\n",
    "    if cuda:\n",
    "        memory = memory.cuda()\n",
    "        start_tokens = start_tokens.cuda()\n",
    "    \n",
    "    _, data_fake, _, _ = G(start_tokens, memory, sequence_length)\n",
    "    \n",
    "    counts_fake, freqs_fake = get_distribution(data_fake, None, vocab_size, fake = True)\n",
    "    \n",
    "    return counts_fake, freqs_fake\n",
    "    \n",
    "def get_score(G, ENDPOINT, start_tokens, vocab_size = vocab_size, sequence_length = sequence_length):\n",
    "    counts_real, freqs_real = get_distribution(None, ENDPOINT, vocab_size, fake = False)\n",
    "    \n",
    "    counts_fake, freqs_fake = get_fake_distribution(G, start_tokens, vocab_size, sequence_length)\n",
    "    \n",
    "    score = chi_sqrd_dist(counts_real, counts_fake)\n",
    "    return score\n",
    "\n",
    "def get_transition_score(G, iterator, d = 1, separate = False, vocab_size = vocab_size, sequence_length = sequence_length):\n",
    "    data = next(iter(iterator)).ENDPOINTS.transpose(0, 1)\n",
    "    transition_count_real, transition_freq_real = get_transition_matrix(data, vocab_size, d)\n",
    "    \n",
    "    start_tokens = data[:, :1]\n",
    "    memory = G.initial_state(batch_size = start_tokens.shape[0])\n",
    "\n",
    "    if cuda:\n",
    "        memory = memory.cuda()\n",
    "        start_tokens = start_tokens.cuda()\n",
    "    \n",
    "    _, data_fake, _, _ = G(start_tokens, memory, sequence_length)\n",
    "    \n",
    "    transition_count_fake, transition_freq_fake = get_transition_matrix(data_fake, vocab_size, d)\n",
    "    \n",
    "    chi_sqrd_ds = []\n",
    "    for i in range(vocab_size - 1):\n",
    "        chi_sqrd_d = chi_sqrd_dist(transition_count_fake[i, :], transition_count_real[i, :])\n",
    "        chi_sqrd_ds.append(chi_sqrd_d)\n",
    "        \n",
    "    chi_sqrd_ds = torch.tensor(chi_sqrd_ds)\n",
    "    \n",
    "    if separate:\n",
    "        return chi_sqrd_ds\n",
    "        \n",
    "    return torch.mean(chi_sqrd_ds)\n",
    "    \n",
    "def get_aggregate_transition_score(G, iterator, separate1 = True, separate2 = True, vocab_size = vocab_size, sequence_length = sequence_length):\n",
    "    scores = []\n",
    "    for d in range(1, sequence_length):\n",
    "        transition_score = get_transition_score(G, iterator, d, separate1, vocab_size, sequence_length)\n",
    "        scores.append(transition_score)\n",
    "        \n",
    "    result = torch.stack(scores)\n",
    "    \n",
    "    if separate2:\n",
    "        return result\n",
    "    \n",
    "    if separate1:\n",
    "        return torch.mean(result, dim = 0)\n",
    "    else:\n",
    "        return torch.mean(result)\n",
    "\n",
    "val_data = next(iter(val_iter)).ENDPOINTS.transpose(0, 1)\n",
    "\n",
    "score = get_score(G, ENDPOINT, val_data[:, :1])\n",
    "print(score)\n",
    "\n",
    "transition_score = get_transition_score(G, val_iter, d = 1, separate = True)\n",
    "print(transition_score)\n",
    "\n",
    "aggr_transition_score = get_aggregate_transition_score(G, val_iter, True, True)\n",
    "print(aggr_transition_score)\n"
   ]
  },
  {
   "cell_type": "code",
   "execution_count": 137,
   "metadata": {},
   "outputs": [
    {
     "name": "stdout",
     "output_type": "stream",
     "text": [
      "tensor([[[1., 0., 0., 0., 0., 0., 0.],\n",
      "         [0., 0., 0., 1., 0., 0., 0.],\n",
      "         [0., 0., 0., 0., 1., 0., 0.],\n",
      "         [0., 0., 1., 0., 0., 0., 0.],\n",
      "         [0., 0., 0., 0., 0., 0., 1.]]], device='cuda:0',\n",
      "       grad_fn=<CatBackward>)\n",
      "tensor([[0.5334, 0.5360]], device='cuda:0', grad_fn=<SqueezeBackward1>)\n",
      "tensor([0.5347], device='cuda:0', grad_fn=<MeanBackward2>)\n"
     ]
    }
   ],
   "source": [
    "# Test Discriminator output\n",
    "\n",
    "n_embeddings = 2\n",
    "embed_size = 2\n",
    "out_channels = 5 \n",
    "filter_sizes = [2, 3] # values can be at most the sequence_length\n",
    "\n",
    "D = RelGANDiscriminator(n_embeddings, vocab_size, embed_size, sequence_length, out_channels, filter_sizes)\n",
    "\n",
    "if cuda:\n",
    "    D.cuda()\n",
    "\n",
    "inp = logits\n",
    "print(inp)\n",
    "print(D(inp, False))\n",
    "print(D(inp))\n"
   ]
  },
  {
   "cell_type": "code",
   "execution_count": 138,
   "metadata": {},
   "outputs": [],
   "source": [
    "# Define the generator pre-train function\n",
    "\n",
    "def pretrain_generator(G, train, batch_size, vocab_size, sequence_length, n_epochs, lr, print_step = 10):\n",
    "    loss_function = nn.BCELoss()\n",
    "    optimizer = torch.optim.Adam(G.parameters(), lr=lr)\n",
    "    \n",
    "    if cuda:\n",
    "        G.cuda()\n",
    "        loss_function.cuda()\n",
    "    \n",
    "    for e in range(n_epochs):\n",
    "        train_iter = Iterator(train, batch_size = batch_size, device = device)\n",
    "        loss_total = 0\n",
    "        count = 0\n",
    "        \n",
    "        for batch in train_iter:\n",
    "            train_data = batch.ENDPOINTS.transpose(0, 1)\n",
    "            train_data_one_hot = F.one_hot(train_data, vocab_size).type(Tensor)\n",
    "            \n",
    "            start_token = train_data[:, :1]\n",
    "            optimizer.zero_grad()\n",
    "\n",
    "            memory = G.initial_state(batch_size = train_data.shape[0])\n",
    "\n",
    "            if cuda:\n",
    "                start_token = start_token.cuda()\n",
    "                memory = memory.cuda()\n",
    "                \n",
    "            logits, _, _, _ = G(start_token, memory, sequence_length, 1.0)\n",
    "\n",
    "            loss = loss_function(logits, train_data_one_hot)\n",
    "            \n",
    "            loss_total += loss.item()\n",
    "            count += 1\n",
    "\n",
    "            loss.backward()\n",
    "            optimizer.step()\n",
    "            \n",
    "        \n",
    "        if e % print_step == 0:\n",
    "            print(\n",
    "                \"[Epoch %d/%d] [G loss: %f]\"\n",
    "                % (e, n_epochs, loss_total / count)\n",
    "            )"
   ]
  },
  {
   "cell_type": "code",
   "execution_count": 141,
   "metadata": {},
   "outputs": [
    {
     "name": "stdout",
     "output_type": "stream",
     "text": [
      "tensor(1.0517)\n",
      "tensor([[2.6775, 1.7927, 3.0756, 0.9194, 1.1843, 0.5255],\n",
      "        [2.8474, 1.2431, 2.5402, 0.8238, 0.8632, 0.4192],\n",
      "        [1.0000, 1.8853, 2.7281, 0.8546, 1.4770, 1.0496],\n",
      "        [0.0000, 1.5297, 3.1180, 1.6377, 1.1606, 0.8302]])\n",
      "tensor(1.5076)\n",
      "[Epoch 0/3] [G loss: 4.963276]\n",
      "[Epoch 1/3] [G loss: 4.680381]\n",
      "[Epoch 2/3] [G loss: 4.432643]\n",
      "tensor(0.0463)\n",
      "tensor([[1.9547, 0.1288, 0.6756, 1.2380, 1.2744, 1.1568],\n",
      "        [1.3756, 0.1237, 0.6926, 0.3972, 0.7317, 0.5800],\n",
      "        [1.0000, 0.1924, 0.7463, 0.5740, 0.5379, 0.5989],\n",
      "        [0.0000, 0.1259, 0.5886, 0.8571, 1.7288, 1.0424]])\n",
      "tensor(0.7634)\n"
     ]
    }
   ],
   "source": [
    "mem_slots = 4\n",
    "head_size = 2\n",
    "embed_size = 2\n",
    "temperature = 1\n",
    "num_heads = 2\n",
    "\n",
    "G = RelationalMemoryGenerator(mem_slots, head_size, embed_size, vocab_size, temperature, num_heads)\n",
    "\n",
    "if cuda:\n",
    "    G.cuda()\n",
    "    \n",
    "val_data = next(iter(val_iter)).ENDPOINTS.transpose(0, 1)\n",
    "\n",
    "score = get_score(G, ENDPOINT, val_data[:, :1])\n",
    "print(score)\n",
    "aggr_transition_score = get_aggregate_transition_score(G, val_iter, True, True)\n",
    "print(aggr_transition_score)\n",
    "print(aggr_transition_score.mean())\n",
    "\n",
    "batch_size = 64\n",
    "pretrain_generator(G, train, batch_size, vocab_size, sequence_length, 3, 0.01, print_step = 1)\n",
    "\n",
    "score = get_score(G, ENDPOINT, val_data[:, :1])\n",
    "print(score)\n",
    "aggr_transition_score = get_aggregate_transition_score(G, val_iter, True, True)\n",
    "print(aggr_transition_score)\n",
    "print(aggr_transition_score.mean())"
   ]
  },
  {
   "cell_type": "code",
   "execution_count": 25,
   "metadata": {},
   "outputs": [
    {
     "data": {
      "image/png": "[encoded data removed]",
      "text/plain": [
       "<Figure size 432x432 with 1 Axes>"
      ]
     },
     "metadata": {
      "needs_background": "light"
     },
     "output_type": "display_data"
    }
   ],
   "source": [
    "def save_grouped_barplot(freqs, freqs_fake, idx, title, N=10):\n",
    "    freqs1 = freqs.numpy()[idx]\n",
    "    freqs2 = freqs_fake.numpy()[idx]\n",
    "\n",
    "    fig, ax = plt.subplots(figsize=(6,6))\n",
    "\n",
    "    ind = np.arange(N)    # the x locations for the groups\n",
    "    width = 0.35         # the width of the bars\n",
    "    p1 = ax.bar(ind, freqs1, width, bottom=0)\n",
    "\n",
    "    p2 = ax.bar(ind + width, freqs2, width, bottom=0)\n",
    "\n",
    "    ax.set_title(title)\n",
    "    ax.set_xticks(ind + width / 2)\n",
    "    ax.set_xticklabels(map(lambda x: ENDPOINT.vocab.itos[x], idx + 2), rotation=90)\n",
    "\n",
    "    ax.legend((p1[0], p2[0]), ('real', 'fake'))\n",
    "    ax.autoscale_view()\n",
    "    \n",
    "    fig.subplots_adjust(bottom=0.36)\n",
    "    fig.savefig('figs/' + '_'.join(title.split(' ')).translate({ord(i): None for i in ':()'}) + '.svg')\n",
    "    \n",
    "def save_relative_and_absolute(freqs, freqs_fake, counts, counts_fake, vocab_size, prefix='', N_max=10):\n",
    "    N = min(N_max, vocab_size - 2)\n",
    "    if not prefix == '':\n",
    "        prefix += ' '\n",
    "    \n",
    "    if N == vocab_size - 2:\n",
    "        idx = np.arange(N)\n",
    "        \n",
    "        title = prefix + 'Differences in frequencies'\n",
    "        save_grouped_barplot(freqs, freqs_fake, idx, title, N)\n",
    "    else:\n",
    "        abs_diffs = np.abs(freqs - freqs_fake)\n",
    "        idx = np.argsort(abs_diffs)[-N:]\n",
    "        idx = np.flip(idx)\n",
    "        \n",
    "        title = prefix + 'Largest absolute differences in frequencies'\n",
    "        save_grouped_barplot(freqs, freqs_fake, idx, title, N)\n",
    "\n",
    "        chi_sqrd_dists = chi_sqrd_dist(counts, counts_fake, separate = True)\n",
    "        idx = np.argsort(chi_sqrd_dists)[-N:]\n",
    "        idx = np.flip(idx)\n",
    "\n",
    "        title = prefix + 'Largest relative differences in frequencies'\n",
    "        save_grouped_barplot(freqs, freqs_fake, idx, title, N)\n",
    "    \n",
    "\n",
    "train_iter = Iterator(train, batch_size = len(train_sequences))\n",
    "train_data = next(iter(train_iter)).ENDPOINTS.transpose(0, 1)\n",
    "    \n",
    "counts, freqs = get_distribution(None, ENDPOINT, vocab_size, fake = False)\n",
    "counts_fake1, _ = get_fake_distribution(G, val_data[:, :1])\n",
    "counts_fake2, _ = get_fake_distribution(G, train_data[:, :1])\n",
    "\n",
    "counts_fake = counts_fake1 + counts_fake2\n",
    "freqs_fake = counts_fake / torch.sum(counts_fake)\n",
    "\n",
    "N_max = 10\n",
    "prefix = '(Test):'\n",
    "\n",
    "save_relative_and_absolute(freqs, freqs_fake, counts, counts_fake, vocab_size, prefix, N_max)"
   ]
  },
  {
   "cell_type": "code",
   "execution_count": 165,
   "metadata": {},
   "outputs": [],
   "source": [
    "# Define the training function\n",
    "\n",
    "def get_scores(G, ENDPOINT, iterator, separate1 = True, separate2 = True, vocab_size = vocab_size, sequence_length = sequence_length):\n",
    "    start_tokens = next(iter(iterator)).ENDPOINTS.transpose(0, 1)[:, :1]\n",
    "    \n",
    "    score1 = get_score(G, ENDPOINT, start_tokens, vocab_size, sequence_length)\n",
    "    \n",
    "    score2 = get_aggregate_transition_score(G, iterator, separate1, separate2, vocab_size, sequence_length)\n",
    "    \n",
    "    return score1, score2.mean(), score2\n",
    "\n",
    "def train_GAN(G, D, train, val_iter, batch_size, vocab_size, sequence_length, \\\n",
    "              n_epochs, lr, temperature, print_step = 10, score_fn = get_scores):    \n",
    "    scores = []\n",
    "    \n",
    "    score = score_fn(G, ENDPOINT, val_iter)\n",
    "    print('Score before training:', *score)\n",
    "    scores.append(score)\n",
    "    \n",
    "    print('pretraining generator...')\n",
    "    pretrain_generator(G, train, batch_size, vocab_size, sequence_length, max(n_epochs // 10, 1), \\\n",
    "                       lr * 100, print_step = max(n_epochs // 10 - 1, 1))\n",
    "    print('pretraining complete')\n",
    "    \n",
    "    score = score_fn(G, ENDPOINT, val_iter)\n",
    "    print(\"[Score:\", *score, \"]\")\n",
    "    scores.append(score)\n",
    "    \n",
    "    adversarial_loss = torch.nn.BCELoss()\n",
    "    \n",
    "    optimizer_G = torch.optim.Adam(G.parameters(), lr=lr)\n",
    "    optimizer_D = torch.optim.Adam(D.parameters(), lr=lr)\n",
    "    \n",
    "    if cuda:\n",
    "        G.cuda()\n",
    "        D.cuda()\n",
    "        adversarial_loss.cuda()\n",
    "    \n",
    "    for e in range(n_epochs):\n",
    "        train_iter = Iterator(train, batch_size = batch_size, device = device)\n",
    "        #loss_total = 0\n",
    "        #count = 0\n",
    "        \n",
    "        for batch in train_iter:\n",
    "            train_data = batch.ENDPOINTS.transpose(0, 1)\n",
    "            train_data_one_hot = F.one_hot(train_data, vocab_size).type(Tensor)\n",
    "\n",
    "            start_token = train_data[:, :1]\n",
    "            \n",
    "            # Adversarial ground truths\n",
    "            valid = Variable(Tensor(train_data.shape[0], 1).fill_(1.0), requires_grad=False)\n",
    "            fake = Variable(Tensor(train_data.shape[0], 1).fill_(0.0), requires_grad=False)\n",
    "\n",
    "            optimizer_G.zero_grad()\n",
    "\n",
    "            # Generate a batch of images\n",
    "            memory = G.initial_state(batch_size = train_data.shape[0])\n",
    "            if cuda:\n",
    "                memory = memory.cuda()\n",
    "\n",
    "            temp = temperature ** ((e + 1) / n_epochs)\n",
    "            fake_one_hot, _, _, _ = G(start_token, memory, sequence_length, temp)\n",
    "\n",
    "            # Loss measures generator's ability to fool the discriminator\n",
    "            g_loss = adversarial_loss(D(fake_one_hot).view(-1), valid.view(-1))\n",
    "\n",
    "            g_loss.backward()\n",
    "            optimizer_G.step()\n",
    "\n",
    "            optimizer_D.zero_grad()\n",
    "\n",
    "            # Measure discriminator's ability to classify real from generated samples\n",
    "            real_loss = adversarial_loss(D(train_data_one_hot).view(-1), valid.view(-1))\n",
    "            fake_loss = adversarial_loss(D(fake_one_hot.detach()).view(-1), fake.view(-1))\n",
    "            d_loss = (real_loss + fake_loss) / 2\n",
    "\n",
    "            d_loss.backward()\n",
    "            optimizer_D.step()\n",
    "\n",
    "        if e % print_step == 0:\n",
    "            print(\n",
    "                \"[Epoch %d/%d] [D loss: %f] [G loss: %f]\"\n",
    "                % (e, n_epochs, d_loss.item(), g_loss.item())\n",
    "            )\n",
    "            score = score_fn(G, ENDPOINT, val_iter)\n",
    "            print(\"[Score:\", *score, \"]\")\n",
    "            scores.append(score)\n",
    "            \n",
    "    score = score_fn(G, ENDPOINT, val_iter)\n",
    "    print('Score after training:', *score)\n",
    "    scores.append(score)\n",
    "            \n",
    "    new_scores = [[] for _ in range(len(scores[0]))]\n",
    "    for i in range(len(scores)):\n",
    "        for j in range(len(scores[i])):\n",
    "            new_scores[j].append(scores[i][j])\n",
    "\n",
    "    for j in range(len(scores[0])):\n",
    "        new_scores[j] = torch.stack(new_scores[j])\n",
    "            \n",
    "    return tuple(new_scores)\n"
   ]
  },
  {
   "cell_type": "code",
   "execution_count": 166,
   "metadata": {},
   "outputs": [
    {
     "name": "stdout",
     "output_type": "stream",
     "text": [
      "Score before training: tensor(0.2807) tensor(1.2047) tensor([[3.6169, 1.0382, 1.6364, 0.8024, 0.7107, 1.1098],\n",
      "        [3.1970, 0.8182, 1.3465, 0.5647, 0.9516, 1.2418],\n",
      "        [1.0000, 0.8583, 1.1557, 0.2342, 0.5637, 1.9036],\n",
      "        [0.0000, 0.9417, 1.2206, 0.5306, 0.8950, 2.5746]])\n",
      "pretraining generator...\n",
      "[Epoch 0/1] [G loss: 4.638664]\n",
      "pretraining complete\n",
      "[Score: tensor(0.0370) tensor(0.7802) tensor([[1.4191, 0.2391, 0.6003, 1.1346, 1.2273, 1.3668],\n",
      "        [1.2177, 0.2543, 0.3704, 0.8205, 0.8409, 1.5917],\n",
      "        [1.0000, 0.3200, 0.3039, 0.5023, 0.7554, 1.6465],\n",
      "        [0.0000, 0.2680, 0.3802, 0.2275, 0.7422, 1.4960]]) ]\n",
      "[Epoch 0/3] [D loss: 0.697582] [G loss: 0.608724]\n",
      "[Score: tensor(0.0225) tensor(0.7217) tensor([[1.3042, 0.1742, 0.6248, 0.9399, 1.2652, 1.5642],\n",
      "        [1.0887, 0.1563, 0.2311, 0.9023, 1.0684, 1.1486],\n",
      "        [1.0000, 0.1293, 0.2690, 0.4438, 0.5758, 0.9214],\n",
      "        [0.0000, 0.3819, 1.0213, 0.1501, 0.9523, 1.0069]]) ]\n",
      "[Epoch 1/3] [D loss: 0.695565] [G loss: 0.619657]\n",
      "[Score: tensor(0.0452) tensor(0.7551) tensor([[1.2753, 0.1605, 0.6899, 1.3260, 1.3762, 1.3119],\n",
      "        [1.1461, 0.0675, 0.4236, 0.7478, 0.8120, 1.2601],\n",
      "        [1.0000, 0.0840, 0.5437, 0.5640, 0.7497, 1.5521],\n",
      "        [0.0000, 0.1340, 0.8132, 0.5763, 1.1534, 0.3556]]) ]\n",
      "[Epoch 2/3] [D loss: 0.694252] [G loss: 0.631439]\n",
      "[Score: tensor(0.1116) tensor(0.9360) tensor([[2.8364, 0.0744, 0.3290, 1.1176, 1.7760, 1.3475],\n",
      "        [2.0230, 0.3661, 0.2427, 0.7877, 1.3106, 1.5140],\n",
      "        [1.0000, 0.4242, 0.2063, 0.5839, 1.1227, 1.3833],\n",
      "        [0.0000, 0.4199, 0.5320, 0.7369, 1.4376, 0.8914]]) ]\n",
      "Score after training: tensor(0.0792) tensor(0.9660) tensor([[2.5911, 0.0272, 0.2741, 1.4123, 1.7955, 1.3374],\n",
      "        [2.1370, 0.3197, 0.3025, 0.7665, 1.3179, 1.3862],\n",
      "        [1.0000, 0.5049, 0.3178, 0.7325, 1.1528, 1.1350],\n",
      "        [0.0000, 0.4818, 0.6858, 1.1393, 1.6242, 0.7427]])\n",
      "Time taken: 24.3 seconds\n"
     ]
    },
    {
     "data": {
      "image/png": "[encoded data removed]",
      "text/plain": [
       "<Figure size 432x432 with 1 Axes>"
      ]
     },
     "metadata": {
      "needs_background": "light"
     },
     "output_type": "display_data"
    },
    {
     "data": {
      "image/png": "[encoded data removed]",
      "text/plain": [
       "<Figure size 432x432 with 1 Axes>"
      ]
     },
     "metadata": {
      "needs_background": "light"
     },
     "output_type": "display_data"
    }
   ],
   "source": [
    "# Train the GAN\n",
    "\n",
    "start_time = time.time()\n",
    "\n",
    "# Generator params\n",
    "mem_slots = 1\n",
    "head_size = 6\n",
    "embed_size = 10\n",
    "temperature = 5\n",
    "num_heads = 10\n",
    "num_blocks = 6\n",
    "\n",
    "G = RelationalMemoryGenerator(mem_slots, head_size, embed_size, vocab_size, temperature, num_heads, num_blocks)\n",
    "\n",
    "# Discriminator params\n",
    "n_embeddings = 5\n",
    "embed_size = embed_size\n",
    "out_channels = 15\n",
    "filter_sizes = [2, 3, 4] # values can be at most the sequence_length\n",
    "\n",
    "D = RelGANDiscriminator(n_embeddings, vocab_size, embed_size, sequence_length, out_channels, filter_sizes)\n",
    "\n",
    "if cuda:\n",
    "    G.cuda()\n",
    "    D.cuda()\n",
    "\n",
    "counts_fake1, _ = get_fake_distribution(G, val_data[:, :1])\n",
    "counts_fake2, _ = get_fake_distribution(G, train_data[:, :1])\n",
    "\n",
    "counts_fake = counts_fake1 + counts_fake2\n",
    "freqs_fake = counts_fake / torch.sum(counts_fake)\n",
    "\n",
    "N_max = 10\n",
    "prefix = 'Before:'\n",
    "\n",
    "save_relative_and_absolute(freqs, freqs_fake, counts, counts_fake, vocab_size, prefix, N_max)\n",
    "\n",
    "\n",
    "\n",
    "batch_size = 64\n",
    "n_epochs = 3\n",
    "print_step = max(n_epochs // 10, 1)\n",
    "lr = 1e-4\n",
    "\n",
    "# Train the GAN\n",
    "scores1, scores2, scores3 = train_GAN(G, D, train, val_iter, batch_size, vocab_size, sequence_length, n_epochs, lr, temperature, print_step)\n",
    "\n",
    "\n",
    "\n",
    "counts_fake1, _ = get_fake_distribution(G, val_data[:, :1])\n",
    "counts_fake2, _ = get_fake_distribution(G, train_data[:, :1])\n",
    "\n",
    "counts_fake = counts_fake1 + counts_fake2\n",
    "freqs_fake = counts_fake / torch.sum(counts_fake)\n",
    "\n",
    "prefix = 'After:'\n",
    "\n",
    "save_relative_and_absolute(freqs, freqs_fake, counts, counts_fake, vocab_size, prefix, N_max)\n",
    "\n",
    "print('Time taken:', round_to_n(time.time() - start_time, n = 3), 'seconds')\n"
   ]
  },
  {
   "cell_type": "code",
   "execution_count": 167,
   "metadata": {},
   "outputs": [
    {
     "data": {
      "image/png": "[encoded data removed]",
      "text/plain": [
       "<Figure size 432x288 with 1 Axes>"
      ]
     },
     "metadata": {
      "needs_background": "light"
     },
     "output_type": "display_data"
    }
   ],
   "source": [
    "%matplotlib inline\n",
    "\n",
    "plt.plot(range(scores1.shape[0]), scores1.numpy())\n",
    "plt.ylabel('Chi-Squared Distance of frequencies')\n",
    "plt.xlabel('Epoch')\n",
    "plt.savefig('figs/chisqrd_freqs.svg')"
   ]
  },
  {
   "cell_type": "code",
   "execution_count": 168,
   "metadata": {},
   "outputs": [
    {
     "data": {
      "image/png": "[encoded data removed]",
      "text/plain": [
       "<Figure size 432x288 with 1 Axes>"
      ]
     },
     "metadata": {
      "needs_background": "light"
     },
     "output_type": "display_data"
    }
   ],
   "source": [
    "plt.plot(range(scores2.shape[0]), scores2.numpy())\n",
    "plt.ylabel('Mean transition score')\n",
    "plt.xlabel('Epoch')\n",
    "plt.savefig('figs/mean_transition_score.svg')"
   ]
  },
  {
   "cell_type": "code",
   "execution_count": 176,
   "metadata": {},
   "outputs": [
    {
     "data": {
      "text/plain": [
       "<Figure size 432x288 with 0 Axes>"
      ]
     },
     "metadata": {},
     "output_type": "display_data"
    }
   ],
   "source": [
    "for d in range(1, sequence_length):\n",
    "    plt.plot(range(scores3.shape[0]), scores3[:, d - 1, :].numpy())\n",
    "    plt.ylabel('Transition score')\n",
    "    plt.xlabel('Epoch')\n",
    "    title = 'd=' + str(d)\n",
    "    plt.title(title)\n",
    "    labels = [ENDPOINT.vocab.itos[i] for i in range(1, vocab_size)]\n",
    "    plt.legend(labels)\n",
    "    plt.savefig('figs/' + title + '.svg')\n",
    "    plt.clf()"
   ]
  },
  {
   "cell_type": "code",
   "execution_count": 177,
   "metadata": {},
   "outputs": [
    {
     "data": {
      "text/plain": [
       "<Figure size 432x288 with 0 Axes>"
      ]
     },
     "metadata": {},
     "output_type": "display_data"
    }
   ],
   "source": [
    "for v in range(1, vocab_size):\n",
    "    plt.plot(range(scores3.shape[0]), scores3[:, :, v - 1].numpy())\n",
    "    plt.ylabel('Transition score')\n",
    "    plt.xlabel('Epoch')\n",
    "    title = 'enpoint=' + ENDPOINT.vocab.itos[v]\n",
    "    plt.title(title)\n",
    "    labels = ['d=' + str(i) for i in range(1, sequence_length)]\n",
    "    plt.legend(labels)\n",
    "    plt.savefig('figs/' + title + '.svg')\n",
    "    plt.clf()"
   ]
  },
  {
   "cell_type": "code",
   "execution_count": 178,
   "metadata": {},
   "outputs": [
    {
     "name": "stdout",
     "output_type": "stream",
     "text": [
      "tensor([[6],\n",
      "        [4],\n",
      "        [5],\n",
      "        [6],\n",
      "        [3]])\n"
     ]
    },
    {
     "data": {
      "text/plain": [
       "tensor([[6, 2, 6, 2, 2],\n",
       "        [4, 5, 2, 2, 3],\n",
       "        [5, 5, 2, 2, 2],\n",
       "        [6, 5, 2, 1, 3],\n",
       "        [3, 5, 1, 2, 1]], device='cuda:0')"
      ]
     },
     "execution_count": 178,
     "metadata": {},
     "output_type": "execute_result"
    }
   ],
   "source": [
    "test_size = 5\n",
    "start_tokens = torch.randint(2, vocab_size, (test_size, 1))\n",
    "print(start_tokens)\n",
    "\n",
    "memory = G.initial_state(batch_size = test_size)\n",
    "\n",
    "if cuda:\n",
    "    memory = memory.cuda()\n",
    "    start_tokens = start_tokens.cuda()\n",
    "    \n",
    "_, data_fake, _, _ = G(start_tokens, memory, sequence_length)\n",
    "\n",
    "data_fake"
   ]
  },
  {
   "cell_type": "code",
   "execution_count": null,
   "metadata": {},
   "outputs": [],
   "source": []
  }
 ],
 "metadata": {
  "kernelspec": {
   "display_name": "Python 3",
   "language": "python",
   "name": "python3"
  },
  "language_info": {
   "codemirror_mode": {
    "name": "ipython",
    "version": 3
   },
   "file_extension": ".py",
   "mimetype": "text/x-python",
   "name": "python",
   "nbconvert_exporter": "python",
   "pygments_lexer": "ipython3",
   "version": "3.7.3"
  }
 },
 "nbformat": 4,
 "nbformat_minor": 2
}
