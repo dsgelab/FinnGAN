{
 "cells": [
  {
   "cell_type": "code",
   "execution_count": 1,
   "metadata": {},
   "outputs": [],
   "source": [
    "# Imports\n",
    "import torch\n",
    "import torch.nn as nn\n",
    "import torch.nn.functional as F\n",
    "import numpy as np\n",
    "from sklearn.model_selection import train_test_split\n",
    "import time\n",
    "from math import log10, floor\n",
    "import os\n",
    "\n",
    "from relational_rnn_models import RelationalMemoryGenerator"
   ]
  },
  {
   "cell_type": "code",
   "execution_count": 2,
   "metadata": {},
   "outputs": [],
   "source": [
    "# Define variables\n",
    "n_vars = 3\n",
    "var_ids = list(range(n_vars))\n",
    "var_names = ['var' + str(i) for i in var_ids]\n",
    "var_weights = [0.1, 0.6, 0.3] # variable distribution of mock data\n",
    "n_time_steps = 6\n",
    "n_individuals = 1000\n",
    "\n",
    "noise_length = 2"
   ]
  },
  {
   "cell_type": "code",
   "execution_count": 3,
   "metadata": {},
   "outputs": [],
   "source": [
    "# Helper function(s)\n",
    "\n",
    "# round a number to n significant digits\n",
    "def round_to_n(x, n = 2):\n",
    "    return round(x, -int(floor(log10(abs(x)))) + (n - 1)) if x != 0 else 0\n",
    "\n",
    "# visualize the output of the generator\n",
    "def visualize_output(generator, z, n = 2):\n",
    "    p = generator(z).view(n_time_steps, n_vars)\n",
    "    p.shape\n",
    "    for t in range(p.shape[0]):\n",
    "        tmp = []\n",
    "        for f in range(p.shape[1]):\n",
    "            tmp.append(round_to_n(p[t,f], n))\n",
    "        print(tmp)"
   ]
  },
  {
   "cell_type": "code",
   "execution_count": 4,
   "metadata": {},
   "outputs": [
    {
     "name": "stdout",
     "output_type": "stream",
     "text": [
      "time taken: 0.12 seconds\n",
      "['var0', 'var2', 'var2', 'var0', 'var1', 'var1']\n",
      "['var1', 'var1', 'var1', 'var1', 'var1', 'var2']\n",
      "['var1', 'var1', 'var0', 'var1', 'var1', 'var1']\n",
      "['var2', 'var0', 'var1', 'var2', 'var1', 'var2']\n",
      "['var2', 'var0', 'var1', 'var1', 'var0', 'var2']\n",
      "['var2', 'var0', 'var2', 'var0', 'var2', 'var0']\n",
      "['var2', 'var0', 'var2', 'var0', 'var2', 'var0']\n",
      "['var1', 'var1', 'var2', 'var0', 'var1', 'var1']\n",
      "['var2', 'var0', 'var1', 'var1', 'var0', 'var2']\n",
      "['var0', 'var1', 'var0', 'var1', 'var1', 'var1']\n"
     ]
    }
   ],
   "source": [
    "# Generate mock data\n",
    "\n",
    "events = []\n",
    "\n",
    "start_time = time.time()\n",
    "\n",
    "for indv in range(n_individuals):\n",
    "    tmp = []\n",
    "    for t in range(n_time_steps):\n",
    "        if t > 0 and tmp[t - 1] == 'var2':\n",
    "            weights = [0.7, 0.2, 0.1]\n",
    "            var = np.random.choice(var_names, p=weights)\n",
    "        else:\n",
    "            var = np.random.choice(var_names, p=var_weights)\n",
    "        tmp.append(var)\n",
    "    events.append(tmp)\n",
    "        \n",
    "print('time taken:', round_to_n(time.time() - start_time), 'seconds')\n",
    "\n",
    "for i in range(10):\n",
    "    print(events[i])"
   ]
  },
  {
   "cell_type": "code",
   "execution_count": 5,
   "metadata": {},
   "outputs": [
    {
     "name": "stdout",
     "output_type": "stream",
     "text": [
      "{'var0': 0, 'var1': 1, 'var2': 2}\n"
     ]
    },
    {
     "data": {
      "text/plain": [
       "tensor([[0, 2, 2, 0, 1, 1],\n",
       "        [1, 1, 1, 1, 1, 2],\n",
       "        [1, 1, 0, 1, 1, 1],\n",
       "        [2, 0, 1, 2, 1, 2],\n",
       "        [2, 0, 1, 1, 0, 2],\n",
       "        [2, 0, 2, 0, 2, 0],\n",
       "        [2, 0, 2, 0, 2, 0],\n",
       "        [1, 1, 2, 0, 1, 1],\n",
       "        [2, 0, 1, 1, 0, 2],\n",
       "        [0, 1, 0, 1, 1, 1]])"
      ]
     },
     "execution_count": 5,
     "metadata": {},
     "output_type": "execute_result"
    }
   ],
   "source": [
    "vars_to_indices = dict([(v, i) for i, v in enumerate(var_names)])\n",
    "print(vars_to_indices)\n",
    "data = torch.tensor([[vars_to_indices[e] for e in event] for event in events])\n",
    "data[:10]"
   ]
  },
  {
   "cell_type": "code",
   "execution_count": 6,
   "metadata": {},
   "outputs": [
    {
     "name": "stdout",
     "output_type": "stream",
     "text": [
      "tensor([[[1., 0.],\n",
      "         [0., 1.],\n",
      "         [0., 0.],\n",
      "         [0., 0.]]])\n",
      "tensor([[0.2129, 0.7301, 0.0570],\n",
      "        [0.7978, 0.0577, 0.1445],\n",
      "        [0.3692, 0.5117, 0.1191],\n",
      "        [0.6053, 0.2216, 0.1731],\n",
      "        [0.0462, 0.3125, 0.6413],\n",
      "        [0.0271, 0.1808, 0.7921]], grad_fn=<CatBackward>)\n",
      "tensor([[1],\n",
      "        [0],\n",
      "        [1],\n",
      "        [0],\n",
      "        [2],\n",
      "        [2]])\n",
      "tensor([[[ 1.4310, -1.4020],\n",
      "         [ 1.3150,  0.9018],\n",
      "         [ 0.8794, -1.1808],\n",
      "         [ 0.8794, -1.1808]]], grad_fn=<AddBackward0>)\n"
     ]
    }
   ],
   "source": [
    "# Test generator output\n",
    "\n",
    "mem_slots = 4\n",
    "head_size = 2\n",
    "embed_size = 2\n",
    "num_tokens = n_vars\n",
    "temperature = 1\n",
    "num_heads = 1\n",
    "\n",
    "G = RelationalMemoryGenerator(mem_slots, head_size, embed_size, num_tokens, temperature, num_heads)\n",
    "\n",
    "start_token = torch.tensor([[0]])\n",
    "sequence_length = n_time_steps\n",
    "memory = G.initial_state(batch_size = 1)\n",
    "print(memory)\n",
    "logits, tokens, _, memory = G(start_token, memory, sequence_length, None)\n",
    "print(logits)\n",
    "print(tokens)\n",
    "print(memory)\n"
   ]
  },
  {
   "cell_type": "code",
   "execution_count": 7,
   "metadata": {},
   "outputs": [
    {
     "name": "stdout",
     "output_type": "stream",
     "text": [
      "torch.Size([1, 1])\n",
      "tensor([[[-0.9160, -0.2775, -1.0579, -1.3390]]], grad_fn=<EmbeddingBackward>)\n",
      "torch.Size([1, 1, 4])\n",
      "torch.Size([1, 4])\n",
      "torch.Size([1, 4])\n"
     ]
    },
    {
     "data": {
      "text/plain": [
       "torch.Size([1, 1, 4])"
      ]
     },
     "execution_count": 7,
     "metadata": {},
     "output_type": "execute_result"
    }
   ],
   "source": [
    "test = torch.tensor([[2]])\n",
    "print(test.shape)\n",
    "embed = nn.Embedding(10, 4)\n",
    "test_embed = embed(test)\n",
    "print(test_embed)\n",
    "print(test_embed.shape)\n",
    "test_inp = test_embed[:, 0]\n",
    "print(test_inp.shape)\n",
    "test_inp = test_inp.view(test_inp.shape[0], -1)\n",
    "print(test_inp.shape)\n",
    "test_inp.unsqueeze(dim=1).shape\n",
    "\n"
   ]
  },
  {
   "cell_type": "code",
   "execution_count": 8,
   "metadata": {},
   "outputs": [],
   "source": [
    "# Define the Discriminator\n",
    "\n",
    "class Discriminator(nn.Module):\n",
    "    def __init__(self):\n",
    "        pass"
   ]
  }
 ],
 "metadata": {
  "kernelspec": {
   "display_name": "Python 3",
   "language": "python",
   "name": "python3"
  },
  "language_info": {
   "codemirror_mode": {
    "name": "ipython",
    "version": 3
   },
   "file_extension": ".py",
   "mimetype": "text/x-python",
   "name": "python",
   "nbconvert_exporter": "python",
   "pygments_lexer": "ipython3",
   "version": "3.7.3"
  }
 },
 "nbformat": 4,
 "nbformat_minor": 2
}
