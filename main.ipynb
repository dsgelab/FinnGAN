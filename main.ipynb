{
 "cells": [
  {
   "cell_type": "code",
   "execution_count": 1,
   "metadata": {},
   "outputs": [],
   "source": [
    "# Imports\n",
    "import torch\n",
    "import torch.nn as nn\n",
    "import torch.nn.functional as F\n",
    "import numpy as np\n",
    "from sklearn.model_selection import train_test_split\n",
    "import time\n",
    "from math import log10, floor\n",
    "import os\n",
    "\n",
    "from relational_rnn_models import RelationalMemoryGenerator\n",
    "from discriminator import RelGANDiscriminator"
   ]
  },
  {
   "cell_type": "code",
   "execution_count": 2,
   "metadata": {},
   "outputs": [],
   "source": [
    "# Define variables\n",
    "n_vars = 3\n",
    "var_ids = list(range(n_vars))\n",
    "var_names = ['var' + str(i) for i in var_ids]\n",
    "var_weights = [0.1, 0.6, 0.3] # variable distribution of mock data\n",
    "n_time_steps = 6\n",
    "n_individuals = 1000\n",
    "\n",
    "noise_length = 2"
   ]
  },
  {
   "cell_type": "code",
   "execution_count": 3,
   "metadata": {},
   "outputs": [],
   "source": [
    "# Helper function(s)\n",
    "\n",
    "# round a number to n significant digits\n",
    "def round_to_n(x, n = 2):\n",
    "    return round(x, -int(floor(log10(abs(x)))) + (n - 1)) if x != 0 else 0\n",
    "\n",
    "# visualize the output of the generator\n",
    "def visualize_output(generator, z, n = 2):\n",
    "    p = generator(z).view(n_time_steps, n_vars)\n",
    "    p.shape\n",
    "    for t in range(p.shape[0]):\n",
    "        tmp = []\n",
    "        for f in range(p.shape[1]):\n",
    "            tmp.append(round_to_n(p[t,f], n))\n",
    "        print(tmp)\n",
    "        \n",
    "# Change a sequence of tokens into a one-hot represenation\n",
    "def tokens_to_one_hot(tokens, vocab_size):\n",
    "    if len(tokens.shape) == 1:\n",
    "        tokens = tokens.view(1, -1)\n",
    "    batch_size = tokens.shape[0]\n",
    "    sequence_length = tokens.shape[1]\n",
    "    \n",
    "    tokens_onehot = torch.FloatTensor(batch_size, sequence_length, vocab_size)\n",
    "\n",
    "    tokens_onehot.zero_()\n",
    "    tokens_onehot.scatter_(2, tokens.view(batch_size, sequence_length, -1), 1)\n",
    "    \n",
    "    return tokens_onehot\n",
    "\n",
    "#y = data[:5, :]\n",
    "#print(y)\n",
    "#print(tokens_to_one_hot(y, n_vars))"
   ]
  },
  {
   "cell_type": "code",
   "execution_count": 4,
   "metadata": {},
   "outputs": [
    {
     "name": "stdout",
     "output_type": "stream",
     "text": [
      "time taken: 0.12 seconds\n",
      "['var1', 'var1', 'var2', 'var0', 'var1', 'var1']\n",
      "['var1', 'var1', 'var1', 'var1', 'var2', 'var2']\n",
      "['var2', 'var1', 'var0', 'var1', 'var1', 'var1']\n",
      "['var0', 'var2', 'var1', 'var0', 'var2', 'var1']\n",
      "['var1', 'var1', 'var2', 'var0', 'var2', 'var1']\n",
      "['var1', 'var1', 'var1', 'var1', 'var1', 'var1']\n",
      "['var1', 'var1', 'var1', 'var2', 'var0', 'var2']\n",
      "['var1', 'var2', 'var0', 'var1', 'var2', 'var0']\n",
      "['var1', 'var1', 'var1', 'var1', 'var1', 'var1']\n",
      "['var1', 'var1', 'var1', 'var1', 'var1', 'var1']\n"
     ]
    }
   ],
   "source": [
    "# Generate mock data\n",
    "\n",
    "events = []\n",
    "\n",
    "start_time = time.time()\n",
    "\n",
    "for indv in range(n_individuals):\n",
    "    tmp = []\n",
    "    for t in range(n_time_steps):\n",
    "        if t > 0 and tmp[t - 1] == 'var2':\n",
    "            weights = [0.7, 0.2, 0.1]\n",
    "            var = np.random.choice(var_names, p=weights)\n",
    "        else:\n",
    "            var = np.random.choice(var_names, p=var_weights)\n",
    "        tmp.append(var)\n",
    "    events.append(tmp)\n",
    "        \n",
    "print('time taken:', round_to_n(time.time() - start_time), 'seconds')\n",
    "\n",
    "for i in range(10):\n",
    "    print(events[i])"
   ]
  },
  {
   "cell_type": "code",
   "execution_count": 5,
   "metadata": {},
   "outputs": [
    {
     "name": "stdout",
     "output_type": "stream",
     "text": [
      "{'var0': 0, 'var1': 1, 'var2': 2}\n",
      "tensor([[1, 1, 2, 0, 1, 1],\n",
      "        [1, 1, 1, 1, 2, 2],\n",
      "        [2, 1, 0, 1, 1, 1],\n",
      "        [0, 2, 1, 0, 2, 1],\n",
      "        [1, 1, 2, 0, 2, 1],\n",
      "        [1, 1, 1, 1, 1, 1],\n",
      "        [1, 1, 1, 2, 0, 2],\n",
      "        [1, 2, 0, 1, 2, 0],\n",
      "        [1, 1, 1, 1, 1, 1],\n",
      "        [1, 1, 1, 1, 1, 1]])\n"
     ]
    }
   ],
   "source": [
    "vars_to_indices = dict([(v, i) for i, v in enumerate(var_names)])\n",
    "print(vars_to_indices)\n",
    "data = torch.tensor([[vars_to_indices[e] for e in event] for event in events])\n",
    "print(data[:10])"
   ]
  },
  {
   "cell_type": "code",
   "execution_count": 6,
   "metadata": {},
   "outputs": [
    {
     "name": "stdout",
     "output_type": "stream",
     "text": [
      "tensor([[[1., 0.],\n",
      "         [0., 1.],\n",
      "         [0., 0.],\n",
      "         [0., 0.]]])\n",
      "tensor([[[1., 0., 0.],\n",
      "         [0., 0., 1.],\n",
      "         [1., 0., 0.],\n",
      "         [0., 1., 0.],\n",
      "         [0., 1., 0.],\n",
      "         [0., 1., 0.]]], grad_fn=<CatBackward>)\n",
      "tensor([[[0],\n",
      "         [2],\n",
      "         [0],\n",
      "         [1],\n",
      "         [1],\n",
      "         [1]]])\n",
      "tensor([[[ 0.7204,  0.5480],\n",
      "         [-1.1341,  0.6036],\n",
      "         [-1.0343,  0.5102],\n",
      "         [-1.0343,  0.5102]]], grad_fn=<AddBackward0>)\n"
     ]
    }
   ],
   "source": [
    "# Test generator output\n",
    "\n",
    "mem_slots = 4\n",
    "head_size = 2\n",
    "embed_size = 2\n",
    "num_tokens = n_vars\n",
    "temperature = 1\n",
    "num_heads = 1\n",
    "\n",
    "G = RelationalMemoryGenerator(mem_slots, head_size, embed_size, num_tokens, temperature, num_heads)\n",
    "\n",
    "start_token = torch.tensor([[0]])\n",
    "sequence_length = n_time_steps\n",
    "memory = G.initial_state(batch_size = 1)\n",
    "print(memory)\n",
    "logits, tokens, _, memory = G(start_token, memory, sequence_length, None)\n",
    "print(logits)\n",
    "print(tokens)\n",
    "print(memory)\n"
   ]
  },
  {
   "cell_type": "code",
   "execution_count": 7,
   "metadata": {},
   "outputs": [
    {
     "name": "stdout",
     "output_type": "stream",
     "text": [
      "tensor([0.1495, 0.0704, 0.1230])\n",
      "tensor([1.4955, 0.1173, 0.4099])\n"
     ]
    }
   ],
   "source": [
    "# Define generator evaluation function\n",
    "\n",
    "def eval_generator(G, data, vocab_size):\n",
    "    _, data_fake, _, _ = G(data[:, :1], G.initial_state(batch_size = data.shape[0]), data.shape[1] - 1)\n",
    "    data_fake = data_fake.view(data.shape[0], -1)\n",
    "    data_fake = torch.cat([data[:, :1], data_fake], dim = 1)\n",
    "    word_means = torch.stack([torch.mean((data == i).type(torch.FloatTensor), dim = 0) for i in range(vocab_size)])\n",
    "    word_means_fake = torch.stack([torch.mean((data_fake == i).type(torch.FloatTensor), dim = 0) for i in range(vocab_size)])\n",
    "    \n",
    "    scores = torch.sqrt(torch.sum((word_means - word_means_fake) ** 2, dim = 1))\n",
    "    \n",
    "    return scores # for each word; the lower the better\n",
    "\n",
    "#print(data[:50, :])\n",
    "scores = eval_generator(G, data[:500, :], n_vars)\n",
    "print(scores)\n",
    "print(scores / torch.tensor(var_weights)) # adjusted to the words' frequencies\n"
   ]
  },
  {
   "cell_type": "code",
   "execution_count": 11,
   "metadata": {},
   "outputs": [
    {
     "name": "stdout",
     "output_type": "stream",
     "text": [
      "OrderedDict([('embeddings.0.weight', tensor([[ 0.2277, -2.2369],\n",
      "        [-1.3452, -1.0360],\n",
      "        [ 1.4805,  0.5691]])), ('embeddings.1.weight', tensor([[-1.2570,  0.9391],\n",
      "        [-0.6913,  0.1082],\n",
      "        [ 1.1542, -0.8614]])), ('convolutions.0.weight', tensor([[[[-0.4456,  0.4139],\n",
      "          [-0.1022, -0.2079]]],\n",
      "\n",
      "\n",
      "        [[[ 0.0174,  0.0905],\n",
      "          [-0.4837, -0.4527]]],\n",
      "\n",
      "\n",
      "        [[[-0.0470, -0.4496],\n",
      "          [ 0.4095,  0.2535]]],\n",
      "\n",
      "\n",
      "        [[[-0.3615, -0.2178],\n",
      "          [-0.0328, -0.1239]]],\n",
      "\n",
      "\n",
      "        [[[-0.1691, -0.3101],\n",
      "          [ 0.4163,  0.4735]]]])), ('convolutions.0.bias', tensor([ 0.1492, -0.3180,  0.3587, -0.2185,  0.1658])), ('convolutions.1.weight', tensor([[[[-0.1247,  0.0612],\n",
      "          [ 0.1841,  0.3267],\n",
      "          [-0.3748,  0.3556]]],\n",
      "\n",
      "\n",
      "        [[[ 0.2934,  0.2664],\n",
      "          [-0.1473,  0.1288],\n",
      "          [-0.3827, -0.2567]]],\n",
      "\n",
      "\n",
      "        [[[ 0.0437,  0.1332],\n",
      "          [ 0.1483, -0.2806],\n",
      "          [-0.0429,  0.2511]]],\n",
      "\n",
      "\n",
      "        [[[ 0.0227,  0.1191],\n",
      "          [ 0.2936, -0.2734],\n",
      "          [ 0.0100, -0.1552]]],\n",
      "\n",
      "\n",
      "        [[[-0.2548,  0.3136],\n",
      "          [-0.2768, -0.0086],\n",
      "          [-0.1147, -0.3122]]]])), ('convolutions.1.bias', tensor([ 0.1194,  0.0352, -0.3450, -0.0525, -0.3252])), ('hidden1.weight', tensor([[ 9.0159e-02,  7.9307e-02, -9.7299e-02, -1.8837e-01,  1.4264e-01,\n",
      "         -1.2140e-01, -5.3354e-02,  6.3778e-02,  2.9430e-01, -2.0852e-01],\n",
      "        [ 6.5168e-02,  1.9593e-01, -2.9889e-02,  7.3597e-02, -2.5374e-01,\n",
      "         -3.5401e-02, -2.2334e-01,  1.4569e-01,  2.5037e-01, -2.6995e-01],\n",
      "        [ 1.2099e-02, -2.3713e-01,  2.1959e-01,  4.4234e-02, -2.9770e-01,\n",
      "         -2.3359e-01, -2.1295e-01,  2.6973e-03, -4.6509e-02,  4.9584e-02],\n",
      "        [ 2.9210e-01, -1.5314e-01,  2.3985e-01,  9.1576e-02, -1.4663e-01,\n",
      "          1.2155e-01,  2.8476e-01,  2.8400e-01, -1.4482e-01, -1.9135e-01],\n",
      "        [-7.3336e-03, -2.3529e-01, -1.5741e-01,  1.6639e-01, -1.8711e-01,\n",
      "         -2.0515e-01, -2.5203e-01,  4.0965e-02, -2.6427e-01,  4.0138e-02],\n",
      "        [-2.7213e-01, -4.1283e-02, -3.0728e-01, -3.8576e-02,  2.4515e-01,\n",
      "          2.1505e-04,  8.0246e-02, -1.8443e-01,  1.5701e-01,  2.6280e-01]])), ('hidden1.bias', tensor([ 0.1387,  0.3120, -0.1917, -0.1398, -0.0742, -0.0982])), ('hidden2.weight', tensor([[-0.1170,  0.2657, -0.2533,  0.0195, -0.2122,  0.2676],\n",
      "        [-0.0805, -0.0178, -0.2236,  0.1427,  0.3294,  0.3408],\n",
      "        [-0.1905,  0.0238, -0.3664,  0.2424, -0.1773,  0.3748]])), ('hidden2.bias', tensor([ 0.1519, -0.0300, -0.3982])), ('output_layer.weight', tensor([[ 0.0540, -0.2200,  0.2164]])), ('output_layer.bias', tensor([-0.5212]))])\n",
      "tensor([[[1., 0., 0.],\n",
      "         [0., 0., 1.],\n",
      "         [1., 0., 0.],\n",
      "         [0., 1., 0.],\n",
      "         [0., 1., 0.],\n",
      "         [0., 1., 0.]]], grad_fn=<CatBackward>)\n",
      "tensor([[0.3738, 0.3731]], grad_fn=<SqueezeBackward1>)\n"
     ]
    }
   ],
   "source": [
    "# Test Discriminator output\n",
    "\n",
    "n_embeddings = 2\n",
    "vocab_size = n_vars\n",
    "embed_size = 2\n",
    "sequence_length = n_time_steps\n",
    "out_channels = 5 \n",
    "filter_sizes = [2, 3] # values can be at most the sequence_length\n",
    "\n",
    "D = RelGANDiscriminator(n_embeddings, vocab_size, embed_size, sequence_length, out_channels, filter_sizes)\n",
    "\n",
    "inp = logits\n",
    "print(inp)\n",
    "print(D(inp))"
   ]
  },
  {
   "cell_type": "code",
   "execution_count": null,
   "metadata": {},
   "outputs": [],
   "source": []
  }
 ],
 "metadata": {
  "kernelspec": {
   "display_name": "Python 3",
   "language": "python",
   "name": "python3"
  },
  "language_info": {
   "codemirror_mode": {
    "name": "ipython",
    "version": 3
   },
   "file_extension": ".py",
   "mimetype": "text/x-python",
   "name": "python",
   "nbconvert_exporter": "python",
   "pygments_lexer": "ipython3",
   "version": "3.7.3"
  }
 },
 "nbformat": 4,
 "nbformat_minor": 2
}
