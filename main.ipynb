{
 "cells": [
  {
   "cell_type": "code",
   "execution_count": 15,
   "metadata": {},
   "outputs": [
    {
     "name": "stdout",
     "output_type": "stream",
     "text": [
      "Device: cuda:0\n"
     ]
    }
   ],
   "source": [
    "# Imports\n",
    "import torch\n",
    "import torch.nn as nn\n",
    "import torch.nn.functional as F\n",
    "from torch.autograd import Variable\n",
    "import numpy as np\n",
    "import pandas as pd\n",
    "from sklearn.model_selection import train_test_split\n",
    "import time\n",
    "from math import log10, floor\n",
    "import os\n",
    "import glob\n",
    "import matplotlib.pyplot as plt\n",
    "import datetime\n",
    "from math import ceil, isnan\n",
    "import sys\n",
    "try:\n",
    "    import torchtext\n",
    "    from torchtext.data import Field, Iterator, Dataset, Example\n",
    "except ImportError: \n",
    "    !{'/opt/anaconda3/bin/python3'} -m pip install --upgrade git+https://github.com/pytorch/text\n",
    "    import torchtext\n",
    "    from torchtext.data import Field, Iterator, Dataset\n",
    "\n",
    "from relational_rnn_models import RelationalMemoryGenerator\n",
    "from discriminator import RelGANDiscriminator\n",
    "\n",
    "cuda = torch.cuda.is_available()\n",
    "\n",
    "# Try setting the device to a GPU\n",
    "device = torch.device(\"cuda:0\" if cuda else \"cpu\")\n",
    "print('Device:', device)\n",
    "\n",
    "Tensor = torch.cuda.FloatTensor if cuda else torch.FloatTensor"
   ]
  },
  {
   "cell_type": "code",
   "execution_count": 3,
   "metadata": {},
   "outputs": [],
   "source": [
    "# Helper function(s)\n",
    "\n",
    "# round a number to n significant digits\n",
    "def round_to_n(x, n = 2):\n",
    "    return round(x, -int(floor(log10(abs(x)))) + (n - 1)) if x != 0 else 0\n",
    "\n",
    "# Transform a date string into a datetime object\n",
    "def str_to_datetime(string):\n",
    "    return datetime.datetime.strptime(string, '%Y-%m-%d %H:%M:%S')\n",
    "\n",
    "# TODO: more complex reduction: takes into account different ICD groups?\n",
    "def reduce_icd(icd_full):\n",
    "    return icd_full[:2]\n",
    "\n",
    "def get_distribution(data, vocab_size):\n",
    "    counts = torch.zeros(vocab_size)\n",
    "\n",
    "    for i in range(vocab_size):\n",
    "        counts[i] = torch.sum(data == i)\n",
    "\n",
    "    freqs = counts / torch.sum(counts)\n",
    "    \n",
    "    return counts, freqs\n",
    "    "
   ]
  },
  {
   "cell_type": "code",
   "execution_count": 4,
   "metadata": {},
   "outputs": [],
   "source": [
    "icd_codes = pd.read_csv('D_ICD_DIAGNOSES.csv.gz', compression='gzip', index_col='ROW_ID')\n",
    "\n",
    "date_time_events = pd.read_csv('DATETIMEEVENTS.csv.gz', compression='gzip', usecols=['SUBJECT_ID', 'HADM_ID', 'CHARTTIME'])\n",
    "\n",
    "diagnoses = pd.read_csv('DIAGNOSES_ICD.csv.gz', compression='gzip', usecols=['SUBJECT_ID', 'HADM_ID', 'SEQ_NUM', 'ICD9_CODE'])\n",
    "\n",
    "date_time_events['CHARTTIME'] = date_time_events['CHARTTIME'].map(str_to_datetime)"
   ]
  },
  {
   "cell_type": "code",
   "execution_count": 62,
   "metadata": {},
   "outputs": [],
   "source": [
    "filtered_diagnoses = diagnoses[diagnoses['SEQ_NUM'] == 1.0].drop('SEQ_NUM', axis=1)\n",
    "\n",
    "filtered_diagnoses['ICD9_CODE'] = filtered_diagnoses['ICD9_CODE'].map(reduce_icd)\n",
    "\n",
    "#print(filtered_diagnoses.head())\n",
    "\n",
    "def apply_func(x):\n",
    "    return x.loc[x['CHARTTIME'].idxmin()]\n",
    "\n",
    "processed_events = date_time_events.groupby('HADM_ID').apply(apply_func).reset_index(drop=True)\n",
    "#print(processed_events.head())"
   ]
  },
  {
   "cell_type": "code",
   "execution_count": 63,
   "metadata": {},
   "outputs": [],
   "source": [
    "merged = pd.merge(filtered_diagnoses, processed_events)\n",
    "#merged.isnull().any() # All False\n",
    "\n",
    "def filter_func(x):\n",
    "    return len(x) > 1\n",
    "\n",
    "final_events = merged.groupby('SUBJECT_ID').filter(filter_func)#.reset_index(drop=True)\n",
    "#final_events.head()"
   ]
  },
  {
   "cell_type": "code",
   "execution_count": 7,
   "metadata": {},
   "outputs": [
    {
     "name": "stdout",
     "output_type": "stream",
     "text": [
      "count    4337.000000\n",
      "mean      468.675121\n",
      "std       570.848641\n",
      "min         0.000000\n",
      "25%        52.000000\n",
      "50%       217.000000\n",
      "75%       689.000000\n",
      "max      2991.000000\n",
      "dtype: float64\n",
      "count    4337.000000\n",
      "mean        2.620936\n",
      "std         1.476196\n",
      "min         2.000000\n",
      "25%         2.000000\n",
      "50%         2.000000\n",
      "75%         3.000000\n",
      "max        33.000000\n",
      "dtype: float64\n"
     ]
    }
   ],
   "source": [
    "print(final_events.groupby('SUBJECT_ID').apply(lambda x: (x['CHARTTIME'].max() - x['CHARTTIME'].min()).days).describe())\n",
    "print(final_events.groupby('SUBJECT_ID').apply(lambda x: len(x)).describe())"
   ]
  },
  {
   "cell_type": "code",
   "execution_count": 8,
   "metadata": {},
   "outputs": [],
   "source": [
    "sequence_length = final_events.groupby('SUBJECT_ID').apply(lambda x: len(x)).max()\n",
    "\n",
    "def get_sequence_of_codes(subject):\n",
    "    #codes = ['None' for _ in range(sequence_length)]\n",
    "    codes = []\n",
    "    \n",
    "    for enum, i in enumerate(subject.sort_values('CHARTTIME').index):\n",
    "        #codes[enum] = subject.loc[i, 'ICD9_CODE']\n",
    "        codes.append(subject.loc[i, 'ICD9_CODE'])\n",
    "        \n",
    "    #res = pd.Series(codes)\n",
    "    res = ' '.join(codes)\n",
    "    return res\n",
    "\n",
    "def get_sequence_of_time_differences(subject):\n",
    "    #times = [0 for _ in range(sequence_length)]\n",
    "    times = []\n",
    "    \n",
    "    day0 = subject['CHARTTIME'].min()\n",
    "    \n",
    "    for enum, i in enumerate(subject.sort_values('CHARTTIME').index):\n",
    "        #times[enum] = (subject.loc[i, 'CHARTTIME'] - day0).days\n",
    "        times.append((subject.loc[i, 'CHARTTIME'] - day0).days)\n",
    "        \n",
    "    #res = pd.Series(times)\n",
    "    res = times\n",
    "    return res\n",
    "    "
   ]
  },
  {
   "cell_type": "code",
   "execution_count": 61,
   "metadata": {},
   "outputs": [
    {
     "name": "stdout",
     "output_type": "stream",
     "text": [
      "(4337,)\n",
      "(4337,)\n"
     ]
    }
   ],
   "source": [
    "sequences_of_codes = final_events.groupby('SUBJECT_ID').apply(get_sequence_of_codes)\n",
    "#print(sequences_of_codes.head())\n",
    "print(sequences_of_codes.shape)\n",
    "\n",
    "sequences_of_times = final_events.groupby('SUBJECT_ID').apply(get_sequence_of_time_differences)\n",
    "#print(sequences_of_times.head())\n",
    "print(sequences_of_times.shape)"
   ]
  },
  {
   "cell_type": "code",
   "execution_count": 60,
   "metadata": {},
   "outputs": [
    {
     "name": "stdout",
     "output_type": "stream",
     "text": [
      "(4337, 2)\n"
     ]
    }
   ],
   "source": [
    "#sequences = pd.DataFrame({'ICD9_CODE': sequences_of_codes.stack(), 'TIME_FROM_PREVIOUS': sequences_of_times.stack()})\n",
    "sequences = pd.DataFrame({'ICD9_CODE': sequences_of_codes, 'TIME_FROM_PREVIOUS': sequences_of_times})\n",
    "print(sequences.shape)\n",
    "#sequences.head()\n"
   ]
  },
  {
   "cell_type": "code",
   "execution_count": 28,
   "metadata": {},
   "outputs": [],
   "source": [
    "# https://stackoverflow.com/questions/52602071/dataframe-as-datasource-in-torchtext\n",
    "\n",
    "class DataFrameDataset(Dataset):\n",
    "    \"\"\"Class for using pandas DataFrames as a datasource\"\"\"\n",
    "    def __init__(self, examples, fields, filter_pred=None):\n",
    "        \"\"\"\n",
    "        Create a dataset from a pandas dataframe of examples and Fields\n",
    "        Arguments:\n",
    "            examples pd.DataFrame: DataFrame of examples\n",
    "            fields {str: Field}: The Fields to use in this tuple. The\n",
    "                string is a field name, and the Field is the associated field.\n",
    "            filter_pred (callable or None): use only exanples for which\n",
    "                filter_pred(example) is true, or use all examples if None.\n",
    "                Default is None\n",
    "        \"\"\"\n",
    "        self.fields = dict(fields)\n",
    "        self.examples = examples.apply(SeriesExample.fromSeries, args=(self.fields,), axis=1).tolist()\n",
    "        if filter_pred is not None:\n",
    "            self.examples = filter(filter_pred, self.examples)\n",
    "        # Unpack field tuples\n",
    "        for n, f in list(self.fields.items()):\n",
    "            if isinstance(n, tuple):\n",
    "                self.fields.update(zip(n, f))\n",
    "                del self.fields[n]\n",
    "\n",
    "class SeriesExample(Example):\n",
    "    \"\"\"Class to convert a pandas Series to an Example\"\"\"\n",
    "    \n",
    "    @classmethod\n",
    "    def fromSeries(cls, data, fields):\n",
    "        return cls.fromdict(data.to_dict(), fields)\n",
    "\n",
    "    @classmethod\n",
    "    def fromdict(cls, data, fields):\n",
    "        ex = cls()\n",
    "        for key, field in fields.items():\n",
    "            if key not in data:\n",
    "                raise ValueError(\"Specified key {} was not found in \"\n",
    "                \"the input data\".format(key))\n",
    "            if field is not None:\n",
    "                setattr(ex, key, field.preprocess(data[key]))\n",
    "            else:\n",
    "                setattr(ex, key, data[key])\n",
    "        return ex"
   ]
  },
  {
   "cell_type": "code",
   "execution_count": 29,
   "metadata": {},
   "outputs": [],
   "source": [
    "tokenize = lambda x: x.split(' ')\n",
    "\n",
    "ICD9_CODE = Field(fix_length = sequence_length, tokenize = tokenize)\n",
    "\n",
    "fields = [('ICD9_CODE', ICD9_CODE), ('TIME_FROM_PREVIOUS', None)]\n",
    "\n",
    "dataset = DataFrameDataset(sequences, fields)\n",
    "\n",
    "ICD9_CODE.build_vocab(dataset)\n",
    "#dataset.examples"
   ]
  },
  {
   "cell_type": "code",
   "execution_count": 59,
   "metadata": {},
   "outputs": [
    {
     "name": "stdout",
     "output_type": "stream",
     "text": [
      "31\n",
      "00\n",
      "96\n"
     ]
    }
   ],
   "source": [
    "print(ICD9_CODE.vocab.stoi['00'])\n",
    "print(ICD9_CODE.vocab.itos[31])\n",
    "vocab_size = len(ICD9_CODE.vocab.freqs)\n",
    "print(vocab_size)\n",
    "#ICD9_CODE.vocab.stoi"
   ]
  },
  {
   "cell_type": "code",
   "execution_count": 56,
   "metadata": {},
   "outputs": [
    {
     "data": {
      "text/plain": [
       "tensor([[ 3,  3,  1,  ...,  1,  1,  1],\n",
       "        [ 7,  7, 18,  ...,  1,  1,  1],\n",
       "        [ 2, 26, 31,  ...,  1,  1,  1],\n",
       "        ...,\n",
       "        [ 3,  7,  1,  ...,  1,  1,  1],\n",
       "        [ 2,  2, 32,  ...,  1,  1,  1],\n",
       "        [ 9,  5,  1,  ...,  1,  1,  1]])"
      ]
     },
     "execution_count": 56,
     "metadata": {},
     "output_type": "execute_result"
    }
   ],
   "source": [
    "batch_size = 64\n",
    "data_iter = Iterator(dataset, batch_size = batch_size)#, device = device)\n",
    "\n",
    "next(iter(data_iter)).ICD9_CODE.transpose(0, 1)"
   ]
  },
  {
   "cell_type": "code",
   "execution_count": 81,
   "metadata": {},
   "outputs": [
    {
     "name": "stdout",
     "output_type": "stream",
     "text": [
      "4337\n"
     ]
    }
   ],
   "source": [
    "subjects = pd.unique(final_events['SUBJECT_ID'])\n",
    "n_individuals = len(subjects)\n",
    "print(n_individuals)"
   ]
  },
  {
   "cell_type": "code",
   "execution_count": 49,
   "metadata": {},
   "outputs": [
    {
     "data": {
      "text/plain": [
       "\"\\nprint(sequence_length, sequence_length * len(subjects))\\n\\nflat_codes = sequences_of_codes.values.flatten()\\nflat_codes = flat_codes[flat_codes != 'None']\\n\\ncodes = np.concatenate([np.array(['None']), np.unique(flat_codes)])\\nprint(codes)\\n\\ncodes_size = len(codes)\\nprint(codes_size)\\n\\ncode_to_index = dict([(c, i) for i, c in enumerate(codes)])\\nindex_to_code = dict([(i, c) for i, c in enumerate(codes)])\\n\\nprint(index_to_code[12], type(index_to_code[12]))\\nprint(code_to_index['77'])\\nprint(code_to_index['None'] == 0)\""
      ]
     },
     "execution_count": 49,
     "metadata": {},
     "output_type": "execute_result"
    }
   ],
   "source": [
    "#divisor = 365 * 5\n",
    "#sequence_length = ceil((t1 - t0).days / divisor)\n",
    "'''\n",
    "print(sequence_length, sequence_length * len(subjects))\n",
    "\n",
    "flat_codes = sequences_of_codes.values.flatten()\n",
    "flat_codes = flat_codes[flat_codes != 'None']\n",
    "\n",
    "codes = np.concatenate([np.array(['None']), np.unique(flat_codes)])\n",
    "print(codes)\n",
    "\n",
    "codes_size = len(codes)\n",
    "print(codes_size)\n",
    "\n",
    "code_to_index = dict([(c, i) for i, c in enumerate(codes)])\n",
    "index_to_code = dict([(i, c) for i, c in enumerate(codes)])\n",
    "\n",
    "print(index_to_code[12], type(index_to_code[12]))\n",
    "print(code_to_index['77'])\n",
    "print(code_to_index['None'] == 0)'''"
   ]
  },
  {
   "cell_type": "code",
   "execution_count": 47,
   "metadata": {},
   "outputs": [
    {
     "data": {
      "text/plain": [
       "'\\ndata_seqs = torch.zeros(n_individuals, 2, sequence_length)\\n\\ndata_seqs[:, 0, :] = torch.from_numpy(sequences_of_codes.apply(lambda x: x.apply(lambda y: code_to_index[y])).values)\\ndata_seqs[:, 1, :] = torch.from_numpy(sequences_of_times.values)\\n\\ndata = data_seqs[:, 0, :]\\n\\nprint(data_seqs)\\nprint(data)'"
      ]
     },
     "execution_count": 47,
     "metadata": {},
     "output_type": "execute_result"
    }
   ],
   "source": [
    "# Transform the data into a reasonnable format\n",
    "'''\n",
    "data_seqs = torch.zeros(n_individuals, 2, sequence_length)\n",
    "\n",
    "data_seqs[:, 0, :] = torch.from_numpy(sequences_of_codes.apply(lambda x: x.apply(lambda y: code_to_index[y])).values)\n",
    "data_seqs[:, 1, :] = torch.from_numpy(sequences_of_times.values)\n",
    "\n",
    "data = data_seqs[:, 0, :]\n",
    "\n",
    "print(data_seqs)\n",
    "print(data)'''"
   ]
  },
  {
   "cell_type": "code",
   "execution_count": 48,
   "metadata": {},
   "outputs": [
    {
     "data": {
      "text/plain": [
       "'print(torch.sum(data != 0).type(torch.FloatTensor) / data.numel()) # Percentage of non-zero elements\\nprint(data[:3])\\n'"
      ]
     },
     "execution_count": 48,
     "metadata": {},
     "output_type": "execute_result"
    }
   ],
   "source": [
    "'''print(torch.sum(data != 0).type(torch.FloatTensor) / data.numel()) # Percentage of non-zero elements\n",
    "print(data[:3])\n",
    "'''"
   ]
  },
  {
   "cell_type": "code",
   "execution_count": 50,
   "metadata": {},
   "outputs": [
    {
     "data": {
      "text/plain": [
       "'\\ncounts, freqs = get_distribution(data, codes_size)\\n\\nprint(counts)\\nprint(freqs)'"
      ]
     },
     "execution_count": 50,
     "metadata": {},
     "output_type": "execute_result"
    }
   ],
   "source": [
    "# Find the distribution of the data\n",
    "'''\n",
    "counts, freqs = get_distribution(data, codes_size)\n",
    "\n",
    "print(counts)\n",
    "print(freqs)'''"
   ]
  },
  {
   "cell_type": "code",
   "execution_count": 57,
   "metadata": {},
   "outputs": [
    {
     "name": "stdout",
     "output_type": "stream",
     "text": [
      "tensor([[[1., 0., 0., 0.],\n",
      "         [0., 1., 0., 0.],\n",
      "         [0., 0., 1., 0.],\n",
      "         [0., 0., 0., 1.]]], device='cuda:0')\n",
      "tensor([[[1., 0., 0.,  ..., 0., 0., 0.],\n",
      "         [0., 0., 0.,  ..., 0., 0., 0.],\n",
      "         [0., 0., 0.,  ..., 0., 0., 0.],\n",
      "         ...,\n",
      "         [0., 0., 0.,  ..., 0., 0., 1.],\n",
      "         [0., 0., 0.,  ..., 0., 0., 0.],\n",
      "         [0., 0., 0.,  ..., 0., 0., 0.]]], device='cuda:0',\n",
      "       grad_fn=<CatBackward>)\n",
      "tensor([[ 0, 65,  5, 36,  8, 69,  5, 39, 45, 18, 27, 71, 80, 30, 88, 46,  1, 83,\n",
      "         39, 83, 90, 27, 42, 42, 29, 64, 72, 41, 79, 81, 95, 81, 74]],\n",
      "       device='cuda:0')\n",
      "tensor([[[-1.9889,  0.2935, -0.8093,  1.0253],\n",
      "         [-2.2006,  0.3083, -0.8785,  1.0235],\n",
      "         [-2.1808,  0.2980, -0.8788,  1.0242],\n",
      "         [-2.1454,  0.2995, -0.8676,  1.0240]]], device='cuda:0',\n",
      "       grad_fn=<AddBackward0>)\n"
     ]
    }
   ],
   "source": [
    "# Test generator output\n",
    "\n",
    "mem_slots = 4\n",
    "head_size = 2\n",
    "embed_size = 2\n",
    "temperature = 1\n",
    "num_heads = 2\n",
    "\n",
    "G = RelationalMemoryGenerator(mem_slots, head_size, embed_size, vocab_size, temperature, num_heads)\n",
    "\n",
    "start_token = torch.tensor([[0]])\n",
    "memory = G.initial_state(batch_size = 1)\n",
    "\n",
    "if cuda:\n",
    "    G.cuda()\n",
    "    start_token = start_token.cuda()\n",
    "    memory = memory.cuda()\n",
    "\n",
    "print(memory)\n",
    "logits, tokens, _, memory = G(start_token, memory, sequence_length, None)\n",
    "print(logits)\n",
    "print(tokens)\n",
    "print(memory)\n"
   ]
  },
  {
   "cell_type": "code",
   "execution_count": 95,
   "metadata": {},
   "outputs": [
    {
     "name": "stdout",
     "output_type": "stream",
     "text": [
      "tensor(3.3806)\n"
     ]
    }
   ],
   "source": [
    "# Define generator evaluation functions\n",
    "\n",
    "def chi_sqrd_dist(counts1, counts2):\n",
    "    counts1 = counts1.view(1, -1)\n",
    "    counts2 = counts2.view(1, -1)\n",
    "    table = torch.cat([counts1, counts2], dim = 0)\n",
    "    col_sums = torch.sum(table, dim = 0)\n",
    "    row_sums = torch.sum(table, dim = 1)\n",
    "    n = torch.sum(col_sums)\n",
    "    \n",
    "    table_freq = table / n\n",
    "    col_freqs = col_sums / n\n",
    "    row_freqs = row_sums / n\n",
    "    \n",
    "    diffs = table_freq[0, :] / row_freqs[0] - table_freq[1, :] / row_freqs[1]\n",
    "    diffs_sqrd = diffs ** 2\n",
    "    diffs_sqrd_norm = diffs_sqrd / col_freqs\n",
    "    \n",
    "    chi_sqrd_distance = torch.sum(diffs_sqrd_norm)\n",
    "    \n",
    "    return chi_sqrd_distance\n",
    "    \n",
    "def test_special_case(G, ICD9_CODE, start_tokens, vocab_size = vocab_size, sequence_length = sequence_length):\n",
    "    counts_real = ICD9_CODE.vocab.freqs\n",
    "    \n",
    "    memory = G.initial_state(batch_size = start_tokens.shape[0])\n",
    "\n",
    "    if cuda:\n",
    "        memory = memory.cuda()\n",
    "        start_tokens = start_tokens.cuda()\n",
    "    \n",
    "    _, data_fake, _, _ = G(start_tokens, memory, sequence_length)\n",
    "    \n",
    "    counts_fake, freqs_fake = get_distribution(data_fake, vocab_size)\n",
    "    \n",
    "    score = chi_sqrd_dist(counts_real, counts_fake)\n",
    "    return score\n",
    "\n",
    "score = test_special_case(G, ICD9_CODE, data[:50, :1])\n",
    "print(score)"
   ]
  },
  {
   "cell_type": "code",
   "execution_count": 96,
   "metadata": {},
   "outputs": [
    {
     "name": "stdout",
     "output_type": "stream",
     "text": [
      "tensor([[[1., 0., 0.,  ..., 0., 0., 0.],\n",
      "         [0., 0., 0.,  ..., 0., 0., 0.],\n",
      "         [0., 0., 0.,  ..., 0., 0., 0.],\n",
      "         ...,\n",
      "         [0., 0., 0.,  ..., 0., 0., 0.],\n",
      "         [0., 0., 0.,  ..., 0., 0., 0.],\n",
      "         [0., 0., 0.,  ..., 0., 0., 0.]]], device='cuda:0',\n",
      "       grad_fn=<CatBackward>)\n",
      "tensor([[0.3010, 0.3265]], device='cuda:0', grad_fn=<SqueezeBackward1>)\n",
      "tensor([0.3137], device='cuda:0', grad_fn=<MeanBackward2>)\n"
     ]
    }
   ],
   "source": [
    "# Test Discriminator output\n",
    "\n",
    "n_embeddings = 2\n",
    "embed_size = 2\n",
    "out_channels = 5 \n",
    "filter_sizes = [2, 3] # values can be at most the sequence_length\n",
    "\n",
    "D = RelGANDiscriminator(n_embeddings, vocab_size, embed_size, sequence_length, out_channels, filter_sizes)\n",
    "\n",
    "if cuda:\n",
    "    D.cuda()\n",
    "\n",
    "inp = logits\n",
    "print(inp)\n",
    "print(D(inp, False))\n",
    "print(D(inp))\n"
   ]
  },
  {
   "cell_type": "code",
   "execution_count": 203,
   "metadata": {},
   "outputs": [],
   "source": [
    "# Define the generator pre-train function\n",
    "\n",
    "# TODO: use some data or batch loader from torchtext\n",
    "def pretrain_generator(G, dataset, batch_size, vocab_size, n_epochs, lr, print_step = 10):\n",
    "    loss_function = nn.BCELoss()\n",
    "    optimizer = torch.optim.Adam(G.parameters(), lr=lr)\n",
    "    \n",
    "    sequence_length = train_data.shape[1]\n",
    "    n_individuals = train_data.shape[0]\n",
    "    \n",
    "    if cuda:\n",
    "        G.cuda()\n",
    "        loss_function.cuda()\n",
    "    \n",
    "    for e in range(n_epochs):\n",
    "        for batch_i in range(0, n_individuals, batch_size):\n",
    "            data = train_data[batch_i:batch_i + batch_size]\n",
    "            data_one_hot = F.one_hot(data, vocab_size).type(Tensor)\n",
    "            \n",
    "            start_token = data[:, :1]\n",
    "            optimizer.zero_grad()\n",
    "\n",
    "            memory = G.initial_state(batch_size = batch_size)\n",
    "\n",
    "            if cuda:\n",
    "                start_token = start_token.cuda()\n",
    "                memory = memory.cuda()\n",
    "\n",
    "            logits, _, _, _ = G(start_token, memory, sequence_length)\n",
    "\n",
    "            loss = loss_function(logits, data_one_hot)\n",
    "\n",
    "            loss.backward()\n",
    "            optimizer.step()\n",
    "        \n",
    "        if e % print_step == 0:\n",
    "            print(\n",
    "                \"[Epoch %d/%d] [G loss: %f]\"\n",
    "                % (e, n_epochs, loss.item())\n",
    "            )"
   ]
  },
  {
   "cell_type": "code",
   "execution_count": 204,
   "metadata": {},
   "outputs": [
    {
     "name": "stdout",
     "output_type": "stream",
     "text": [
      "tensor(3.4362)\n",
      "[Epoch 0/10] [G loss: 0.546688]\n",
      "[Epoch 2/10] [G loss: 0.540247]\n",
      "[Epoch 4/10] [G loss: 0.505934]\n",
      "[Epoch 6/10] [G loss: 0.441500]\n",
      "[Epoch 8/10] [G loss: 0.275778]\n",
      "tensor(0.3093)\n"
     ]
    }
   ],
   "source": [
    "mem_slots = 4\n",
    "head_size = 2\n",
    "embed_size = 2\n",
    "temperature = 1\n",
    "num_heads = 2\n",
    "\n",
    "G = RelationalMemoryGenerator(mem_slots, head_size, embed_size, vocab_size, temperature, num_heads)\n",
    "\n",
    "if cuda:\n",
    "    G.cuda()\n",
    "\n",
    "score = test_special_case(G, data, vocab_size, False)\n",
    "print(score)\n",
    "pretrain_generator(G, data, vocab_size, 10, 0.01, 2)\n",
    "score = test_special_case(G, data, vocab_size, False)\n",
    "print(score)"
   ]
  },
  {
   "cell_type": "code",
   "execution_count": 205,
   "metadata": {},
   "outputs": [],
   "source": [
    "# Define the training function\n",
    "\n",
    "# TODO: use some data or batch loader from torchtext\n",
    "def train(G, D, train_data, vocab_size, n_epochs, lr, temperature, print_step = 10, score_fn = test_special_case):    \n",
    "    scores = []\n",
    "    \n",
    "    score = test_special_case(G, data, vocab_size, False)\n",
    "    print('Score before training:', score)\n",
    "    scores.append(torch.tensor(score))\n",
    "    \n",
    "    print('pretraining generator...')\n",
    "    pretrain_generator(G, train_data, vocab_size, max(n_epochs // 10, 1), lr * 100, max(n_epochs // 10 - 1, 1))\n",
    "    print('pretraining complete')\n",
    "    \n",
    "    score = test_special_case(G, data, vocab_size, False)\n",
    "    print(\"[Score:\", score, \"]\")\n",
    "    scores.append(torch.tensor(score))\n",
    "    \n",
    "    adversarial_loss = torch.nn.BCELoss()\n",
    "    \n",
    "    optimizer_G = torch.optim.Adam(G.parameters(), lr=lr)\n",
    "    optimizer_D = torch.optim.Adam(D.parameters(), lr=lr)\n",
    "    \n",
    "    train_data_one_hot = F.one_hot(train_data, vocab_size).type(Tensor)\n",
    "\n",
    "    start_token = train_data[:, :1]\n",
    "    sequence_length = train_data.shape[1]\n",
    "    \n",
    "    if cuda:\n",
    "        G.cuda()\n",
    "        D.cuda()\n",
    "        adversarial_loss.cuda()\n",
    "        start_token = start_token.cuda()\n",
    "    \n",
    "    for e in range(n_epochs):\n",
    "        # Adversarial ground truths\n",
    "        valid = Variable(Tensor(train_data.shape[0], 1).fill_(1.0), requires_grad=False)\n",
    "        fake = Variable(Tensor(train_data.shape[0], 1).fill_(0.0), requires_grad=False)\n",
    "\n",
    "        optimizer_G.zero_grad()\n",
    "\n",
    "        # Generate a batch of images\n",
    "        memory = G.initial_state(batch_size = train_data.shape[0])\n",
    "        if cuda:\n",
    "            memory = memory.cuda()\n",
    "        temp = temperature ** ((e + 1) / n_epochs)\n",
    "        fake_one_hot, _, _, _ = G(start_token, memory, sequence_length, temp)\n",
    "\n",
    "        # Loss measures generator's ability to fool the discriminator\n",
    "        g_loss = adversarial_loss(D(fake_one_hot), valid)\n",
    "\n",
    "        g_loss.backward()\n",
    "        optimizer_G.step()\n",
    "        \n",
    "        optimizer_D.zero_grad()\n",
    "\n",
    "        # Measure discriminator's ability to classify real from generated samples\n",
    "        real_loss = adversarial_loss(D(train_data_one_hot), valid)\n",
    "        fake_loss = adversarial_loss(D(fake_one_hot.detach()), fake)\n",
    "        d_loss = (real_loss + fake_loss) / 2\n",
    "\n",
    "        d_loss.backward()\n",
    "        optimizer_D.step()\n",
    "\n",
    "        if e % print_step == 0:\n",
    "            print(\n",
    "                \"[Epoch %d/%d] [D loss: %f] [G loss: %f]\"\n",
    "                % (e, n_epochs, d_loss.item(), g_loss.item())\n",
    "            )\n",
    "            #print(\"[Frequencies:\", score_fn(G, train_data, vocab_size), \"]\")\n",
    "            score = test_special_case(G, data, vocab_size, False)\n",
    "            print(\"[Score:\", score, \"]\")\n",
    "            scores.append(torch.tensor(score))\n",
    "            \n",
    "    score = test_special_case(G, data, vocab_size, False)\n",
    "    print('Score after training:', score)\n",
    "    scores.append(torch.tensor(score))\n",
    "            \n",
    "    #return scores\n",
    "    return torch.stack(scores)\n"
   ]
  },
  {
   "cell_type": "code",
   "execution_count": 207,
   "metadata": {},
   "outputs": [
    {
     "ename": "RuntimeError",
     "evalue": "CUDA out of memory. Tried to allocate 20.00 MiB (GPU 0; 11.17 GiB total capacity; 10.76 GiB already allocated; 11.56 MiB free; 107.37 MiB cached)",
     "output_type": "error",
     "traceback": [
      "\u001b[0;31m---------------------------------------------------------------------------\u001b[0m",
      "\u001b[0;31mRuntimeError\u001b[0m                              Traceback (most recent call last)",
      "\u001b[0;32m<ipython-input-207-a18a63fcb022>\u001b[0m in \u001b[0;36m<module>\u001b[0;34m\u001b[0m\n\u001b[1;32m     25\u001b[0m     \u001b[0mD\u001b[0m\u001b[0;34m.\u001b[0m\u001b[0mcuda\u001b[0m\u001b[0;34m(\u001b[0m\u001b[0;34m)\u001b[0m\u001b[0;34m\u001b[0m\u001b[0m\n\u001b[1;32m     26\u001b[0m \u001b[0;34m\u001b[0m\u001b[0m\n\u001b[0;32m---> 27\u001b[0;31m \u001b[0mfreqs_fake\u001b[0m \u001b[0;34m=\u001b[0m \u001b[0mtest_special_case\u001b[0m\u001b[0;34m(\u001b[0m\u001b[0mG\u001b[0m\u001b[0;34m,\u001b[0m \u001b[0mdata\u001b[0m\u001b[0;34m,\u001b[0m \u001b[0mvocab_size\u001b[0m\u001b[0;34m)\u001b[0m\u001b[0;34m\u001b[0m\u001b[0m\n\u001b[0m\u001b[1;32m     28\u001b[0m \u001b[0mprint\u001b[0m\u001b[0;34m(\u001b[0m\u001b[0;34m'distribution before training:'\u001b[0m\u001b[0;34m,\u001b[0m \u001b[0mfreqs_fake\u001b[0m\u001b[0;34m)\u001b[0m\u001b[0;34m\u001b[0m\u001b[0m\n\u001b[1;32m     29\u001b[0m \u001b[0mprint\u001b[0m\u001b[0;34m(\u001b[0m\u001b[0;34m'benchmark distribution:'\u001b[0m\u001b[0;34m,\u001b[0m \u001b[0mfreqs\u001b[0m\u001b[0;34m)\u001b[0m\u001b[0;34m\u001b[0m\u001b[0m\n",
      "\u001b[0;32m<ipython-input-201-5c73cca9dc5a>\u001b[0m in \u001b[0;36mtest_special_case\u001b[0;34m(G, data, vocab_size, return_freq)\u001b[0m\n\u001b[1;32m     30\u001b[0m         \u001b[0mmemory\u001b[0m \u001b[0;34m=\u001b[0m \u001b[0mmemory\u001b[0m\u001b[0;34m.\u001b[0m\u001b[0mcuda\u001b[0m\u001b[0;34m(\u001b[0m\u001b[0;34m)\u001b[0m\u001b[0;34m\u001b[0m\u001b[0m\n\u001b[1;32m     31\u001b[0m \u001b[0;34m\u001b[0m\u001b[0m\n\u001b[0;32m---> 32\u001b[0;31m     \u001b[0m_\u001b[0m\u001b[0;34m,\u001b[0m \u001b[0mdata_fake\u001b[0m\u001b[0;34m,\u001b[0m \u001b[0m_\u001b[0m\u001b[0;34m,\u001b[0m \u001b[0m_\u001b[0m \u001b[0;34m=\u001b[0m \u001b[0mG\u001b[0m\u001b[0;34m(\u001b[0m\u001b[0mdata\u001b[0m\u001b[0;34m[\u001b[0m\u001b[0;34m:\u001b[0m\u001b[0;34m,\u001b[0m \u001b[0;34m:\u001b[0m\u001b[0;36m1\u001b[0m\u001b[0;34m]\u001b[0m\u001b[0;34m,\u001b[0m \u001b[0mmemory\u001b[0m\u001b[0;34m,\u001b[0m \u001b[0mdata\u001b[0m\u001b[0;34m.\u001b[0m\u001b[0mshape\u001b[0m\u001b[0;34m[\u001b[0m\u001b[0;36m1\u001b[0m\u001b[0;34m]\u001b[0m\u001b[0;34m)\u001b[0m\u001b[0;34m\u001b[0m\u001b[0m\n\u001b[0m\u001b[1;32m     33\u001b[0m \u001b[0;34m\u001b[0m\u001b[0m\n\u001b[1;32m     34\u001b[0m     \u001b[0mcounts_fake\u001b[0m\u001b[0;34m,\u001b[0m \u001b[0mfreqs_fake\u001b[0m \u001b[0;34m=\u001b[0m \u001b[0mget_distribution\u001b[0m\u001b[0;34m(\u001b[0m\u001b[0mdata_fake\u001b[0m\u001b[0;34m,\u001b[0m \u001b[0mvocab_size\u001b[0m\u001b[0;34m)\u001b[0m\u001b[0;34m\u001b[0m\u001b[0m\n",
      "\u001b[0;32m/opt/anaconda3/lib/python3.7/site-packages/torch/nn/modules/module.py\u001b[0m in \u001b[0;36m__call__\u001b[0;34m(self, *input, **kwargs)\u001b[0m\n\u001b[1;32m    491\u001b[0m             \u001b[0mresult\u001b[0m \u001b[0;34m=\u001b[0m \u001b[0mself\u001b[0m\u001b[0;34m.\u001b[0m\u001b[0m_slow_forward\u001b[0m\u001b[0;34m(\u001b[0m\u001b[0;34m*\u001b[0m\u001b[0minput\u001b[0m\u001b[0;34m,\u001b[0m \u001b[0;34m**\u001b[0m\u001b[0mkwargs\u001b[0m\u001b[0;34m)\u001b[0m\u001b[0;34m\u001b[0m\u001b[0m\n\u001b[1;32m    492\u001b[0m         \u001b[0;32melse\u001b[0m\u001b[0;34m:\u001b[0m\u001b[0;34m\u001b[0m\u001b[0m\n\u001b[0;32m--> 493\u001b[0;31m             \u001b[0mresult\u001b[0m \u001b[0;34m=\u001b[0m \u001b[0mself\u001b[0m\u001b[0;34m.\u001b[0m\u001b[0mforward\u001b[0m\u001b[0;34m(\u001b[0m\u001b[0;34m*\u001b[0m\u001b[0minput\u001b[0m\u001b[0;34m,\u001b[0m \u001b[0;34m**\u001b[0m\u001b[0mkwargs\u001b[0m\u001b[0;34m)\u001b[0m\u001b[0;34m\u001b[0m\u001b[0m\n\u001b[0m\u001b[1;32m    494\u001b[0m         \u001b[0;32mfor\u001b[0m \u001b[0mhook\u001b[0m \u001b[0;32min\u001b[0m \u001b[0mself\u001b[0m\u001b[0;34m.\u001b[0m\u001b[0m_forward_hooks\u001b[0m\u001b[0;34m.\u001b[0m\u001b[0mvalues\u001b[0m\u001b[0;34m(\u001b[0m\u001b[0;34m)\u001b[0m\u001b[0;34m:\u001b[0m\u001b[0;34m\u001b[0m\u001b[0m\n\u001b[1;32m    495\u001b[0m             \u001b[0mhook_result\u001b[0m \u001b[0;34m=\u001b[0m \u001b[0mhook\u001b[0m\u001b[0;34m(\u001b[0m\u001b[0mself\u001b[0m\u001b[0;34m,\u001b[0m \u001b[0minput\u001b[0m\u001b[0;34m,\u001b[0m \u001b[0mresult\u001b[0m\u001b[0;34m)\u001b[0m\u001b[0;34m\u001b[0m\u001b[0m\n",
      "\u001b[0;32m~/FinnGAN/relational_rnn_models.py\u001b[0m in \u001b[0;36mforward\u001b[0;34m(self, start_token, memory, sequence_length, temperature, targets, require_logits)\u001b[0m\n\u001b[1;32m    423\u001b[0m \u001b[0;34m\u001b[0m\u001b[0m\n\u001b[1;32m    424\u001b[0m         \u001b[0;32mfor\u001b[0m \u001b[0midx_step\u001b[0m \u001b[0;32min\u001b[0m \u001b[0mrange\u001b[0m\u001b[0;34m(\u001b[0m\u001b[0msequence_length\u001b[0m \u001b[0;34m-\u001b[0m \u001b[0;36m1\u001b[0m\u001b[0;34m)\u001b[0m\u001b[0;34m:\u001b[0m\u001b[0;34m\u001b[0m\u001b[0m\n\u001b[0;32m--> 425\u001b[0;31m             \u001b[0mlogit\u001b[0m\u001b[0;34m,\u001b[0m \u001b[0mtoken\u001b[0m\u001b[0;34m,\u001b[0m \u001b[0mmemory\u001b[0m \u001b[0;34m=\u001b[0m \u001b[0mself\u001b[0m\u001b[0;34m.\u001b[0m\u001b[0mforward_step\u001b[0m\u001b[0;34m(\u001b[0m\u001b[0mtoken\u001b[0m\u001b[0;34m,\u001b[0m \u001b[0mmemory\u001b[0m\u001b[0;34m,\u001b[0m \u001b[0mtemperature\u001b[0m\u001b[0;34m)\u001b[0m\u001b[0;34m\u001b[0m\u001b[0m\n\u001b[0m\u001b[1;32m    426\u001b[0m             \u001b[0mlogits\u001b[0m\u001b[0;34m.\u001b[0m\u001b[0mappend\u001b[0m\u001b[0;34m(\u001b[0m\u001b[0mlogit\u001b[0m\u001b[0;34m.\u001b[0m\u001b[0mview\u001b[0m\u001b[0;34m(\u001b[0m\u001b[0mbatch_size\u001b[0m\u001b[0;34m,\u001b[0m \u001b[0;36m1\u001b[0m\u001b[0;34m,\u001b[0m \u001b[0;34m-\u001b[0m\u001b[0;36m1\u001b[0m\u001b[0;34m)\u001b[0m\u001b[0;34m)\u001b[0m\u001b[0;34m\u001b[0m\u001b[0m\n\u001b[1;32m    427\u001b[0m             \u001b[0mtokens\u001b[0m\u001b[0;34m.\u001b[0m\u001b[0mappend\u001b[0m\u001b[0;34m(\u001b[0m\u001b[0mtoken\u001b[0m\u001b[0;34m.\u001b[0m\u001b[0mview\u001b[0m\u001b[0;34m(\u001b[0m\u001b[0mbatch_size\u001b[0m\u001b[0;34m,\u001b[0m \u001b[0;36m1\u001b[0m\u001b[0;34m)\u001b[0m\u001b[0;34m)\u001b[0m\u001b[0;34m\u001b[0m\u001b[0m\n",
      "\u001b[0;32m~/FinnGAN/relational_rnn_models.py\u001b[0m in \u001b[0;36mforward_step\u001b[0;34m(self, token, memory, temperature, treat_input_as_matrix)\u001b[0m\n\u001b[1;32m    367\u001b[0m \u001b[0;34m\u001b[0m\u001b[0m\n\u001b[1;32m    368\u001b[0m         \u001b[0mmemory_plus_input\u001b[0m \u001b[0;34m=\u001b[0m \u001b[0mtorch\u001b[0m\u001b[0;34m.\u001b[0m\u001b[0mcat\u001b[0m\u001b[0;34m(\u001b[0m\u001b[0;34m[\u001b[0m\u001b[0mmemory\u001b[0m\u001b[0;34m,\u001b[0m \u001b[0minputs\u001b[0m\u001b[0;34m]\u001b[0m\u001b[0;34m,\u001b[0m \u001b[0mdim\u001b[0m\u001b[0;34m=\u001b[0m\u001b[0;36m1\u001b[0m\u001b[0;34m)\u001b[0m\u001b[0;34m\u001b[0m\u001b[0m\n\u001b[0;32m--> 369\u001b[0;31m         \u001b[0mnext_memory\u001b[0m \u001b[0;34m=\u001b[0m \u001b[0mself\u001b[0m\u001b[0;34m.\u001b[0m\u001b[0mattend_over_memory\u001b[0m\u001b[0;34m(\u001b[0m\u001b[0mmemory_plus_input\u001b[0m\u001b[0;34m)\u001b[0m\u001b[0;34m\u001b[0m\u001b[0m\n\u001b[0m\u001b[1;32m    370\u001b[0m \u001b[0;34m\u001b[0m\u001b[0m\n\u001b[1;32m    371\u001b[0m         \u001b[0;31m# cut out the concatenated input vectors from the original memory slots\u001b[0m\u001b[0;34m\u001b[0m\u001b[0;34m\u001b[0m\u001b[0m\n",
      "\u001b[0;32m~/FinnGAN/relational_rnn_models.py\u001b[0m in \u001b[0;36mattend_over_memory\u001b[0;34m(self, memory)\u001b[0m\n\u001b[1;32m    291\u001b[0m         \"\"\"\n\u001b[1;32m    292\u001b[0m         \u001b[0;32mfor\u001b[0m \u001b[0m_\u001b[0m \u001b[0;32min\u001b[0m \u001b[0mrange\u001b[0m\u001b[0;34m(\u001b[0m\u001b[0mself\u001b[0m\u001b[0;34m.\u001b[0m\u001b[0mnum_blocks\u001b[0m\u001b[0;34m)\u001b[0m\u001b[0;34m:\u001b[0m\u001b[0;34m\u001b[0m\u001b[0m\n\u001b[0;32m--> 293\u001b[0;31m             \u001b[0mattended_memory\u001b[0m \u001b[0;34m=\u001b[0m \u001b[0mself\u001b[0m\u001b[0;34m.\u001b[0m\u001b[0mmultihead_attention\u001b[0m\u001b[0;34m(\u001b[0m\u001b[0mmemory\u001b[0m\u001b[0;34m)\u001b[0m\u001b[0;34m\u001b[0m\u001b[0m\n\u001b[0m\u001b[1;32m    294\u001b[0m \u001b[0;34m\u001b[0m\u001b[0m\n\u001b[1;32m    295\u001b[0m             \u001b[0;31m# Add a skip connection to the multiheaded attention's input.\u001b[0m\u001b[0;34m\u001b[0m\u001b[0;34m\u001b[0m\u001b[0m\n",
      "\u001b[0;32m~/FinnGAN/relational_rnn_models.py\u001b[0m in \u001b[0;36mmultihead_attention\u001b[0;34m(self, memory)\u001b[0m\n\u001b[1;32m    179\u001b[0m \u001b[0;34m\u001b[0m\u001b[0m\n\u001b[1;32m    180\u001b[0m         \u001b[0;31m# First, a simple linear projection is used to construct queries\u001b[0m\u001b[0;34m\u001b[0m\u001b[0;34m\u001b[0m\u001b[0m\n\u001b[0;32m--> 181\u001b[0;31m         \u001b[0mqkv\u001b[0m \u001b[0;34m=\u001b[0m \u001b[0mself\u001b[0m\u001b[0;34m.\u001b[0m\u001b[0mqkv_projector\u001b[0m\u001b[0;34m(\u001b[0m\u001b[0mmemory\u001b[0m\u001b[0;34m)\u001b[0m\u001b[0;34m\u001b[0m\u001b[0m\n\u001b[0m\u001b[1;32m    182\u001b[0m         \u001b[0;31m# apply layernorm for every dim except the batch dim\u001b[0m\u001b[0;34m\u001b[0m\u001b[0;34m\u001b[0m\u001b[0m\n\u001b[1;32m    183\u001b[0m         \u001b[0mqkv\u001b[0m \u001b[0;34m=\u001b[0m \u001b[0mself\u001b[0m\u001b[0;34m.\u001b[0m\u001b[0mqkv_layernorm\u001b[0m\u001b[0;34m(\u001b[0m\u001b[0mqkv\u001b[0m\u001b[0;34m)\u001b[0m\u001b[0;34m\u001b[0m\u001b[0m\n",
      "\u001b[0;32m/opt/anaconda3/lib/python3.7/site-packages/torch/nn/modules/module.py\u001b[0m in \u001b[0;36m__call__\u001b[0;34m(self, *input, **kwargs)\u001b[0m\n\u001b[1;32m    491\u001b[0m             \u001b[0mresult\u001b[0m \u001b[0;34m=\u001b[0m \u001b[0mself\u001b[0m\u001b[0;34m.\u001b[0m\u001b[0m_slow_forward\u001b[0m\u001b[0;34m(\u001b[0m\u001b[0;34m*\u001b[0m\u001b[0minput\u001b[0m\u001b[0;34m,\u001b[0m \u001b[0;34m**\u001b[0m\u001b[0mkwargs\u001b[0m\u001b[0;34m)\u001b[0m\u001b[0;34m\u001b[0m\u001b[0m\n\u001b[1;32m    492\u001b[0m         \u001b[0;32melse\u001b[0m\u001b[0;34m:\u001b[0m\u001b[0;34m\u001b[0m\u001b[0m\n\u001b[0;32m--> 493\u001b[0;31m             \u001b[0mresult\u001b[0m \u001b[0;34m=\u001b[0m \u001b[0mself\u001b[0m\u001b[0;34m.\u001b[0m\u001b[0mforward\u001b[0m\u001b[0;34m(\u001b[0m\u001b[0;34m*\u001b[0m\u001b[0minput\u001b[0m\u001b[0;34m,\u001b[0m \u001b[0;34m**\u001b[0m\u001b[0mkwargs\u001b[0m\u001b[0;34m)\u001b[0m\u001b[0;34m\u001b[0m\u001b[0m\n\u001b[0m\u001b[1;32m    494\u001b[0m         \u001b[0;32mfor\u001b[0m \u001b[0mhook\u001b[0m \u001b[0;32min\u001b[0m \u001b[0mself\u001b[0m\u001b[0;34m.\u001b[0m\u001b[0m_forward_hooks\u001b[0m\u001b[0;34m.\u001b[0m\u001b[0mvalues\u001b[0m\u001b[0;34m(\u001b[0m\u001b[0;34m)\u001b[0m\u001b[0;34m:\u001b[0m\u001b[0;34m\u001b[0m\u001b[0m\n\u001b[1;32m    495\u001b[0m             \u001b[0mhook_result\u001b[0m \u001b[0;34m=\u001b[0m \u001b[0mhook\u001b[0m\u001b[0;34m(\u001b[0m\u001b[0mself\u001b[0m\u001b[0;34m,\u001b[0m \u001b[0minput\u001b[0m\u001b[0;34m,\u001b[0m \u001b[0mresult\u001b[0m\u001b[0;34m)\u001b[0m\u001b[0;34m\u001b[0m\u001b[0m\n",
      "\u001b[0;32m/opt/anaconda3/lib/python3.7/site-packages/torch/nn/modules/linear.py\u001b[0m in \u001b[0;36mforward\u001b[0;34m(self, input)\u001b[0m\n\u001b[1;32m     90\u001b[0m     \u001b[0;34m@\u001b[0m\u001b[0mweak_script_method\u001b[0m\u001b[0;34m\u001b[0m\u001b[0m\n\u001b[1;32m     91\u001b[0m     \u001b[0;32mdef\u001b[0m \u001b[0mforward\u001b[0m\u001b[0;34m(\u001b[0m\u001b[0mself\u001b[0m\u001b[0;34m,\u001b[0m \u001b[0minput\u001b[0m\u001b[0;34m)\u001b[0m\u001b[0;34m:\u001b[0m\u001b[0;34m\u001b[0m\u001b[0m\n\u001b[0;32m---> 92\u001b[0;31m         \u001b[0;32mreturn\u001b[0m \u001b[0mF\u001b[0m\u001b[0;34m.\u001b[0m\u001b[0mlinear\u001b[0m\u001b[0;34m(\u001b[0m\u001b[0minput\u001b[0m\u001b[0;34m,\u001b[0m \u001b[0mself\u001b[0m\u001b[0;34m.\u001b[0m\u001b[0mweight\u001b[0m\u001b[0;34m,\u001b[0m \u001b[0mself\u001b[0m\u001b[0;34m.\u001b[0m\u001b[0mbias\u001b[0m\u001b[0;34m)\u001b[0m\u001b[0;34m\u001b[0m\u001b[0m\n\u001b[0m\u001b[1;32m     93\u001b[0m \u001b[0;34m\u001b[0m\u001b[0m\n\u001b[1;32m     94\u001b[0m     \u001b[0;32mdef\u001b[0m \u001b[0mextra_repr\u001b[0m\u001b[0;34m(\u001b[0m\u001b[0mself\u001b[0m\u001b[0;34m)\u001b[0m\u001b[0;34m:\u001b[0m\u001b[0;34m\u001b[0m\u001b[0m\n",
      "\u001b[0;32m/opt/anaconda3/lib/python3.7/site-packages/torch/nn/functional.py\u001b[0m in \u001b[0;36mlinear\u001b[0;34m(input, weight, bias)\u001b[0m\n\u001b[1;32m   1406\u001b[0m         \u001b[0mret\u001b[0m \u001b[0;34m=\u001b[0m \u001b[0mtorch\u001b[0m\u001b[0;34m.\u001b[0m\u001b[0maddmm\u001b[0m\u001b[0;34m(\u001b[0m\u001b[0mbias\u001b[0m\u001b[0;34m,\u001b[0m \u001b[0minput\u001b[0m\u001b[0;34m,\u001b[0m \u001b[0mweight\u001b[0m\u001b[0;34m.\u001b[0m\u001b[0mt\u001b[0m\u001b[0;34m(\u001b[0m\u001b[0;34m)\u001b[0m\u001b[0;34m)\u001b[0m\u001b[0;34m\u001b[0m\u001b[0m\n\u001b[1;32m   1407\u001b[0m     \u001b[0;32melse\u001b[0m\u001b[0;34m:\u001b[0m\u001b[0;34m\u001b[0m\u001b[0m\n\u001b[0;32m-> 1408\u001b[0;31m         \u001b[0moutput\u001b[0m \u001b[0;34m=\u001b[0m \u001b[0minput\u001b[0m\u001b[0;34m.\u001b[0m\u001b[0mmatmul\u001b[0m\u001b[0;34m(\u001b[0m\u001b[0mweight\u001b[0m\u001b[0;34m.\u001b[0m\u001b[0mt\u001b[0m\u001b[0;34m(\u001b[0m\u001b[0;34m)\u001b[0m\u001b[0;34m)\u001b[0m\u001b[0;34m\u001b[0m\u001b[0m\n\u001b[0m\u001b[1;32m   1409\u001b[0m         \u001b[0;32mif\u001b[0m \u001b[0mbias\u001b[0m \u001b[0;32mis\u001b[0m \u001b[0;32mnot\u001b[0m \u001b[0;32mNone\u001b[0m\u001b[0;34m:\u001b[0m\u001b[0;34m\u001b[0m\u001b[0m\n\u001b[1;32m   1410\u001b[0m             \u001b[0moutput\u001b[0m \u001b[0;34m+=\u001b[0m \u001b[0mbias\u001b[0m\u001b[0;34m\u001b[0m\u001b[0m\n",
      "\u001b[0;31mRuntimeError\u001b[0m: CUDA out of memory. Tried to allocate 20.00 MiB (GPU 0; 11.17 GiB total capacity; 10.76 GiB already allocated; 11.56 MiB free; 107.37 MiB cached)"
     ]
    }
   ],
   "source": [
    "# Train the GAN\n",
    "\n",
    "start_time = time.time()\n",
    "\n",
    "# Generator params\n",
    "mem_slots = 1\n",
    "head_size = 6\n",
    "embed_size = 10\n",
    "temperature = 100\n",
    "num_heads = 10\n",
    "num_blocks = 6\n",
    "\n",
    "G = RelationalMemoryGenerator(mem_slots, head_size, embed_size, vocab_size, temperature, num_heads, num_blocks)\n",
    "\n",
    "# Discriminator params\n",
    "n_embeddings = 5\n",
    "embed_size = embed_size\n",
    "out_channels = 15\n",
    "filter_sizes = [2, 3, 4] # values can be at most the sequence_length\n",
    "\n",
    "D = RelGANDiscriminator(n_embeddings, vocab_size, embed_size, sequence_length, out_channels, filter_sizes)\n",
    "\n",
    "if cuda:\n",
    "    G.cuda()\n",
    "    D.cuda()\n",
    "\n",
    "freqs_fake = test_special_case(G, data, vocab_size)\n",
    "print('distribution before training:', freqs_fake)\n",
    "print('benchmark distribution:', freqs)\n",
    "\n",
    "# Train the GAN\n",
    "scores = train(G, D, data, vocab_size, 100, 0.0001, temperature, 10)\n",
    "\n",
    "freqs_fake = test_special_case(G, data, vocab_size)\n",
    "print('distributions after training:', freqs_fake)\n",
    "print('benchmark distribution:', freqs)\n",
    "\n",
    "print('time taken:', round_to_n(time.time() - start_time), 'seconds')\n"
   ]
  },
  {
   "cell_type": "code",
   "execution_count": 142,
   "metadata": {},
   "outputs": [
    {
     "data": {
      "image/png": "[encoded data removed]",
      "text/plain": [
       "<Figure size 432x288 with 1 Axes>"
      ]
     },
     "metadata": {
      "needs_background": "light"
     },
     "output_type": "display_data"
    }
   ],
   "source": [
    "%matplotlib inline\n",
    "\n",
    "plt.plot(range(scores.shape[0]), scores[:, 0].numpy())\n",
    "plt.plot(range(scores.shape[0]), scores[:, 1].numpy())\n",
    "plt.show()"
   ]
  },
  {
   "cell_type": "code",
   "execution_count": null,
   "metadata": {},
   "outputs": [],
   "source": []
  }
 ],
 "metadata": {
  "kernelspec": {
   "display_name": "Python 3",
   "language": "python",
   "name": "python3"
  },
  "language_info": {
   "codemirror_mode": {
    "name": "ipython",
    "version": 3
   },
   "file_extension": ".py",
   "mimetype": "text/x-python",
   "name": "python",
   "nbconvert_exporter": "python",
   "pygments_lexer": "ipython3",
   "version": "3.7.0"
  }
 },
 "nbformat": 4,
 "nbformat_minor": 2
}
