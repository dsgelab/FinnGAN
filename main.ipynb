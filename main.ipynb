{
 "cells": [
  {
   "cell_type": "code",
   "execution_count": 1,
   "metadata": {},
   "outputs": [],
   "source": [
    "# Imports\n",
    "import torch\n",
    "import torch.nn as nn\n",
    "import torch.nn.functional as F\n",
    "from torch.autograd import Variable\n",
    "import numpy as np\n",
    "from sklearn.model_selection import train_test_split\n",
    "import time\n",
    "from math import log10, floor\n",
    "import os\n",
    "\n",
    "from relational_rnn_models import RelationalMemoryGenerator\n",
    "from discriminator import RelGANDiscriminator"
   ]
  },
  {
   "cell_type": "code",
   "execution_count": 2,
   "metadata": {},
   "outputs": [],
   "source": [
    "# Define variables\n",
    "n_vars = 3\n",
    "var_ids = list(range(n_vars))\n",
    "var_names = ['var' + str(i) for i in var_ids]\n",
    "var_weights = [0.1, 0.6, 0.3] # variable distribution of mock data\n",
    "n_time_steps = 6\n",
    "n_individuals = 1000\n",
    "\n",
    "noise_length = 2"
   ]
  },
  {
   "cell_type": "code",
   "execution_count": 3,
   "metadata": {},
   "outputs": [],
   "source": [
    "# Helper function(s)\n",
    "\n",
    "# round a number to n significant digits\n",
    "def round_to_n(x, n = 2):\n",
    "    return round(x, -int(floor(log10(abs(x)))) + (n - 1)) if x != 0 else 0\n",
    "\n",
    "# visualize the output of the generator\n",
    "def visualize_output(generator, z, n = 2):\n",
    "    p = generator(z).view(n_time_steps, n_vars)\n",
    "    p.shape\n",
    "    for t in range(p.shape[0]):\n",
    "        tmp = []\n",
    "        for f in range(p.shape[1]):\n",
    "            tmp.append(round_to_n(p[t,f], n))\n",
    "        print(tmp)\n",
    "\n",
    "#y = data[:5, :]\n",
    "#print(y)\n",
    "#print(F.one_hot(y, n_vars))"
   ]
  },
  {
   "cell_type": "code",
   "execution_count": 4,
   "metadata": {},
   "outputs": [
    {
     "name": "stdout",
     "output_type": "stream",
     "text": [
      "time taken: 0.12 seconds\n",
      "['var1', 'var2', 'var2', 'var2', 'var1', 'var2']\n",
      "['var1', 'var2', 'var0', 'var2', 'var0', 'var0']\n",
      "['var1', 'var2', 'var0', 'var0', 'var1', 'var2']\n",
      "['var0', 'var1', 'var2', 'var0', 'var1', 'var1']\n",
      "['var2', 'var0', 'var1', 'var1', 'var1', 'var1']\n",
      "['var2', 'var0', 'var1', 'var1', 'var0', 'var0']\n",
      "['var1', 'var2', 'var0', 'var2', 'var0', 'var2']\n",
      "['var0', 'var2', 'var0', 'var0', 'var2', 'var2']\n",
      "['var1', 'var2', 'var0', 'var1', 'var0', 'var1']\n",
      "['var2', 'var0', 'var1', 'var0', 'var1', 'var2']\n"
     ]
    }
   ],
   "source": [
    "# Generate mock data\n",
    "\n",
    "events = []\n",
    "\n",
    "start_time = time.time()\n",
    "\n",
    "alternatve_weights = [0.7, 0.2, 0.1]\n",
    "\n",
    "for indv in range(n_individuals):\n",
    "    tmp = []\n",
    "    for t in range(n_time_steps):\n",
    "        if t > 0 and tmp[t - 1] == 'var2':\n",
    "            var = np.random.choice(var_names, p=alternatve_weights)\n",
    "        else:\n",
    "            var = np.random.choice(var_names, p=var_weights)\n",
    "        tmp.append(var)\n",
    "    events.append(tmp)\n",
    "        \n",
    "print('time taken:', round_to_n(time.time() - start_time), 'seconds')\n",
    "\n",
    "for i in range(10):\n",
    "    print(events[i])"
   ]
  },
  {
   "cell_type": "code",
   "execution_count": 5,
   "metadata": {},
   "outputs": [
    {
     "name": "stdout",
     "output_type": "stream",
     "text": [
      "{'var0': 0, 'var1': 1, 'var2': 2}\n",
      "tensor([[1, 2, 2, 2, 1, 2],\n",
      "        [1, 2, 0, 2, 0, 0],\n",
      "        [1, 2, 0, 0, 1, 2],\n",
      "        [0, 1, 2, 0, 1, 1],\n",
      "        [2, 0, 1, 1, 1, 1],\n",
      "        [2, 0, 1, 1, 0, 0],\n",
      "        [1, 2, 0, 2, 0, 2],\n",
      "        [0, 2, 0, 0, 2, 2],\n",
      "        [1, 2, 0, 1, 0, 1],\n",
      "        [2, 0, 1, 0, 1, 2]])\n"
     ]
    }
   ],
   "source": [
    "vars_to_indices = dict([(v, i) for i, v in enumerate(var_names)])\n",
    "print(vars_to_indices)\n",
    "data = torch.tensor([[vars_to_indices[e] for e in event] for event in events])\n",
    "print(data[:10])"
   ]
  },
  {
   "cell_type": "code",
   "execution_count": 6,
   "metadata": {},
   "outputs": [
    {
     "name": "stdout",
     "output_type": "stream",
     "text": [
      "tensor([[[1., 0., 0., 0.],\n",
      "         [0., 1., 0., 0.],\n",
      "         [0., 0., 1., 0.],\n",
      "         [0., 0., 0., 1.]]])\n",
      "tensor([[[1., 0., 0.],\n",
      "         [0., 0., 1.],\n",
      "         [0., 1., 0.],\n",
      "         [0., 1., 0.],\n",
      "         [0., 0., 1.],\n",
      "         [0., 0., 1.]]], grad_fn=<CatBackward>)\n",
      "tensor([[0, 2, 1, 1, 2, 2]])\n",
      "tensor([[[-0.5250,  0.2673, -0.5040,  1.1574],\n",
      "         [-1.1904,  0.4248, -0.5250,  1.1045],\n",
      "         [-1.1649,  0.2547, -0.2111,  0.9070],\n",
      "         [-1.1335,  0.2477, -0.4634,  1.3450]]], grad_fn=<AddBackward0>)\n"
     ]
    }
   ],
   "source": [
    "# Test generator output\n",
    "\n",
    "mem_slots = 4\n",
    "head_size = 2\n",
    "embed_size = 2\n",
    "num_tokens = n_vars\n",
    "temperature = 1\n",
    "num_heads = 2\n",
    "\n",
    "G = RelationalMemoryGenerator(mem_slots, head_size, embed_size, num_tokens, temperature, num_heads)\n",
    "\n",
    "start_token = torch.tensor([[0]])\n",
    "sequence_length = n_time_steps\n",
    "memory = G.initial_state(batch_size = 1)\n",
    "print(memory)\n",
    "logits, tokens, _, memory = G(start_token, memory, sequence_length, None)\n",
    "print(logits)\n",
    "print(tokens)\n",
    "print(memory)\n"
   ]
  },
  {
   "cell_type": "code",
   "execution_count": 7,
   "metadata": {},
   "outputs": [
    {
     "name": "stdout",
     "output_type": "stream",
     "text": [
      "tensor([0.5960, 0.6060, 0.0860])\n",
      "tensor([5.9600, 1.0100, 0.2867])\n",
      "tensor([0.3799, 0.1848, 0.1950])\n"
     ]
    }
   ],
   "source": [
    "# Define generator evaluation functions\n",
    "\n",
    "# TODO: make a test function which tests the actual word frequencies\n",
    "def eval_generator(G, data, vocab_size):\n",
    "    _, data_fake, _, _ = G(data[:, :1], G.initial_state(batch_size = data.shape[0]), data.shape[1])\n",
    "    word_means = torch.stack([torch.mean((data == i).type(torch.FloatTensor), dim = 0) for i in range(vocab_size)])\n",
    "    word_means_fake = torch.stack([torch.mean((data_fake == i).type(torch.FloatTensor), dim = 0) for i in range(vocab_size)])\n",
    "    \n",
    "    scores = torch.sum(torch.abs(word_means - word_means_fake), dim = 1)\n",
    "    \n",
    "    return scores # for each word; the lower the better\n",
    "\n",
    "def count_special_cases(data, vocab_size):\n",
    "    counts = torch.zeros(vocab_size)\n",
    "    for i in range(data.shape[0]):\n",
    "        for t in range(data.shape[1] - 1):\n",
    "            if data[i, t] == 2:\n",
    "                counts[data[i, t + 1]] += 1\n",
    "                \n",
    "    return counts\n",
    "\n",
    "def test_special_case(G, data, vocab_size):\n",
    "    counts_real = count_special_cases(data, vocab_size)\n",
    "    freq_real = counts_real / torch.sum(counts_real)\n",
    "    \n",
    "    _, data_fake, _, _ = G(data[:, :1], G.initial_state(batch_size = data.shape[0]), data.shape[1])\n",
    "    \n",
    "    counts_fake = count_special_cases(data_fake, vocab_size)\n",
    "    freq_fake = counts_fake / torch.sum(counts_fake)\n",
    "    \n",
    "    scores = torch.abs(freq_real - freq_fake)\n",
    "    \n",
    "    return scores\n",
    "\n",
    "#print(data[:5, :])\n",
    "scores = eval_generator(G, data, n_vars)\n",
    "print(scores)\n",
    "print(scores / torch.tensor(var_weights)) # adjusted to the words' frequencies\n",
    "\n",
    "scores = test_special_case(G, data, n_vars)\n",
    "print(scores)\n",
    "\n"
   ]
  },
  {
   "cell_type": "code",
   "execution_count": 8,
   "metadata": {},
   "outputs": [
    {
     "name": "stdout",
     "output_type": "stream",
     "text": [
      "tensor([[[1., 0., 0.],\n",
      "         [0., 0., 1.],\n",
      "         [0., 1., 0.],\n",
      "         [0., 1., 0.],\n",
      "         [0., 0., 1.],\n",
      "         [0., 0., 1.]]], grad_fn=<CatBackward>)\n",
      "tensor([[0.4774, 0.4754]], grad_fn=<SqueezeBackward1>)\n",
      "tensor([0.4764], grad_fn=<MeanBackward2>)\n"
     ]
    }
   ],
   "source": [
    "# Test Discriminator output\n",
    "\n",
    "n_embeddings = 2\n",
    "vocab_size = n_vars\n",
    "embed_size = 2\n",
    "sequence_length = n_time_steps\n",
    "out_channels = 5 \n",
    "filter_sizes = [2, 3] # values can be at most the sequence_length\n",
    "\n",
    "D = RelGANDiscriminator(n_embeddings, vocab_size, embed_size, sequence_length, out_channels, filter_sizes)\n",
    "\n",
    "inp = logits\n",
    "print(inp)\n",
    "print(D(inp, False))\n",
    "print(D(inp))\n"
   ]
  },
  {
   "cell_type": "code",
   "execution_count": 9,
   "metadata": {},
   "outputs": [],
   "source": [
    "# Define the generator pre-train function\n",
    "\n",
    "def pretrain_generator(G, train_data, vocab_size, n_epochs, lr, print_step = 10):\n",
    "    loss_function = nn.BCELoss()\n",
    "    optimizer = torch.optim.Adam(G.parameters(), lr=lr)\n",
    "    \n",
    "    train_data_one_hot = F.one_hot(train_data, vocab_size).type(torch.FloatTensor)\n",
    "    start_token = train_data[:, :1]\n",
    "    sequence_length = train_data.shape[1]\n",
    "    \n",
    "    for e in range(n_epochs):\n",
    "        optimizer.zero_grad()\n",
    "        \n",
    "        memory = G.initial_state(batch_size = train_data.shape[0])\n",
    "        \n",
    "        logits, _, _, _ = G(start_token, memory, sequence_length)\n",
    "        \n",
    "        loss = loss_function(logits, train_data_one_hot)\n",
    "        \n",
    "        loss.backward()\n",
    "        optimizer.step()\n",
    "        \n",
    "        if e % print_step == 0:\n",
    "            print(\n",
    "                \"[Epoch %d/%d] [G loss: %f]\"\n",
    "                % (e, n_epochs, loss.item())\n",
    "            )"
   ]
  },
  {
   "cell_type": "code",
   "execution_count": 10,
   "metadata": {},
   "outputs": [
    {
     "name": "stdout",
     "output_type": "stream",
     "text": [
      "tensor([0.4860, 0.1620, 0.5720]) tensor([4.8600, 0.2700, 1.9067])\n",
      "[Epoch 0/10] [G loss: 10.051292]\n",
      "[Epoch 2/10] [G loss: 9.741279]\n",
      "[Epoch 4/10] [G loss: 9.689098]\n",
      "[Epoch 6/10] [G loss: 9.649196]\n",
      "[Epoch 8/10] [G loss: 9.732070]\n",
      "tensor([0.3790, 0.2710, 0.1120]) tensor([3.7900, 0.4517, 0.3733])\n"
     ]
    }
   ],
   "source": [
    "mem_slots = 4\n",
    "head_size = 2\n",
    "embed_size = 2\n",
    "num_tokens = n_vars\n",
    "temperature = 1\n",
    "num_heads = 2\n",
    "\n",
    "G = RelationalMemoryGenerator(mem_slots, head_size, embed_size, num_tokens, temperature, num_heads)\n",
    "\n",
    "scores = eval_generator(G, data, n_vars)\n",
    "print(scores, scores / torch.tensor(var_weights))\n",
    "pretrain_generator(G, data, n_vars, 10, 0.001, 2)\n",
    "scores = eval_generator(G, data, n_vars)\n",
    "print(scores, scores / torch.tensor(var_weights))"
   ]
  },
  {
   "cell_type": "code",
   "execution_count": 11,
   "metadata": {},
   "outputs": [],
   "source": [
    "# Define the training function\n",
    "\n",
    "def train(G, D, train_data, vocab_size, n_epochs, lr, print_step = 10):\n",
    "    print('pretraining generator...')\n",
    "    pretrain_generator(G, train_data, vocab_size, n_epochs // 10, lr, n_epochs // 10)\n",
    "    print('pretraining complete')\n",
    "    \n",
    "    adversarial_loss = torch.nn.BCELoss()\n",
    "    \n",
    "    optimizer_G = torch.optim.Adam(G.parameters(), lr=lr)\n",
    "    optimizer_D = torch.optim.Adam(D.parameters(), lr=lr)\n",
    "    \n",
    "    train_data_one_hot = F.one_hot(train_data, vocab_size).type(torch.FloatTensor)\n",
    "\n",
    "    start_token = train_data[:, :1]\n",
    "    sequence_length = train_data.shape[1]\n",
    "    \n",
    "    for e in range(n_epochs):\n",
    "        # Adversarial ground truths\n",
    "        valid = Variable(torch.FloatTensor(train_data.shape[0], 1).fill_(1.0), requires_grad=False)\n",
    "        fake = Variable(torch.FloatTensor(train_data.shape[0], 1).fill_(0.0), requires_grad=False)\n",
    "\n",
    "        optimizer_G.zero_grad()\n",
    "\n",
    "        # Generate a batch of images\n",
    "        memory = G.initial_state(batch_size = train_data.shape[0])\n",
    "        fake_one_hot, _, _, _ = G(start_token, memory, sequence_length)\n",
    "\n",
    "        # Loss measures generator's ability to fool the discriminator\n",
    "        g_loss = adversarial_loss(D(fake_one_hot), valid)\n",
    "\n",
    "        g_loss.backward()\n",
    "        optimizer_G.step()\n",
    "        \n",
    "        optimizer_D.zero_grad()\n",
    "\n",
    "        # Measure discriminator's ability to classify real from generated samples\n",
    "        real_loss = adversarial_loss(D(train_data_one_hot), valid)\n",
    "        fake_loss = adversarial_loss(D(fake_one_hot.detach()), fake)\n",
    "        d_loss = (real_loss + fake_loss) / 2\n",
    "\n",
    "        d_loss.backward()\n",
    "        optimizer_D.step()\n",
    "\n",
    "        if e % print_step == 0:\n",
    "            print(\n",
    "                \"[Epoch %d/%d] [D loss: %f] [G loss: %f]\"\n",
    "                % (e, n_epochs, d_loss.item(), g_loss.item())\n",
    "            )\n"
   ]
  },
  {
   "cell_type": "code",
   "execution_count": 12,
   "metadata": {},
   "outputs": [
    {
     "name": "stdout",
     "output_type": "stream",
     "text": [
      "score before training: tensor([0.0740, 0.3160, 0.2420]) tensor([0.7400, 0.5267, 0.8067]) tensor([0.4358, 0.2935, 0.1424])\n",
      "pretraining generator...\n",
      "[Epoch 0/100] [G loss: 9.477306]\n",
      "pretraining complete\n",
      "[Epoch 0/1000] [D loss: 0.695251] [G loss: 0.754841]\n"
     ]
    },
    {
     "name": "stderr",
     "output_type": "stream",
     "text": [
      "/Users/joonasav/Library/Python/3.7/lib/python/site-packages/torch/nn/modules/loss.py:512: UserWarning: Using a target size (torch.Size([1000, 1])) that is different to the input size (torch.Size([1000])) is deprecated. Please ensure they have the same size.\n",
      "  return F.binary_cross_entropy(input, target, weight=self.weight, reduction=self.reduction)\n"
     ]
    },
    {
     "name": "stdout",
     "output_type": "stream",
     "text": [
      "[Epoch 100/1000] [D loss: 0.692670] [G loss: 0.647893]\n",
      "[Epoch 200/1000] [D loss: 0.675506] [G loss: 0.765716]\n",
      "[Epoch 300/1000] [D loss: 0.673358] [G loss: 0.745164]\n",
      "[Epoch 400/1000] [D loss: 0.632296] [G loss: 0.761753]\n",
      "[Epoch 500/1000] [D loss: 0.631214] [G loss: 0.781789]\n",
      "[Epoch 600/1000] [D loss: 0.631901] [G loss: 0.797003]\n",
      "[Epoch 700/1000] [D loss: 0.643933] [G loss: 0.803101]\n",
      "[Epoch 800/1000] [D loss: 0.668263] [G loss: 0.789163]\n",
      "[Epoch 900/1000] [D loss: 0.700564] [G loss: 0.735136]\n",
      "score after training: tensor([0.1790, 0.3910, 0.4560]) tensor([1.7900, 0.6517, 1.5200]) tensor([0.1594, 0.0934, 0.0660])\n"
     ]
    }
   ],
   "source": [
    "# Generator params\n",
    "mem_slots = 4\n",
    "head_size = 2\n",
    "embed_size = 2\n",
    "num_tokens = n_vars\n",
    "temperature = 1\n",
    "num_heads = 2\n",
    "\n",
    "G = RelationalMemoryGenerator(mem_slots, head_size, embed_size, num_tokens, temperature, num_heads)\n",
    "\n",
    "# Discriminator params\n",
    "n_embeddings = 2\n",
    "vocab_size = n_vars\n",
    "embed_size = 2\n",
    "sequence_length = n_time_steps\n",
    "out_channels = 5 \n",
    "filter_sizes = [2, 3] # values can be at most the sequence_length\n",
    "\n",
    "D = RelGANDiscriminator(n_embeddings, vocab_size, embed_size, sequence_length, out_channels, filter_sizes)\n",
    "\n",
    "scores = eval_generator(G, data, n_vars)\n",
    "scores_special_case = test_special_case(G, data, n_vars)\n",
    "print('score before training:', scores, scores / torch.tensor(var_weights), scores_special_case)\n",
    "\n",
    "# Train the GAN\n",
    "train(G, D, data, n_vars, 1000, 0.001, 100)\n",
    "\n",
    "scores = eval_generator(G, data, n_vars)\n",
    "scores_special_case = test_special_case(G, data, n_vars)\n",
    "print('score after training:', scores, scores / torch.tensor(var_weights), scores_special_case)"
   ]
  },
  {
   "cell_type": "code",
   "execution_count": null,
   "metadata": {},
   "outputs": [],
   "source": []
  }
 ],
 "metadata": {
  "kernelspec": {
   "display_name": "Python 3",
   "language": "python",
   "name": "python3"
  },
  "language_info": {
   "codemirror_mode": {
    "name": "ipython",
    "version": 3
   },
   "file_extension": ".py",
   "mimetype": "text/x-python",
   "name": "python",
   "nbconvert_exporter": "python",
   "pygments_lexer": "ipython3",
   "version": "3.7.3"
  }
 },
 "nbformat": 4,
 "nbformat_minor": 2
}
