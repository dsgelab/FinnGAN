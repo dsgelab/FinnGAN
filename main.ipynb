{
 "cells": [
  {
   "cell_type": "code",
   "execution_count": 1,
   "metadata": {},
   "outputs": [
    {
     "name": "stdout",
     "output_type": "stream",
     "text": [
      "Device: cuda:0\n"
     ]
    }
   ],
   "source": [
    "# Imports\n",
    "import torch\n",
    "import torch.nn as nn\n",
    "import torch.nn.functional as F\n",
    "from torch.autograd import Variable\n",
    "import numpy as np\n",
    "import pandas as pd\n",
    "from sklearn.model_selection import train_test_split\n",
    "import time\n",
    "from math import log10, floor\n",
    "import os\n",
    "import glob\n",
    "import matplotlib.pyplot as plt\n",
    "import datetime\n",
    "from math import ceil, isnan\n",
    "import sys\n",
    "try:\n",
    "    import torchtext\n",
    "    from torchtext.data import Field, Iterator, Dataset, Example\n",
    "except ImportError: \n",
    "    !{'/opt/anaconda3/bin/python3'} -m pip install --upgrade git+https://github.com/pytorch/text\n",
    "    import torchtext\n",
    "    from torchtext.data import Field, Iterator, Dataset\n",
    "\n",
    "from relational_rnn_models import RelationalMemoryGenerator\n",
    "from discriminator import RelGANDiscriminator\n",
    "\n",
    "cuda = torch.cuda.is_available()\n",
    "\n",
    "# Try setting the device to a GPU\n",
    "device = torch.device(\"cuda:0\" if cuda else \"cpu\")\n",
    "print('Device:', device)\n",
    "\n",
    "Tensor = torch.cuda.FloatTensor if cuda else torch.FloatTensor"
   ]
  },
  {
   "cell_type": "code",
   "execution_count": 2,
   "metadata": {},
   "outputs": [],
   "source": [
    "# Helper function(s)\n",
    "\n",
    "# round a number to n significant digits\n",
    "def round_to_n(x, n = 2):\n",
    "    return round(x, -int(floor(log10(abs(x)))) + (n - 1)) if x != 0 else 0\n",
    "\n",
    "# Transform a date string into a datetime object\n",
    "def str_to_datetime(string):\n",
    "    return datetime.datetime.strptime(string, '%Y-%m-%d %H:%M:%S')\n",
    "\n",
    "# TODO: more complex reduction: takes into account different ICD groups?\n",
    "def reduce_icd(icd_full):\n",
    "    return icd_full[:2]\n",
    "\n",
    "def get_distribution(data, field, vocab_size, fake = True):\n",
    "    counts = torch.zeros(vocab_size)\n",
    "\n",
    "    for i in range(vocab_size):\n",
    "        if fake:\n",
    "            counts[i] = torch.sum(data == i)\n",
    "        else:\n",
    "            counts[i] = field.vocab.freqs[field.vocab.itos[i]]\n",
    "\n",
    "    freqs = counts / torch.sum(counts)\n",
    "    \n",
    "    return counts, freqs\n",
    "    "
   ]
  },
  {
   "cell_type": "code",
   "execution_count": 3,
   "metadata": {},
   "outputs": [
    {
     "name": "stdout",
     "output_type": "stream",
     "text": [
      "Index(['FINNGENID', 'EVENT_AGE', 'EVENT_YEAR', 'ENDPOINT'], dtype='object')\n",
      "211\n"
     ]
    }
   ],
   "source": [
    "filename = 'data/FINNGEN_ENDPOINTS_DF3_longitudinal_V1_for_SandBox.txt.gz'\n",
    "\n",
    "events = pd.read_csv(filename, compression = 'infer', nrows = 200000, sep='\\t')\n",
    "\n",
    "print(events.columns)\n",
    "\n",
    "subjects = events['FINNGENID'].unique()\n",
    "n_individuals = len(subjects)\n",
    "print(n_individuals)"
   ]
  },
  {
   "cell_type": "code",
   "execution_count": 4,
   "metadata": {},
   "outputs": [
    {
     "name": "stdout",
     "output_type": "stream",
     "text": [
      "count    211.000000\n",
      "mean      32.038957\n",
      "std       10.313633\n",
      "min        2.950000\n",
      "25%       22.715000\n",
      "50%       33.960000\n",
      "75%       41.000000\n",
      "max       51.530000\n",
      "dtype: float64\n",
      "count      211.000000\n",
      "mean       947.867299\n",
      "std       1490.806688\n",
      "min         12.000000\n",
      "25%        170.000000\n",
      "50%        395.000000\n",
      "75%       1198.000000\n",
      "max      15208.000000\n",
      "dtype: float64\n"
     ]
    }
   ],
   "source": [
    "print(events.groupby('FINNGENID').apply(lambda x: x['EVENT_AGE'].max() - x['EVENT_AGE'].min()).describe())\n",
    "print(events.groupby('FINNGENID').apply(lambda x: len(x)).describe())"
   ]
  },
  {
   "cell_type": "code",
   "execution_count": 5,
   "metadata": {},
   "outputs": [
    {
     "name": "stdout",
     "output_type": "stream",
     "text": [
      "15\n"
     ]
    }
   ],
   "source": [
    "max_sequence_length = 15\n",
    "\n",
    "sequence_length = min(events.groupby('FINNGENID').apply(lambda x: len(x)).max(), max_sequence_length)\n",
    "print(sequence_length)\n",
    "\n",
    "def get_sequence_of_codes(subject):\n",
    "    codes = []\n",
    "    \n",
    "    count = 0\n",
    "    for i in subject.sort_values('EVENT_AGE').index:\n",
    "        codes.append(subject.loc[i, 'ENDPOINT'])\n",
    "        count += 1\n",
    "        if count == sequence_length:\n",
    "            break\n",
    "        \n",
    "    res = ' '.join(codes)\n",
    "    return res\n",
    "\n",
    "def get_sequence_of_time_differences(subject):\n",
    "    times = [0]\n",
    "    \n",
    "    count = 0\n",
    "    for i in subject.sort_values('EVENT_AGE').index:\n",
    "        times.append(subject.loc[i, 'EVENT_AGE'])\n",
    "        count += 1\n",
    "        if count == sequence_length:\n",
    "            break\n",
    "        \n",
    "    res = np.diff(times)\n",
    "    return res\n",
    "    "
   ]
  },
  {
   "cell_type": "code",
   "execution_count": 6,
   "metadata": {},
   "outputs": [
    {
     "name": "stdout",
     "output_type": "stream",
     "text": [
      "count    211.000000\n",
      "mean      14.976303\n",
      "std        0.247670\n",
      "min       12.000000\n",
      "25%       15.000000\n",
      "50%       15.000000\n",
      "75%       15.000000\n",
      "max       15.000000\n",
      "dtype: float64\n",
      "(211,)\n",
      "count    211.000000\n",
      "mean      14.976303\n",
      "std        0.247670\n",
      "min       12.000000\n",
      "25%       15.000000\n",
      "50%       15.000000\n",
      "75%       15.000000\n",
      "max       15.000000\n",
      "dtype: float64\n",
      "(211,)\n"
     ]
    }
   ],
   "source": [
    "sequences_of_codes = events.groupby('FINNGENID').apply(get_sequence_of_codes)\n",
    "#print(sequences_of_codes.head())\n",
    "print(sequences_of_codes.apply(lambda x: len(x.split(' '))).describe())\n",
    "print(sequences_of_codes.shape)\n",
    "\n",
    "sequences_of_times = events.groupby('FINNGENID').apply(get_sequence_of_time_differences)\n",
    "#print(sequences_of_times.head())\n",
    "print(sequences_of_times.apply(lambda x: len(x)).describe())\n",
    "print(sequences_of_times.shape)"
   ]
  },
  {
   "cell_type": "code",
   "execution_count": 7,
   "metadata": {},
   "outputs": [
    {
     "name": "stdout",
     "output_type": "stream",
     "text": [
      "(211, 2)\n"
     ]
    }
   ],
   "source": [
    "#sequences = pd.DataFrame({'ENDPOINTS': sequences_of_codes.stack(), 'TIME_DIFFS': sequences_of_times.stack()})\n",
    "sequences = pd.DataFrame({'ENDPOINTS': sequences_of_codes, 'TIME_DIFFS': sequences_of_times})\n",
    "print(sequences.shape)\n",
    "#sequences.head()\n"
   ]
  },
  {
   "cell_type": "code",
   "execution_count": 8,
   "metadata": {},
   "outputs": [],
   "source": [
    "# https://stackoverflow.com/questions/52602071/dataframe-as-datasource-in-torchtext\n",
    "\n",
    "class DataFrameDataset(Dataset):\n",
    "    \"\"\"Class for using pandas DataFrames as a datasource\"\"\"\n",
    "    def __init__(self, examples, fields, filter_pred=None):\n",
    "        \"\"\"\n",
    "        Create a dataset from a pandas dataframe of examples and Fields\n",
    "        Arguments:\n",
    "            examples pd.DataFrame: DataFrame of examples\n",
    "            fields {str: Field}: The Fields to use in this tuple. The\n",
    "                string is a field name, and the Field is the associated field.\n",
    "            filter_pred (callable or None): use only exanples for which\n",
    "                filter_pred(example) is true, or use all examples if None.\n",
    "                Default is None\n",
    "        \"\"\"\n",
    "        self.fields = dict(fields)\n",
    "        self.examples = examples.apply(SeriesExample.fromSeries, args=(self.fields,), axis=1).tolist()\n",
    "        if filter_pred is not None:\n",
    "            self.examples = filter(filter_pred, self.examples)\n",
    "        # Unpack field tuples\n",
    "        for n, f in list(self.fields.items()):\n",
    "            if isinstance(n, tuple):\n",
    "                self.fields.update(zip(n, f))\n",
    "                del self.fields[n]\n",
    "\n",
    "class SeriesExample(Example):\n",
    "    \"\"\"Class to convert a pandas Series to an Example\"\"\"\n",
    "    \n",
    "    @classmethod\n",
    "    def fromSeries(cls, data, fields):\n",
    "        return cls.fromdict(data.to_dict(), fields)\n",
    "\n",
    "    @classmethod\n",
    "    def fromdict(cls, data, fields):\n",
    "        ex = cls()\n",
    "        for key, field in fields.items():\n",
    "            if key not in data:\n",
    "                raise ValueError(\"Specified key {} was not found in \"\n",
    "                \"the input data\".format(key))\n",
    "            if field is not None:\n",
    "                setattr(ex, key, field.preprocess(data[key]))\n",
    "            else:\n",
    "                setattr(ex, key, data[key])\n",
    "        return ex"
   ]
  },
  {
   "cell_type": "code",
   "execution_count": 9,
   "metadata": {},
   "outputs": [
    {
     "name": "stdout",
     "output_type": "stream",
     "text": [
      "(189, 2) (22, 2)\n"
     ]
    }
   ],
   "source": [
    "tokenize = lambda x: x.split(' ')\n",
    "\n",
    "ENDPOINT = Field(fix_length = sequence_length, tokenize = tokenize)\n",
    "\n",
    "fields = [('ENDPOINTS', ENDPOINT), ('TIME_DIFFS', None)]\n",
    "\n",
    "train_sequences, val_sequences = train_test_split(sequences, test_size = 0.1)\n",
    "print(train_sequences.shape, val_sequences.shape)\n",
    "\n",
    "train = DataFrameDataset(train_sequences, fields)\n",
    "val = DataFrameDataset(val_sequences, fields)\n",
    "\n",
    "ENDPOINT.build_vocab(train, val)"
   ]
  },
  {
   "cell_type": "code",
   "execution_count": 10,
   "metadata": {},
   "outputs": [
    {
     "name": "stdout",
     "output_type": "stream",
     "text": [
      "2\n",
      "ANY_ATC\n",
      "377\n",
      "349\n"
     ]
    }
   ],
   "source": [
    "print(ENDPOINT.vocab.stoi['ANY_ATC'])\n",
    "print(ENDPOINT.vocab.itos[2])\n",
    "vocab_size = len(ENDPOINT.vocab.freqs) + 2\n",
    "print(vocab_size)\n",
    "\n",
    "print(ENDPOINT.vocab.freqs[ENDPOINT.vocab.itos[3]])\n"
   ]
  },
  {
   "cell_type": "code",
   "execution_count": 11,
   "metadata": {},
   "outputs": [
    {
     "data": {
      "text/plain": [
       "torch.Size([22, 15])"
      ]
     },
     "execution_count": 11,
     "metadata": {},
     "output_type": "execute_result"
    }
   ],
   "source": [
    "val_iter = Iterator(val, batch_size = len(val_sequences), repeat = True)\n",
    "\n",
    "next(iter(val_iter)).ENDPOINTS.transpose(0, 1).shape"
   ]
  },
  {
   "cell_type": "code",
   "execution_count": 12,
   "metadata": {},
   "outputs": [
    {
     "name": "stdout",
     "output_type": "stream",
     "text": [
      "211\n",
      "0.11911532385466035\n"
     ]
    }
   ],
   "source": [
    "subjects = sequences.index\n",
    "n_individuals = len(subjects)\n",
    "print(n_individuals)\n",
    "print(vocab_size / (n_individuals * sequence_length)) # The lower this is the easier it is for the generator to learn"
   ]
  },
  {
   "cell_type": "code",
   "execution_count": 13,
   "metadata": {},
   "outputs": [
    {
     "name": "stdout",
     "output_type": "stream",
     "text": [
      "tensor([[[1., 0., 0., 0.],\n",
      "         [0., 1., 0., 0.],\n",
      "         [0., 0., 1., 0.],\n",
      "         [0., 0., 0., 1.]]], device='cuda:0')\n",
      "tensor([[[1., 0., 0.,  ..., 0., 0., 0.],\n",
      "         [0., 0., 0.,  ..., 0., 0., 0.],\n",
      "         [0., 0., 0.,  ..., 0., 0., 0.],\n",
      "         ...,\n",
      "         [0., 0., 0.,  ..., 0., 0., 0.],\n",
      "         [0., 0., 0.,  ..., 0., 0., 0.],\n",
      "         [0., 0., 0.,  ..., 0., 0., 0.]]], device='cuda:0',\n",
      "       grad_fn=<CatBackward>)\n",
      "tensor([[  0,  21, 270, 155, 376, 299, 156, 259, 237,  61, 159,  11,  62, 340,\n",
      "         234]], device='cuda:0')\n",
      "tensor([[[ 1.6821,  1.4918, -1.4065, -1.0839],\n",
      "         [ 1.6526,  1.8030, -1.3940, -1.0935],\n",
      "         [ 1.5192,  1.5406, -1.0861, -1.1276],\n",
      "         [ 1.5181,  1.6995, -1.2751, -1.0744]]], device='cuda:0',\n",
      "       grad_fn=<AddBackward0>)\n"
     ]
    }
   ],
   "source": [
    "# Test generator output\n",
    "\n",
    "mem_slots = 4\n",
    "head_size = 2\n",
    "embed_size = 2\n",
    "temperature = 1\n",
    "num_heads = 2\n",
    "\n",
    "G = RelationalMemoryGenerator(mem_slots, head_size, embed_size, vocab_size, temperature, num_heads)\n",
    "\n",
    "start_token = torch.tensor([[0]])\n",
    "memory = G.initial_state(batch_size = 1)\n",
    "\n",
    "if cuda:\n",
    "    G.cuda()\n",
    "    start_token = start_token.cuda()\n",
    "    memory = memory.cuda()\n",
    "\n",
    "print(memory)\n",
    "logits, tokens, _, memory = G(start_token, memory, sequence_length, None)\n",
    "print(logits)\n",
    "print(tokens)\n",
    "print(memory)\n"
   ]
  },
  {
   "cell_type": "code",
   "execution_count": 14,
   "metadata": {},
   "outputs": [
    {
     "name": "stdout",
     "output_type": "stream",
     "text": [
      "tensor(4.2090)\n"
     ]
    }
   ],
   "source": [
    "# Define generator evaluation functions\n",
    "\n",
    "def chi_sqrd_dist(counts1, counts2, eps = 1e-20):\n",
    "    counts1 = counts1.view(1, -1)\n",
    "    counts2 = counts2.view(1, -1)\n",
    "    table = torch.cat([counts1, counts2], dim = 0)\n",
    "    col_sums = torch.sum(table, dim = 0)\n",
    "    row_sums = torch.sum(table, dim = 1)\n",
    "    n = torch.sum(col_sums)\n",
    "    \n",
    "    table_freq = table / n\n",
    "    col_freqs = col_sums / n\n",
    "    row_freqs = row_sums / n\n",
    "    \n",
    "    diffs = table_freq[0, :] / (row_freqs[0] + eps) - table_freq[1, :] / (row_freqs[1] + eps)\n",
    "    diffs_sqrd = diffs ** 2\n",
    "    diffs_sqrd_norm = diffs_sqrd / (col_freqs + eps)\n",
    "    \n",
    "    chi_sqrd_distance = torch.sum(diffs_sqrd_norm)\n",
    "    \n",
    "    return chi_sqrd_distance\n",
    "\n",
    "def get_fake_distribution(G, start_tokens, vocab_size = vocab_size, sequence_length = sequence_length):\n",
    "    memory = G.initial_state(batch_size = start_tokens.shape[0])\n",
    "\n",
    "    if cuda:\n",
    "        memory = memory.cuda()\n",
    "        start_tokens = start_tokens.cuda()\n",
    "    \n",
    "    _, data_fake, _, _ = G(start_tokens, memory, sequence_length)\n",
    "    \n",
    "    counts_fake, freqs_fake = get_distribution(data_fake, None, vocab_size, fake = True)\n",
    "    \n",
    "    return counts_fake, freqs_fake\n",
    "    \n",
    "def get_score(G, ENDPOINT, start_tokens, vocab_size = vocab_size, sequence_length = sequence_length):\n",
    "    counts_real, freqs_real = get_distribution(None, ENDPOINT, vocab_size, fake = False)\n",
    "    \n",
    "    counts_fake, freqs_fake = get_fake_distribution(G, start_tokens, vocab_size, sequence_length)\n",
    "    \n",
    "    score = chi_sqrd_dist(counts_real, counts_fake)\n",
    "    return score\n",
    "\n",
    "val_data = next(iter(val_iter)).ENDPOINTS.transpose(0, 1)\n",
    "\n",
    "score = get_score(G, ENDPOINT, val_data[:, :1])\n",
    "print(score)"
   ]
  },
  {
   "cell_type": "code",
   "execution_count": 15,
   "metadata": {},
   "outputs": [
    {
     "name": "stdout",
     "output_type": "stream",
     "text": [
      "tensor([[[1., 0., 0.,  ..., 0., 0., 0.],\n",
      "         [0., 0., 0.,  ..., 0., 0., 0.],\n",
      "         [0., 0., 0.,  ..., 0., 0., 0.],\n",
      "         ...,\n",
      "         [0., 0., 0.,  ..., 0., 0., 0.],\n",
      "         [0., 0., 0.,  ..., 0., 0., 0.],\n",
      "         [0., 0., 0.,  ..., 0., 0., 0.]]], device='cuda:0',\n",
      "       grad_fn=<CatBackward>)\n",
      "tensor([[0.5811, 0.5811]], device='cuda:0', grad_fn=<SqueezeBackward1>)\n",
      "tensor([0.5811], device='cuda:0', grad_fn=<MeanBackward2>)\n"
     ]
    }
   ],
   "source": [
    "# Test Discriminator output\n",
    "\n",
    "n_embeddings = 2\n",
    "embed_size = 2\n",
    "out_channels = 5 \n",
    "filter_sizes = [2, 3] # values can be at most the sequence_length\n",
    "\n",
    "D = RelGANDiscriminator(n_embeddings, vocab_size, embed_size, sequence_length, out_channels, filter_sizes)\n",
    "\n",
    "if cuda:\n",
    "    D.cuda()\n",
    "\n",
    "inp = logits\n",
    "print(inp)\n",
    "print(D(inp, False))\n",
    "print(D(inp))\n"
   ]
  },
  {
   "cell_type": "code",
   "execution_count": 16,
   "metadata": {},
   "outputs": [],
   "source": [
    "# Define the generator pre-train function\n",
    "\n",
    "def pretrain_generator(G, train, batch_size, vocab_size, sequence_length, n_epochs, lr, print_step = 10):\n",
    "    loss_function = nn.BCELoss()\n",
    "    optimizer = torch.optim.Adam(G.parameters(), lr=lr)\n",
    "    \n",
    "    if cuda:\n",
    "        G.cuda()\n",
    "        loss_function.cuda()\n",
    "    \n",
    "    for e in range(n_epochs):\n",
    "        train_iter = Iterator(train, batch_size = batch_size, device = device)\n",
    "        loss_total = 0\n",
    "        count = 0\n",
    "        \n",
    "        for batch in train_iter:\n",
    "            train_data = batch.ENDPOINTS.transpose(0, 1)\n",
    "            train_data_one_hot = F.one_hot(train_data, vocab_size).type(Tensor)\n",
    "            \n",
    "            start_token = train_data[:, :1]\n",
    "            optimizer.zero_grad()\n",
    "\n",
    "            memory = G.initial_state(batch_size = train_data.shape[0])\n",
    "\n",
    "            if cuda:\n",
    "                start_token = start_token.cuda()\n",
    "                memory = memory.cuda()\n",
    "\n",
    "            logits, _, _, _ = G(start_token, memory, sequence_length)\n",
    "\n",
    "            loss = loss_function(logits, train_data_one_hot)\n",
    "            \n",
    "            loss_total += loss.item()\n",
    "            count += 1\n",
    "\n",
    "            loss.backward()\n",
    "            optimizer.step()\n",
    "            \n",
    "        \n",
    "        if e % print_step == 0:\n",
    "            print(\n",
    "                \"[Epoch %d/%d] [G loss: %f]\"\n",
    "                % (e, n_epochs, loss_total / count)\n",
    "            )"
   ]
  },
  {
   "cell_type": "code",
   "execution_count": 17,
   "metadata": {},
   "outputs": [
    {
     "name": "stdout",
     "output_type": "stream",
     "text": [
      "tensor(4.0981)\n",
      "[Epoch 0/10] [G loss: 0.136497]\n",
      "[Epoch 1/10] [G loss: 0.136503]\n",
      "[Epoch 2/10] [G loss: 0.136234]\n",
      "[Epoch 3/10] [G loss: 0.136137]\n",
      "[Epoch 4/10] [G loss: 0.135988]\n",
      "[Epoch 5/10] [G loss: 0.135937]\n",
      "[Epoch 6/10] [G loss: 0.134428]\n",
      "[Epoch 7/10] [G loss: 0.134943]\n",
      "[Epoch 8/10] [G loss: 0.135320]\n",
      "[Epoch 9/10] [G loss: 0.133754]\n",
      "tensor(3.2361)\n"
     ]
    }
   ],
   "source": [
    "mem_slots = 4\n",
    "head_size = 2\n",
    "embed_size = 2\n",
    "temperature = 1\n",
    "num_heads = 2\n",
    "\n",
    "G = RelationalMemoryGenerator(mem_slots, head_size, embed_size, vocab_size, temperature, num_heads)\n",
    "\n",
    "if cuda:\n",
    "    G.cuda()\n",
    "    \n",
    "val_data = next(iter(val_iter)).ENDPOINTS.transpose(0, 1)\n",
    "\n",
    "score = get_score(G, ENDPOINT, val_data[:, :1])\n",
    "print(score)\n",
    "\n",
    "batch_size = 10\n",
    "pretrain_generator(G, train, batch_size, vocab_size, sequence_length, 10, 0.01, print_step = 1)\n",
    "\n",
    "score = get_score(G, ENDPOINT, val_data[:, :1])\n",
    "print(score)"
   ]
  },
  {
   "cell_type": "code",
   "execution_count": 20,
   "metadata": {},
   "outputs": [],
   "source": [
    "# Define the training function\n",
    "\n",
    "def train_GAN(G, D, train, val_iter, batch_size, vocab_size, sequence_length, n_epochs, lr, temperature, print_step = 10, score_fn = get_score):    \n",
    "    scores = []\n",
    "    \n",
    "    val_data = next(iter(val_iter)).ENDPOINTS.transpose(0, 1)\n",
    "    \n",
    "    score = score_fn(G, ENDPOINT, val_data[:, :1])\n",
    "    print('Score before training:', score)\n",
    "    scores.append(torch.tensor(score))\n",
    "    \n",
    "    print('pretraining generator...')\n",
    "    pretrain_generator(G, train, batch_size, vocab_size, sequence_length, max(n_epochs // 10, 1), lr * 100, print_step = max(n_epochs // 10 - 1, 1))\n",
    "    print('pretraining complete')\n",
    "    \n",
    "    score = score_fn(G, ENDPOINT, val_data[:, :1])\n",
    "    print(\"[Score:\", score, \"]\")\n",
    "    scores.append(torch.tensor(score))\n",
    "    \n",
    "    adversarial_loss = torch.nn.BCELoss()\n",
    "    \n",
    "    optimizer_G = torch.optim.Adam(G.parameters(), lr=lr)\n",
    "    optimizer_D = torch.optim.Adam(D.parameters(), lr=lr)\n",
    "    \n",
    "    if cuda:\n",
    "        G.cuda()\n",
    "        D.cuda()\n",
    "        adversarial_loss.cuda()\n",
    "    \n",
    "    for e in range(n_epochs):\n",
    "        train_iter = Iterator(train, batch_size = batch_size, device = device)\n",
    "        #loss_total = 0\n",
    "        #count = 0\n",
    "        \n",
    "        for batch in train_iter:\n",
    "            train_data = batch.ENDPOINTS.transpose(0, 1)\n",
    "            train_data_one_hot = F.one_hot(train_data, vocab_size).type(Tensor)\n",
    "\n",
    "            start_token = train_data[:, :1]\n",
    "            \n",
    "            # Adversarial ground truths\n",
    "            valid = Variable(Tensor(train_data.shape[0], 1).fill_(1.0), requires_grad=False)\n",
    "            fake = Variable(Tensor(train_data.shape[0], 1).fill_(0.0), requires_grad=False)\n",
    "\n",
    "            optimizer_G.zero_grad()\n",
    "\n",
    "            # Generate a batch of images\n",
    "            memory = G.initial_state(batch_size = train_data.shape[0])\n",
    "            if cuda:\n",
    "                memory = memory.cuda()\n",
    "\n",
    "            temp = temperature ** ((e + 1) / n_epochs)\n",
    "            fake_one_hot, _, _, _ = G(start_token, memory, sequence_length, temp)\n",
    "\n",
    "            # Loss measures generator's ability to fool the discriminator\n",
    "            g_loss = adversarial_loss(D(fake_one_hot), valid)\n",
    "\n",
    "            g_loss.backward()\n",
    "            optimizer_G.step()\n",
    "\n",
    "            optimizer_D.zero_grad()\n",
    "\n",
    "            # Measure discriminator's ability to classify real from generated samples\n",
    "            real_loss = adversarial_loss(D(train_data_one_hot), valid)\n",
    "            fake_loss = adversarial_loss(D(fake_one_hot.detach()), fake)\n",
    "            d_loss = (real_loss + fake_loss) / 2\n",
    "\n",
    "            d_loss.backward()\n",
    "            optimizer_D.step()\n",
    "\n",
    "        if e % print_step == 0:\n",
    "            print(\n",
    "                \"[Epoch %d/%d] [D loss: %f] [G loss: %f]\"\n",
    "                % (e, n_epochs, d_loss.item(), g_loss.item())\n",
    "            )\n",
    "            score = score_fn(G, ENDPOINT, val_data[:, :1])\n",
    "            print(\"[Score:\", score, \"]\")\n",
    "            scores.append(torch.tensor(score))\n",
    "            \n",
    "    score = score_fn(G, ENDPOINT, val_data[:, :1])\n",
    "    print('Score after training:', score)\n",
    "    scores.append(torch.tensor(score))\n",
    "            \n",
    "    # return scores\n",
    "    return torch.stack(scores)\n"
   ]
  },
  {
   "cell_type": "code",
   "execution_count": 21,
   "metadata": {},
   "outputs": [
    {
     "name": "stdout",
     "output_type": "stream",
     "text": [
      "Score before training: tensor(4.2018)\n",
      "pretraining generator...\n"
     ]
    },
    {
     "name": "stderr",
     "output_type": "stream",
     "text": [
      "/opt/anaconda3/lib/python3.7/site-packages/ipykernel_launcher.py:10: UserWarning: To copy construct from a tensor, it is recommended to use sourceTensor.clone().detach() or sourceTensor.clone().detach().requires_grad_(True), rather than torch.tensor(sourceTensor).\n",
      "  # Remove the CWD from sys.path while we load stuff.\n"
     ]
    },
    {
     "name": "stdout",
     "output_type": "stream",
     "text": [
      "[Epoch 0/10] [G loss: 0.136554]\n",
      "[Epoch 9/10] [G loss: 0.136547]\n",
      "pretraining complete\n",
      "[Score: tensor(9.6698) ]\n"
     ]
    },
    {
     "name": "stderr",
     "output_type": "stream",
     "text": [
      "/opt/anaconda3/lib/python3.7/site-packages/ipykernel_launcher.py:18: UserWarning: To copy construct from a tensor, it is recommended to use sourceTensor.clone().detach() or sourceTensor.clone().detach().requires_grad_(True), rather than torch.tensor(sourceTensor).\n",
      "/opt/anaconda3/lib/python3.7/site-packages/torch/nn/modules/loss.py:512: UserWarning: Using a target size (torch.Size([64, 1])) that is different to the input size (torch.Size([64])) is deprecated. Please ensure they have the same size.\n",
      "  return F.binary_cross_entropy(input, target, weight=self.weight, reduction=self.reduction)\n",
      "/opt/anaconda3/lib/python3.7/site-packages/torch/nn/modules/loss.py:512: UserWarning: Using a target size (torch.Size([61, 1])) that is different to the input size (torch.Size([61])) is deprecated. Please ensure they have the same size.\n",
      "  return F.binary_cross_entropy(input, target, weight=self.weight, reduction=self.reduction)\n"
     ]
    },
    {
     "name": "stdout",
     "output_type": "stream",
     "text": [
      "[Epoch 0/100] [D loss: 0.699371] [G loss: 0.569278]\n",
      "[Score: tensor(9.5396) ]\n"
     ]
    },
    {
     "name": "stderr",
     "output_type": "stream",
     "text": [
      "/opt/anaconda3/lib/python3.7/site-packages/ipykernel_launcher.py:78: UserWarning: To copy construct from a tensor, it is recommended to use sourceTensor.clone().detach() or sourceTensor.clone().detach().requires_grad_(True), rather than torch.tensor(sourceTensor).\n"
     ]
    },
    {
     "name": "stdout",
     "output_type": "stream",
     "text": [
      "[Epoch 10/100] [D loss: 0.692837] [G loss: 0.576079]\n",
      "[Score: tensor(9.5940) ]\n",
      "[Epoch 20/100] [D loss: 0.688239] [G loss: 0.583649]\n",
      "[Score: tensor(9.5352) ]\n",
      "[Epoch 30/100] [D loss: 0.679471] [G loss: 0.604871]\n",
      "[Score: tensor(9.3361) ]\n",
      "[Epoch 40/100] [D loss: 0.671569] [G loss: 0.636145]\n",
      "[Score: tensor(9.3375) ]\n",
      "[Epoch 50/100] [D loss: 0.663424] [G loss: 0.628789]\n",
      "[Score: tensor(9.1522) ]\n",
      "[Epoch 60/100] [D loss: 0.646152] [G loss: 0.644570]\n",
      "[Score: tensor(8.8536) ]\n",
      "[Epoch 70/100] [D loss: 0.624781] [G loss: 0.736600]\n",
      "[Score: tensor(7.7848) ]\n",
      "[Epoch 80/100] [D loss: 0.622917] [G loss: 0.825052]\n",
      "[Score: tensor(7.2452) ]\n",
      "[Epoch 90/100] [D loss: 0.596574] [G loss: 0.866850]\n",
      "[Score: tensor(7.2747) ]\n",
      "Score after training: tensor(7.4065)\n",
      "time taken: 100.0 seconds\n"
     ]
    },
    {
     "name": "stderr",
     "output_type": "stream",
     "text": [
      "/opt/anaconda3/lib/python3.7/site-packages/ipykernel_launcher.py:82: UserWarning: To copy construct from a tensor, it is recommended to use sourceTensor.clone().detach() or sourceTensor.clone().detach().requires_grad_(True), rather than torch.tensor(sourceTensor).\n"
     ]
    }
   ],
   "source": [
    "# Train the GAN\n",
    "\n",
    "start_time = time.time()\n",
    "\n",
    "# Generator params\n",
    "mem_slots = 1\n",
    "head_size = 6\n",
    "embed_size = 10\n",
    "temperature = 100\n",
    "num_heads = 10\n",
    "num_blocks = 6\n",
    "\n",
    "G = RelationalMemoryGenerator(mem_slots, head_size, embed_size, vocab_size, temperature, num_heads, num_blocks)\n",
    "\n",
    "# Discriminator params\n",
    "n_embeddings = 5\n",
    "embed_size = embed_size\n",
    "out_channels = 15\n",
    "filter_sizes = [2, 3, 4] # values can be at most the sequence_length\n",
    "\n",
    "D = RelGANDiscriminator(n_embeddings, vocab_size, embed_size, sequence_length, out_channels, filter_sizes)\n",
    "\n",
    "if cuda:\n",
    "    G.cuda()\n",
    "    D.cuda()\n",
    "\n",
    "val_data = next(iter(val_iter)).ENDPOINTS.transpose(0, 1)\n",
    "    \n",
    "#_, freqs = get_distribution(None, ENDPOINT, vocab_size, fake = False)\n",
    "#_, freqs_fake = get_fake_distribution(G, val_data[:, :1])\n",
    "#print('distribution before training:', freqs_fake)\n",
    "#print('benchmark distribution:', freqs)\n",
    "\n",
    "batch_size = 64\n",
    "n_epochs = 100\n",
    "print_step = n_epochs // 10\n",
    "lr = 1e-4\n",
    "\n",
    "# Train the GAN\n",
    "scores = train_GAN(G, D, train, val_iter, batch_size, vocab_size, sequence_length, n_epochs, lr, temperature, print_step = print_step)\n",
    "\n",
    "#_, freqs_fake = get_fake_distribution(G, val_data[:, :1])\n",
    "#print('distributions after training:', freqs_fake)\n",
    "#print('benchmark distribution:', freqs)\n",
    "\n",
    "print('time taken:', round_to_n(time.time() - start_time), 'seconds')\n"
   ]
  },
  {
   "cell_type": "code",
   "execution_count": 24,
   "metadata": {},
   "outputs": [
    {
     "name": "stdout",
     "output_type": "stream",
     "text": [
      "tensor([4.2018, 9.6698, 9.5396, 9.5940, 9.5352, 9.3361, 9.3375, 9.1522, 8.8536,\n",
      "        7.7848, 7.2452, 7.2747, 7.4065])\n"
     ]
    },
    {
     "data": {
      "image/png": "[encoded data removed]",
      "text/plain": [
       "<Figure size 432x288 with 1 Axes>"
      ]
     },
     "metadata": {
      "needs_background": "light"
     },
     "output_type": "display_data"
    }
   ],
   "source": [
    "%matplotlib inline\n",
    "\n",
    "plt.plot(range(scores.shape[0]), scores.numpy())\n",
    "plt.show()"
   ]
  },
  {
   "cell_type": "code",
   "execution_count": null,
   "metadata": {},
   "outputs": [],
   "source": []
  }
 ],
 "metadata": {
  "kernelspec": {
   "display_name": "Python 3",
   "language": "python",
   "name": "python3"
  },
  "language_info": {
   "codemirror_mode": {
    "name": "ipython",
    "version": 3
   },
   "file_extension": ".py",
   "mimetype": "text/x-python",
   "name": "python",
   "nbconvert_exporter": "python",
   "pygments_lexer": "ipython3",
   "version": "3.7.3"
  }
 },
 "nbformat": 4,
 "nbformat_minor": 2
}
