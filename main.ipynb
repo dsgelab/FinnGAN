{
 "cells": [
  {
   "cell_type": "code",
   "execution_count": 124,
   "metadata": {},
   "outputs": [
    {
     "name": "stdout",
     "output_type": "stream",
     "text": [
      "Device: cuda:0\n"
     ]
    }
   ],
   "source": [
    "# Imports\n",
    "import torch\n",
    "import torch.nn as nn\n",
    "import torch.nn.functional as F\n",
    "from torch.autograd import Variable\n",
    "import numpy as np\n",
    "import pandas as pd\n",
    "from sklearn.model_selection import train_test_split\n",
    "import time\n",
    "from math import log10, floor\n",
    "import os\n",
    "import glob\n",
    "import matplotlib.pyplot as plt\n",
    "import datetime\n",
    "\n",
    "from relational_rnn_models import RelationalMemoryGenerator\n",
    "from discriminator import RelGANDiscriminator\n",
    "\n",
    "cuda = torch.cuda.is_available()\n",
    "\n",
    "# Try setting the device to a GPU\n",
    "device = torch.device(\"cuda:0\" if cuda else \"cpu\")\n",
    "print('Device:', device)\n",
    "\n",
    "Tensor = torch.cuda.FloatTensor if cuda else torch.FloatTensor"
   ]
  },
  {
   "cell_type": "code",
   "execution_count": 125,
   "metadata": {},
   "outputs": [],
   "source": [
    "def str_to_datetime(string):\n",
    "    return datetime.datetime.strptime(string, '%Y-%m-%d %H:%M:%S')"
   ]
  },
  {
   "cell_type": "code",
   "execution_count": 152,
   "metadata": {},
   "outputs": [
    {
     "name": "stderr",
     "output_type": "stream",
     "text": [
      "/opt/anaconda3/lib/python3.7/site-packages/IPython/core/interactiveshell.py:3049: DtypeWarning: Columns (13) have mixed types. Specify dtype option on import or set low_memory=False.\n",
      "  interactivity=interactivity, compiler=compiler, result=result)\n",
      "/opt/anaconda3/lib/python3.7/site-packages/numpy/lib/arraysetops.py:569: FutureWarning: elementwise comparison failed; returning scalar instead, but in the future will perform elementwise comparison\n",
      "  mask |= (ar1 == a)\n"
     ]
    }
   ],
   "source": [
    "icd_codes = pd.read_csv('D_ICD_DIAGNOSES.csv.gz', compression='gzip', index_col='ROW_ID')\n",
    "\n",
    "date_time_events = pd.read_csv('DATETIMEEVENTS.csv.gz', compression='gzip', index_col='ROW_ID')\n",
    "\n",
    "diagnoses = pd.read_csv('DIAGNOSES_ICD.csv.gz', compression='gzip', index_col='ROW_ID')\n",
    "\n",
    "date_time_events['CHARTTIME'] = date_time_events['CHARTTIME'].map(str_to_datetime)"
   ]
  },
  {
   "cell_type": "code",
   "execution_count": 161,
   "metadata": {},
   "outputs": [
    {
     "name": "stdout",
     "output_type": "stream",
     "text": [
      "29185\n",
      "2099-10-19 12:48:00\n",
      "2209-08-07 16:52:00\n"
     ]
    }
   ],
   "source": [
    "subjects = pd.unique(date_time_events['SUBJECT_ID'])\n",
    "print(len(subjects))"
   ]
  },
  {
   "cell_type": "code",
   "execution_count": 170,
   "metadata": {},
   "outputs": [
    {
     "name": "stdout",
     "output_type": "stream",
     "text": [
      "(29185,)\n",
      "6080\n"
     ]
    }
   ],
   "source": [
    "li = np.zeros((len(subjects),), dtype=bool)\n",
    "print(li.shape)\n",
    "\n",
    "for i, s in enumerate(subjects):\n",
    "    li1 = diagnoses['SUBJECT_ID'] == s \n",
    "\n",
    "    subject_diagnoses = diagnoses.loc[li1]\n",
    "    \n",
    "    if len(subject_diagnoses['HADM_ID'].unique()) > 1:\n",
    "        li[i] = True\n",
    "        \n",
    "print(np.sum(li))\n",
    "subjects = subjects[li]"
   ]
  },
  {
   "cell_type": "code",
   "execution_count": 173,
   "metadata": {},
   "outputs": [
    {
     "name": "stdout",
     "output_type": "stream",
     "text": [
      "2099-10-19 12:48:00\n",
      "2209-08-07 16:52:00\n"
     ]
    }
   ],
   "source": [
    "t0 = np.min(date_time_events['CHARTTIME'])\n",
    "t1 = np.max(date_time_events['CHARTTIME'])\n",
    "print(t0)\n",
    "print(t1)\n",
    "\n",
    "# TODO: create a sequence for a single patient\n"
   ]
  },
  {
   "cell_type": "code",
   "execution_count": 128,
   "metadata": {},
   "outputs": [
    {
     "name": "stdout",
     "output_type": "stream",
     "text": [
      "        SUBJECT_ID  HADM_ID  SEQ_NUM ICD9_CODE\n",
      "ROW_ID                                        \n",
      "85503         7657   121183      1.0     V3000\n",
      "85504         7657   121183      2.0     76515\n",
      "85505         7657   121183      3.0       769\n",
      "85506         7657   121183      4.0      7707\n",
      "85507         7657   121183      5.0      7742\n",
      "85508         7657   121183      6.0      7793\n",
      "85509         7657   121183      7.0      1123\n",
      "85510         7657   121183      8.0      6910\n",
      "85511         7657   121183      9.0     76525\n",
      "        SUBJECT_ID  HADM_ID  ICUSTAY_ID  ITEMID       CHARTTIME  \\\n",
      "ROW_ID                                                            \n",
      "703           7657   121183      297945    3411 0 days 00:00:00   \n",
      "704           7657   121183      297945    3411 0 days 01:00:00   \n",
      "705           7657   121183      297945    3411 0 days 02:30:00   \n",
      "706           7657   121183      297945    3411 0 days 04:30:00   \n",
      "707           7657   121183      297945    3411 0 days 06:30:00   \n",
      "708           7657   121183      297945    3411 0 days 07:30:00   \n",
      "709           7657   121183      297945    3411 0 days 08:30:00   \n",
      "710           7657   121183      297945    3411 0 days 09:30:00   \n",
      "711           7657   121183      297945    3411 0 days 10:30:00   \n",
      "712           7657   121183      297945    3411 0 days 12:30:00   \n",
      "713           7657   121183      297945    3411 0 days 14:30:00   \n",
      "714           7657   121183      297945    3411 0 days 16:30:00   \n",
      "715           7657   121183      297945    3411 0 days 18:30:00   \n",
      "716           7657   121183      297945    3411 0 days 21:00:00   \n",
      "717           7657   121183      297945    3411 0 days 23:30:00   \n",
      "718           7657   121183      297945    3411 1 days 00:30:00   \n",
      "719           7657   121183      297945    3411 1 days 03:00:00   \n",
      "720           7657   121183      297945    3411 1 days 04:30:00   \n",
      "721           7657   121183      297945    3411 1 days 06:30:00   \n",
      "722           7657   121183      297945    3411 1 days 23:30:00   \n",
      "\n",
      "                  STORETIME   CGID VALUE VALUEUOM  WARNING  ERROR  \\\n",
      "ROW_ID                                                              \n",
      "703     2172-03-14 01:07:00  14815   NaN     Date      NaN    NaN   \n",
      "704     2172-03-14 01:32:00  14815   NaN     Date      NaN    NaN   \n",
      "705     2172-03-14 03:14:00  14815   NaN     Date      NaN    NaN   \n",
      "706     2172-03-14 05:19:00  14815   NaN     Date      NaN    NaN   \n",
      "707     2172-03-14 07:02:00  16446   NaN     Date      NaN    NaN   \n",
      "708     2172-03-14 08:37:00  14957   NaN     Date      NaN    NaN   \n",
      "709     2172-03-14 09:10:00  16446   NaN     Date      NaN    NaN   \n",
      "710     2172-03-14 10:11:00  16446   NaN     Date      NaN    NaN   \n",
      "711     2172-03-14 11:52:00  16446   NaN     Date      NaN    NaN   \n",
      "712     2172-03-14 12:36:00  16446   NaN     Date      NaN    NaN   \n",
      "713     2172-03-14 15:10:00  14957   NaN     Date      NaN    NaN   \n",
      "714     2172-03-14 17:01:00  16446   NaN     Date      NaN    NaN   \n",
      "715     2172-03-14 19:29:00  14815   NaN     Date      NaN    NaN   \n",
      "716     2172-03-14 21:43:00  14815   NaN     Date      NaN    NaN   \n",
      "717     2172-03-15 00:27:00  14815   NaN     Date      NaN    NaN   \n",
      "718     2172-03-15 01:44:00  14815   NaN     Date      NaN    NaN   \n",
      "719     2172-03-15 03:48:00  14815   NaN     Date      NaN    NaN   \n",
      "720     2172-03-15 04:58:00  14815   NaN     Date      NaN    NaN   \n",
      "721     2172-03-15 07:17:00  19412   NaN     Date      NaN    NaN   \n",
      "722     2172-03-16 00:00:00  21570   NaN     Date      NaN    NaN   \n",
      "\n",
      "        RESULTSTATUS   STOPPED  \n",
      "ROW_ID                          \n",
      "703              NaN  NotStopd  \n",
      "704              NaN  NotStopd  \n",
      "705              NaN  NotStopd  \n",
      "706              NaN  NotStopd  \n",
      "707              NaN  NotStopd  \n",
      "708              NaN  NotStopd  \n",
      "709              NaN  NotStopd  \n",
      "710              NaN  NotStopd  \n",
      "711              NaN  NotStopd  \n",
      "712              NaN  NotStopd  \n",
      "713              NaN  NotStopd  \n",
      "714              NaN  NotStopd  \n",
      "715              NaN  NotStopd  \n",
      "716              NaN  NotStopd  \n",
      "717              NaN  NotStopd  \n",
      "718              NaN  NotStopd  \n",
      "719              NaN  NotStopd  \n",
      "720              NaN  NotStopd  \n",
      "721              NaN  NotStopd  \n",
      "722              NaN     D/C'd  \n"
     ]
    }
   ],
   "source": [
    "test_subject = date_time_events['SUBJECT_ID'].iloc[0]\n",
    "\n",
    "li = diagnoses['SUBJECT_ID'] == test_subject \n",
    "\n",
    "subject_diagnoses = diagnoses.loc[li]\n",
    "\n",
    "test_hadm = subject_diagnoses['HADM_ID'].iloc[0]\n",
    "li2 = subject_diagnoses['HADM_ID'] == test_hadm\n",
    "\n",
    "subject_diagnoses = subject_diagnoses.loc[li2]\n",
    "print(subject_diagnoses)\n",
    "\n",
    "li = date_time_events['SUBJECT_ID'] == test_subject\n",
    "\n",
    "events = date_time_events.loc[li].copy()\n",
    "events = events.sort_values('CHARTTIME')\n",
    "events['CHARTTIME'] = events['CHARTTIME'] - events['CHARTTIME'].iloc[0]\n",
    "print(events)\n",
    "\n",
    "#print(diagnoses)"
   ]
  },
  {
   "cell_type": "code",
   "execution_count": 55,
   "metadata": {},
   "outputs": [
    {
     "name": "stdout",
     "output_type": "stream",
     "text": [
      "6439\n",
      "4485937\n",
      "14567\n",
      "14567\n",
      "4485937\n"
     ]
    }
   ],
   "source": [
    "#print(date_time_events[:5])\n",
    "\n",
    "test_subject = subjects[0]\n",
    "print(test_subject)\n",
    "li = date_time_events['SUBJECT_ID'] == test_subject\n",
    "\n",
    "#print(date_time_events.loc[li])\n",
    "print(max(date_time_events['ROW_ID']))\n",
    "print(max(icd_codes['ROW_ID']))\n",
    "print(len(icd_codes['ROW_ID'].unique()))\n",
    "print(len(date_time_events['ROW_ID'].unique()))"
   ]
  },
  {
   "cell_type": "code",
   "execution_count": null,
   "metadata": {},
   "outputs": [],
   "source": []
  },
  {
   "cell_type": "code",
   "execution_count": 2,
   "metadata": {},
   "outputs": [
    {
     "name": "stdout",
     "output_type": "stream",
     "text": [
      "89527\n",
      "['the', 'and', 'a', 'of', 'to', 'is', 'it', 'in', 'i', 'this']\n",
      "1143\n",
      "nobility\n"
     ]
    }
   ],
   "source": [
    "vocab = []\n",
    "\n",
    "with open('aclImdb/imdb.vocab', 'r') as file:\n",
    "    for line in file:\n",
    "        vocab.append(line[:-1])\n",
    "        \n",
    "        \n",
    "vocab_size = len(vocab)\n",
    "print(vocab_size)\n",
    "print(vocab[:10])\n",
    "\n",
    "word_to_index = dict([(w, i) for i, w in enumerate(vocab)])\n",
    "index_to_word = dict([(i, w) for i, w in enumerate(vocab)])\n",
    "\n",
    "print(word_to_index['awesome'])\n",
    "print(index_to_word[12345])"
   ]
  },
  {
   "cell_type": "code",
   "execution_count": 3,
   "metadata": {
    "scrolled": true
   },
   "outputs": [
    {
     "name": "stdout",
     "output_type": "stream",
     "text": [
      "500\n"
     ]
    }
   ],
   "source": [
    "files = glob.glob('aclImdb/train/pos/*.txt')[:50]\n",
    "print(len(files))\n",
    "\n",
    "lengths = []\n",
    "\n",
    "for filename in files:\n",
    "    with open(filename, 'r') as file:\n",
    "        lengths.append(len(file.readline().split(' ')))"
   ]
  },
  {
   "cell_type": "code",
   "execution_count": 4,
   "metadata": {},
   "outputs": [
    {
     "name": "stdout",
     "output_type": "stream",
     "text": [
      "tensor(228.9180, device='cuda:0')\n",
      "34\n",
      "995\n"
     ]
    }
   ],
   "source": [
    "print(torch.mean(torch.tensor(lengths).type(Tensor)))\n",
    "print(min(lengths))\n",
    "print(max(lengths))"
   ]
  },
  {
   "cell_type": "code",
   "execution_count": 129,
   "metadata": {},
   "outputs": [
    {
     "name": "stdout",
     "output_type": "stream",
     "text": [
      "tensor([0.5769, 0.1538, 0.1154, 0.0385, 0.0769, 0.0385], device='cuda:0')\n",
      "tensor(1.)\n"
     ]
    }
   ],
   "source": [
    "# Define variables\n",
    "vocab_size = 6\n",
    "var_ids = list(range(vocab_size))\n",
    "var_names = ['var' + str(i) for i in var_ids]\n",
    "var_weights = torch.tensor([15, 4, 3, 1, 2, 1]).type(Tensor) \n",
    "var_weights = var_weights / torch.sum(var_weights)# variable distribution of mock data\n",
    "sequence_length = 10\n",
    "n_individuals = 2000\n",
    "\n",
    "#noise_length = 2\n",
    "print(var_weights)\n",
    "print(torch.sum(var_weights.cpu()))"
   ]
  },
  {
   "cell_type": "code",
   "execution_count": 130,
   "metadata": {},
   "outputs": [],
   "source": [
    "# Helper function(s)\n",
    "\n",
    "# round a number to n significant digits\n",
    "def round_to_n(x, n = 2):\n",
    "    return round(x, -int(floor(log10(abs(x)))) + (n - 1)) if x != 0 else 0"
   ]
  },
  {
   "cell_type": "code",
   "execution_count": 131,
   "metadata": {},
   "outputs": [
    {
     "name": "stdout",
     "output_type": "stream",
     "text": [
      "time taken: 1.9 seconds\n",
      "['var0', 'var0', 'var2', 'var0', 'var0', 'var0', 'var4', 'var2', 'var2', 'var1']\n",
      "['var0', 'var0', 'var0', 'var4', 'var0', 'var0', 'var0', 'var0', 'var0', 'var0']\n",
      "['var4', 'var1', 'var4', 'var0', 'var0', 'var2', 'var5', 'var4', 'var3', 'var0']\n",
      "['var0', 'var0', 'var0', 'var0', 'var0', 'var0', 'var1', 'var0', 'var0', 'var0']\n",
      "['var0', 'var0', 'var1', 'var4', 'var4', 'var3', 'var0', 'var0', 'var4', 'var0']\n",
      "['var0', 'var4', 'var2', 'var0', 'var0', 'var0', 'var1', 'var4', 'var0', 'var5']\n",
      "['var0', 'var3', 'var0', 'var0', 'var2', 'var0', 'var4', 'var2', 'var0', 'var5']\n",
      "['var1', 'var0', 'var0', 'var0', 'var0', 'var1', 'var2', 'var0', 'var0', 'var2']\n",
      "['var4', 'var2', 'var0', 'var0', 'var0', 'var4', 'var0', 'var1', 'var0', 'var0']\n",
      "['var1', 'var0', 'var1', 'var0', 'var1', 'var2', 'var0', 'var0', 'var4', 'var0']\n"
     ]
    }
   ],
   "source": [
    "# Generate mock data\n",
    "\n",
    "events = []\n",
    "\n",
    "start_time = time.time()\n",
    "\n",
    "alternative_weights = torch.tensor([7, 2, 1, 2, 1, 4]).type(torch.FloatTensor) \n",
    "alternative_weights = alternative_weights / torch.sum(alternative_weights)\n",
    "\n",
    "for indv in range(n_individuals):\n",
    "    tmp = []\n",
    "    for t in range(sequence_length):\n",
    "        if t > 0 and tmp[t - 1] == 'var2':\n",
    "            var = np.random.choice(var_names, p=alternative_weights.cpu())\n",
    "        else:\n",
    "            var = np.random.choice(var_names, p=var_weights.cpu())\n",
    "        tmp.append(var)\n",
    "    events.append(tmp)\n",
    "        \n",
    "print('time taken:', round_to_n(time.time() - start_time), 'seconds')\n",
    "\n",
    "for i in range(10):\n",
    "    print(events[i])"
   ]
  },
  {
   "cell_type": "code",
   "execution_count": 132,
   "metadata": {},
   "outputs": [
    {
     "name": "stdout",
     "output_type": "stream",
     "text": [
      "{'var0': 0, 'var1': 1, 'var2': 2, 'var3': 3, 'var4': 4, 'var5': 5}\n",
      "tensor([[0, 0, 2, 0, 0, 0, 4, 2, 2, 1],\n",
      "        [0, 0, 0, 4, 0, 0, 0, 0, 0, 0],\n",
      "        [4, 1, 4, 0, 0, 2, 5, 4, 3, 0],\n",
      "        [0, 0, 0, 0, 0, 0, 1, 0, 0, 0],\n",
      "        [0, 0, 1, 4, 4, 3, 0, 0, 4, 0],\n",
      "        [0, 4, 2, 0, 0, 0, 1, 4, 0, 5],\n",
      "        [0, 3, 0, 0, 2, 0, 4, 2, 0, 5],\n",
      "        [1, 0, 0, 0, 0, 1, 2, 0, 0, 2],\n",
      "        [4, 2, 0, 0, 0, 4, 0, 1, 0, 0],\n",
      "        [1, 0, 1, 0, 1, 2, 0, 0, 4, 0]], device='cuda:0')\n"
     ]
    }
   ],
   "source": [
    "vars_to_indices = dict([(v, i) for i, v in enumerate(var_names)])\n",
    "print(vars_to_indices)\n",
    "data = torch.tensor([[vars_to_indices[e] for e in event] for event in events])\n",
    "if cuda:\n",
    "    data = data.cuda()\n",
    "print(data[:10])"
   ]
  },
  {
   "cell_type": "code",
   "execution_count": 133,
   "metadata": {},
   "outputs": [
    {
     "name": "stdout",
     "output_type": "stream",
     "text": [
      "tensor([[[1., 0., 0., 0.],\n",
      "         [0., 1., 0., 0.],\n",
      "         [0., 0., 1., 0.],\n",
      "         [0., 0., 0., 1.]]], device='cuda:0')\n",
      "tensor([[[1., 0., 0., 0., 0., 0.],\n",
      "         [0., 0., 0., 1., 0., 0.],\n",
      "         [0., 1., 0., 0., 0., 0.],\n",
      "         [0., 1., 0., 0., 0., 0.],\n",
      "         [0., 0., 0., 0., 1., 0.],\n",
      "         [0., 0., 0., 0., 0., 1.],\n",
      "         [1., 0., 0., 0., 0., 0.],\n",
      "         [0., 0., 0., 1., 0., 0.],\n",
      "         [0., 0., 1., 0., 0., 0.],\n",
      "         [0., 0., 0., 0., 1., 0.]]], device='cuda:0', grad_fn=<CatBackward>)\n",
      "tensor([[0, 3, 1, 1, 4, 5, 0, 3, 2, 4]], device='cuda:0')\n",
      "tensor([[[ 1.4425,  0.7888, -1.0418, -0.2153],\n",
      "         [ 0.1557,  0.9567, -0.7027, -1.5321],\n",
      "         [ 0.5563,  0.5732,  0.4609, -1.2281],\n",
      "         [ 0.7421,  0.5202, -0.6637,  1.0721]]], device='cuda:0',\n",
      "       grad_fn=<AddBackward0>)\n"
     ]
    }
   ],
   "source": [
    "# Test generator output\n",
    "\n",
    "mem_slots = 4\n",
    "head_size = 2\n",
    "embed_size = 2\n",
    "temperature = 1\n",
    "num_heads = 2\n",
    "\n",
    "G = RelationalMemoryGenerator(mem_slots, head_size, embed_size, vocab_size, temperature, num_heads)\n",
    "\n",
    "start_token = torch.tensor([[0]])\n",
    "memory = G.initial_state(batch_size = 1)\n",
    "\n",
    "if cuda:\n",
    "    G.cuda()\n",
    "    start_token = start_token.cuda()\n",
    "    memory = memory.cuda()\n",
    "\n",
    "print(memory)\n",
    "logits, tokens, _, memory = G(start_token, memory, sequence_length, None)\n",
    "print(logits)\n",
    "print(tokens)\n",
    "print(memory)\n"
   ]
  },
  {
   "cell_type": "code",
   "execution_count": 134,
   "metadata": {},
   "outputs": [
    {
     "name": "stdout",
     "output_type": "stream",
     "text": [
      "tensor(0.5115, device='cuda:0') tensor(1.1068, device='cuda:0')\n"
     ]
    }
   ],
   "source": [
    "# Define generator evaluation functions\n",
    "\n",
    "def eval_generator(G, data, vocab_size):\n",
    "    memory = G.initial_state(batch_size = data.shape[0])\n",
    "    if cuda:\n",
    "        memory = memory.cuda()\n",
    "    _, data_fake, _, _ = G(data[:, :1], memory, data.shape[1])\n",
    "    word_means = torch.stack([torch.mean((data == i).type(Tensor), dim = 0) for i in range(vocab_size)])\n",
    "    word_means_fake = torch.stack([torch.mean((data_fake == i).type(Tensor), dim = 0) for i in range(vocab_size)])\n",
    "    \n",
    "    scores = torch.sum(torch.abs(word_means - word_means_fake), dim = 1)\n",
    "    \n",
    "    return scores # for each word; the lower the better\n",
    "\n",
    "def count_special_cases(data, vocab_size):\n",
    "    counts1 = torch.zeros(vocab_size)\n",
    "    counts2 = torch.zeros(vocab_size)\n",
    "    \n",
    "    if cuda:\n",
    "        counts1 = counts1.cuda()\n",
    "        counts2 = counts2.cuda()\n",
    "    \n",
    "    for i in range(data.shape[0]):\n",
    "        for t in range(data.shape[1] - 1):\n",
    "            if data[i, t] == 2:\n",
    "                counts1[data[i, t + 1]] += 1\n",
    "            else:\n",
    "                counts2[data[i, t + 1]] += 1\n",
    "                \n",
    "    return counts1, counts2\n",
    "\n",
    "def chi_sqrd_dist(counts1, counts2):\n",
    "    counts1 = counts1.view(1, -1)\n",
    "    counts2 = counts2.view(1, -1)\n",
    "    table = torch.cat([counts1, counts2], dim = 0)\n",
    "    col_sums = torch.sum(table, dim = 0)\n",
    "    row_sums = torch.sum(table, dim = 1)\n",
    "    n = torch.sum(col_sums)\n",
    "    \n",
    "    table_freq = table / n\n",
    "    col_freqs = col_sums / n\n",
    "    row_freqs = row_sums / n\n",
    "    \n",
    "    diffs = table_freq[0, :] / row_freqs[0] - table_freq[1, :] / row_freqs[1]\n",
    "    diffs_sqrd = diffs ** 2\n",
    "    diffs_sqrd_norm = diffs_sqrd / col_freqs\n",
    "    \n",
    "    chi_sqrd_distance = torch.sum(diffs_sqrd_norm)\n",
    "    \n",
    "    return chi_sqrd_distance\n",
    "    \n",
    "\n",
    "def test_special_case(G, data, vocab_size, return_freq = True):\n",
    "    counts_real1, counts_real2 = count_special_cases(data, vocab_size)\n",
    "    freq_real1 = counts_real1 / torch.sum(counts_real1)\n",
    "    freq_real2 = counts_real2 / torch.sum(counts_real2)\n",
    "    \n",
    "    memory = G.initial_state(batch_size = data.shape[0])\n",
    "\n",
    "    if cuda:\n",
    "        memory = memory.cuda()\n",
    "    \n",
    "    _, data_fake, _, _ = G(data[:, :1], memory, data.shape[1])\n",
    "    \n",
    "    counts_fake1, counts_fake2 = count_special_cases(data_fake, vocab_size)\n",
    "    freq_fake1 = counts_fake1 / torch.sum(counts_fake1)\n",
    "    freq_fake2 = counts_fake2 / torch.sum(counts_fake2)\n",
    "    \n",
    "    if return_freq:\n",
    "        return freq_fake1, freq_fake2\n",
    "    else:\n",
    "        score1 = chi_sqrd_dist(counts_real1, counts_fake1)\n",
    "        score2 = chi_sqrd_dist(counts_real2, counts_fake2)\n",
    "        return score1, score2\n",
    "\n",
    "score1, score2 = test_special_case(G, data, vocab_size, False)\n",
    "print(score1, score2)"
   ]
  },
  {
   "cell_type": "code",
   "execution_count": 135,
   "metadata": {},
   "outputs": [
    {
     "name": "stdout",
     "output_type": "stream",
     "text": [
      "tensor([[[1., 0., 0., 0., 0., 0.],\n",
      "         [0., 0., 0., 1., 0., 0.],\n",
      "         [0., 1., 0., 0., 0., 0.],\n",
      "         [0., 1., 0., 0., 0., 0.],\n",
      "         [0., 0., 0., 0., 1., 0.],\n",
      "         [0., 0., 0., 0., 0., 1.],\n",
      "         [1., 0., 0., 0., 0., 0.],\n",
      "         [0., 0., 0., 1., 0., 0.],\n",
      "         [0., 0., 1., 0., 0., 0.],\n",
      "         [0., 0., 0., 0., 1., 0.]]], device='cuda:0', grad_fn=<CatBackward>)\n",
      "tensor([[0.4686, 0.4712]], device='cuda:0', grad_fn=<SqueezeBackward1>)\n",
      "tensor([0.4699], device='cuda:0', grad_fn=<MeanBackward2>)\n"
     ]
    }
   ],
   "source": [
    "# Test Discriminator output\n",
    "\n",
    "n_embeddings = 2\n",
    "embed_size = 2\n",
    "out_channels = 5 \n",
    "filter_sizes = [2, 3] # values can be at most the sequence_length\n",
    "\n",
    "D = RelGANDiscriminator(n_embeddings, vocab_size, embed_size, sequence_length, out_channels, filter_sizes)\n",
    "\n",
    "if cuda:\n",
    "    D.cuda()\n",
    "\n",
    "inp = logits\n",
    "print(inp)\n",
    "print(D(inp, False))\n",
    "print(D(inp))\n"
   ]
  },
  {
   "cell_type": "code",
   "execution_count": 136,
   "metadata": {},
   "outputs": [],
   "source": [
    "# Define the generator pre-train function\n",
    "\n",
    "def pretrain_generator(G, train_data, vocab_size, n_epochs, lr, print_step = 10):\n",
    "    loss_function = nn.BCELoss()\n",
    "    optimizer = torch.optim.Adam(G.parameters(), lr=lr)\n",
    "    \n",
    "    train_data_one_hot = F.one_hot(train_data, vocab_size).type(Tensor)\n",
    "    start_token = train_data[:, :1]\n",
    "    sequence_length = train_data.shape[1]\n",
    "    \n",
    "    if cuda:\n",
    "        G.cuda()\n",
    "        loss_function.cuda()\n",
    "        start_token = start_token.cuda()\n",
    "    \n",
    "    for e in range(n_epochs):\n",
    "        optimizer.zero_grad()\n",
    "        \n",
    "        memory = G.initial_state(batch_size = train_data.shape[0])\n",
    "        \n",
    "        if cuda:\n",
    "            memory = memory.cuda()\n",
    "        \n",
    "        logits, _, _, _ = G(start_token, memory, sequence_length)\n",
    "        \n",
    "        loss = loss_function(logits, train_data_one_hot)\n",
    "        \n",
    "        loss.backward()\n",
    "        optimizer.step()\n",
    "        \n",
    "        if e % print_step == 0:\n",
    "            print(\n",
    "                \"[Epoch %d/%d] [G loss: %f]\"\n",
    "                % (e, n_epochs, loss.item())\n",
    "            )"
   ]
  },
  {
   "cell_type": "code",
   "execution_count": 137,
   "metadata": {},
   "outputs": [
    {
     "name": "stdout",
     "output_type": "stream",
     "text": [
      "tensor([3.4210, 1.0360, 0.1360, 1.4230, 0.2630, 1.2030], device='cuda:0') tensor([ 5.9297,  6.7340,  1.1787, 36.9980,  3.4190, 31.2780], device='cuda:0')\n",
      "[Epoch 0/10] [G loss: 6.857559]\n",
      "[Epoch 2/10] [G loss: 6.731378]\n",
      "[Epoch 4/10] [G loss: 6.696838]\n",
      "[Epoch 6/10] [G loss: 6.599209]\n",
      "[Epoch 8/10] [G loss: 6.561907]\n",
      "tensor([2.5485, 0.4595, 0.1650, 1.0030, 0.1460, 1.0930], device='cuda:0') tensor([ 4.4174,  2.9867,  1.4300, 26.0780,  1.8980, 28.4180], device='cuda:0')\n"
     ]
    }
   ],
   "source": [
    "mem_slots = 4\n",
    "head_size = 2\n",
    "embed_size = 2\n",
    "temperature = 1\n",
    "num_heads = 2\n",
    "\n",
    "G = RelationalMemoryGenerator(mem_slots, head_size, embed_size, vocab_size, temperature, num_heads)\n",
    "\n",
    "if cuda:\n",
    "    G.cuda()\n",
    "\n",
    "# TODO: change to the better evaluation functions\n",
    "scores = eval_generator(G, data, vocab_size)\n",
    "print(scores, scores / var_weights)\n",
    "pretrain_generator(G, data, vocab_size, 10, 0.001, 2)\n",
    "scores = eval_generator(G, data, vocab_size)\n",
    "print(scores, scores / var_weights)"
   ]
  },
  {
   "cell_type": "code",
   "execution_count": 138,
   "metadata": {},
   "outputs": [],
   "source": [
    "# Define the training function\n",
    "\n",
    "def train(G, D, train_data, vocab_size, n_epochs, lr, temperature, print_step = 10, score_fn = test_special_case):    \n",
    "    scores = []\n",
    "    \n",
    "    score1, score2 = test_special_case(G, data, vocab_size, False)\n",
    "    print('scores before training:', score1, score2)\n",
    "    scores.append(torch.tensor([score1, score2]))\n",
    "    \n",
    "    print('pretraining generator...')\n",
    "    pretrain_generator(G, train_data, vocab_size, max(n_epochs // 10, 1), lr, max(n_epochs // 10 - 1, 1))\n",
    "    print('pretraining complete')\n",
    "    \n",
    "    score1, score2 = score_fn(G, train_data, vocab_size, False)\n",
    "    print(\"[Scores:\", score1, score2, \"]\")\n",
    "    scores.append(torch.tensor([score1, score2]))\n",
    "    \n",
    "    adversarial_loss = torch.nn.BCELoss()\n",
    "    \n",
    "    optimizer_G = torch.optim.Adam(G.parameters(), lr=lr)\n",
    "    optimizer_D = torch.optim.Adam(D.parameters(), lr=lr)\n",
    "    \n",
    "    train_data_one_hot = F.one_hot(train_data, vocab_size).type(Tensor)\n",
    "\n",
    "    start_token = train_data[:, :1]\n",
    "    sequence_length = train_data.shape[1]\n",
    "    \n",
    "    if cuda:\n",
    "        G.cuda()\n",
    "        D.cuda()\n",
    "        adversarial_loss.cuda()\n",
    "        start_token = start_token.cuda()\n",
    "    \n",
    "    for e in range(n_epochs):\n",
    "        # Adversarial ground truths\n",
    "        valid = Variable(Tensor(train_data.shape[0], 1).fill_(1.0), requires_grad=False)\n",
    "        fake = Variable(Tensor(train_data.shape[0], 1).fill_(0.0), requires_grad=False)\n",
    "\n",
    "        optimizer_G.zero_grad()\n",
    "\n",
    "        # Generate a batch of images\n",
    "        memory = G.initial_state(batch_size = train_data.shape[0])\n",
    "        if cuda:\n",
    "            memory = memory.cuda()\n",
    "        temp = temperature ** ((e + 1) / n_epochs)\n",
    "        fake_one_hot, _, _, _ = G(start_token, memory, sequence_length, temp)\n",
    "\n",
    "        # Loss measures generator's ability to fool the discriminator\n",
    "        g_loss = adversarial_loss(D(fake_one_hot), valid)\n",
    "\n",
    "        g_loss.backward()\n",
    "        optimizer_G.step()\n",
    "        \n",
    "        optimizer_D.zero_grad()\n",
    "\n",
    "        # Measure discriminator's ability to classify real from generated samples\n",
    "        real_loss = adversarial_loss(D(train_data_one_hot), valid)\n",
    "        fake_loss = adversarial_loss(D(fake_one_hot.detach()), fake)\n",
    "        d_loss = (real_loss + fake_loss) / 2\n",
    "\n",
    "        d_loss.backward()\n",
    "        optimizer_D.step()\n",
    "\n",
    "        if e % print_step == 0:\n",
    "            print(\n",
    "                \"[Epoch %d/%d] [D loss: %f] [G loss: %f]\"\n",
    "                % (e, n_epochs, d_loss.item(), g_loss.item())\n",
    "            )\n",
    "            #print(\"[Frequencies:\", score_fn(G, train_data, vocab_size), \"]\")\n",
    "            score1, score2 = score_fn(G, train_data, vocab_size, False)\n",
    "            print(\"[Scores:\", score1, score2, \"]\")\n",
    "            scores.append(torch.tensor([score1, score2]))\n",
    "            \n",
    "    score1, score2 = test_special_case(G, data, vocab_size, False)\n",
    "    print('scores after training:', score1, score2)\n",
    "    scores.append(torch.tensor([score1, score2]))\n",
    "            \n",
    "    #return scores\n",
    "    return torch.stack(scores)\n"
   ]
  },
  {
   "cell_type": "code",
   "execution_count": 141,
   "metadata": {},
   "outputs": [
    {
     "name": "stdout",
     "output_type": "stream",
     "text": [
      "distributions before training: tensor([0.1218, 0.1561, 0.1683, 0.2122, 0.1901, 0.1513], device='cuda:0') tensor([0.0964, 0.1612, 0.1840, 0.1982, 0.1958, 0.1644], device='cuda:0')\n",
      "benchmark distributions: tensor([0.4118, 0.1176, 0.0588, 0.1176, 0.0588, 0.2353]) tensor([0.5769, 0.1538, 0.1154, 0.0385, 0.0769, 0.0385], device='cuda:0')\n",
      "scores before training: tensor(0.7574, device='cuda:0') tensor(1.1974, device='cuda:0')\n",
      "pretraining generator...\n",
      "[Epoch 0/200] [G loss: 7.192816]\n",
      "[Epoch 199/200] [G loss: 3.745845]\n",
      "pretraining complete\n",
      "[Scores: tensor(0.7131, device='cuda:0') tensor(1.0300, device='cuda:0') ]\n",
      "[Epoch 0/2000] [D loss: 0.701670] [G loss: 0.743551]\n",
      "[Scores: tensor(0.8411, device='cuda:0') tensor(1.0390, device='cuda:0') ]\n",
      "[Epoch 100/2000] [D loss: 0.665388] [G loss: 0.690467]\n",
      "[Scores: tensor(0.1884, device='cuda:0') tensor(0.8270, device='cuda:0') ]\n",
      "[Epoch 200/2000] [D loss: 0.697724] [G loss: 0.667679]\n",
      "[Scores: tensor(0.8864, device='cuda:0') tensor(3.1971, device='cuda:0') ]\n",
      "[Epoch 300/2000] [D loss: 0.446337] [G loss: 0.987409]\n",
      "[Scores: tensor(2.4636, device='cuda:0') tensor(2.6201, device='cuda:0') ]\n",
      "[Epoch 400/2000] [D loss: 0.491020] [G loss: 0.962070]\n",
      "[Scores: tensor(1.1412, device='cuda:0') tensor(2.0967, device='cuda:0') ]\n",
      "[Epoch 500/2000] [D loss: 0.597900] [G loss: 0.681091]\n",
      "[Scores: tensor(1.3881, device='cuda:0') tensor(0.5045, device='cuda:0') ]\n",
      "[Epoch 600/2000] [D loss: 0.724374] [G loss: 0.675011]\n",
      "[Scores: tensor(0.5374, device='cuda:0') tensor(0.1547, device='cuda:0') ]\n",
      "[Epoch 700/2000] [D loss: 0.720232] [G loss: 0.667823]\n",
      "[Scores: tensor(0.4741, device='cuda:0') tensor(0.0488, device='cuda:0') ]\n",
      "[Epoch 800/2000] [D loss: 0.701393] [G loss: 0.680049]\n",
      "[Scores: tensor(0.6160, device='cuda:0') tensor(0.0048, device='cuda:0') ]\n",
      "[Epoch 900/2000] [D loss: 0.702431] [G loss: 0.685510]\n",
      "[Scores: tensor(0.2072, device='cuda:0') tensor(0.0340, device='cuda:0') ]\n",
      "[Epoch 1000/2000] [D loss: 0.686831] [G loss: 0.753136]\n",
      "[Scores: tensor(0.8933, device='cuda:0') tensor(0.1174, device='cuda:0') ]\n",
      "[Epoch 1100/2000] [D loss: 0.682615] [G loss: 0.695639]\n",
      "[Scores: tensor(0.8418, device='cuda:0') tensor(0.3010, device='cuda:0') ]\n",
      "[Epoch 1200/2000] [D loss: 0.692537] [G loss: 0.658406]\n",
      "[Scores: tensor(0.3926, device='cuda:0') tensor(0.1471, device='cuda:0') ]\n",
      "[Epoch 1300/2000] [D loss: 0.801063] [G loss: 0.823025]\n",
      "[Scores: tensor(0.8134, device='cuda:0') tensor(0.8735, device='cuda:0') ]\n",
      "[Epoch 1400/2000] [D loss: 0.702706] [G loss: 0.651211]\n",
      "[Scores: tensor(0.2961, device='cuda:0') tensor(0.0926, device='cuda:0') ]\n",
      "[Epoch 1500/2000] [D loss: 0.707467] [G loss: 0.741597]\n",
      "[Scores: tensor(0.7454, device='cuda:0') tensor(0.1319, device='cuda:0') ]\n",
      "[Epoch 1600/2000] [D loss: 0.701569] [G loss: 0.728510]\n",
      "[Scores: tensor(0.2973, device='cuda:0') tensor(0.2075, device='cuda:0') ]\n",
      "[Epoch 1700/2000] [D loss: 0.704644] [G loss: 0.713501]\n",
      "[Scores: tensor(0.4193, device='cuda:0') tensor(0.0734, device='cuda:0') ]\n",
      "[Epoch 1800/2000] [D loss: 0.690708] [G loss: 0.729829]\n",
      "[Scores: tensor(0.3754, device='cuda:0') tensor(0.0434, device='cuda:0') ]\n",
      "[Epoch 1900/2000] [D loss: 0.691695] [G loss: 0.714251]\n",
      "[Scores: tensor(0.2301, device='cuda:0') tensor(0.2091, device='cuda:0') ]\n",
      "scores after training: tensor(0.2594, device='cuda:0') tensor(0.2610, device='cuda:0')\n",
      "distributions after training: tensor([0.6246, 0.0372, 0.0372, 0.1479, 0.0675, 0.0856], device='cuda:0') tensor([0.6519, 0.0639, 0.0612, 0.0354, 0.1835, 0.0041], device='cuda:0')\n",
      "benchmark distributions: tensor([0.4118, 0.1176, 0.0588, 0.1176, 0.0588, 0.2353]) tensor([0.5769, 0.1538, 0.1154, 0.0385, 0.0769, 0.0385], device='cuda:0')\n",
      "time taken: 1700.0 seconds\n"
     ]
    }
   ],
   "source": [
    "# Train the GAN\n",
    "\n",
    "start_time = time.time()\n",
    "\n",
    "# Generator params\n",
    "mem_slots = 1\n",
    "head_size = 4\n",
    "embed_size = 3\n",
    "temperature = 50\n",
    "num_heads = 6\n",
    "num_blocks = 4\n",
    "\n",
    "G = RelationalMemoryGenerator(mem_slots, head_size, embed_size, vocab_size, temperature, num_heads, num_blocks)\n",
    "\n",
    "# Discriminator params\n",
    "n_embeddings = 3\n",
    "embed_size = embed_size\n",
    "out_channels = 10\n",
    "filter_sizes = [2, 3, 4] # values can be at most the sequence_length\n",
    "\n",
    "D = RelGANDiscriminator(n_embeddings, vocab_size, embed_size, sequence_length, out_channels, filter_sizes)\n",
    "\n",
    "if cuda:\n",
    "    G.cuda()\n",
    "    D.cuda()\n",
    "\n",
    "#scores = eval_generator(G, data, vocab_size)\n",
    "scores1, scores2 = test_special_case(G, data, vocab_size)\n",
    "print('distributions before training:', scores1, scores2)\n",
    "print('benchmark distributions:', alternative_weights, var_weights)\n",
    "\n",
    "# Train the GAN\n",
    "scores = train(G, D, data, vocab_size, 2000, 0.001, temperature, 100)\n",
    "\n",
    "#scores = eval_generator(G, data, vocab_size)\n",
    "scores1, scores2 = test_special_case(G, data, vocab_size)\n",
    "print('distributions after training:', scores1, scores2)\n",
    "print('benchmark distributions:', alternative_weights, var_weights)\n",
    "\n",
    "print('time taken:', round_to_n(time.time() - start_time), 'seconds')\n"
   ]
  },
  {
   "cell_type": "code",
   "execution_count": 142,
   "metadata": {},
   "outputs": [
    {
     "data": {
      "image/png": "[encoded data removed]",
      "text/plain": [
       "<Figure size 432x288 with 1 Axes>"
      ]
     },
     "metadata": {
      "needs_background": "light"
     },
     "output_type": "display_data"
    }
   ],
   "source": [
    "%matplotlib inline\n",
    "\n",
    "plt.plot(range(scores.shape[0]), scores[:, 0].numpy())\n",
    "plt.plot(range(scores.shape[0]), scores[:, 1].numpy())\n",
    "plt.show()"
   ]
  },
  {
   "cell_type": "code",
   "execution_count": null,
   "metadata": {},
   "outputs": [],
   "source": []
  }
 ],
 "metadata": {
  "kernelspec": {
   "display_name": "Python 3",
   "language": "python",
   "name": "python3"
  },
  "language_info": {
   "codemirror_mode": {
    "name": "ipython",
    "version": 3
   },
   "file_extension": ".py",
   "mimetype": "text/x-python",
   "name": "python",
   "nbconvert_exporter": "python",
   "pygments_lexer": "ipython3",
   "version": "3.7.0"
  }
 },
 "nbformat": 4,
 "nbformat_minor": 2
}
