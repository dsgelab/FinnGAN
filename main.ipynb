{
 "cells": [
  {
   "cell_type": "code",
   "execution_count": 1,
   "metadata": {},
   "outputs": [
    {
     "name": "stdout",
     "output_type": "stream",
     "text": [
      "Device: cuda:0\n"
     ]
    }
   ],
   "source": [
    "# Imports\n",
    "import torch\n",
    "import torch.nn as nn\n",
    "import torch.nn.functional as F\n",
    "from torch.autograd import Variable\n",
    "import numpy as np\n",
    "import pandas as pd\n",
    "from sklearn.model_selection import train_test_split\n",
    "import time\n",
    "from math import log10, floor\n",
    "import os\n",
    "import glob\n",
    "import matplotlib.pyplot as plt\n",
    "import datetime\n",
    "from math import ceil, isnan\n",
    "from params import *\n",
    "import sys\n",
    "try:\n",
    "    import torchtext\n",
    "    from torchtext.data import Field, Iterator, Dataset, Example\n",
    "except ImportError: \n",
    "    !{'/opt/anaconda3/bin/python3'} -m pip install --upgrade git+https://github.com/pytorch/text\n",
    "    import torchtext\n",
    "    from torchtext.data import Field, Iterator, Dataset\n",
    "\n",
    "from relational_rnn_models import RelationalMemoryGenerator\n",
    "from discriminator import RelGANDiscriminator\n",
    "\n",
    "cuda = torch.cuda.is_available()\n",
    "\n",
    "# Try setting the device to a GPU\n",
    "device = torch.device(\"cuda:0\" if cuda else \"cpu\")\n",
    "print('Device:', device)\n",
    "\n",
    "Tensor = torch.cuda.FloatTensor if cuda else torch.FloatTensor"
   ]
  },
  {
   "cell_type": "code",
   "execution_count": 73,
   "metadata": {},
   "outputs": [
    {
     "name": "stdout",
     "output_type": "stream",
     "text": [
      "49\n",
      "batch_size            32.000000\n",
      "chi-squared_score      0.169338\n",
      "embed_size            10.000000\n",
      "head_size             15.000000\n",
      "lr                     0.000100\n",
      "mem_slots              1.000000\n",
      "n_embeddings           3.000000\n",
      "num_blocks             8.000000\n",
      "num_filters            2.000000\n",
      "num_heads             10.000000\n",
      "out_channels          15.000000\n",
      "temperature          100.000000\n",
      "transition_score       1.070225\n",
      "Name: 47, dtype: float64\n"
     ]
    },
    {
     "data": {
      "text/html": [
       "<div>\n",
       "<style scoped>\n",
       "    .dataframe tbody tr th:only-of-type {\n",
       "        vertical-align: middle;\n",
       "    }\n",
       "\n",
       "    .dataframe tbody tr th {\n",
       "        vertical-align: top;\n",
       "    }\n",
       "\n",
       "    .dataframe thead th {\n",
       "        text-align: right;\n",
       "    }\n",
       "</style>\n",
       "<table border=\"1\" class=\"dataframe\">\n",
       "  <thead>\n",
       "    <tr style=\"text-align: right;\">\n",
       "      <th></th>\n",
       "      <th>batch_size</th>\n",
       "      <th>chi-squared_score</th>\n",
       "      <th>embed_size</th>\n",
       "      <th>head_size</th>\n",
       "      <th>lr</th>\n",
       "      <th>mem_slots</th>\n",
       "      <th>n_embeddings</th>\n",
       "      <th>num_blocks</th>\n",
       "      <th>num_filters</th>\n",
       "      <th>num_heads</th>\n",
       "      <th>out_channels</th>\n",
       "      <th>temperature</th>\n",
       "      <th>transition_score</th>\n",
       "    </tr>\n",
       "  </thead>\n",
       "  <tbody>\n",
       "    <tr>\n",
       "      <th>0</th>\n",
       "      <td>32.0</td>\n",
       "      <td>0.853223</td>\n",
       "      <td>2.0</td>\n",
       "      <td>1.0</td>\n",
       "      <td>0.00010</td>\n",
       "      <td>2.0</td>\n",
       "      <td>1.0</td>\n",
       "      <td>2.0</td>\n",
       "      <td>2.0</td>\n",
       "      <td>15.0</td>\n",
       "      <td>3.0</td>\n",
       "      <td>5.0</td>\n",
       "      <td>1.526557</td>\n",
       "    </tr>\n",
       "    <tr>\n",
       "      <th>1</th>\n",
       "      <td>32.0</td>\n",
       "      <td>0.347557</td>\n",
       "      <td>2.0</td>\n",
       "      <td>10.0</td>\n",
       "      <td>0.00010</td>\n",
       "      <td>2.0</td>\n",
       "      <td>1.0</td>\n",
       "      <td>4.0</td>\n",
       "      <td>1.0</td>\n",
       "      <td>5.0</td>\n",
       "      <td>5.0</td>\n",
       "      <td>10.0</td>\n",
       "      <td>1.515711</td>\n",
       "    </tr>\n",
       "    <tr>\n",
       "      <th>2</th>\n",
       "      <td>128.0</td>\n",
       "      <td>0.349438</td>\n",
       "      <td>3.0</td>\n",
       "      <td>1.0</td>\n",
       "      <td>0.00001</td>\n",
       "      <td>2.0</td>\n",
       "      <td>3.0</td>\n",
       "      <td>4.0</td>\n",
       "      <td>3.0</td>\n",
       "      <td>10.0</td>\n",
       "      <td>3.0</td>\n",
       "      <td>5.0</td>\n",
       "      <td>1.341347</td>\n",
       "    </tr>\n",
       "    <tr>\n",
       "      <th>3</th>\n",
       "      <td>128.0</td>\n",
       "      <td>0.534469</td>\n",
       "      <td>3.0</td>\n",
       "      <td>1.0</td>\n",
       "      <td>0.00001</td>\n",
       "      <td>1.0</td>\n",
       "      <td>1.0</td>\n",
       "      <td>2.0</td>\n",
       "      <td>2.0</td>\n",
       "      <td>5.0</td>\n",
       "      <td>10.0</td>\n",
       "      <td>50.0</td>\n",
       "      <td>1.465212</td>\n",
       "    </tr>\n",
       "    <tr>\n",
       "      <th>4</th>\n",
       "      <td>128.0</td>\n",
       "      <td>0.045378</td>\n",
       "      <td>5.0</td>\n",
       "      <td>2.0</td>\n",
       "      <td>0.00001</td>\n",
       "      <td>5.0</td>\n",
       "      <td>5.0</td>\n",
       "      <td>6.0</td>\n",
       "      <td>2.0</td>\n",
       "      <td>15.0</td>\n",
       "      <td>5.0</td>\n",
       "      <td>50.0</td>\n",
       "      <td>1.473315</td>\n",
       "    </tr>\n",
       "  </tbody>\n",
       "</table>\n",
       "</div>"
      ],
      "text/plain": [
       "   batch_size  chi-squared_score  embed_size  head_size       lr  mem_slots  \\\n",
       "0        32.0           0.853223         2.0        1.0  0.00010        2.0   \n",
       "1        32.0           0.347557         2.0       10.0  0.00010        2.0   \n",
       "2       128.0           0.349438         3.0        1.0  0.00001        2.0   \n",
       "3       128.0           0.534469         3.0        1.0  0.00001        1.0   \n",
       "4       128.0           0.045378         5.0        2.0  0.00001        5.0   \n",
       "\n",
       "   n_embeddings  num_blocks  num_filters  num_heads  out_channels  \\\n",
       "0           1.0         2.0          2.0       15.0           3.0   \n",
       "1           1.0         4.0          1.0        5.0           5.0   \n",
       "2           3.0         4.0          3.0       10.0           3.0   \n",
       "3           1.0         2.0          2.0        5.0          10.0   \n",
       "4           5.0         6.0          2.0       15.0           5.0   \n",
       "\n",
       "   temperature  transition_score  \n",
       "0          5.0          1.526557  \n",
       "1         10.0          1.515711  \n",
       "2          5.0          1.341347  \n",
       "3         50.0          1.465212  \n",
       "4         50.0          1.473315  "
      ]
     },
     "execution_count": 73,
     "metadata": {},
     "output_type": "execute_result"
    }
   ],
   "source": [
    "search_results = pd.read_csv('search_results/random_search.csv', index_col = 0)\n",
    "print(len(search_results))\n",
    "print(search_results.iloc[search_results['transition_score'].idxmin()])\n",
    "search_results.head()"
   ]
  },
  {
   "cell_type": "code",
   "execution_count": 74,
   "metadata": {},
   "outputs": [
    {
     "data": {
      "image/png": "[encoded data removed]",
      "text/plain": [
       "<Figure size 432x288 with 1 Axes>"
      ]
     },
     "metadata": {
      "needs_background": "light"
     },
     "output_type": "display_data"
    }
   ],
   "source": [
    "plt.hist(search_results['transition_score'])\n",
    "plt.show()"
   ]
  },
  {
   "cell_type": "code",
   "execution_count": 75,
   "metadata": {},
   "outputs": [
    {
     "data": {
      "image/png": "[encoded data removed]",
      "text/plain": [
       "<Figure size 432x288 with 1 Axes>"
      ]
     },
     "metadata": {
      "needs_background": "light"
     },
     "output_type": "display_data"
    }
   ],
   "source": [
    "plt.barh(\n",
    "    np.arange(len(search_results.columns)), \n",
    "    search_results.corr(method='spearman')['transition_score'].values, \n",
    "    tick_label=search_results.columns\n",
    ")\n",
    "plt.show()"
   ]
  },
  {
   "cell_type": "code",
   "execution_count": 76,
   "metadata": {},
   "outputs": [
    {
     "data": {
      "image/png": "[encoded data removed]",
      "text/plain": [
       "<Figure size 432x288 with 1 Axes>"
      ]
     },
     "metadata": {
      "needs_background": "light"
     },
     "output_type": "display_data"
    }
   ],
   "source": [
    "plt.barh(\n",
    "    np.arange(len(search_results.columns)), \n",
    "    search_results.corr(method='spearman')['chi-squared_score'].values, \n",
    "    tick_label=search_results.columns\n",
    ")\n",
    "plt.show()"
   ]
  },
  {
   "cell_type": "code",
   "execution_count": 2,
   "metadata": {},
   "outputs": [],
   "source": [
    "# Helper function(s)\n",
    "\n",
    "# round a number to n significant digits\n",
    "def round_to_n(x, n = 2):\n",
    "    return round(x, -int(floor(log10(abs(x)))) + (n - 1)) if x != 0 else 0\n",
    "\n",
    "# Transform a date string into a datetime object\n",
    "def str_to_datetime(string):\n",
    "    return datetime.datetime.strptime(string, '%Y-%m-%d %H:%M:%S')\n",
    "\n",
    "# TODO: more complex reduction: takes into account different ICD groups?\n",
    "def reduce_icd(icd_full):\n",
    "    return icd_full[:2]\n",
    "\n",
    "def get_distribution(data, field, vocab_size, fake = True):\n",
    "    counts = torch.zeros(vocab_size - 2)\n",
    "\n",
    "    for i in range(2, vocab_size):\n",
    "        if fake:\n",
    "            counts[i - 2] = torch.sum(data == i)\n",
    "        else:\n",
    "            counts[i - 2] = field.vocab.freqs[field.vocab.itos[i]]\n",
    "\n",
    "    freqs = counts / torch.sum(counts)\n",
    "    \n",
    "    return counts, freqs\n",
    "    "
   ]
  },
  {
   "cell_type": "code",
   "execution_count": 3,
   "metadata": {},
   "outputs": [
    {
     "name": "stdout",
     "output_type": "stream",
     "text": [
      "Index(['FINNGENID', 'EVENT_AGE', 'EVENT_YEAR', 'ENDPOINT'], dtype='object')\n",
      "922\n",
      "['I9_HYPTENS' 'I9_HEARTFAIL_NS' 'I9_ANGINA' 'I9_CHD' 'I9_STR_EXH']\n",
      "CPU times: user 2.42 s, sys: 224 ms, total: 2.65 s\n",
      "Wall time: 2.42 s\n"
     ]
    }
   ],
   "source": [
    "%%time\n",
    "\n",
    "filename = 'data/FINNGEN_ENDPOINTS_DF3_longitudinal_V1_for_SandBox.txt.gz'\n",
    "\n",
    "endpoints = ['I9_HYPTENS', 'I9_ANGINA', 'I9_HEARTFAIL_NS', 'I9_STR_EXH', 'I9_CHD']\n",
    "\n",
    "events = pd.read_csv(filename, compression = 'infer', sep='\\t', nrows = 3_000_000)\n",
    "\n",
    "print(events.columns)\n",
    "\n",
    "# include all endpoints in a list\n",
    "events = events[events['ENDPOINT'].isin(endpoints)]\n",
    "events = events.groupby('FINNGENID').filter(lambda x: len(x) > 1)\n",
    "\n",
    "subjects = events['FINNGENID'].unique()\n",
    "n_individuals = len(subjects)\n",
    "print(n_individuals)\n",
    "print(events['ENDPOINT'].unique())"
   ]
  },
  {
   "cell_type": "code",
   "execution_count": 4,
   "metadata": {},
   "outputs": [
    {
     "name": "stdout",
     "output_type": "stream",
     "text": [
      "count    922.000000\n",
      "mean      10.750206\n",
      "std       10.697630\n",
      "min        0.000000\n",
      "25%        1.122500\n",
      "50%        8.090000\n",
      "75%       17.447500\n",
      "max       45.100000\n",
      "dtype: float64\n",
      "count    922.000000\n",
      "mean      14.299349\n",
      "std       19.413814\n",
      "min        2.000000\n",
      "25%        3.000000\n",
      "50%        6.000000\n",
      "75%       16.000000\n",
      "max      131.000000\n",
      "dtype: float64\n",
      "CPU times: user 240 ms, sys: 8 ms, total: 248 ms\n",
      "Wall time: 248 ms\n"
     ]
    }
   ],
   "source": [
    "%%time\n",
    "\n",
    "print(events.groupby('FINNGENID').apply(lambda x: x['EVENT_AGE'].max() - x['EVENT_AGE'].min()).describe())\n",
    "print(events.groupby('FINNGENID').apply(lambda x: len(x)).describe())"
   ]
  },
  {
   "cell_type": "code",
   "execution_count": 5,
   "metadata": {},
   "outputs": [
    {
     "name": "stdout",
     "output_type": "stream",
     "text": [
      "5\n"
     ]
    }
   ],
   "source": [
    "#max_sequence_length = 5\n",
    "\n",
    "sequence_length = min(events.groupby('FINNGENID').apply(lambda x: len(x)).max(), max_sequence_length)\n",
    "print(sequence_length)\n",
    "\n",
    "def get_sequence_of_codes(subject):\n",
    "    codes = []\n",
    "    \n",
    "    count = 0\n",
    "    for i in subject.sort_values('EVENT_AGE').index:\n",
    "        codes.append(subject.loc[i, 'ENDPOINT'])\n",
    "        count += 1\n",
    "        if count == sequence_length:\n",
    "            break\n",
    "        \n",
    "    res = ' '.join(codes)\n",
    "    return res\n",
    "\n",
    "def get_sequence_of_time_differences(subject):\n",
    "    times = [0]\n",
    "    \n",
    "    count = 0\n",
    "    for i in subject.sort_values('EVENT_AGE').index:\n",
    "        times.append(subject.loc[i, 'EVENT_AGE'])\n",
    "        count += 1\n",
    "        if count == sequence_length:\n",
    "            break\n",
    "        \n",
    "    res = np.diff(times)\n",
    "    return res\n",
    "    "
   ]
  },
  {
   "cell_type": "code",
   "execution_count": 39,
   "metadata": {},
   "outputs": [
    {
     "name": "stdout",
     "output_type": "stream",
     "text": [
      "count    922.000000\n",
      "mean       4.106291\n",
      "std        1.206922\n",
      "min        2.000000\n",
      "25%        3.000000\n",
      "50%        5.000000\n",
      "75%        5.000000\n",
      "max        5.000000\n",
      "dtype: float64\n",
      "(922,)\n",
      "count    922.000000\n",
      "mean       4.106291\n",
      "std        1.206922\n",
      "min        2.000000\n",
      "25%        3.000000\n",
      "50%        5.000000\n",
      "75%        5.000000\n",
      "max        5.000000\n",
      "dtype: float64\n",
      "(922,)\n",
      "CPU times: user 1.48 s, sys: 48 ms, total: 1.53 s\n",
      "Wall time: 1.45 s\n"
     ]
    }
   ],
   "source": [
    "%%time\n",
    "\n",
    "sequences_of_codes = events.groupby('FINNGENID').apply(get_sequence_of_codes)\n",
    "#print(sequences_of_codes.head())\n",
    "print(sequences_of_codes.apply(lambda x: len(x.split(' '))).describe())\n",
    "print(sequences_of_codes.shape)\n",
    "\n",
    "sequences_of_times = events.groupby('FINNGENID').apply(get_sequence_of_time_differences)\n",
    "#print(sequences_of_times.head())\n",
    "print(sequences_of_times.apply(lambda x: len(x)).describe())\n",
    "print(sequences_of_times.shape)"
   ]
  },
  {
   "cell_type": "code",
   "execution_count": 30,
   "metadata": {},
   "outputs": [
    {
     "data": {
      "text/html": [
       "<div>\n",
       "<style scoped>\n",
       "    .dataframe tbody tr th:only-of-type {\n",
       "        vertical-align: middle;\n",
       "    }\n",
       "\n",
       "    .dataframe tbody tr th {\n",
       "        vertical-align: top;\n",
       "    }\n",
       "\n",
       "    .dataframe thead th {\n",
       "        text-align: right;\n",
       "    }\n",
       "</style>\n",
       "<table border=\"1\" class=\"dataframe\">\n",
       "  <thead>\n",
       "    <tr style=\"text-align: right;\">\n",
       "      <th></th>\n",
       "      <th>FINNGENID</th>\n",
       "      <th>EVENT_AGE</th>\n",
       "      <th>EVENT_YEAR</th>\n",
       "    </tr>\n",
       "    <tr>\n",
       "      <th>ENDPOINT</th>\n",
       "      <th></th>\n",
       "      <th></th>\n",
       "      <th></th>\n",
       "    </tr>\n",
       "  </thead>\n",
       "  <tbody>\n",
       "    <tr>\n",
       "      <th>I9_ANGINA</th>\n",
       "      <td>0.077291</td>\n",
       "      <td>0.077291</td>\n",
       "      <td>0.077291</td>\n",
       "    </tr>\n",
       "    <tr>\n",
       "      <th>I9_CHD</th>\n",
       "      <td>0.057191</td>\n",
       "      <td>0.057191</td>\n",
       "      <td>0.057191</td>\n",
       "    </tr>\n",
       "    <tr>\n",
       "      <th>I9_HEARTFAIL_NS</th>\n",
       "      <td>0.600576</td>\n",
       "      <td>0.600576</td>\n",
       "      <td>0.600576</td>\n",
       "    </tr>\n",
       "    <tr>\n",
       "      <th>I9_HYPTENS</th>\n",
       "      <td>0.229217</td>\n",
       "      <td>0.229217</td>\n",
       "      <td>0.229217</td>\n",
       "    </tr>\n",
       "    <tr>\n",
       "      <th>I9_STR_EXH</th>\n",
       "      <td>0.035725</td>\n",
       "      <td>0.035725</td>\n",
       "      <td>0.035725</td>\n",
       "    </tr>\n",
       "  </tbody>\n",
       "</table>\n",
       "</div>"
      ],
      "text/plain": [
       "                 FINNGENID  EVENT_AGE  EVENT_YEAR\n",
       "ENDPOINT                                         \n",
       "I9_ANGINA         0.077291   0.077291    0.077291\n",
       "I9_CHD            0.057191   0.057191    0.057191\n",
       "I9_HEARTFAIL_NS   0.600576   0.600576    0.600576\n",
       "I9_HYPTENS        0.229217   0.229217    0.229217\n",
       "I9_STR_EXH        0.035725   0.035725    0.035725"
      ]
     },
     "execution_count": 30,
     "metadata": {},
     "output_type": "execute_result"
    }
   ],
   "source": [
    "events.groupby('ENDPOINT').count() / events.groupby('ENDPOINT').count().sum()"
   ]
  },
  {
   "cell_type": "code",
   "execution_count": 7,
   "metadata": {},
   "outputs": [
    {
     "name": "stdout",
     "output_type": "stream",
     "text": [
      "(922, 2)\n"
     ]
    }
   ],
   "source": [
    "#sequences = pd.DataFrame({'ENDPOINTS': sequences_of_codes.stack(), 'TIME_DIFFS': sequences_of_times.stack()})\n",
    "sequences = pd.DataFrame({'ENDPOINTS': sequences_of_codes, 'TIME_DIFFS': sequences_of_times})\n",
    "print(sequences.shape)\n",
    "#sequences.head()\n"
   ]
  },
  {
   "cell_type": "code",
   "execution_count": 8,
   "metadata": {},
   "outputs": [],
   "source": [
    "# https://stackoverflow.com/questions/52602071/dataframe-as-datasource-in-torchtext\n",
    "\n",
    "class DataFrameDataset(Dataset):\n",
    "    \"\"\"Class for using pandas DataFrames as a datasource\"\"\"\n",
    "    def __init__(self, examples, fields, filter_pred=None):\n",
    "        \"\"\"\n",
    "        Create a dataset from a pandas dataframe of examples and Fields\n",
    "        Arguments:\n",
    "            examples pd.DataFrame: DataFrame of examples\n",
    "            fields {str: Field}: The Fields to use in this tuple. The\n",
    "                string is a field name, and the Field is the associated field.\n",
    "            filter_pred (callable or None): use only exanples for which\n",
    "                filter_pred(example) is true, or use all examples if None.\n",
    "                Default is None\n",
    "        \"\"\"\n",
    "        self.fields = dict(fields)\n",
    "        self.examples = examples.apply(SeriesExample.fromSeries, args=(self.fields,), axis=1).tolist()\n",
    "        if filter_pred is not None:\n",
    "            self.examples = filter(filter_pred, self.examples)\n",
    "        # Unpack field tuples\n",
    "        for n, f in list(self.fields.items()):\n",
    "            if isinstance(n, tuple):\n",
    "                self.fields.update(zip(n, f))\n",
    "                del self.fields[n]\n",
    "\n",
    "class SeriesExample(Example):\n",
    "    \"\"\"Class to convert a pandas Series to an Example\"\"\"\n",
    "    \n",
    "    @classmethod\n",
    "    def fromSeries(cls, data, fields):\n",
    "        return cls.fromdict(data.to_dict(), fields)\n",
    "\n",
    "    @classmethod\n",
    "    def fromdict(cls, data, fields):\n",
    "        ex = cls()\n",
    "        for key, field in fields.items():\n",
    "            if key not in data:\n",
    "                raise ValueError(\"Specified key {} was not found in \"\n",
    "                \"the input data\".format(key))\n",
    "            if field is not None:\n",
    "                setattr(ex, key, field.preprocess(data[key]))\n",
    "            else:\n",
    "                setattr(ex, key, data[key])\n",
    "        return ex"
   ]
  },
  {
   "cell_type": "code",
   "execution_count": 42,
   "metadata": {},
   "outputs": [
    {
     "name": "stdout",
     "output_type": "stream",
     "text": [
      "(829, 2) (93, 2)\n",
      "CPU times: user 40 ms, sys: 0 ns, total: 40 ms\n",
      "Wall time: 37.2 ms\n"
     ]
    }
   ],
   "source": [
    "%%time\n",
    "\n",
    "tokenize = lambda x: x.split(' ')\n",
    "\n",
    "ENDPOINT = Field(fix_length = sequence_length, tokenize = tokenize)\n",
    "\n",
    "fields = [('ENDPOINTS', ENDPOINT), ('TIME_DIFFS', None)]\n",
    "\n",
    "train_sequences, val_sequences = train_test_split(sequences, test_size = 0.1)\n",
    "print(train_sequences.shape, val_sequences.shape)\n",
    "\n",
    "train = DataFrameDataset(train_sequences, fields)\n",
    "val = DataFrameDataset(val_sequences, fields)\n",
    "\n",
    "ENDPOINT.build_vocab(train, val)"
   ]
  },
  {
   "cell_type": "code",
   "execution_count": 43,
   "metadata": {},
   "outputs": [
    {
     "name": "stdout",
     "output_type": "stream",
     "text": [
      "0\n",
      "I9_HYPTENS\n",
      "7\n",
      "Counter({'I9_HYPTENS': 1726, 'I9_HEARTFAIL_NS': 988, 'I9_ANGINA': 487, 'I9_CHD': 369, 'I9_STR_EXH': 216})\n",
      "dict_keys(['I9_HEARTFAIL_NS', 'I9_HYPTENS', 'I9_ANGINA', 'I9_CHD', 'I9_STR_EXH'])\n",
      "dict_values([988, 1726, 487, 369, 216])\n",
      "[0.26096144 0.45589012 0.1286318  0.09746434 0.0570523 ]\n",
      "<unk>\n",
      "<pad>\n",
      "I9_HYPTENS\n",
      "I9_HEARTFAIL_NS\n",
      "I9_ANGINA\n",
      "I9_CHD\n",
      "I9_STR_EXH\n"
     ]
    }
   ],
   "source": [
    "print(ENDPOINT.vocab.stoi['ANY_ATC'])\n",
    "print(ENDPOINT.vocab.itos[2])\n",
    "vocab_size = len(ENDPOINT.vocab.freqs) + 2\n",
    "print(vocab_size)\n",
    "\n",
    "print(ENDPOINT.vocab.freqs)\n",
    "print(ENDPOINT.vocab.freqs.keys())\n",
    "print(ENDPOINT.vocab.freqs.values())\n",
    "print(np.array(list(ENDPOINT.vocab.freqs.values())) / sum(ENDPOINT.vocab.freqs.values()))\n",
    "\n",
    "for i in range(vocab_size):\n",
    "    print(ENDPOINT.vocab.itos[i])\n"
   ]
  },
  {
   "cell_type": "code",
   "execution_count": 11,
   "metadata": {},
   "outputs": [
    {
     "data": {
      "text/plain": [
       "torch.Size([93, 5])"
      ]
     },
     "execution_count": 11,
     "metadata": {},
     "output_type": "execute_result"
    }
   ],
   "source": [
    "val_iter = Iterator(val, batch_size = len(val_sequences), repeat = True)\n",
    "\n",
    "next(iter(val_iter)).ENDPOINTS.transpose(0, 1).shape"
   ]
  },
  {
   "cell_type": "code",
   "execution_count": 12,
   "metadata": {},
   "outputs": [
    {
     "name": "stdout",
     "output_type": "stream",
     "text": [
      "tensor([[415.,   0.,   0.,   0.,   0.,   0.],\n",
      "        [208., 867., 150.,  62.,  45.,  47.],\n",
      "        [ 52.,  65., 555.,  15.,  13.,   9.],\n",
      "        [ 20.,  63.,  28., 162.,  84.,   9.],\n",
      "        [ 35.,  16.,  35.,  81., 112.,   4.],\n",
      "        [ 22.,  41.,   7.,   4.,   0.,  90.]])\n",
      "tensor([[1.0000, 0.0000, 0.0000, 0.0000, 0.0000, 0.0000],\n",
      "        [0.1508, 0.6287, 0.1088, 0.0450, 0.0326, 0.0341],\n",
      "        [0.0733, 0.0917, 0.7828, 0.0212, 0.0183, 0.0127],\n",
      "        [0.0546, 0.1721, 0.0765, 0.4426, 0.2295, 0.0246],\n",
      "        [0.1237, 0.0565, 0.1237, 0.2862, 0.3958, 0.0141],\n",
      "        [0.1341, 0.2500, 0.0427, 0.0244, 0.0000, 0.5488]])\n",
      "tensor([1.0000, 1.0000, 1.0000, 1.0000, 1.0000, 1.0000])\n",
      "CPU times: user 228 ms, sys: 0 ns, total: 228 ms\n",
      "Wall time: 225 ms\n"
     ]
    }
   ],
   "source": [
    "%%time\n",
    "\n",
    "def get_transition_matrix(data, vocab_size = vocab_size, d = 1, eps = 1e-20):\n",
    "    transition_count = torch.zeros(vocab_size - 1, vocab_size - 1)\n",
    "\n",
    "    for indv in data:\n",
    "        for idx in range(len(indv) - d):\n",
    "            i1 = idx\n",
    "            i2 = i1 + d\n",
    "            ep1 = indv[i1]\n",
    "            ep2 = indv[i2]\n",
    "            if ep1 > 0 and ep2 > 0:\n",
    "                transition_count[ep1 - 1, ep2 - 1] += 1\n",
    "                    \n",
    "    #print(torch.sum(transition_count, dim = 1))\n",
    "    transition_freq = (transition_count.transpose(0, 1) / (torch.sum(transition_count, dim = 1) + eps)).transpose(0, 1)\n",
    "                    \n",
    "    return transition_count, transition_freq\n",
    "        \n",
    "iterator = Iterator(train, batch_size = len(train_sequences))\n",
    "\n",
    "transition_count, transition_freq = get_transition_matrix(next(iter(iterator)).ENDPOINTS.transpose(0, 1), vocab_size, d = 1)    \n",
    "print(transition_count)\n",
    "print(transition_freq)\n",
    "print(transition_freq.sum(dim = 1))\n"
   ]
  },
  {
   "cell_type": "code",
   "execution_count": 13,
   "metadata": {},
   "outputs": [
    {
     "name": "stdout",
     "output_type": "stream",
     "text": [
      "tensor([[1.0000, 0.0000, 0.0000, 0.0000, 0.0000, 0.0000],\n",
      "        [0.1508, 0.6287, 0.1088, 0.0450, 0.0326, 0.0341],\n",
      "        [0.0733, 0.0917, 0.7828, 0.0212, 0.0183, 0.0127],\n",
      "        [0.0546, 0.1721, 0.0765, 0.4426, 0.2295, 0.0246],\n",
      "        [0.1237, 0.0565, 0.1237, 0.2862, 0.3958, 0.0141],\n",
      "        [0.1341, 0.2500, 0.0427, 0.0244, 0.0000, 0.5488]])\n",
      "tensor([[1.0000, 0.0000, 0.0000, 0.0000, 0.0000, 0.0000],\n",
      "        [0.1242, 0.6894, 0.0373, 0.0745, 0.0497, 0.0248],\n",
      "        [0.0735, 0.0588, 0.8088, 0.0588, 0.0000, 0.0000],\n",
      "        [0.0435, 0.1957, 0.1957, 0.3043, 0.2391, 0.0217],\n",
      "        [0.1282, 0.1538, 0.0513, 0.2821, 0.3590, 0.0256],\n",
      "        [0.1000, 0.2500, 0.0000, 0.1000, 0.0000, 0.5500]])\n",
      "tensor(0.0285)\n",
      "CPU times: user 252 ms, sys: 0 ns, total: 252 ms\n",
      "Wall time: 252 ms\n"
     ]
    }
   ],
   "source": [
    "%%time\n",
    "\n",
    "iterator = Iterator(train, batch_size = len(train_sequences))\n",
    "\n",
    "transition_count1, transition_freq1 = get_transition_matrix(next(iter(iterator)).ENDPOINTS.transpose(0, 1), vocab_size, d = 1)    \n",
    "transition_count2, transition_freq2 = get_transition_matrix(next(iter(val_iter)).ENDPOINTS.transpose(0, 1), vocab_size, d = 1)    \n",
    "\n",
    "print(transition_freq1)\n",
    "print(transition_freq2)\n",
    "print((transition_freq1 - transition_freq2).abs().mean())\n"
   ]
  },
  {
   "cell_type": "code",
   "execution_count": 14,
   "metadata": {},
   "outputs": [
    {
     "name": "stdout",
     "output_type": "stream",
     "text": [
      "922\n",
      "0.0015184381778741865\n"
     ]
    }
   ],
   "source": [
    "subjects = sequences.index\n",
    "n_individuals = len(subjects)\n",
    "print(n_individuals)\n",
    "print(vocab_size / (n_individuals * sequence_length)) # The lower this is the easier it is for the generator to learn"
   ]
  },
  {
   "cell_type": "code",
   "execution_count": 15,
   "metadata": {},
   "outputs": [
    {
     "name": "stdout",
     "output_type": "stream",
     "text": [
      "tensor([[[1., 0., 0., 0.],\n",
      "         [0., 1., 0., 0.],\n",
      "         [0., 0., 1., 0.],\n",
      "         [0., 0., 0., 1.]]], device='cuda:0')\n",
      "tensor([[[0., 0., 1., 0., 0., 0., 0.],\n",
      "         [0., 0., 0., 0., 0., 0., 1.],\n",
      "         [0., 0., 1., 0., 0., 0., 0.],\n",
      "         [0., 0., 0., 0., 1., 0., 0.],\n",
      "         [0., 0., 0., 0., 1., 0., 0.]]], device='cuda:0',\n",
      "       grad_fn=<CatBackward>)\n",
      "tensor([[2, 6, 2, 4, 4]], device='cuda:0')\n",
      "tensor([[[ 1.7885, -0.6016, -0.8058, -0.1466],\n",
      "         [ 1.1902,  1.1520, -0.5134, -0.0408],\n",
      "         [ 0.9712, -0.9085, -0.0132, -0.5223],\n",
      "         [ 1.5329, -0.7602, -0.9370,  1.0283]]], device='cuda:0',\n",
      "       grad_fn=<AddBackward0>)\n"
     ]
    }
   ],
   "source": [
    "# Test generator output\n",
    "\n",
    "mem_slots = 4\n",
    "head_size = 2\n",
    "embed_size = 2\n",
    "temperature = 1\n",
    "num_heads = 2\n",
    "\n",
    "G = RelationalMemoryGenerator(mem_slots, head_size, embed_size, vocab_size, temperature, num_heads)\n",
    "\n",
    "start_token = torch.tensor([[2]])\n",
    "memory = G.initial_state(batch_size = 1)\n",
    "\n",
    "if cuda:\n",
    "    G.cuda()\n",
    "    memory = memory.cuda()\n",
    "    start_token = start_token.cuda()\n",
    "\n",
    "print(memory)\n",
    "logits, tokens, _, memory = G(start_token, memory, sequence_length, None)\n",
    "print(logits)\n",
    "print(tokens)\n",
    "print(memory)\n"
   ]
  },
  {
   "cell_type": "code",
   "execution_count": 16,
   "metadata": {},
   "outputs": [
    {
     "name": "stdout",
     "output_type": "stream",
     "text": [
      "tensor(0.5179)\n",
      "tensor([3.6029, 1.0321, 2.7161, 1.2887, 0.2187, 1.1152])\n",
      "tensor([[3.6115, 1.3615, 2.2156, 0.6018, 0.5024, 0.8596],\n",
      "        [3.7124, 1.2639, 2.6439, 0.8005, 0.8858, 1.4557],\n",
      "        [1.0000, 1.3892, 2.8696, 1.4999, 0.5591, 1.8254],\n",
      "        [0.0000, 1.8861, 3.0378, 1.8555, 0.7489, 2.3080]])\n",
      "CPU times: user 316 ms, sys: 8 ms, total: 324 ms\n",
      "Wall time: 321 ms\n"
     ]
    }
   ],
   "source": [
    "%%time\n",
    "\n",
    "# Define generator evaluation functions\n",
    "\n",
    "def chi_sqrd_dist(counts1, counts2, separate = False, eps = 1e-20):\n",
    "    counts1 = counts1.view(1, -1)\n",
    "    counts2 = counts2.view(1, -1)\n",
    "    table = torch.cat([counts1, counts2], dim = 0)\n",
    "    col_sums = torch.sum(table, dim = 0)\n",
    "    row_sums = torch.sum(table, dim = 1)\n",
    "    n = torch.sum(col_sums)\n",
    "    \n",
    "    table_freq = table / (n + eps)\n",
    "    col_freqs = col_sums / (n + eps)\n",
    "    row_freqs = row_sums / (n + eps)\n",
    "    \n",
    "    diffs = table_freq[0, :] / (row_freqs[0] + eps) - table_freq[1, :] / (row_freqs[1] + eps)\n",
    "    diffs_sqrd = diffs ** 2\n",
    "    diffs_sqrd_norm = diffs_sqrd / (col_freqs + eps)\n",
    "    \n",
    "    if separate: \n",
    "        return diffs_sqrd_norm\n",
    "    \n",
    "    chi_sqrd_distance = torch.sum(diffs_sqrd_norm)\n",
    "    \n",
    "    return chi_sqrd_distance\n",
    "\n",
    "def get_fake_distribution(G, dataset, batch_size = 64, vocab_size = vocab_size, sequence_length = sequence_length):\n",
    "    iterator = Iterator(dataset, batch_size = batch_size)\n",
    "    \n",
    "    if cuda:\n",
    "        G.cuda()\n",
    "    \n",
    "    data_fake = []\n",
    "    \n",
    "    for batch in iterator:\n",
    "        data_tmp = batch.ENDPOINTS.transpose(0, 1)\n",
    "\n",
    "        start_tokens = data_tmp[:, :1]\n",
    "        memory = G.initial_state(batch_size = start_tokens.shape[0])\n",
    "\n",
    "        if cuda:\n",
    "            start_tokens = start_tokens.cuda()\n",
    "            memory = memory.cuda()\n",
    "\n",
    "        _, data_fake_tmp, _, _ = G(start_tokens, memory, sequence_length)\n",
    "        \n",
    "        data_fake.append(data_fake_tmp.cpu())\n",
    "    \n",
    "    data_fake = torch.cat(data_fake)\n",
    "    \n",
    "    counts_fake, freqs_fake = get_distribution(data_fake, None, vocab_size, fake = True)\n",
    "    \n",
    "    return counts_fake, freqs_fake\n",
    "    \n",
    "def get_score(G, ENDPOINT, dataset, batch_size = 64, vocab_size = vocab_size, sequence_length = sequence_length):\n",
    "    counts_real, freqs_real = get_distribution(None, ENDPOINT, vocab_size, fake = False)\n",
    "    \n",
    "    counts_fake, freqs_fake = get_fake_distribution(G, dataset, batch_size, vocab_size, sequence_length)\n",
    "    \n",
    "    score = chi_sqrd_dist(counts_real, counts_fake)\n",
    "    return score\n",
    "\n",
    "def get_transition_score(G, dataset, batch_size = 64, d = 1, separate = False, vocab_size = vocab_size, sequence_length = sequence_length):\n",
    "    iterator = Iterator(dataset, batch_size = batch_size)\n",
    "    \n",
    "    if cuda:\n",
    "        G.cuda()\n",
    "    \n",
    "    data = []\n",
    "    data_fake = []\n",
    "    \n",
    "    for batch in iterator:\n",
    "        data_tmp = batch.ENDPOINTS.transpose(0, 1)\n",
    "        data.append(data_tmp)\n",
    "\n",
    "        start_tokens = data_tmp[:, :1]\n",
    "        memory = G.initial_state(batch_size = start_tokens.shape[0])\n",
    "\n",
    "        if cuda:\n",
    "            start_tokens = start_tokens.cuda()\n",
    "            memory = memory.cuda()\n",
    "\n",
    "        _, data_fake_tmp, _, _ = G(start_tokens, memory, sequence_length)\n",
    "        \n",
    "        data_fake.append(data_fake_tmp.cpu())\n",
    "    \n",
    "    \n",
    "    data = torch.cat(data)\n",
    "    data_fake = torch.cat(data_fake)\n",
    "    \n",
    "    transition_count_real, transition_freq_real = get_transition_matrix(data, vocab_size, d)\n",
    "    transition_count_fake, transition_freq_fake = get_transition_matrix(data_fake, vocab_size, d)\n",
    "    \n",
    "    chi_sqrd_ds = []\n",
    "    for i in range(vocab_size - 1):\n",
    "        chi_sqrd_d = chi_sqrd_dist(transition_count_fake[i, :], transition_count_real[i, :])\n",
    "        chi_sqrd_ds.append(chi_sqrd_d)\n",
    "        \n",
    "    chi_sqrd_ds = torch.tensor(chi_sqrd_ds)\n",
    "    \n",
    "    if separate:\n",
    "        return chi_sqrd_ds\n",
    "        \n",
    "    return torch.mean(chi_sqrd_ds)\n",
    "    \n",
    "def get_aggregate_transition_score(G, dataset, batch_size = 64, separate1 = True, separate2 = True, vocab_size = vocab_size, sequence_length = sequence_length):\n",
    "    scores = []\n",
    "    for d in range(1, sequence_length):\n",
    "        transition_score = get_transition_score(G, dataset, batch_size, d, separate1, vocab_size, sequence_length)\n",
    "        scores.append(transition_score)\n",
    "        \n",
    "    result = torch.stack(scores)\n",
    "    \n",
    "    if separate2:\n",
    "        return result\n",
    "    \n",
    "    if separate1:\n",
    "        return torch.mean(result, dim = 0)\n",
    "    else:\n",
    "        return torch.mean(result)\n",
    "\n",
    "val_data = next(iter(val_iter)).ENDPOINTS.transpose(0, 1)\n",
    "\n",
    "score = get_score(G, ENDPOINT, val)\n",
    "print(score)\n",
    "\n",
    "transition_score = get_transition_score(G, val, d = 1, separate = True)\n",
    "print(transition_score)\n",
    "\n",
    "aggr_transition_score = get_aggregate_transition_score(G, val, separate1 = True, separate2 = True)\n",
    "print(aggr_transition_score)\n"
   ]
  },
  {
   "cell_type": "code",
   "execution_count": 17,
   "metadata": {},
   "outputs": [
    {
     "name": "stdout",
     "output_type": "stream",
     "text": [
      "tensor([[[0., 0., 1., 0., 0., 0., 0.],\n",
      "         [0., 0., 0., 0., 0., 0., 1.],\n",
      "         [0., 0., 1., 0., 0., 0., 0.],\n",
      "         [0., 0., 0., 0., 1., 0., 0.],\n",
      "         [0., 0., 0., 0., 1., 0., 0.]]], device='cuda:0',\n",
      "       grad_fn=<CatBackward>)\n",
      "tensor([[0.5942, 0.5903]], device='cuda:0', grad_fn=<SqueezeBackward1>)\n",
      "tensor([0.5922], device='cuda:0', grad_fn=<MeanBackward2>)\n"
     ]
    }
   ],
   "source": [
    "# Test Discriminator output\n",
    "\n",
    "n_embeddings = 2\n",
    "embed_size = 2\n",
    "out_channels = 5 \n",
    "filter_sizes = [2, 3] # values can be at most the sequence_length\n",
    "\n",
    "D = RelGANDiscriminator(n_embeddings, vocab_size, embed_size, sequence_length, out_channels, filter_sizes)\n",
    "\n",
    "if cuda:\n",
    "    D.cuda()\n",
    "\n",
    "inp = logits\n",
    "print(inp)\n",
    "print(D(inp, False))\n",
    "print(D(inp))\n"
   ]
  },
  {
   "cell_type": "code",
   "execution_count": 18,
   "metadata": {},
   "outputs": [],
   "source": [
    "# Define the generator pre-train function\n",
    "\n",
    "def pretrain_generator(G, train, batch_size, vocab_size, sequence_length, n_epochs, lr, print_step = 10):\n",
    "    loss_function = nn.BCELoss()\n",
    "    optimizer = torch.optim.Adam(G.parameters(), lr=lr)\n",
    "    \n",
    "    if cuda:\n",
    "        G.cuda()\n",
    "        loss_function.cuda()\n",
    "    \n",
    "    for e in range(n_epochs):\n",
    "        train_iter = Iterator(train, batch_size = batch_size, device = device)\n",
    "        loss_total = 0\n",
    "        count = 0\n",
    "        \n",
    "        for batch in train_iter:\n",
    "            train_data = batch.ENDPOINTS.transpose(0, 1)\n",
    "            train_data_one_hot = F.one_hot(train_data, vocab_size).type(Tensor)\n",
    "            \n",
    "            start_token = train_data[:, :1]\n",
    "            optimizer.zero_grad()\n",
    "\n",
    "            memory = G.initial_state(batch_size = train_data.shape[0])\n",
    "\n",
    "            if cuda:\n",
    "                start_token = start_token.cuda()\n",
    "                memory = memory.cuda()\n",
    "                \n",
    "            logits, _, _, _ = G(start_token, memory, sequence_length, 1.0)\n",
    "\n",
    "            loss = loss_function(logits, train_data_one_hot)\n",
    "            \n",
    "            loss_total += loss.item()\n",
    "            count += 1\n",
    "\n",
    "            loss.backward()\n",
    "            optimizer.step()\n",
    "            \n",
    "        \n",
    "        if e % print_step == 0:\n",
    "            print(\n",
    "                \"[Epoch %d/%d] [G loss: %f]\"\n",
    "                % (e, n_epochs, loss_total / count)\n",
    "            )"
   ]
  },
  {
   "cell_type": "code",
   "execution_count": 19,
   "metadata": {},
   "outputs": [
    {
     "name": "stdout",
     "output_type": "stream",
     "text": [
      "tensor(0.3332)\n",
      "tensor([[3.1501, 0.4413, 2.4795, 0.8596, 0.3531, 1.3549],\n",
      "        [1.5915, 0.5093, 2.7898, 0.6782, 0.1614, 1.4908],\n",
      "        [1.0000, 0.5874, 1.9401, 0.3692, 0.3916, 1.9036],\n",
      "        [0.0000, 0.4176, 1.6537, 0.7870, 0.9444, 1.3333]])\n",
      "tensor(1.1328)\n",
      "[Epoch 0/2] [G loss: 4.915725]\n",
      "[Epoch 1/2] [G loss: 4.633242]\n",
      "tensor(0.0546)\n",
      "tensor([[1.5259, 0.6375, 1.6095, 0.6953, 0.8018, 2.0506],\n",
      "        [1.9493, 0.7160, 0.6719, 1.3088, 1.3030, 1.5187],\n",
      "        [1.0000, 0.7887, 0.9804, 1.3968, 0.6902, 0.2657],\n",
      "        [0.0000, 0.4144, 0.8132, 0.1709, 0.7333, 1.5556]])\n",
      "tensor(0.9832)\n"
     ]
    }
   ],
   "source": [
    "mem_slots = 4\n",
    "head_size = 2\n",
    "embed_size = 2\n",
    "temperature = 1\n",
    "num_heads = 2\n",
    "\n",
    "G = RelationalMemoryGenerator(mem_slots, head_size, embed_size, vocab_size, temperature, num_heads)\n",
    "    \n",
    "score = get_score(G, ENDPOINT, val)\n",
    "print(score)\n",
    "aggr_transition_score = get_aggregate_transition_score(G, val, 64, True, True)\n",
    "print(aggr_transition_score)\n",
    "print(aggr_transition_score.mean())\n",
    "\n",
    "batch_size = 64\n",
    "pretrain_generator(G, train, batch_size, vocab_size, sequence_length, 2, 0.01, print_step = 1)\n",
    "\n",
    "score = get_score(G, ENDPOINT, val)\n",
    "print(score)\n",
    "aggr_transition_score = get_aggregate_transition_score(G, val, 64, True, True)\n",
    "print(aggr_transition_score)\n",
    "print(aggr_transition_score.mean())"
   ]
  },
  {
   "cell_type": "code",
   "execution_count": 20,
   "metadata": {},
   "outputs": [
    {
     "data": {
      "image/png": "[encoded data removed]",
      "text/plain": [
       "<Figure size 432x432 with 1 Axes>"
      ]
     },
     "metadata": {
      "needs_background": "light"
     },
     "output_type": "display_data"
    }
   ],
   "source": [
    "def save_grouped_barplot(freqs, freqs_fake, idx, title, N=10):\n",
    "    freqs1 = freqs.numpy()[idx]\n",
    "    freqs2 = freqs_fake.numpy()[idx]\n",
    "\n",
    "    fig, ax = plt.subplots(figsize=(6,6))\n",
    "\n",
    "    ind = np.arange(N)    # the x locations for the groups\n",
    "    width = 0.35         # the width of the bars\n",
    "    p1 = ax.bar(ind, freqs1, width, bottom=0)\n",
    "\n",
    "    p2 = ax.bar(ind + width, freqs2, width, bottom=0)\n",
    "\n",
    "    ax.set_title(title)\n",
    "    ax.set_xticks(ind + width / 2)\n",
    "    ax.set_xticklabels(map(lambda x: ENDPOINT.vocab.itos[x], idx + 2), rotation=90)\n",
    "\n",
    "    ax.legend((p1[0], p2[0]), ('real', 'fake'))\n",
    "    ax.autoscale_view()\n",
    "    \n",
    "    fig.subplots_adjust(bottom=0.36)\n",
    "    fig.savefig('figs/' + '_'.join(title.split(' ')).translate({ord(i): None for i in ':()'}) + '.svg')\n",
    "    \n",
    "def save_relative_and_absolute(freqs, freqs_fake, counts, counts_fake, vocab_size, prefix='', N_max=10):\n",
    "    N = min(N_max, vocab_size - 2)\n",
    "    if not prefix == '':\n",
    "        prefix += ' '\n",
    "    \n",
    "    if N == vocab_size - 2:\n",
    "        idx = np.arange(N)\n",
    "        \n",
    "        title = prefix + 'Differences in frequencies'\n",
    "        save_grouped_barplot(freqs, freqs_fake, idx, title, N)\n",
    "    else:\n",
    "        abs_diffs = np.abs(freqs - freqs_fake)\n",
    "        idx = np.argsort(abs_diffs)[-N:]\n",
    "        idx = np.flip(idx)\n",
    "        \n",
    "        title = prefix + 'Largest absolute differences in frequencies'\n",
    "        save_grouped_barplot(freqs, freqs_fake, idx, title, N)\n",
    "\n",
    "        chi_sqrd_dists = chi_sqrd_dist(counts, counts_fake, separate = True)\n",
    "        idx = np.argsort(chi_sqrd_dists)[-N:]\n",
    "        idx = np.flip(idx)\n",
    "\n",
    "        title = prefix + 'Largest relative differences in frequencies'\n",
    "        save_grouped_barplot(freqs, freqs_fake, idx, title, N)\n",
    "    \n",
    "counts, freqs = get_distribution(None, ENDPOINT, vocab_size, fake = False)\n",
    "counts_fake1, _ = get_fake_distribution(G, val)\n",
    "counts_fake2, _ = get_fake_distribution(G, train)\n",
    "\n",
    "counts_fake = counts_fake1 + counts_fake2\n",
    "freqs_fake = counts_fake / torch.sum(counts_fake)\n",
    "\n",
    "N_max = 10\n",
    "prefix = '(Test):'\n",
    "\n",
    "save_relative_and_absolute(freqs, freqs_fake, counts, counts_fake, vocab_size, prefix, N_max)"
   ]
  },
  {
   "cell_type": "code",
   "execution_count": 21,
   "metadata": {},
   "outputs": [],
   "source": [
    "# Define the training function\n",
    "\n",
    "def get_scores(G, ENDPOINT, dataset, batch_size = 128, separate1 = True, separate2 = True, \\\n",
    "               vocab_size = vocab_size, sequence_length = sequence_length):\n",
    "    start_tokens = next(iter(iterator)).ENDPOINTS.transpose(0, 1)[:, :1]\n",
    "    \n",
    "    score1 = get_score(G, ENDPOINT, dataset, batch_size, vocab_size, sequence_length)\n",
    "    \n",
    "    score2 = get_aggregate_transition_score(G, dataset, batch_size, separate1, separate2, vocab_size, sequence_length)\n",
    "    \n",
    "    return score1, score2.mean(), score2\n",
    "\n",
    "def train_GAN(G, D, train, val_iter, batch_size, vocab_size, sequence_length, \\\n",
    "              n_epochs, lr, temperature, print_step = 10, score_fn = get_scores):    \n",
    "    scores = []\n",
    "    accuracies_real = []\n",
    "    accuracies_fake = []\n",
    "    \n",
    "    score = score_fn(G, ENDPOINT, val)\n",
    "    print('Scores before training:', *score)\n",
    "    scores.append(score)\n",
    "    \n",
    "    print('pretraining generator...')\n",
    "    pretrain_generator(G, train, batch_size, vocab_size, sequence_length, max(n_epochs // 10, 1), \\\n",
    "                       lr * 100, print_step = max(n_epochs // 10 - 1, 1))\n",
    "    print('pretraining complete')\n",
    "    \n",
    "    score = score_fn(G, ENDPOINT, val)\n",
    "    print(\"[Scores:\", *score, \"]\")\n",
    "    scores.append(score)\n",
    "    \n",
    "    adversarial_loss = torch.nn.BCELoss()\n",
    "    \n",
    "    optimizer_G = torch.optim.Adam(G.parameters(), lr=lr)\n",
    "    optimizer_D = torch.optim.Adam(D.parameters(), lr=lr)\n",
    "    \n",
    "    if cuda:\n",
    "        G.cuda()\n",
    "        D.cuda()\n",
    "        adversarial_loss.cuda()\n",
    "    \n",
    "    for e in range(n_epochs):\n",
    "        train_iter = Iterator(train, batch_size = batch_size, device = device)\n",
    "        #loss_total = 0\n",
    "        #count = 0\n",
    "        \n",
    "        for batch in train_iter:\n",
    "            train_data = batch.ENDPOINTS.transpose(0, 1)\n",
    "            train_data_one_hot = F.one_hot(train_data, vocab_size).type(Tensor)\n",
    "\n",
    "            start_token = train_data[:, :1]\n",
    "            \n",
    "            # Adversarial ground truths\n",
    "            valid = Variable(Tensor(train_data.shape[0]).fill_(1.0), requires_grad=False)\n",
    "            fake = Variable(Tensor(train_data.shape[0]).fill_(0.0), requires_grad=False)\n",
    "\n",
    "            optimizer_G.zero_grad()\n",
    "\n",
    "            # Generate a batch of images\n",
    "            memory = G.initial_state(batch_size = train_data.shape[0])\n",
    "            if cuda:\n",
    "                memory = memory.cuda()\n",
    "\n",
    "            temp = temperature ** ((e + 1) / n_epochs)\n",
    "            fake_one_hot, _, _, _ = G(start_token, memory, sequence_length, temp)\n",
    "\n",
    "            # Loss measures generator's ability to fool the discriminator\n",
    "            g_loss = adversarial_loss(D(fake_one_hot).view(-1), valid)\n",
    "\n",
    "            g_loss.backward()\n",
    "            optimizer_G.step()\n",
    "\n",
    "            optimizer_D.zero_grad()\n",
    "\n",
    "            # Measure discriminator's ability to classify real from generated samples\n",
    "            D_out_real = D(train_data_one_hot).view(-1)\n",
    "            D_out_fake = D(fake_one_hot.detach()).view(-1)\n",
    "            \n",
    "            #print(D_out_real)\n",
    "            #print(torch.round(D_out_real))\n",
    "            accuracy_real = torch.mean(D_out_real)\n",
    "            accuracy_fake = torch.mean(1 - D_out_fake)\n",
    "            \n",
    "            real_loss = adversarial_loss(D_out_real, valid)\n",
    "            fake_loss = adversarial_loss(D_out_fake, fake)\n",
    "            d_loss = (real_loss + fake_loss) / 2\n",
    "\n",
    "            d_loss.backward()\n",
    "            optimizer_D.step()\n",
    "\n",
    "        if e % print_step == 0:\n",
    "            print()\n",
    "            print(\n",
    "                \"[Epoch %d/%d] [D loss: %f] [G loss: %f] [Acc real: %f] [Acc fake: %f]\"\n",
    "                % (e, n_epochs, d_loss.item(), g_loss.item(), accuracy_real, accuracy_fake)\n",
    "            )\n",
    "            score = score_fn(G, ENDPOINT, val)\n",
    "            print(\"[Scores:\", *score, \"]\")\n",
    "            scores.append(score)\n",
    "            accuracies_real.append(accuracy_real)\n",
    "            accuracies_fake.append(accuracy_fake)\n",
    "            \n",
    "    score = score_fn(G, ENDPOINT, val)\n",
    "    print('Scores after training:', *score)\n",
    "    scores.append(score)\n",
    "            \n",
    "    output = [[] for _ in range(len(scores[0]))]\n",
    "    for i in range(len(scores)):\n",
    "        for j in range(len(scores[i])):\n",
    "            output[j].append(scores[i][j])\n",
    "\n",
    "    output.append(accuracies_real)\n",
    "    output.append(accuracies_fake)\n",
    "            \n",
    "    for j in range(len(output)):\n",
    "        output[j] = torch.stack(output[j])\n",
    "            \n",
    "    return tuple(output)\n"
   ]
  },
  {
   "cell_type": "code",
   "execution_count": 24,
   "metadata": {},
   "outputs": [
    {
     "name": "stdout",
     "output_type": "stream",
     "text": [
      "Scores before training: tensor(0.2726) tensor(1.1840) tensor([[3.0244, 0.8414, 1.6349, 0.4987, 0.1370, 1.2153],\n",
      "        [3.7533, 0.9779, 1.7311, 0.2570, 0.3719, 2.2427],\n",
      "        [1.0000, 0.8103, 2.5675, 0.4588, 0.2826, 1.6522],\n",
      "        [0.0000, 0.8973, 1.4231, 1.5975, 0.4178, 0.6222]])\n",
      "pretraining generator...\n",
      "[Epoch 0/1] [G loss: 5.155181]\n",
      "pretraining complete\n",
      "[Scores: tensor(0.0715) tensor(0.9057) tensor([[2.0225, 0.6427, 2.0135, 1.0919, 0.6902, 1.6986],\n",
      "        [1.8838, 0.6349, 1.0855, 0.9809, 0.5119, 2.1260],\n",
      "        [1.0000, 0.5005, 0.9091, 0.2051, 0.3949, 0.7101],\n",
      "        [0.0000, 0.3728, 0.4381, 0.2611, 0.8127, 0.7500]]) ]\n",
      "\n",
      "[Epoch 0/10] [D loss: 0.693741] [G loss: 0.715832] [Acc real: 0.488462] [Acc fake: 0.511211]\n",
      "[Scores: tensor(0.0272) tensor(1.1094) tensor([[2.3070, 0.7637, 1.1841, 0.7107, 0.6555, 2.6219],\n",
      "        [2.1533, 0.4617, 1.0755, 0.5078, 0.8488, 2.1984],\n",
      "        [1.0000, 0.4847, 1.9431, 0.7494, 1.4773, 1.8519],\n",
      "        [0.0000, 0.3159, 0.7136, 0.1235, 1.1562, 1.3220]]) ]\n",
      "\n",
      "[Epoch 1/10] [D loss: 0.693394] [G loss: 0.716762] [Acc real: 0.488366] [Acc fake: 0.511665]\n",
      "[Scores: tensor(0.0566) tensor(1.0483) tensor([[2.1285, 1.1583, 1.0612, 1.0804, 0.9876, 1.4057],\n",
      "        [1.7385, 0.3560, 0.9217, 1.1048, 1.0153, 2.3287],\n",
      "        [1.0000, 0.5093, 1.0132, 0.3552, 0.8280, 1.3764],\n",
      "        [0.0000, 0.4804, 0.8693, 0.5070, 0.7127, 2.2222]]) ]\n",
      "\n",
      "[Epoch 2/10] [D loss: 0.692404] [G loss: 0.718983] [Acc real: 0.488303] [Acc fake: 0.512747]\n",
      "[Scores: tensor(0.1392) tensor(0.9749) tensor([[2.0225, 0.8923, 1.0010, 0.7841, 0.7835, 1.8079],\n",
      "        [2.7693, 0.7606, 1.3876, 0.5884, 0.3449, 1.4020],\n",
      "        [1.0000, 0.4355, 0.3706, 1.1470, 0.3093, 2.1260],\n",
      "        [0.0000, 0.5916, 0.3128, 1.0929, 0.5794, 0.8889]]) ]\n",
      "\n",
      "[Epoch 3/10] [D loss: 0.692123] [G loss: 0.719502] [Acc real: 0.488334] [Acc fake: 0.513002]\n",
      "[Scores: tensor(0.1351) tensor(1.0711) tensor([[1.9256, 0.8167, 1.3848, 0.7539, 0.8924, 2.2934],\n",
      "        [1.1916, 0.6719, 1.0808, 1.4268, 0.7691, 2.7337],\n",
      "        [1.0000, 0.8592, 1.1051, 0.9644, 0.2322, 2.2956],\n",
      "        [0.0000, 0.3919, 0.9353, 0.5604, 0.6444, 0.7778]]) ]\n",
      "\n",
      "[Epoch 4/10] [D loss: 0.691754] [G loss: 0.719882] [Acc real: 0.488523] [Acc fake: 0.513185]\n",
      "[Scores: tensor(0.1778) tensor(1.1381) tensor([[2.6013, 0.8780, 1.6642, 0.5276, 0.5274, 1.8225],\n",
      "        [2.0508, 0.6777, 0.9513, 0.8821, 0.5222, 1.7730],\n",
      "        [1.0000, 0.8538, 0.8151, 1.3563, 0.5892, 1.0312],\n",
      "        [0.0000, 0.7932, 0.5433, 0.7995, 1.3556, 3.2986]]) ]\n",
      "\n",
      "[Epoch 5/10] [D loss: 0.691010] [G loss: 0.721195] [Acc real: 0.488648] [Acc fake: 0.513822]\n",
      "[Scores: tensor(0.1509) tensor(1.0964) tensor([[2.2691, 0.8194, 0.9178, 1.2622, 0.5765, 1.7330],\n",
      "        [2.4707, 0.6965, 1.2758, 1.0792, 0.7188, 1.9671],\n",
      "        [1.0000, 0.9079, 0.9980, 1.1372, 0.5757, 1.4382],\n",
      "        [0.0000, 0.5157, 0.9932, 0.8132, 0.3333, 1.8150]]) ]\n",
      "\n",
      "[Epoch 6/10] [D loss: 0.689461] [G loss: 0.724544] [Acc real: 0.488627] [Acc fake: 0.515444]\n",
      "[Scores: tensor(0.2749) tensor(1.1777) tensor([[2.8809, 0.5803, 0.9741, 0.6235, 0.8318, 1.7587],\n",
      "        [2.7796, 0.5093, 0.9553, 1.3312, 0.4100, 1.5807],\n",
      "        [1.0000, 0.8002, 0.7015, 1.4143, 0.6400, 1.3016],\n",
      "        [0.0000, 0.8603, 0.7090, 1.2376, 1.2741, 3.1111]]) ]\n",
      "\n",
      "[Epoch 7/10] [D loss: 0.689763] [G loss: 0.724416] [Acc real: 0.488402] [Acc fake: 0.515378]\n",
      "[Scores: tensor(0.2282) tensor(1.1491) tensor([[3.2193, 0.7019, 1.2336, 0.8516, 0.7529, 2.5833],\n",
      "        [3.0330, 0.7799, 1.1577, 0.6297, 0.5252, 2.2496],\n",
      "        [1.0000, 0.8325, 1.4579, 0.9268, 0.9366, 1.4235],\n",
      "        [0.0000, 0.6908, 0.4381, 0.5299, 0.3016, 1.3220]]) ]\n",
      "\n",
      "[Epoch 8/10] [D loss: 0.687135] [G loss: 0.730953] [Acc real: 0.487990] [Acc fake: 0.518537]\n",
      "[Scores: tensor(0.2756) tensor(1.2701) tensor([[2.9236, 0.8424, 0.8551, 0.4250, 0.6366, 2.1111],\n",
      "        [3.4173, 0.6759, 1.4052, 1.2930, 0.7604, 1.7045],\n",
      "        [1.0000, 0.8316, 1.2053, 0.4162, 0.6952, 1.9965],\n",
      "        [0.0000, 1.1819, 0.5955, 0.9704, 1.5403, 3.0000]]) ]\n",
      "\n",
      "[Epoch 9/10] [D loss: 0.686708] [G loss: 0.732523] [Acc real: 0.487733] [Acc fake: 0.519276]\n",
      "[Scores: tensor(0.2746) tensor(1.1456) tensor([[2.7730, 0.7552, 1.4681, 0.7682, 0.4264, 1.5670],\n",
      "        [3.2795, 0.6326, 1.5670, 0.8736, 0.5449, 1.3487],\n",
      "        [1.0000, 0.8691, 1.1205, 0.8283, 0.5068, 1.1484],\n",
      "        [0.0000, 1.0803, 1.3524, 0.7179, 1.3111, 1.5556]]) ]\n",
      "Scores after training: tensor(0.3225) tensor(1.3912) tensor([[2.9839, 0.6332, 1.2440, 0.3657, 0.7036, 1.7350],\n",
      "        [2.7112, 0.5144, 2.0639, 0.6789, 0.5393, 3.0078],\n",
      "        [1.0000, 0.7188, 1.4604, 0.9596, 1.1590, 1.8876],\n",
      "        [0.0000, 0.9851, 1.8675, 1.2696, 0.9002, 4.0000]])\n",
      "Time taken: 21.8 seconds\n"
     ]
    },
    {
     "data": {
      "image/png": "[encoded data removed]",
      "text/plain": [
       "<Figure size 432x432 with 1 Axes>"
      ]
     },
     "metadata": {
      "needs_background": "light"
     },
     "output_type": "display_data"
    },
    {
     "data": {
      "image/png": "[encoded data removed]",
      "text/plain": [
       "<Figure size 432x432 with 1 Axes>"
      ]
     },
     "metadata": {
      "needs_background": "light"
     },
     "output_type": "display_data"
    }
   ],
   "source": [
    "# Train the GAN\n",
    "\n",
    "start_time = time.time()\n",
    "\n",
    "# Generator params\n",
    "mem_slots = 1\n",
    "head_size = 6\n",
    "embed_size = 10\n",
    "temperature = 5\n",
    "num_heads = 10\n",
    "num_blocks = 6\n",
    "\n",
    "G = RelationalMemoryGenerator(mem_slots, head_size, embed_size, vocab_size, temperature, num_heads, num_blocks)\n",
    "\n",
    "# Discriminator params\n",
    "n_embeddings = 5\n",
    "embed_size = embed_size\n",
    "out_channels = 15\n",
    "filter_sizes = [2, 3, 4] # values can be at most the sequence_length\n",
    "\n",
    "D = RelGANDiscriminator(n_embeddings, vocab_size, embed_size, sequence_length, out_channels, filter_sizes)\n",
    "\n",
    "counts_fake1, _ = get_fake_distribution(G, val)\n",
    "counts_fake2, _ = get_fake_distribution(G, train)\n",
    "\n",
    "counts_fake = counts_fake1 + counts_fake2\n",
    "freqs_fake = counts_fake / torch.sum(counts_fake)\n",
    "\n",
    "N_max = 10\n",
    "prefix = 'Before:'\n",
    "\n",
    "save_relative_and_absolute(freqs, freqs_fake, counts, counts_fake, vocab_size, prefix, N_max)\n",
    "\n",
    "\n",
    "\n",
    "batch_size = 64\n",
    "n_epochs = 10\n",
    "print_step = max(n_epochs // 10, 1)\n",
    "lr = 1e-4\n",
    "\n",
    "# Train the GAN\n",
    "scores1, scores2, scores3, accuracies_real, accuracies_fake = train_GAN(\n",
    "    G, D, train, val_iter, batch_size, vocab_size, sequence_length, n_epochs, lr, temperature, print_step\n",
    ")\n",
    "\n",
    "\n",
    "\n",
    "counts_fake1, _ = get_fake_distribution(G, val)\n",
    "counts_fake2, _ = get_fake_distribution(G, train)\n",
    "\n",
    "counts_fake = counts_fake1 + counts_fake2\n",
    "freqs_fake = counts_fake / torch.sum(counts_fake)\n",
    "\n",
    "prefix = 'After:'\n",
    "\n",
    "save_relative_and_absolute(freqs, freqs_fake, counts, counts_fake, vocab_size, prefix, N_max)\n",
    "\n",
    "print('Time taken:', round_to_n(time.time() - start_time, n = 3), 'seconds')\n"
   ]
  },
  {
   "cell_type": "code",
   "execution_count": 30,
   "metadata": {},
   "outputs": [
    {
     "data": {
      "image/png": "[encoded data removed]",
      "text/plain": [
       "<Figure size 432x288 with 1 Axes>"
      ]
     },
     "metadata": {
      "needs_background": "light"
     },
     "output_type": "display_data"
    }
   ],
   "source": [
    "%matplotlib inline\n",
    "\n",
    "plt.plot(range(scores1.shape[0]), scores1.numpy())\n",
    "plt.ylabel('Chi-Squared Distance of frequencies')\n",
    "plt.xlabel('Epoch')\n",
    "plt.savefig('figs/chisqrd_freqs.svg')"
   ]
  },
  {
   "cell_type": "code",
   "execution_count": 31,
   "metadata": {},
   "outputs": [
    {
     "data": {
      "image/png": "[encoded data removed]",
      "text/plain": [
       "<Figure size 432x288 with 1 Axes>"
      ]
     },
     "metadata": {
      "needs_background": "light"
     },
     "output_type": "display_data"
    }
   ],
   "source": [
    "plt.plot(range(scores2.shape[0]), scores2.numpy())\n",
    "plt.ylabel('Mean transition score')\n",
    "plt.xlabel('Epoch')\n",
    "plt.savefig('figs/mean_transition_score.svg')"
   ]
  },
  {
   "cell_type": "code",
   "execution_count": 32,
   "metadata": {},
   "outputs": [
    {
     "data": {
      "image/png": "[encoded data removed]",
      "text/plain": [
       "<Figure size 432x288 with 1 Axes>"
      ]
     },
     "metadata": {
      "needs_background": "light"
     },
     "output_type": "display_data"
    }
   ],
   "source": [
    "plt.plot(range(accuracies_real.shape[0]), accuracies_real.detach().cpu().numpy())\n",
    "plt.ylabel('Accuracy real')\n",
    "plt.xlabel('Epoch')\n",
    "plt.savefig('figs/accuracy_real.svg')"
   ]
  },
  {
   "cell_type": "code",
   "execution_count": 33,
   "metadata": {},
   "outputs": [
    {
     "data": {
      "image/png": "[encoded data removed]",
      "text/plain": [
       "<Figure size 432x288 with 1 Axes>"
      ]
     },
     "metadata": {
      "needs_background": "light"
     },
     "output_type": "display_data"
    }
   ],
   "source": [
    "plt.plot(range(accuracies_fake.shape[0]), accuracies_fake.detach().cpu().numpy())\n",
    "plt.ylabel('Accuracy fake')\n",
    "plt.xlabel('Epoch')\n",
    "plt.savefig('figs/accuracy_fake.svg')"
   ]
  },
  {
   "cell_type": "code",
   "execution_count": 34,
   "metadata": {},
   "outputs": [
    {
     "data": {
      "text/plain": [
       "<Figure size 432x288 with 0 Axes>"
      ]
     },
     "metadata": {},
     "output_type": "display_data"
    }
   ],
   "source": [
    "for d in range(1, sequence_length):\n",
    "    plt.plot(range(scores3.shape[0]), scores3[:, d - 1, :].numpy())\n",
    "    plt.ylabel('Transition score')\n",
    "    plt.xlabel('Epoch')\n",
    "    title = 'd=' + str(d)\n",
    "    plt.title(title)\n",
    "    labels = [ENDPOINT.vocab.itos[i] for i in range(1, vocab_size)]\n",
    "    plt.legend(labels)\n",
    "    plt.savefig('figs/' + title + '.svg')\n",
    "    plt.clf()"
   ]
  },
  {
   "cell_type": "code",
   "execution_count": 35,
   "metadata": {},
   "outputs": [
    {
     "data": {
      "text/plain": [
       "<Figure size 432x288 with 0 Axes>"
      ]
     },
     "metadata": {},
     "output_type": "display_data"
    }
   ],
   "source": [
    "for v in range(1, vocab_size):\n",
    "    plt.plot(range(scores3.shape[0]), scores3[:, :, v - 1].numpy())\n",
    "    plt.ylabel('Transition score')\n",
    "    plt.xlabel('Epoch')\n",
    "    title = 'enpoint=' + ENDPOINT.vocab.itos[v]\n",
    "    plt.title(title)\n",
    "    labels = ['d=' + str(i) for i in range(1, sequence_length)]\n",
    "    plt.legend(labels)\n",
    "    plt.savefig('figs/' + title + '.svg')\n",
    "    plt.clf()"
   ]
  },
  {
   "cell_type": "code",
   "execution_count": 36,
   "metadata": {},
   "outputs": [
    {
     "name": "stdout",
     "output_type": "stream",
     "text": [
      "tensor([[4],\n",
      "        [4],\n",
      "        [3],\n",
      "        [3],\n",
      "        [4],\n",
      "        [6],\n",
      "        [5],\n",
      "        [3],\n",
      "        [2],\n",
      "        [3]])\n"
     ]
    },
    {
     "data": {
      "text/plain": [
       "tensor([[4, 4, 5, 5, 3],\n",
       "        [4, 4, 4, 4, 4],\n",
       "        [3, 3, 3, 3, 3],\n",
       "        [3, 3, 3, 3, 3],\n",
       "        [4, 2, 1, 1, 1],\n",
       "        [6, 6, 6, 6, 6],\n",
       "        [5, 5, 3, 3, 3],\n",
       "        [3, 3, 3, 3, 3],\n",
       "        [2, 2, 2, 2, 3],\n",
       "        [3, 3, 3, 3, 3]], device='cuda:0')"
      ]
     },
     "execution_count": 36,
     "metadata": {},
     "output_type": "execute_result"
    }
   ],
   "source": [
    "test_size = 10\n",
    "start_tokens = torch.randint(2, vocab_size, (test_size, 1))\n",
    "print(start_tokens)\n",
    "\n",
    "memory = G.initial_state(batch_size = test_size)\n",
    "\n",
    "if cuda:\n",
    "    memory = memory.cuda()\n",
    "    start_tokens = start_tokens.cuda()\n",
    "    \n",
    "_, data_fake, _, _ = G(start_tokens, memory, sequence_length)\n",
    "\n",
    "data_fake"
   ]
  },
  {
   "cell_type": "code",
   "execution_count": null,
   "metadata": {},
   "outputs": [],
   "source": []
  }
 ],
 "metadata": {
  "kernelspec": {
   "display_name": "Python 3",
   "language": "python",
   "name": "python3"
  },
  "language_info": {
   "codemirror_mode": {
    "name": "ipython",
    "version": 3
   },
   "file_extension": ".py",
   "mimetype": "text/x-python",
   "name": "python",
   "nbconvert_exporter": "python",
   "pygments_lexer": "ipython3",
   "version": "3.7.3"
  }
 },
 "nbformat": 4,
 "nbformat_minor": 2
}
