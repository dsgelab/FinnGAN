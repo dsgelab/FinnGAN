{
 "cells": [
  {
   "cell_type": "code",
   "execution_count": 1,
   "metadata": {},
   "outputs": [
    {
     "name": "stdout",
     "output_type": "stream",
     "text": [
      "Device: cuda:0\n"
     ]
    }
   ],
   "source": [
    "# Imports\n",
    "import torch\n",
    "import torch.nn as nn\n",
    "import torch.nn.functional as F\n",
    "from torch.autograd import Variable\n",
    "import numpy as np\n",
    "import pandas as pd\n",
    "from sklearn.model_selection import train_test_split\n",
    "import time\n",
    "from math import log10, floor\n",
    "import os\n",
    "import glob\n",
    "import matplotlib.pyplot as plt\n",
    "import datetime\n",
    "from math import ceil, isnan\n",
    "import sys\n",
    "try:\n",
    "    import torchtext\n",
    "    from torchtext.data import Field, Iterator, Dataset, Example\n",
    "except ImportError: \n",
    "    !{'/opt/anaconda3/bin/python3'} -m pip install --upgrade git+https://github.com/pytorch/text\n",
    "    import torchtext\n",
    "    from torchtext.data import Field, Iterator, Dataset\n",
    "\n",
    "from relational_rnn_models import RelationalMemoryGenerator\n",
    "from discriminator import RelGANDiscriminator\n",
    "\n",
    "cuda = torch.cuda.is_available()\n",
    "\n",
    "# Try setting the device to a GPU\n",
    "device = torch.device(\"cuda:0\" if cuda else \"cpu\")\n",
    "print('Device:', device)\n",
    "\n",
    "Tensor = torch.cuda.FloatTensor if cuda else torch.FloatTensor"
   ]
  },
  {
   "cell_type": "code",
   "execution_count": 2,
   "metadata": {},
   "outputs": [],
   "source": [
    "# Helper function(s)\n",
    "\n",
    "# round a number to n significant digits\n",
    "def round_to_n(x, n = 2):\n",
    "    return round(x, -int(floor(log10(abs(x)))) + (n - 1)) if x != 0 else 0\n",
    "\n",
    "# Transform a date string into a datetime object\n",
    "def str_to_datetime(string):\n",
    "    return datetime.datetime.strptime(string, '%Y-%m-%d %H:%M:%S')\n",
    "\n",
    "# TODO: more complex reduction: takes into account different ICD groups?\n",
    "def reduce_icd(icd_full):\n",
    "    return icd_full[:2]\n",
    "\n",
    "def get_distribution(data, field, vocab_size, fake = True):\n",
    "    counts = torch.zeros(vocab_size - 2)\n",
    "\n",
    "    for i in range(2, vocab_size):\n",
    "        if fake:\n",
    "            counts[i - 2] = torch.sum(data == i)\n",
    "        else:\n",
    "            counts[i - 2] = field.vocab.freqs[field.vocab.itos[i]]\n",
    "\n",
    "    freqs = counts / torch.sum(counts)\n",
    "    \n",
    "    return counts, freqs\n",
    "    "
   ]
  },
  {
   "cell_type": "code",
   "execution_count": 3,
   "metadata": {},
   "outputs": [
    {
     "name": "stdout",
     "output_type": "stream",
     "text": [
      "Index(['FINNGENID', 'EVENT_AGE', 'EVENT_YEAR', 'ENDPOINT'], dtype='object')\n",
      "36331\n",
      "['I9_HYPTENS' 'I9_HEARTFAIL_NS' 'I9_ANGINA' 'I9_CHD' 'I9_STR_EXH']\n",
      "CPU times: user 1min 3s, sys: 4.53 s, total: 1min 8s\n",
      "Wall time: 1min 7s\n"
     ]
    }
   ],
   "source": [
    "%%time\n",
    "\n",
    "filename = 'data/FINNGEN_ENDPOINTS_DF3_longitudinal_V1_for_SandBox.txt.gz'\n",
    "\n",
    "endpoints = ['I9_HYPTENS', 'I9_ANGINA', 'I9_HEARTFAIL_NS', 'I9_STR_EXH', 'I9_CHD']\n",
    "\n",
    "events = pd.read_csv(filename, compression = 'infer', sep='\\t', nrows = 100_000_000)\n",
    "\n",
    "print(events.columns)\n",
    "\n",
    "# include all endpoints in a list\n",
    "events = events[events['ENDPOINT'].isin(endpoints)]\n",
    "#events = events.groupby('FINNGENID').filter(lambda x: len(x) > 1)\n",
    "\n",
    "subjects = events['FINNGENID'].unique()\n",
    "n_individuals = len(subjects)\n",
    "print(n_individuals)\n",
    "print(events['ENDPOINT'].unique())"
   ]
  },
  {
   "cell_type": "code",
   "execution_count": 4,
   "metadata": {},
   "outputs": [
    {
     "name": "stdout",
     "output_type": "stream",
     "text": [
      "count    36331.000000\n",
      "mean         8.794451\n",
      "std         10.780383\n",
      "min          0.000000\n",
      "25%          0.000000\n",
      "50%          4.160000\n",
      "75%         14.770000\n",
      "max         71.900000\n",
      "dtype: float64\n",
      "count    36331.000000\n",
      "mean        11.266632\n",
      "std         19.016867\n",
      "min          1.000000\n",
      "25%          2.000000\n",
      "50%          4.000000\n",
      "75%         11.000000\n",
      "max        513.000000\n",
      "dtype: float64\n",
      "CPU times: user 9.05 s, sys: 16 ms, total: 9.06 s\n",
      "Wall time: 9.05 s\n"
     ]
    }
   ],
   "source": [
    "%%time\n",
    "\n",
    "print(events.groupby('FINNGENID').apply(lambda x: x['EVENT_AGE'].max() - x['EVENT_AGE'].min()).describe())\n",
    "print(events.groupby('FINNGENID').apply(lambda x: len(x)).describe())"
   ]
  },
  {
   "cell_type": "code",
   "execution_count": null,
   "metadata": {},
   "outputs": [
    {
     "name": "stdout",
     "output_type": "stream",
     "text": [
      "5\n"
     ]
    }
   ],
   "source": [
    "max_sequence_length = 5\n",
    "\n",
    "sequence_length = min(events.groupby('FINNGENID').apply(lambda x: len(x)).max(), max_sequence_length)\n",
    "print(sequence_length)\n",
    "\n",
    "def get_sequence_of_codes(subject):\n",
    "    codes = []\n",
    "    \n",
    "    count = 0\n",
    "    for i in subject.sort_values('EVENT_AGE').index:\n",
    "        codes.append(subject.loc[i, 'ENDPOINT'])\n",
    "        count += 1\n",
    "        if count == sequence_length:\n",
    "            break\n",
    "        \n",
    "    res = ' '.join(codes)\n",
    "    return res\n",
    "\n",
    "def get_sequence_of_time_differences(subject):\n",
    "    times = [0]\n",
    "    \n",
    "    count = 0\n",
    "    for i in subject.sort_values('EVENT_AGE').index:\n",
    "        times.append(subject.loc[i, 'EVENT_AGE'])\n",
    "        count += 1\n",
    "        if count == sequence_length:\n",
    "            break\n",
    "        \n",
    "    res = np.diff(times)\n",
    "    return res\n",
    "    "
   ]
  },
  {
   "cell_type": "code",
   "execution_count": null,
   "metadata": {},
   "outputs": [
    {
     "name": "stdout",
     "output_type": "stream",
     "text": [
      "count    36331.000000\n",
      "mean         3.517712\n",
      "std          1.611148\n",
      "min          1.000000\n",
      "25%          2.000000\n",
      "50%          4.000000\n",
      "75%          5.000000\n",
      "max          5.000000\n",
      "dtype: float64\n",
      "(36331,)\n"
     ]
    }
   ],
   "source": [
    "%%time\n",
    "\n",
    "sequences_of_codes = events.groupby('FINNGENID').apply(get_sequence_of_codes)\n",
    "#print(sequences_of_codes.head())\n",
    "print(sequences_of_codes.apply(lambda x: len(x.split(' '))).describe())\n",
    "print(sequences_of_codes.shape)\n",
    "\n",
    "sequences_of_times = events.groupby('FINNGENID').apply(get_sequence_of_time_differences)\n",
    "#print(sequences_of_times.head())\n",
    "print(sequences_of_times.apply(lambda x: len(x)).describe())\n",
    "print(sequences_of_times.shape)"
   ]
  },
  {
   "cell_type": "code",
   "execution_count": null,
   "metadata": {},
   "outputs": [],
   "source": [
    "#sequences = pd.DataFrame({'ENDPOINTS': sequences_of_codes.stack(), 'TIME_DIFFS': sequences_of_times.stack()})\n",
    "sequences = pd.DataFrame({'ENDPOINTS': sequences_of_codes, 'TIME_DIFFS': sequences_of_times})\n",
    "print(sequences.shape)\n",
    "#sequences.head()\n"
   ]
  },
  {
   "cell_type": "code",
   "execution_count": null,
   "metadata": {},
   "outputs": [],
   "source": [
    "# https://stackoverflow.com/questions/52602071/dataframe-as-datasource-in-torchtext\n",
    "\n",
    "class DataFrameDataset(Dataset):\n",
    "    \"\"\"Class for using pandas DataFrames as a datasource\"\"\"\n",
    "    def __init__(self, examples, fields, filter_pred=None):\n",
    "        \"\"\"\n",
    "        Create a dataset from a pandas dataframe of examples and Fields\n",
    "        Arguments:\n",
    "            examples pd.DataFrame: DataFrame of examples\n",
    "            fields {str: Field}: The Fields to use in this tuple. The\n",
    "                string is a field name, and the Field is the associated field.\n",
    "            filter_pred (callable or None): use only exanples for which\n",
    "                filter_pred(example) is true, or use all examples if None.\n",
    "                Default is None\n",
    "        \"\"\"\n",
    "        self.fields = dict(fields)\n",
    "        self.examples = examples.apply(SeriesExample.fromSeries, args=(self.fields,), axis=1).tolist()\n",
    "        if filter_pred is not None:\n",
    "            self.examples = filter(filter_pred, self.examples)\n",
    "        # Unpack field tuples\n",
    "        for n, f in list(self.fields.items()):\n",
    "            if isinstance(n, tuple):\n",
    "                self.fields.update(zip(n, f))\n",
    "                del self.fields[n]\n",
    "\n",
    "class SeriesExample(Example):\n",
    "    \"\"\"Class to convert a pandas Series to an Example\"\"\"\n",
    "    \n",
    "    @classmethod\n",
    "    def fromSeries(cls, data, fields):\n",
    "        return cls.fromdict(data.to_dict(), fields)\n",
    "\n",
    "    @classmethod\n",
    "    def fromdict(cls, data, fields):\n",
    "        ex = cls()\n",
    "        for key, field in fields.items():\n",
    "            if key not in data:\n",
    "                raise ValueError(\"Specified key {} was not found in \"\n",
    "                \"the input data\".format(key))\n",
    "            if field is not None:\n",
    "                setattr(ex, key, field.preprocess(data[key]))\n",
    "            else:\n",
    "                setattr(ex, key, data[key])\n",
    "        return ex"
   ]
  },
  {
   "cell_type": "code",
   "execution_count": null,
   "metadata": {},
   "outputs": [],
   "source": [
    "%%time\n",
    "\n",
    "tokenize = lambda x: x.split(' ')\n",
    "\n",
    "ENDPOINT = Field(fix_length = sequence_length, tokenize = tokenize)\n",
    "\n",
    "fields = [('ENDPOINTS', ENDPOINT), ('TIME_DIFFS', None)]\n",
    "\n",
    "train_sequences, val_sequences = train_test_split(sequences, test_size = 0.1)\n",
    "print(train_sequences.shape, val_sequences.shape)\n",
    "\n",
    "train = DataFrameDataset(train_sequences, fields)\n",
    "val = DataFrameDataset(val_sequences, fields)\n",
    "\n",
    "ENDPOINT.build_vocab(train, val)"
   ]
  },
  {
   "cell_type": "code",
   "execution_count": null,
   "metadata": {},
   "outputs": [],
   "source": [
    "print(ENDPOINT.vocab.stoi['ANY_ATC'])\n",
    "print(ENDPOINT.vocab.itos[2])\n",
    "vocab_size = len(ENDPOINT.vocab.freqs) + 2\n",
    "print(vocab_size)\n",
    "\n",
    "print(ENDPOINT.vocab.freqs[ENDPOINT.vocab.itos[3]])\n"
   ]
  },
  {
   "cell_type": "code",
   "execution_count": null,
   "metadata": {},
   "outputs": [],
   "source": [
    "val_iter = Iterator(val, batch_size = len(val_sequences), repeat = True)\n",
    "\n",
    "next(iter(val_iter)).ENDPOINTS.transpose(0, 1).shape"
   ]
  },
  {
   "cell_type": "code",
   "execution_count": null,
   "metadata": {},
   "outputs": [],
   "source": [
    "%%time\n",
    "\n",
    "def get_transition_matrix(data, vocab_size = vocab_size, d = 1, eps = 1e-20):\n",
    "    transition_count = torch.zeros(vocab_size - 1, vocab_size - 1)\n",
    "\n",
    "    for indv in data:\n",
    "        for idx in range(len(indv) - d):\n",
    "            i1 = idx\n",
    "            i2 = i1 + d\n",
    "            ep1 = indv[i1]\n",
    "            ep2 = indv[i2]\n",
    "            if ep1 > 0 and ep2 > 0:\n",
    "                transition_count[ep1 - 1, ep2 - 1] += 1\n",
    "                    \n",
    "    #print(torch.sum(transition_count, dim = 1))\n",
    "    transition_freq = (transition_count.transpose(0, 1) / (torch.sum(transition_count, dim = 1) + eps)).transpose(0, 1)\n",
    "                    \n",
    "    return transition_count, transition_freq\n",
    "        \n",
    "iterator = Iterator(train, batch_size = len(train_sequences))\n",
    "\n",
    "transition_count, transition_freq = get_transition_matrix(next(iter(iterator)).ENDPOINTS.transpose(0, 1), vocab_size, d = 1)    \n",
    "print(transition_count)\n",
    "print(transition_freq)\n",
    "print(transition_freq.sum(dim = 1))\n"
   ]
  },
  {
   "cell_type": "code",
   "execution_count": null,
   "metadata": {},
   "outputs": [],
   "source": [
    "%%time\n",
    "\n",
    "iterator = Iterator(train, batch_size = len(train_sequences))\n",
    "\n",
    "transition_count1, transition_freq1 = get_transition_matrix(next(iter(iterator)).ENDPOINTS.transpose(0, 1), vocab_size, d = 1)    \n",
    "transition_count2, transition_freq2 = get_transition_matrix(next(iter(val_iter)).ENDPOINTS.transpose(0, 1), vocab_size, d = 1)    \n",
    "\n",
    "print(transition_freq1)\n",
    "print(transition_freq2)\n",
    "print((transition_freq1 - transition_freq2).abs().mean())\n"
   ]
  },
  {
   "cell_type": "code",
   "execution_count": null,
   "metadata": {},
   "outputs": [],
   "source": [
    "subjects = sequences.index\n",
    "n_individuals = len(subjects)\n",
    "print(n_individuals)\n",
    "print(vocab_size / (n_individuals * sequence_length)) # The lower this is the easier it is for the generator to learn"
   ]
  },
  {
   "cell_type": "code",
   "execution_count": null,
   "metadata": {},
   "outputs": [],
   "source": [
    "# Test generator output\n",
    "\n",
    "mem_slots = 4\n",
    "head_size = 2\n",
    "embed_size = 2\n",
    "temperature = 1\n",
    "num_heads = 2\n",
    "\n",
    "G = RelationalMemoryGenerator(mem_slots, head_size, embed_size, vocab_size, temperature, num_heads)\n",
    "\n",
    "start_token = torch.tensor([[0]])\n",
    "memory = G.initial_state(batch_size = 1)\n",
    "\n",
    "if cuda:\n",
    "    G.cuda()\n",
    "    start_token = start_token.cuda()\n",
    "    memory = memory.cuda()\n",
    "\n",
    "print(memory)\n",
    "logits, tokens, _, memory = G(start_token, memory, sequence_length, None)\n",
    "print(logits)\n",
    "print(tokens)\n",
    "print(memory)\n"
   ]
  },
  {
   "cell_type": "code",
   "execution_count": null,
   "metadata": {},
   "outputs": [],
   "source": [
    "%%time\n",
    "\n",
    "# Define generator evaluation function\n",
    "\n",
    "def chi_sqrd_dist(counts1, counts2, separate = False, eps = 1e-20):\n",
    "    counts1 = counts1.view(1, -1)\n",
    "    counts2 = counts2.view(1, -1)\n",
    "    table = torch.cat([counts1, counts2], dim = 0)\n",
    "    col_sums = torch.sum(table, dim = 0)\n",
    "    row_sums = torch.sum(table, dim = 1)\n",
    "    n = torch.sum(col_sums)\n",
    "    \n",
    "    table_freq = table / (n + eps)\n",
    "    col_freqs = col_sums / (n + eps)\n",
    "    row_freqs = row_sums / (n + eps)\n",
    "    \n",
    "    diffs = table_freq[0, :] / (row_freqs[0] + eps) - table_freq[1, :] / (row_freqs[1] + eps)\n",
    "    diffs_sqrd = diffs ** 2\n",
    "    diffs_sqrd_norm = diffs_sqrd / (col_freqs + eps)\n",
    "    \n",
    "    if separate: \n",
    "        return diffs_sqrd_norm\n",
    "    \n",
    "    chi_sqrd_distance = torch.sum(diffs_sqrd_norm)\n",
    "    \n",
    "    return chi_sqrd_distance\n",
    "\n",
    "def get_fake_distribution(G, start_tokens, vocab_size = vocab_size, sequence_length = sequence_length):\n",
    "    memory = G.initial_state(batch_size = start_tokens.shape[0])\n",
    "\n",
    "    if cuda:\n",
    "        memory = memory.cuda()\n",
    "        start_tokens = start_tokens.cuda()\n",
    "    \n",
    "    _, data_fake, _, _ = G(start_tokens, memory, sequence_length)\n",
    "    \n",
    "    counts_fake, freqs_fake = get_distribution(data_fake, None, vocab_size, fake = True)\n",
    "    \n",
    "    return counts_fake, freqs_fake\n",
    "    \n",
    "def get_score(G, ENDPOINT, start_tokens, vocab_size = vocab_size, sequence_length = sequence_length):\n",
    "    counts_real, freqs_real = get_distribution(None, ENDPOINT, vocab_size, fake = False)\n",
    "    \n",
    "    counts_fake, freqs_fake = get_fake_distribution(G, start_tokens, vocab_size, sequence_length)\n",
    "    \n",
    "    score = chi_sqrd_dist(counts_real, counts_fake)\n",
    "    return score\n",
    "\n",
    "def get_transition_score(G, iterator, d = 1, separate = False, vocab_size = vocab_size, sequence_length = sequence_length):\n",
    "    data = next(iter(iterator)).ENDPOINTS.transpose(0, 1)\n",
    "    transition_count_real, transition_freq_real = get_transition_matrix(data, vocab_size, d)\n",
    "    \n",
    "    start_tokens = data[:, :1]\n",
    "    memory = G.initial_state(batch_size = start_tokens.shape[0])\n",
    "\n",
    "    if cuda:\n",
    "        memory = memory.cuda()\n",
    "        start_tokens = start_tokens.cuda()\n",
    "    \n",
    "    _, data_fake, _, _ = G(start_tokens, memory, sequence_length)\n",
    "    \n",
    "    transition_count_fake, transition_freq_fake = get_transition_matrix(data_fake, vocab_size, d)\n",
    "    \n",
    "    chi_sqrd_ds = []\n",
    "    for i in range(vocab_size - 1):\n",
    "        chi_sqrd_d = chi_sqrd_dist(transition_count_fake[i, :], transition_count_real[i, :])\n",
    "        chi_sqrd_ds.append(chi_sqrd_d)\n",
    "        \n",
    "    chi_sqrd_ds = torch.tensor(chi_sqrd_ds)\n",
    "    \n",
    "    if separate:\n",
    "        return chi_sqrd_ds\n",
    "        \n",
    "    return torch.mean(chi_sqrd_ds)\n",
    "    \n",
    "def get_aggregate_transition_score(G, iterator, separate1 = True, separate2 = True, vocab_size = vocab_size, sequence_length = sequence_length):\n",
    "    scores = []\n",
    "    for d in range(1, sequence_length):\n",
    "        transition_score = get_transition_score(G, iterator, d, separate1, vocab_size, sequence_length)\n",
    "        scores.append(transition_score)\n",
    "        \n",
    "    result = torch.stack(scores)\n",
    "    \n",
    "    if separate2:\n",
    "        return result\n",
    "    \n",
    "    if separate1:\n",
    "        return torch.mean(result, dim = 0)\n",
    "    else:\n",
    "        return torch.mean(result)\n",
    "\n",
    "val_data = next(iter(val_iter)).ENDPOINTS.transpose(0, 1)\n",
    "\n",
    "score = get_score(G, ENDPOINT, val_data[:, :1])\n",
    "print(score)\n",
    "\n",
    "transition_score = get_transition_score(G, val_iter, d = 1, separate = True)\n",
    "print(transition_score)\n",
    "\n",
    "aggr_transition_score = get_aggregate_transition_score(G, val_iter, True, True)\n",
    "print(aggr_transition_score)\n"
   ]
  },
  {
   "cell_type": "code",
   "execution_count": null,
   "metadata": {},
   "outputs": [],
   "source": [
    "# Test Discriminator output\n",
    "\n",
    "n_embeddings = 2\n",
    "embed_size = 2\n",
    "out_channels = 5 \n",
    "filter_sizes = [2, 3] # values can be at most the sequence_length\n",
    "\n",
    "D = RelGANDiscriminator(n_embeddings, vocab_size, embed_size, sequence_length, out_channels, filter_sizes)\n",
    "\n",
    "if cuda:\n",
    "    D.cuda()\n",
    "\n",
    "inp = logits\n",
    "print(inp)\n",
    "print(D(inp, False))\n",
    "print(D(inp))\n"
   ]
  },
  {
   "cell_type": "code",
   "execution_count": null,
   "metadata": {},
   "outputs": [],
   "source": [
    "# Define the generator pre-train function\n",
    "\n",
    "def pretrain_generator(G, train, batch_size, vocab_size, sequence_length, n_epochs, lr, print_step = 10):\n",
    "    loss_function = nn.BCELoss()\n",
    "    optimizer = torch.optim.Adam(G.parameters(), lr=lr)\n",
    "    \n",
    "    if cuda:\n",
    "        G.cuda()\n",
    "        loss_function.cuda()\n",
    "    \n",
    "    for e in range(n_epochs):\n",
    "        train_iter = Iterator(train, batch_size = batch_size, device = device)\n",
    "        loss_total = 0\n",
    "        count = 0\n",
    "        \n",
    "        for batch in train_iter:\n",
    "            train_data = batch.ENDPOINTS.transpose(0, 1)\n",
    "            train_data_one_hot = F.one_hot(train_data, vocab_size).type(Tensor)\n",
    "            \n",
    "            start_token = train_data[:, :1]\n",
    "            optimizer.zero_grad()\n",
    "\n",
    "            memory = G.initial_state(batch_size = train_data.shape[0])\n",
    "\n",
    "            if cuda:\n",
    "                start_token = start_token.cuda()\n",
    "                memory = memory.cuda()\n",
    "                \n",
    "            logits, _, _, _ = G(start_token, memory, sequence_length, 1.0)\n",
    "\n",
    "            loss = loss_function(logits, train_data_one_hot)\n",
    "            \n",
    "            loss_total += loss.item()\n",
    "            count += 1\n",
    "\n",
    "            loss.backward()\n",
    "            optimizer.step()\n",
    "            \n",
    "        \n",
    "        if e % print_step == 0:\n",
    "            print(\n",
    "                \"[Epoch %d/%d] [G loss: %f]\"\n",
    "                % (e, n_epochs, loss_total / count)\n",
    "            )"
   ]
  },
  {
   "cell_type": "code",
   "execution_count": 19,
   "metadata": {},
   "outputs": [
    {
     "name": "stdout",
     "output_type": "stream",
     "text": [
      "tensor([[1.5376, 0.1031, 0.5355, 0.8933, 0.3657, 1.1597],\n",
      "        [1.2815, 0.0360, 0.2964, 0.6004, 0.1523, 0.8337],\n",
      "        [1.2941, 0.0157, 0.1351, 0.3025, 0.1056, 0.4494],\n",
      "        [0.0000, 0.0119, 0.0651, 0.1903, 0.0165, 0.4187]])\n",
      "tensor(0.4500)\n"
     ]
    }
   ],
   "source": [
    "mem_slots = 4\n",
    "head_size = 2\n",
    "embed_size = 2\n",
    "temperature = 1\n",
    "num_heads = 2\n",
    "\n",
    "G = RelationalMemoryGenerator(mem_slots, head_size, embed_size, vocab_size, temperature, num_heads)\n",
    "\n",
    "if cuda:\n",
    "    G.cuda()\n",
    "    \n",
    "val_data = next(iter(val_iter)).ENDPOINTS.transpose(0, 1)\n",
    "\n",
    "score = get_score(G, ENDPOINT, val_data[:, :1])\n",
    "print(score)\n",
    "aggr_transition_score = get_aggregate_transition_score(G, val_iter, True, True)\n",
    "print(aggr_transition_score)\n",
    "print(aggr_transition_score.mean())\n",
    "\n",
    "batch_size = 64\n",
    "pretrain_generator(G, train, batch_size, vocab_size, sequence_length, 3, 0.01, print_step = 1)\n",
    "\n",
    "score = get_score(G, ENDPOINT, val_data[:, :1])\n",
    "print(score)\n",
    "aggr_transition_score = get_aggregate_transition_score(G, val_iter, True, True)\n",
    "print(aggr_transition_score)\n",
    "print(aggr_transition_score.mean())"
   ]
  },
  {
   "cell_type": "code",
   "execution_count": 20,
   "metadata": {},
   "outputs": [
    {
     "data": {
      "image/png": "[encoded data removed]",
      "text/plain": [
       "<Figure size 432x432 with 1 Axes>"
      ]
     },
     "metadata": {
      "needs_background": "light"
     },
     "output_type": "display_data"
    }
   ],
   "source": [
    "def save_grouped_barplot(freqs, freqs_fake, idx, title, N=10):\n",
    "    freqs1 = freqs.numpy()[idx]\n",
    "    freqs2 = freqs_fake.numpy()[idx]\n",
    "\n",
    "    fig, ax = plt.subplots(figsize=(6,6))\n",
    "\n",
    "    ind = np.arange(N)    # the x locations for the groups\n",
    "    width = 0.35         # the width of the bars\n",
    "    p1 = ax.bar(ind, freqs1, width, bottom=0)\n",
    "\n",
    "    p2 = ax.bar(ind + width, freqs2, width, bottom=0)\n",
    "\n",
    "    ax.set_title(title)\n",
    "    ax.set_xticks(ind + width / 2)\n",
    "    ax.set_xticklabels(map(lambda x: ENDPOINT.vocab.itos[x], idx + 2), rotation=90)\n",
    "\n",
    "    ax.legend((p1[0], p2[0]), ('real', 'fake'))\n",
    "    ax.autoscale_view()\n",
    "    \n",
    "    fig.subplots_adjust(bottom=0.36)\n",
    "    fig.savefig('figs/' + '_'.join(title.split(' ')).translate({ord(i): None for i in ':()'}) + '.svg')\n",
    "    \n",
    "def save_relative_and_absolute(freqs, freqs_fake, counts, counts_fake, vocab_size, prefix='', N_max=10):\n",
    "    N = min(N_max, vocab_size - 2)\n",
    "    if not prefix == '':\n",
    "        prefix += ' '\n",
    "    \n",
    "    if N == vocab_size - 2:\n",
    "        idx = np.arange(N)\n",
    "        \n",
    "        title = prefix + 'Differences in frequencies'\n",
    "        save_grouped_barplot(freqs, freqs_fake, idx, title, N)\n",
    "    else:\n",
    "        abs_diffs = np.abs(freqs - freqs_fake)\n",
    "        idx = np.argsort(abs_diffs)[-N:]\n",
    "        idx = np.flip(idx)\n",
    "        \n",
    "        title = prefix + 'Largest absolute differences in frequencies'\n",
    "        save_grouped_barplot(freqs, freqs_fake, idx, title, N)\n",
    "\n",
    "        chi_sqrd_dists = chi_sqrd_dist(counts, counts_fake, separate = True)\n",
    "        idx = np.argsort(chi_sqrd_dists)[-N:]\n",
    "        idx = np.flip(idx)\n",
    "\n",
    "        title = prefix + 'Largest relative differences in frequencies'\n",
    "        save_grouped_barplot(freqs, freqs_fake, idx, title, N)\n",
    "    \n",
    "\n",
    "train_iter = Iterator(train, batch_size = len(train_sequences))\n",
    "train_data = next(iter(train_iter)).ENDPOINTS.transpose(0, 1)\n",
    "    \n",
    "counts, freqs = get_distribution(None, ENDPOINT, vocab_size, fake = False)\n",
    "counts_fake1, _ = get_fake_distribution(G, val_data[:, :1])\n",
    "counts_fake2, _ = get_fake_distribution(G, train_data[:, :1])\n",
    "\n",
    "counts_fake = counts_fake1 + counts_fake2\n",
    "freqs_fake = counts_fake / torch.sum(counts_fake)\n",
    "\n",
    "N_max = 10\n",
    "prefix = '(Test):'\n",
    "\n",
    "save_relative_and_absolute(freqs, freqs_fake, counts, counts_fake, vocab_size, prefix, N_max)"
   ]
  },
  {
   "cell_type": "code",
   "execution_count": 21,
   "metadata": {},
   "outputs": [],
   "source": [
    "# Define the training function\n",
    "\n",
    "def get_scores(G, ENDPOINT, iterator, separate1 = True, separate2 = True, vocab_size = vocab_size, sequence_length = sequence_length):\n",
    "    start_tokens = next(iter(iterator)).ENDPOINTS.transpose(0, 1)[:, :1]\n",
    "    \n",
    "    score1 = get_score(G, ENDPOINT, start_tokens, vocab_size, sequence_length)\n",
    "    \n",
    "    score2 = get_aggregate_transition_score(G, iterator, separate1, separate2, vocab_size, sequence_length)\n",
    "    \n",
    "    return score1, score2.mean(), score2\n",
    "\n",
    "def train_GAN(G, D, train, val_iter, batch_size, vocab_size, sequence_length, \\\n",
    "              n_epochs, lr, temperature, print_step = 10, score_fn = get_scores):    \n",
    "    scores = []\n",
    "    accuracies_real = []\n",
    "    accuracies_fake = []\n",
    "    \n",
    "    score = score_fn(G, ENDPOINT, val_iter)\n",
    "    print('Scores before training:', *score)\n",
    "    scores.append(score)\n",
    "    \n",
    "    print('pretraining generator...')\n",
    "    pretrain_generator(G, train, batch_size, vocab_size, sequence_length, max(n_epochs // 10, 1), \\\n",
    "                       lr * 100, print_step = max(n_epochs // 10 - 1, 1))\n",
    "    print('pretraining complete')\n",
    "    \n",
    "    score = score_fn(G, ENDPOINT, val_iter)\n",
    "    print(\"[Scores:\", *score, \"]\")\n",
    "    scores.append(score)\n",
    "    \n",
    "    adversarial_loss = torch.nn.BCELoss()\n",
    "    \n",
    "    optimizer_G = torch.optim.Adam(G.parameters(), lr=lr)\n",
    "    optimizer_D = torch.optim.Adam(D.parameters(), lr=lr)\n",
    "    \n",
    "    if cuda:\n",
    "        G.cuda()\n",
    "        D.cuda()\n",
    "        adversarial_loss.cuda()\n",
    "    \n",
    "    for e in range(n_epochs):\n",
    "        train_iter = Iterator(train, batch_size = batch_size, device = device)\n",
    "        #loss_total = 0\n",
    "        #count = 0\n",
    "        \n",
    "        for batch in train_iter:\n",
    "            train_data = batch.ENDPOINTS.transpose(0, 1)\n",
    "            train_data_one_hot = F.one_hot(train_data, vocab_size).type(Tensor)\n",
    "\n",
    "            start_token = train_data[:, :1]\n",
    "            \n",
    "            # Adversarial ground truths\n",
    "            valid = Variable(Tensor(train_data.shape[0]).fill_(1.0), requires_grad=False)\n",
    "            fake = Variable(Tensor(train_data.shape[0]).fill_(0.0), requires_grad=False)\n",
    "\n",
    "            optimizer_G.zero_grad()\n",
    "\n",
    "            # Generate a batch of images\n",
    "            memory = G.initial_state(batch_size = train_data.shape[0])\n",
    "            if cuda:\n",
    "                memory = memory.cuda()\n",
    "\n",
    "            temp = temperature ** ((e + 1) / n_epochs)\n",
    "            fake_one_hot, _, _, _ = G(start_token, memory, sequence_length, temp)\n",
    "\n",
    "            # Loss measures generator's ability to fool the discriminator\n",
    "            g_loss = adversarial_loss(D(fake_one_hot).view(-1), valid)\n",
    "\n",
    "            g_loss.backward()\n",
    "            optimizer_G.step()\n",
    "\n",
    "            optimizer_D.zero_grad()\n",
    "\n",
    "            # Measure discriminator's ability to classify real from generated samples\n",
    "            D_out_real = D(train_data_one_hot).view(-1)\n",
    "            D_out_fake = D(fake_one_hot.detach()).view(-1)\n",
    "            \n",
    "            #print(D_out_real)\n",
    "            #print(torch.round(D_out_real))\n",
    "            accuracy_real = torch.mean(D_out_real)\n",
    "            accuracy_fake = torch.mean(1 - D_out_fake)\n",
    "            \n",
    "            real_loss = adversarial_loss(D_out_real, valid)\n",
    "            fake_loss = adversarial_loss(D_out_fake, fake)\n",
    "            d_loss = (real_loss + fake_loss) / 2\n",
    "\n",
    "            d_loss.backward()\n",
    "            optimizer_D.step()\n",
    "\n",
    "        if e % print_step == 0:\n",
    "            print()\n",
    "            print(\n",
    "                \"[Epoch %d/%d] [D loss: %f] [G loss: %f] [Acc real: %f] [Acc fake: %f]\"\n",
    "                % (e, n_epochs, d_loss.item(), g_loss.item(), accuracy_real, accuracy_fake)\n",
    "            )\n",
    "            score = score_fn(G, ENDPOINT, val_iter)\n",
    "            print(\"[Scores:\", *score, \"]\")\n",
    "            scores.append(score)\n",
    "            accuracies_real.append(accuracy_real)\n",
    "            accuracies_fake.append(accuracy_fake)\n",
    "            \n",
    "    score = score_fn(G, ENDPOINT, val_iter)\n",
    "    print('Scores after training:', *score)\n",
    "    scores.append(score)\n",
    "            \n",
    "    output = [[] for _ in range(len(scores[0]))]\n",
    "    for i in range(len(scores)):\n",
    "        for j in range(len(scores[i])):\n",
    "            output[j].append(scores[i][j])\n",
    "\n",
    "    output.append(accuracies_real)\n",
    "    output.append(accuracies_fake)\n",
    "            \n",
    "    for j in range(len(output)):\n",
    "        output[j] = torch.stack(output[j])\n",
    "            \n",
    "    return tuple(output)\n"
   ]
  },
  {
   "cell_type": "code",
   "execution_count": 22,
   "metadata": {},
   "outputs": [
    {
     "name": "stdout",
     "output_type": "stream",
     "text": [
      "Scores before training: tensor(1.1284) tensor(1.7545) tensor([[4.3715, 1.7107, 2.2080, 0.8063, 0.5120, 1.5271],\n",
      "        [3.8799, 1.6898, 2.0626, 1.1278, 0.6848, 1.3916],\n",
      "        [3.4009, 1.8339, 2.1153, 1.1812, 1.1167, 1.3419],\n",
      "        [0.0000, 1.9264, 2.1525, 1.8350, 1.4158, 1.8176]])\n",
      "pretraining generator...\n",
      "[Epoch 0/1] [G loss: 4.247199]\n",
      "pretraining complete\n",
      "[Scores: tensor(0.0113) tensor(0.3938) tensor([[1.3958, 0.1317, 0.4593, 0.6488, 0.5042, 0.7387],\n",
      "        [1.3086, 0.1006, 0.2818, 0.3659, 0.3833, 0.5266],\n",
      "        [1.3643, 0.0600, 0.1057, 0.3076, 0.1804, 0.1516],\n",
      "        [0.0000, 0.0318, 0.0590, 0.1169, 0.0782, 0.1516]]) ]\n",
      "\n",
      "[Epoch 0/10] [D loss: 0.672251] [G loss: 0.755522] [Acc real: 0.538488] [Acc fake: 0.512574]\n",
      "[Scores: tensor(0.0837) tensor(0.5618) tensor([[0.4594, 0.1902, 0.2333, 0.6326, 0.4428, 1.4539],\n",
      "        [0.4604, 0.2460, 0.3470, 0.3439, 0.6523, 1.0467],\n",
      "        [0.5097, 0.3339, 0.6244, 0.4765, 0.5066, 0.8795],\n",
      "        [0.0000, 0.3168, 0.9910, 0.6066, 0.8743, 0.8565]]) ]\n",
      "\n",
      "[Epoch 1/10] [D loss: 0.657780] [G loss: 0.755777] [Acc real: 0.545806] [Acc fake: 0.516471]\n",
      "[Scores: tensor(0.1026) tensor(0.5216) tensor([[0.1771, 0.4915, 0.2602, 0.6015, 0.2940, 0.9516],\n",
      "        [0.1246, 0.7125, 0.4378, 0.5159, 0.4306, 0.8128],\n",
      "        [0.1030, 0.8395, 0.6423, 0.5858, 0.4136, 0.6666],\n",
      "        [0.0000, 0.8744, 1.1454, 0.4870, 0.3431, 0.6064]]) ]\n",
      "\n",
      "[Epoch 2/10] [D loss: 0.602745] [G loss: 0.934378] [Acc real: 0.566013] [Acc fake: 0.584338]\n",
      "[Scores: tensor(0.1213) tensor(0.3660) tensor([[0.1562, 0.3467, 0.2005, 0.4804, 0.3304, 0.2257],\n",
      "        [0.1064, 0.4088, 0.3083, 0.3391, 0.6241, 0.1709],\n",
      "        [0.1909, 0.4511, 0.5890, 0.3939, 0.4135, 0.3823],\n",
      "        [0.0000, 0.3821, 1.0708, 0.3812, 0.4315, 0.4010]]) ]\n",
      "\n",
      "[Epoch 3/10] [D loss: 0.548504] [G loss: 0.906628] [Acc real: 0.599658] [Acc fake: 0.592010]\n",
      "[Scores: tensor(0.0489) tensor(0.7963) tensor([[0.7970, 0.4739, 0.3045, 0.2767, 0.5030, 0.3428],\n",
      "        [0.8608, 0.6974, 0.5120, 0.3011, 0.9588, 0.4805],\n",
      "        [4.2277, 0.8596, 0.9525, 0.5306, 0.9721, 0.6518],\n",
      "        [0.0000, 0.8857, 1.3246, 0.7881, 0.8632, 0.5477]]) ]\n",
      "\n",
      "[Epoch 4/10] [D loss: 0.567807] [G loss: 0.820832] [Acc real: 0.614941] [Acc fake: 0.553193]\n",
      "[Scores: tensor(0.1053) tensor(0.5361) tensor([[0.3951, 0.4429, 0.3604, 0.2037, 0.1407, 0.1800],\n",
      "        [0.3198, 0.8013, 0.7215, 0.2880, 0.2189, 0.4116],\n",
      "        [1.1515, 0.9440, 1.0541, 0.2115, 0.2607, 0.6122],\n",
      "        [0.0000, 1.0260, 1.4564, 0.3657, 0.6242, 0.6772]]) ]\n",
      "\n",
      "[Epoch 5/10] [D loss: 0.624521] [G loss: 0.883159] [Acc real: 0.539860] [Acc fake: 0.575681]\n",
      "[Scores: tensor(0.0247) tensor(0.2163) tensor([[0.0697, 0.1007, 0.2008, 0.3194, 0.0118, 0.1109],\n",
      "        [0.0610, 0.1763, 0.3418, 0.2753, 0.0683, 0.2476],\n",
      "        [0.1645, 0.2012, 0.6136, 0.2357, 0.0528, 0.3117],\n",
      "        [0.0000, 0.2122, 0.8090, 0.1952, 0.0425, 0.3693]]) ]\n",
      "\n",
      "[Epoch 6/10] [D loss: 0.586553] [G loss: 0.915600] [Acc real: 0.580343] [Acc fake: 0.588910]\n",
      "[Scores: tensor(0.0234) tensor(0.6279) tensor([[0.6087, 0.4448, 0.4677, 0.1285, 0.1127, 0.3522],\n",
      "        [1.3290, 0.7597, 0.6757, 0.1738, 0.2217, 0.6320],\n",
      "        [2.2507, 0.9310, 0.9191, 0.1716, 0.3301, 1.0477],\n",
      "        [0.0000, 0.9029, 1.1902, 0.2401, 0.4110, 0.7691]]) ]\n",
      "\n",
      "[Epoch 7/10] [D loss: 0.634446] [G loss: 0.895571] [Acc real: 0.540723] [Acc fake: 0.571640]\n",
      "[Scores: tensor(0.0885) tensor(0.2928) tensor([[0.0237, 0.1140, 0.3282, 0.1572, 0.0785, 0.2262],\n",
      "        [0.0133, 0.2063, 0.5488, 0.3619, 0.0701, 0.1725],\n",
      "        [0.1560, 0.2680, 0.8256, 0.2622, 0.1575, 0.3223],\n",
      "        [0.0000, 0.2939, 1.3044, 0.3282, 0.2875, 0.5197]]) ]\n",
      "\n",
      "[Epoch 8/10] [D loss: 0.706296] [G loss: 0.858998] [Acc real: 0.518015] [Acc fake: 0.552492]\n",
      "[Scores: tensor(0.0060) tensor(0.2530) tensor([[0.0656, 0.0544, 0.2244, 0.0352, 0.1348, 0.4158],\n",
      "        [0.0490, 0.0678, 0.2977, 0.1004, 0.2190, 0.5214],\n",
      "        [0.2153, 0.0907, 0.3405, 0.1066, 0.2591, 0.6512],\n",
      "        [0.0000, 0.1075, 0.8042, 0.1605, 0.3766, 0.7749]]) ]\n",
      "\n",
      "[Epoch 9/10] [D loss: 0.628085] [G loss: 0.838585] [Acc real: 0.565072] [Acc fake: 0.557144]\n",
      "[Scores: tensor(0.0860) tensor(0.4667) tensor([[0.0976, 0.1440, 0.2312, 0.0819, 0.1577, 0.6465],\n",
      "        [0.0965, 0.2983, 0.4851, 0.1324, 0.3449, 0.9567],\n",
      "        [0.1492, 0.3393, 0.8212, 0.2615, 0.4611, 1.2894],\n",
      "        [0.0000, 0.4752, 1.3559, 0.2929, 0.5708, 1.5122]]) ]\n",
      "Scores after training: tensor(0.0882) tensor(0.4926) tensor([[0.0878, 0.1417, 0.2494, 0.0759, 0.1979, 0.6550],\n",
      "        [0.1260, 0.3357, 0.4868, 0.1824, 0.4446, 0.9664],\n",
      "        [0.4692, 0.4096, 0.8028, 0.1292, 0.4689, 1.4907],\n",
      "        [0.0000, 0.4205, 1.3414, 0.3220, 0.5764, 1.4416]])\n",
      "Time taken: 834.0 seconds\n"
     ]
    },
    {
     "data": {
      "image/png": "[encoded data removed]",
      "text/plain": [
       "<Figure size 432x432 with 1 Axes>"
      ]
     },
     "metadata": {
      "needs_background": "light"
     },
     "output_type": "display_data"
    },
    {
     "data": {
      "image/png": "[encoded data removed]",
      "text/plain": [
       "<Figure size 432x432 with 1 Axes>"
      ]
     },
     "metadata": {
      "needs_background": "light"
     },
     "output_type": "display_data"
    }
   ],
   "source": [
    "# Train the GAN\n",
    "\n",
    "start_time = time.time()\n",
    "\n",
    "# Generator params\n",
    "mem_slots = 1\n",
    "head_size = 6\n",
    "embed_size = 10\n",
    "temperature = 5\n",
    "num_heads = 10\n",
    "num_blocks = 6\n",
    "\n",
    "G = RelationalMemoryGenerator(mem_slots, head_size, embed_size, vocab_size, temperature, num_heads, num_blocks)\n",
    "\n",
    "# Discriminator params\n",
    "n_embeddings = 5\n",
    "embed_size = embed_size\n",
    "out_channels = 15\n",
    "filter_sizes = [2, 3, 4] # values can be at most the sequence_length\n",
    "\n",
    "D = RelGANDiscriminator(n_embeddings, vocab_size, embed_size, sequence_length, out_channels, filter_sizes)\n",
    "\n",
    "if cuda:\n",
    "    G.cuda()\n",
    "    D.cuda()\n",
    "\n",
    "counts_fake1, _ = get_fake_distribution(G, val_data[:, :1])\n",
    "counts_fake2, _ = get_fake_distribution(G, train_data[:, :1])\n",
    "\n",
    "counts_fake = counts_fake1 + counts_fake2\n",
    "freqs_fake = counts_fake / torch.sum(counts_fake)\n",
    "\n",
    "N_max = 10\n",
    "prefix = 'Before:'\n",
    "\n",
    "save_relative_and_absolute(freqs, freqs_fake, counts, counts_fake, vocab_size, prefix, N_max)\n",
    "\n",
    "\n",
    "\n",
    "batch_size = 64\n",
    "n_epochs = 10\n",
    "print_step = max(n_epochs // 10, 1)\n",
    "lr = 1e-4\n",
    "\n",
    "# Train the GAN\n",
    "scores1, scores2, scores3, accuracies_real, accuracies_fake = train_GAN(\n",
    "    G, D, train, val_iter, batch_size, vocab_size, sequence_length, n_epochs, lr, temperature, print_step\n",
    ")\n",
    "\n",
    "\n",
    "\n",
    "counts_fake1, _ = get_fake_distribution(G, val_data[:, :1])\n",
    "counts_fake2, _ = get_fake_distribution(G, train_data[:, :1])\n",
    "\n",
    "counts_fake = counts_fake1 + counts_fake2\n",
    "freqs_fake = counts_fake / torch.sum(counts_fake)\n",
    "\n",
    "prefix = 'After:'\n",
    "\n",
    "save_relative_and_absolute(freqs, freqs_fake, counts, counts_fake, vocab_size, prefix, N_max)\n",
    "\n",
    "print('Time taken:', round_to_n(time.time() - start_time, n = 3), 'seconds')\n"
   ]
  },
  {
   "cell_type": "code",
   "execution_count": 23,
   "metadata": {},
   "outputs": [
    {
     "data": {
      "image/png": "[encoded data removed]",
      "text/plain": [
       "<Figure size 432x288 with 1 Axes>"
      ]
     },
     "metadata": {
      "needs_background": "light"
     },
     "output_type": "display_data"
    }
   ],
   "source": [
    "%matplotlib inline\n",
    "\n",
    "plt.plot(range(scores1.shape[0]), scores1.numpy())\n",
    "plt.ylabel('Chi-Squared Distance of frequencies')\n",
    "plt.xlabel('Epoch')\n",
    "plt.savefig('figs/chisqrd_freqs.svg')"
   ]
  },
  {
   "cell_type": "code",
   "execution_count": 24,
   "metadata": {},
   "outputs": [
    {
     "data": {
      "image/png": "[encoded data removed]",
      "text/plain": [
       "<Figure size 432x288 with 1 Axes>"
      ]
     },
     "metadata": {
      "needs_background": "light"
     },
     "output_type": "display_data"
    }
   ],
   "source": [
    "plt.plot(range(scores2.shape[0]), scores2.numpy())\n",
    "plt.ylabel('Mean transition score')\n",
    "plt.xlabel('Epoch')\n",
    "plt.savefig('figs/mean_transition_score.svg')"
   ]
  },
  {
   "cell_type": "code",
   "execution_count": 25,
   "metadata": {},
   "outputs": [
    {
     "data": {
      "image/png": "[encoded data removed]",
      "text/plain": [
       "<Figure size 432x288 with 1 Axes>"
      ]
     },
     "metadata": {
      "needs_background": "light"
     },
     "output_type": "display_data"
    }
   ],
   "source": [
    "plt.plot(range(accuracies_real.shape[0]), accuracies_real.detach().cpu().numpy())\n",
    "plt.ylabel('Accuracy real')\n",
    "plt.xlabel('Epoch')\n",
    "plt.savefig('figs/accuracy_real.svg')"
   ]
  },
  {
   "cell_type": "code",
   "execution_count": 26,
   "metadata": {},
   "outputs": [
    {
     "data": {
      "image/png": "[encoded data removed]",
      "text/plain": [
       "<Figure size 432x288 with 1 Axes>"
      ]
     },
     "metadata": {
      "needs_background": "light"
     },
     "output_type": "display_data"
    }
   ],
   "source": [
    "plt.plot(range(accuracies_fake.shape[0]), accuracies_fake.detach().cpu().numpy())\n",
    "plt.ylabel('Accuracy fake')\n",
    "plt.xlabel('Epoch')\n",
    "plt.savefig('figs/accuracy_fake.svg')"
   ]
  },
  {
   "cell_type": "code",
   "execution_count": 27,
   "metadata": {},
   "outputs": [
    {
     "data": {
      "text/plain": [
       "<Figure size 432x288 with 0 Axes>"
      ]
     },
     "metadata": {},
     "output_type": "display_data"
    }
   ],
   "source": [
    "for d in range(1, sequence_length):\n",
    "    plt.plot(range(scores3.shape[0]), scores3[:, d - 1, :].numpy())\n",
    "    plt.ylabel('Transition score')\n",
    "    plt.xlabel('Epoch')\n",
    "    title = 'd=' + str(d)\n",
    "    plt.title(title)\n",
    "    labels = [ENDPOINT.vocab.itos[i] for i in range(1, vocab_size)]\n",
    "    plt.legend(labels)\n",
    "    plt.savefig('figs/' + title + '.svg')\n",
    "    plt.clf()"
   ]
  },
  {
   "cell_type": "code",
   "execution_count": 28,
   "metadata": {},
   "outputs": [
    {
     "data": {
      "text/plain": [
       "<Figure size 432x288 with 0 Axes>"
      ]
     },
     "metadata": {},
     "output_type": "display_data"
    }
   ],
   "source": [
    "for v in range(1, vocab_size):\n",
    "    plt.plot(range(scores3.shape[0]), scores3[:, :, v - 1].numpy())\n",
    "    plt.ylabel('Transition score')\n",
    "    plt.xlabel('Epoch')\n",
    "    title = 'enpoint=' + ENDPOINT.vocab.itos[v]\n",
    "    plt.title(title)\n",
    "    labels = ['d=' + str(i) for i in range(1, sequence_length)]\n",
    "    plt.legend(labels)\n",
    "    plt.savefig('figs/' + title + '.svg')\n",
    "    plt.clf()"
   ]
  },
  {
   "cell_type": "code",
   "execution_count": 29,
   "metadata": {},
   "outputs": [
    {
     "name": "stdout",
     "output_type": "stream",
     "text": [
      "tensor([[6],\n",
      "        [2],\n",
      "        [3],\n",
      "        [2],\n",
      "        [5],\n",
      "        [3],\n",
      "        [4],\n",
      "        [4],\n",
      "        [6],\n",
      "        [6]])\n"
     ]
    },
    {
     "data": {
      "text/plain": [
       "tensor([[6, 6, 6, 6, 6],\n",
       "        [2, 2, 3, 3, 3],\n",
       "        [3, 3, 3, 3, 3],\n",
       "        [2, 3, 3, 3, 3],\n",
       "        [5, 4, 3, 3, 3],\n",
       "        [3, 3, 3, 3, 3],\n",
       "        [4, 5, 4, 4, 5],\n",
       "        [4, 2, 4, 4, 4],\n",
       "        [6, 6, 6, 6, 6],\n",
       "        [6, 6, 6, 6, 6]], device='cuda:0')"
      ]
     },
     "execution_count": 29,
     "metadata": {},
     "output_type": "execute_result"
    }
   ],
   "source": [
    "test_size = 10\n",
    "start_tokens = torch.randint(2, vocab_size, (test_size, 1))\n",
    "print(start_tokens)\n",
    "\n",
    "memory = G.initial_state(batch_size = test_size)\n",
    "\n",
    "if cuda:\n",
    "    memory = memory.cuda()\n",
    "    start_tokens = start_tokens.cuda()\n",
    "    \n",
    "_, data_fake, _, _ = G(start_tokens, memory, sequence_length)\n",
    "\n",
    "data_fake"
   ]
  },
  {
   "cell_type": "code",
   "execution_count": null,
   "metadata": {},
   "outputs": [],
   "source": []
  }
 ],
 "metadata": {
  "kernelspec": {
   "display_name": "Python 3",
   "language": "python",
   "name": "python3"
  },
  "language_info": {
   "codemirror_mode": {
    "name": "ipython",
    "version": 3
   },
   "file_extension": ".py",
   "mimetype": "text/x-python",
   "name": "python",
   "nbconvert_exporter": "python",
   "pygments_lexer": "ipython3",
   "version": "3.7.3"
  }
 },
 "nbformat": 4,
 "nbformat_minor": 2
}
