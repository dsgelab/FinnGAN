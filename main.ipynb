{
 "cells": [
  {
   "cell_type": "code",
   "execution_count": 1,
   "metadata": {},
   "outputs": [],
   "source": [
    "# Imports\n",
    "import torch\n",
    "import torch.nn as nn\n",
    "import torch.nn.functional as F\n",
    "import numpy as np\n",
    "from sklearn.model_selection import train_test_split\n",
    "import time\n",
    "from math import log10, floor\n",
    "import os\n",
    "\n",
    "from relational_rnn_models import RelationalMemoryGenerator\n",
    "from discriminator import RelGANDiscriminator"
   ]
  },
  {
   "cell_type": "code",
   "execution_count": 2,
   "metadata": {},
   "outputs": [],
   "source": [
    "# Define variables\n",
    "n_vars = 3\n",
    "var_ids = list(range(n_vars))\n",
    "var_names = ['var' + str(i) for i in var_ids]\n",
    "var_weights = [0.1, 0.6, 0.3] # variable distribution of mock data\n",
    "n_time_steps = 6\n",
    "n_individuals = 1000\n",
    "\n",
    "noise_length = 2"
   ]
  },
  {
   "cell_type": "code",
   "execution_count": 3,
   "metadata": {},
   "outputs": [],
   "source": [
    "# Helper function(s)\n",
    "\n",
    "# round a number to n significant digits\n",
    "def round_to_n(x, n = 2):\n",
    "    return round(x, -int(floor(log10(abs(x)))) + (n - 1)) if x != 0 else 0\n",
    "\n",
    "# visualize the output of the generator\n",
    "def visualize_output(generator, z, n = 2):\n",
    "    p = generator(z).view(n_time_steps, n_vars)\n",
    "    p.shape\n",
    "    for t in range(p.shape[0]):\n",
    "        tmp = []\n",
    "        for f in range(p.shape[1]):\n",
    "            tmp.append(round_to_n(p[t,f], n))\n",
    "        print(tmp)\n",
    "        \n",
    "# Change a sequence of tokens into a one-hot represenation\n",
    "def tokens_to_one_hot(tokens, vocab_size):\n",
    "    if len(tokens.shape) == 1:\n",
    "        tokens = tokens.view(1, -1)\n",
    "    batch_size = tokens.shape[0]\n",
    "    sequence_length = tokens.shape[1]\n",
    "    \n",
    "    tokens_onehot = torch.FloatTensor(batch_size, sequence_length, vocab_size)\n",
    "\n",
    "    tokens_onehot.zero_()\n",
    "    tokens_onehot.scatter_(2, tokens.view(batch_size, sequence_length, -1), 1)\n",
    "    \n",
    "    return tokens_onehot\n",
    "\n",
    "#y = data[:5, :]\n",
    "#print(y)\n",
    "#print(tokens_to_one_hot(y, n_vars))"
   ]
  },
  {
   "cell_type": "code",
   "execution_count": 4,
   "metadata": {},
   "outputs": [
    {
     "name": "stdout",
     "output_type": "stream",
     "text": [
      "time taken: 0.12 seconds\n",
      "['var2', 'var0', 'var1', 'var2', 'var0', 'var1']\n",
      "['var1', 'var2', 'var1', 'var1', 'var2', 'var0']\n",
      "['var0', 'var2', 'var0', 'var1', 'var1', 'var2']\n",
      "['var1', 'var2', 'var0', 'var2', 'var0', 'var1']\n",
      "['var1', 'var1', 'var1', 'var2', 'var0', 'var1']\n",
      "['var1', 'var1', 'var2', 'var0', 'var0', 'var1']\n",
      "['var2', 'var0', 'var0', 'var1', 'var1', 'var0']\n",
      "['var1', 'var2', 'var0', 'var2', 'var0', 'var1']\n",
      "['var1', 'var1', 'var1', 'var1', 'var2', 'var0']\n",
      "['var2', 'var2', 'var0', 'var2', 'var0', 'var1']\n"
     ]
    }
   ],
   "source": [
    "# Generate mock data\n",
    "\n",
    "events = []\n",
    "\n",
    "start_time = time.time()\n",
    "\n",
    "for indv in range(n_individuals):\n",
    "    tmp = []\n",
    "    for t in range(n_time_steps):\n",
    "        if t > 0 and tmp[t - 1] == 'var2':\n",
    "            weights = [0.7, 0.2, 0.1]\n",
    "            var = np.random.choice(var_names, p=weights)\n",
    "        else:\n",
    "            var = np.random.choice(var_names, p=var_weights)\n",
    "        tmp.append(var)\n",
    "    events.append(tmp)\n",
    "        \n",
    "print('time taken:', round_to_n(time.time() - start_time), 'seconds')\n",
    "\n",
    "for i in range(10):\n",
    "    print(events[i])"
   ]
  },
  {
   "cell_type": "code",
   "execution_count": 5,
   "metadata": {},
   "outputs": [
    {
     "name": "stdout",
     "output_type": "stream",
     "text": [
      "{'var0': 0, 'var1': 1, 'var2': 2}\n",
      "tensor([[2, 0, 1, 2, 0, 1],\n",
      "        [1, 2, 1, 1, 2, 0],\n",
      "        [0, 2, 0, 1, 1, 2],\n",
      "        [1, 2, 0, 2, 0, 1],\n",
      "        [1, 1, 1, 2, 0, 1],\n",
      "        [1, 1, 2, 0, 0, 1],\n",
      "        [2, 0, 0, 1, 1, 0],\n",
      "        [1, 2, 0, 2, 0, 1],\n",
      "        [1, 1, 1, 1, 2, 0],\n",
      "        [2, 2, 0, 2, 0, 1]])\n"
     ]
    }
   ],
   "source": [
    "vars_to_indices = dict([(v, i) for i, v in enumerate(var_names)])\n",
    "print(vars_to_indices)\n",
    "data = torch.tensor([[vars_to_indices[e] for e in event] for event in events])\n",
    "print(data[:10])"
   ]
  },
  {
   "cell_type": "code",
   "execution_count": 6,
   "metadata": {},
   "outputs": [
    {
     "name": "stdout",
     "output_type": "stream",
     "text": [
      "tensor([[[1., 0.],\n",
      "         [0., 1.],\n",
      "         [0., 0.],\n",
      "         [0., 0.]]])\n",
      "tensor([[[1., 0., 0.],\n",
      "         [0., 0., 1.],\n",
      "         [0., 0., 1.],\n",
      "         [1., 0., 0.],\n",
      "         [1., 0., 0.],\n",
      "         [0., 0., 1.]]], grad_fn=<CatBackward>)\n",
      "tensor([[[0],\n",
      "         [2],\n",
      "         [2],\n",
      "         [0],\n",
      "         [0],\n",
      "         [2]]])\n",
      "tensor([[[-0.1105,  1.4202],\n",
      "         [-0.7943,  2.1630],\n",
      "         [-1.0249,  0.3890],\n",
      "         [-1.0249,  0.3890]]], grad_fn=<AddBackward0>)\n"
     ]
    }
   ],
   "source": [
    "# Test generator output\n",
    "\n",
    "mem_slots = 4\n",
    "head_size = 2\n",
    "embed_size = 2\n",
    "num_tokens = n_vars\n",
    "temperature = 1\n",
    "num_heads = 1\n",
    "\n",
    "G = RelationalMemoryGenerator(mem_slots, head_size, embed_size, num_tokens, temperature, num_heads)\n",
    "\n",
    "start_token = torch.tensor([[0]])\n",
    "sequence_length = n_time_steps\n",
    "memory = G.initial_state(batch_size = 1)\n",
    "print(memory)\n",
    "logits, tokens, _, memory = G(start_token, memory, sequence_length, None)\n",
    "print(logits)\n",
    "print(tokens)\n",
    "print(memory)\n"
   ]
  },
  {
   "cell_type": "code",
   "execution_count": 7,
   "metadata": {},
   "outputs": [
    {
     "name": "stdout",
     "output_type": "stream",
     "text": [
      "tensor([0.1904, 0.3508, 0.1858])\n",
      "tensor([1.9037, 0.5846, 0.6192])\n"
     ]
    }
   ],
   "source": [
    "# Define generator evaluation function\n",
    "\n",
    "def eval_generator(G, data, vocab_size):\n",
    "    _, data_fake, _, _ = G(data[:, :1], G.initial_state(batch_size = data.shape[0]), data.shape[1] - 1)\n",
    "    data_fake = data_fake.view(data.shape[0], -1)\n",
    "    data_fake = torch.cat([data[:, :1], data_fake], dim = 1)\n",
    "    word_means = torch.stack([torch.mean((data == i).type(torch.FloatTensor), dim = 0) for i in range(vocab_size)])\n",
    "    word_means_fake = torch.stack([torch.mean((data_fake == i).type(torch.FloatTensor), dim = 0) for i in range(vocab_size)])\n",
    "    \n",
    "    scores = torch.sqrt(torch.sum((word_means - word_means_fake) ** 2, dim = 1))\n",
    "    \n",
    "    return scores\n",
    "\n",
    "#print(data[:50, :])\n",
    "scores = eval_generator(G, data[:500, :], n_vars)\n",
    "print(scores)\n",
    "print(scores / torch.tensor(var_weights))\n",
    "\n",
    "\n"
   ]
  },
  {
   "cell_type": "code",
   "execution_count": 8,
   "metadata": {},
   "outputs": [
    {
     "name": "stdout",
     "output_type": "stream",
     "text": [
      "torch.Size([1, 1])\n",
      "tensor([[[-0.8607,  0.0029,  0.7291,  0.8888]]], grad_fn=<EmbeddingBackward>)\n",
      "torch.Size([1, 1, 4])\n",
      "torch.Size([1, 4])\n",
      "torch.Size([1, 4])\n"
     ]
    },
    {
     "data": {
      "text/plain": [
       "torch.Size([1, 1, 4])"
      ]
     },
     "execution_count": 8,
     "metadata": {},
     "output_type": "execute_result"
    }
   ],
   "source": [
    "test = torch.tensor([[2]])\n",
    "print(test.shape)\n",
    "embed = nn.Embedding(10, 4)\n",
    "test_embed = embed(test)\n",
    "print(test_embed)\n",
    "print(test_embed.shape)\n",
    "test_inp = test_embed[:, 0]\n",
    "print(test_inp.shape)\n",
    "test_inp = test_inp.view(test_inp.shape[0], -1)\n",
    "print(test_inp.shape)\n",
    "test_inp.unsqueeze(dim=1).shape\n",
    "\n"
   ]
  },
  {
   "cell_type": "code",
   "execution_count": 9,
   "metadata": {},
   "outputs": [
    {
     "data": {
      "text/plain": [
       "torch.Size([2, 3, 4, 1])"
      ]
     },
     "execution_count": 9,
     "metadata": {},
     "output_type": "execute_result"
    }
   ],
   "source": [
    "t = torch.rand(2,3,4)\n",
    "t.view(*t.shape, 1).shape"
   ]
  },
  {
   "cell_type": "code",
   "execution_count": 10,
   "metadata": {},
   "outputs": [],
   "source": [
    "n_embeddings = 2\n",
    "vocab_size = n_vars\n",
    "embed_size = 2\n",
    "\n",
    "D = RelGANDiscriminator(n_embeddings, vocab_size, embed_size)"
   ]
  },
  {
   "cell_type": "code",
   "execution_count": 12,
   "metadata": {},
   "outputs": [
    {
     "name": "stdout",
     "output_type": "stream",
     "text": [
      "tensor([[[1., 0., 0.],\n",
      "         [0., 0., 1.],\n",
      "         [0., 0., 1.],\n",
      "         [1., 0., 0.],\n",
      "         [1., 0., 0.],\n",
      "         [0., 0., 1.]]], grad_fn=<CatBackward>)\n",
      "tensor([[[0],\n",
      "         [2],\n",
      "         [2],\n",
      "         [0],\n",
      "         [0],\n",
      "         [2]]])\n"
     ]
    }
   ],
   "source": [
    "inp = logits\n",
    "print(inp)\n",
    "print(D(inp))"
   ]
  },
  {
   "cell_type": "code",
   "execution_count": null,
   "metadata": {},
   "outputs": [],
   "source": []
  }
 ],
 "metadata": {
  "kernelspec": {
   "display_name": "Python 3",
   "language": "python",
   "name": "python3"
  },
  "language_info": {
   "codemirror_mode": {
    "name": "ipython",
    "version": 3
   },
   "file_extension": ".py",
   "mimetype": "text/x-python",
   "name": "python",
   "nbconvert_exporter": "python",
   "pygments_lexer": "ipython3",
   "version": "3.7.3"
  }
 },
 "nbformat": 4,
 "nbformat_minor": 2
}
