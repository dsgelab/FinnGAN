{
 "cells": [
  {
   "cell_type": "code",
   "execution_count": 1,
   "metadata": {},
   "outputs": [
    {
     "name": "stdout",
     "output_type": "stream",
     "text": [
      "Device: cuda:0\n"
     ]
    }
   ],
   "source": [
    "# Imports\n",
    "import torch\n",
    "import torch.nn as nn\n",
    "import torch.nn.functional as F\n",
    "from torch.autograd import Variable\n",
    "import numpy as np\n",
    "import pandas as pd\n",
    "from sklearn.model_selection import train_test_split\n",
    "import time\n",
    "from math import log10, floor\n",
    "import os\n",
    "import glob\n",
    "import matplotlib.pyplot as plt\n",
    "import datetime\n",
    "from math import ceil, isnan\n",
    "from params import *\n",
    "import sys\n",
    "try:\n",
    "    import torchtext\n",
    "    from torchtext.data import Field, Iterator, Dataset, Example\n",
    "except ImportError: \n",
    "    !{'/opt/anaconda3/bin/python3'} -m pip install --upgrade git+https://github.com/pytorch/text\n",
    "    import torchtext\n",
    "    from torchtext.data import Field, Iterator, Dataset\n",
    "\n",
    "from relational_rnn_models import RelationalMemoryGenerator\n",
    "from discriminator import RelGANDiscriminator\n",
    "\n",
    "cuda = torch.cuda.is_available()\n",
    "\n",
    "# Try setting the device to a GPU\n",
    "device = torch.device(\"cuda:0\" if cuda else \"cpu\")\n",
    "print('Device:', device)\n",
    "\n",
    "Tensor = torch.cuda.FloatTensor if cuda else torch.FloatTensor"
   ]
  },
  {
   "cell_type": "code",
   "execution_count": 2,
   "metadata": {},
   "outputs": [],
   "source": [
    "# Helper function(s)\n",
    "\n",
    "# round a number to n significant digits\n",
    "def round_to_n(x, n = 2):\n",
    "    return round(x, -int(floor(log10(abs(x)))) + (n - 1)) if x != 0 else 0\n",
    "\n",
    "# Transform a date string into a datetime object\n",
    "def str_to_datetime(string):\n",
    "    return datetime.datetime.strptime(string, '%Y-%m-%d %H:%M:%S')\n",
    "\n",
    "# TODO: more complex reduction: takes into account different ICD groups?\n",
    "def reduce_icd(icd_full):\n",
    "    return icd_full[:2]\n",
    "\n",
    "def get_distribution(data, field, vocab_size, fake = True):\n",
    "    counts = torch.zeros(vocab_size - 2)\n",
    "\n",
    "    for i in range(2, vocab_size):\n",
    "        if fake:\n",
    "            counts[i - 2] = torch.sum(data == i)\n",
    "        else:\n",
    "            counts[i - 2] = field.vocab.freqs[field.vocab.itos[i]]\n",
    "\n",
    "    freqs = counts / torch.sum(counts)\n",
    "    \n",
    "    return counts, freqs\n",
    "    "
   ]
  },
  {
   "cell_type": "code",
   "execution_count": 3,
   "metadata": {},
   "outputs": [
    {
     "name": "stdout",
     "output_type": "stream",
     "text": [
      "Index(['FINNGENID', 'EVENT_AGE', 'EVENT_YEAR', 'ENDPOINT'], dtype='object')\n",
      "53458\n",
      "['I9_HYPTENS' 'I9_HEARTFAIL_NS' 'I9_ANGINA' 'I9_CHD' 'I9_STR_EXH']\n",
      "CPU times: user 1min 37s, sys: 7.12 s, total: 1min 45s\n",
      "Wall time: 1min 45s\n"
     ]
    }
   ],
   "source": [
    "%%time\n",
    "\n",
    "filename = 'data/FINNGEN_ENDPOINTS_DF3_longitudinal_V1_for_SandBox.txt.gz'\n",
    "\n",
    "endpoints = ['I9_HYPTENS', 'I9_ANGINA', 'I9_HEARTFAIL_NS', 'I9_STR_EXH', 'I9_CHD']\n",
    "\n",
    "events = pd.read_csv(filename, compression = 'infer', sep='\\t', nrows = 300_000_000)\n",
    "\n",
    "print(events.columns)\n",
    "\n",
    "# include all endpoints in a list\n",
    "events = events[events['ENDPOINT'].isin(endpoints)]\n",
    "#events = events.groupby('FINNGENID').filter(lambda x: len(x) > 1)\n",
    "\n",
    "subjects = events['FINNGENID'].unique()\n",
    "n_individuals = len(subjects)\n",
    "print(n_individuals)\n",
    "print(events['ENDPOINT'].unique())"
   ]
  },
  {
   "cell_type": "code",
   "execution_count": 4,
   "metadata": {},
   "outputs": [
    {
     "name": "stdout",
     "output_type": "stream",
     "text": [
      "count    53458.000000\n",
      "mean         8.789284\n",
      "std         10.781500\n",
      "min          0.000000\n",
      "25%          0.000000\n",
      "50%          4.160000\n",
      "75%         14.740000\n",
      "max         71.900000\n",
      "dtype: float64\n",
      "count    53458.000000\n",
      "mean        11.296139\n",
      "std         19.014463\n",
      "min          1.000000\n",
      "25%          2.000000\n",
      "50%          4.000000\n",
      "75%         11.000000\n",
      "max        513.000000\n",
      "dtype: float64\n",
      "CPU times: user 13.3 s, sys: 12 ms, total: 13.3 s\n",
      "Wall time: 13.3 s\n"
     ]
    }
   ],
   "source": [
    "%%time\n",
    "\n",
    "print(events.groupby('FINNGENID').apply(lambda x: x['EVENT_AGE'].max() - x['EVENT_AGE'].min()).describe())\n",
    "print(events.groupby('FINNGENID').apply(lambda x: len(x)).describe())"
   ]
  },
  {
   "cell_type": "code",
   "execution_count": 5,
   "metadata": {},
   "outputs": [
    {
     "name": "stdout",
     "output_type": "stream",
     "text": [
      "5\n"
     ]
    }
   ],
   "source": [
    "#max_sequence_length = 5\n",
    "\n",
    "sequence_length = min(events.groupby('FINNGENID').apply(lambda x: len(x)).max(), max_sequence_length)\n",
    "print(sequence_length)\n",
    "\n",
    "def get_sequence_of_codes(subject):\n",
    "    codes = []\n",
    "    \n",
    "    count = 0\n",
    "    for i in subject.sort_values('EVENT_AGE').index:\n",
    "        codes.append(subject.loc[i, 'ENDPOINT'])\n",
    "        count += 1\n",
    "        if count == sequence_length:\n",
    "            break\n",
    "        \n",
    "    res = ' '.join(codes)\n",
    "    return res\n",
    "\n",
    "def get_sequence_of_time_differences(subject):\n",
    "    times = [0]\n",
    "    \n",
    "    count = 0\n",
    "    for i in subject.sort_values('EVENT_AGE').index:\n",
    "        times.append(subject.loc[i, 'EVENT_AGE'])\n",
    "        count += 1\n",
    "        if count == sequence_length:\n",
    "            break\n",
    "        \n",
    "    res = np.diff(times)\n",
    "    return res\n",
    "    "
   ]
  },
  {
   "cell_type": "code",
   "execution_count": 6,
   "metadata": {},
   "outputs": [
    {
     "name": "stdout",
     "output_type": "stream",
     "text": [
      "count    53458.000000\n",
      "mean         3.512571\n",
      "std          1.614306\n",
      "min          1.000000\n",
      "25%          2.000000\n",
      "50%          4.000000\n",
      "75%          5.000000\n",
      "max          5.000000\n",
      "dtype: float64\n",
      "(53458,)\n",
      "count    53458.000000\n",
      "mean         3.512571\n",
      "std          1.614306\n",
      "min          1.000000\n",
      "25%          2.000000\n",
      "50%          4.000000\n",
      "75%          5.000000\n",
      "max          5.000000\n",
      "dtype: float64\n",
      "(53458,)\n",
      "CPU times: user 1min 19s, sys: 416 ms, total: 1min 19s\n",
      "Wall time: 1min 18s\n"
     ]
    }
   ],
   "source": [
    "%%time\n",
    "\n",
    "sequences_of_codes = events.groupby('FINNGENID').apply(get_sequence_of_codes)\n",
    "#print(sequences_of_codes.head())\n",
    "print(sequences_of_codes.apply(lambda x: len(x.split(' '))).describe())\n",
    "print(sequences_of_codes.shape)\n",
    "\n",
    "sequences_of_times = events.groupby('FINNGENID').apply(get_sequence_of_time_differences)\n",
    "#print(sequences_of_times.head())\n",
    "print(sequences_of_times.apply(lambda x: len(x)).describe())\n",
    "print(sequences_of_times.shape)"
   ]
  },
  {
   "cell_type": "code",
   "execution_count": 7,
   "metadata": {},
   "outputs": [
    {
     "name": "stdout",
     "output_type": "stream",
     "text": [
      "(53458, 2)\n"
     ]
    }
   ],
   "source": [
    "#sequences = pd.DataFrame({'ENDPOINTS': sequences_of_codes.stack(), 'TIME_DIFFS': sequences_of_times.stack()})\n",
    "sequences = pd.DataFrame({'ENDPOINTS': sequences_of_codes, 'TIME_DIFFS': sequences_of_times})\n",
    "print(sequences.shape)\n",
    "#sequences.head()\n"
   ]
  },
  {
   "cell_type": "code",
   "execution_count": 8,
   "metadata": {},
   "outputs": [],
   "source": [
    "# https://stackoverflow.com/questions/52602071/dataframe-as-datasource-in-torchtext\n",
    "\n",
    "class DataFrameDataset(Dataset):\n",
    "    \"\"\"Class for using pandas DataFrames as a datasource\"\"\"\n",
    "    def __init__(self, examples, fields, filter_pred=None):\n",
    "        \"\"\"\n",
    "        Create a dataset from a pandas dataframe of examples and Fields\n",
    "        Arguments:\n",
    "            examples pd.DataFrame: DataFrame of examples\n",
    "            fields {str: Field}: The Fields to use in this tuple. The\n",
    "                string is a field name, and the Field is the associated field.\n",
    "            filter_pred (callable or None): use only exanples for which\n",
    "                filter_pred(example) is true, or use all examples if None.\n",
    "                Default is None\n",
    "        \"\"\"\n",
    "        self.fields = dict(fields)\n",
    "        self.examples = examples.apply(SeriesExample.fromSeries, args=(self.fields,), axis=1).tolist()\n",
    "        if filter_pred is not None:\n",
    "            self.examples = filter(filter_pred, self.examples)\n",
    "        # Unpack field tuples\n",
    "        for n, f in list(self.fields.items()):\n",
    "            if isinstance(n, tuple):\n",
    "                self.fields.update(zip(n, f))\n",
    "                del self.fields[n]\n",
    "\n",
    "class SeriesExample(Example):\n",
    "    \"\"\"Class to convert a pandas Series to an Example\"\"\"\n",
    "    \n",
    "    @classmethod\n",
    "    def fromSeries(cls, data, fields):\n",
    "        return cls.fromdict(data.to_dict(), fields)\n",
    "\n",
    "    @classmethod\n",
    "    def fromdict(cls, data, fields):\n",
    "        ex = cls()\n",
    "        for key, field in fields.items():\n",
    "            if key not in data:\n",
    "                raise ValueError(\"Specified key {} was not found in \"\n",
    "                \"the input data\".format(key))\n",
    "            if field is not None:\n",
    "                setattr(ex, key, field.preprocess(data[key]))\n",
    "            else:\n",
    "                setattr(ex, key, data[key])\n",
    "        return ex"
   ]
  },
  {
   "cell_type": "code",
   "execution_count": 9,
   "metadata": {},
   "outputs": [
    {
     "name": "stdout",
     "output_type": "stream",
     "text": [
      "(48112, 2) (5346, 2)\n",
      "CPU times: user 2.09 s, sys: 12 ms, total: 2.1 s\n",
      "Wall time: 2.11 s\n"
     ]
    }
   ],
   "source": [
    "%%time\n",
    "\n",
    "tokenize = lambda x: x.split(' ')\n",
    "\n",
    "ENDPOINT = Field(fix_length = sequence_length, tokenize = tokenize)\n",
    "\n",
    "fields = [('ENDPOINTS', ENDPOINT), ('TIME_DIFFS', None)]\n",
    "\n",
    "train_sequences, val_sequences = train_test_split(sequences, test_size = 0.1)\n",
    "print(train_sequences.shape, val_sequences.shape)\n",
    "\n",
    "train = DataFrameDataset(train_sequences, fields)\n",
    "val = DataFrameDataset(val_sequences, fields)\n",
    "\n",
    "ENDPOINT.build_vocab(train, val)"
   ]
  },
  {
   "cell_type": "code",
   "execution_count": 10,
   "metadata": {},
   "outputs": [
    {
     "name": "stdout",
     "output_type": "stream",
     "text": [
      "0\n",
      "I9_HYPTENS\n",
      "7\n",
      "45335\n"
     ]
    }
   ],
   "source": [
    "print(ENDPOINT.vocab.stoi['ANY_ATC'])\n",
    "print(ENDPOINT.vocab.itos[2])\n",
    "vocab_size = len(ENDPOINT.vocab.freqs) + 2\n",
    "print(vocab_size)\n",
    "\n",
    "print(ENDPOINT.vocab.freqs[ENDPOINT.vocab.itos[3]])\n"
   ]
  },
  {
   "cell_type": "code",
   "execution_count": 11,
   "metadata": {},
   "outputs": [
    {
     "data": {
      "text/plain": [
       "torch.Size([5346, 5])"
      ]
     },
     "execution_count": 11,
     "metadata": {},
     "output_type": "execute_result"
    }
   ],
   "source": [
    "val_iter = Iterator(val, batch_size = len(val_sequences), repeat = True)\n",
    "\n",
    "next(iter(val_iter)).ENDPOINTS.transpose(0, 1).shape"
   ]
  },
  {
   "cell_type": "code",
   "execution_count": 12,
   "metadata": {},
   "outputs": [
    {
     "name": "stdout",
     "output_type": "stream",
     "text": [
      "tensor([[46720.,     0.,     0.,     0.,     0.,     0.],\n",
      "        [15363., 43744.,  6023.,  3279.,  2380.,  1952.],\n",
      "        [ 4078.,  2706., 23689.,   770.,   616.,   353.],\n",
      "        [ 1747.,  2897.,  1284.,  7063.,  4001.,   289.],\n",
      "        [ 2315.,  1303.,  1549.,  3477.,  4896.,   253.],\n",
      "        [ 1484.,  1813.,   460.,   183.,   182.,  5579.]])\n",
      "tensor([[1.0000, 0.0000, 0.0000, 0.0000, 0.0000, 0.0000],\n",
      "        [0.2112, 0.6014, 0.0828, 0.0451, 0.0327, 0.0268],\n",
      "        [0.1266, 0.0840, 0.7354, 0.0239, 0.0191, 0.0110],\n",
      "        [0.1011, 0.1676, 0.0743, 0.4087, 0.2315, 0.0167],\n",
      "        [0.1678, 0.0945, 0.1123, 0.2521, 0.3550, 0.0183],\n",
      "        [0.1530, 0.1869, 0.0474, 0.0189, 0.0188, 0.5751]])\n",
      "tensor([1., 1., 1., 1., 1., 1.])\n",
      "CPU times: user 13.6 s, sys: 20 ms, total: 13.6 s\n",
      "Wall time: 13.7 s\n"
     ]
    }
   ],
   "source": [
    "%%time\n",
    "\n",
    "def get_transition_matrix(data, vocab_size = vocab_size, d = 1, eps = 1e-20):\n",
    "    transition_count = torch.zeros(vocab_size - 1, vocab_size - 1)\n",
    "\n",
    "    for indv in data:\n",
    "        for idx in range(len(indv) - d):\n",
    "            i1 = idx\n",
    "            i2 = i1 + d\n",
    "            ep1 = indv[i1]\n",
    "            ep2 = indv[i2]\n",
    "            if ep1 > 0 and ep2 > 0:\n",
    "                transition_count[ep1 - 1, ep2 - 1] += 1\n",
    "                    \n",
    "    #print(torch.sum(transition_count, dim = 1))\n",
    "    transition_freq = (transition_count.transpose(0, 1) / (torch.sum(transition_count, dim = 1) + eps)).transpose(0, 1)\n",
    "                    \n",
    "    return transition_count, transition_freq\n",
    "        \n",
    "iterator = Iterator(train, batch_size = len(train_sequences))\n",
    "\n",
    "transition_count, transition_freq = get_transition_matrix(next(iter(iterator)).ENDPOINTS.transpose(0, 1), vocab_size, d = 1)    \n",
    "print(transition_count)\n",
    "print(transition_freq)\n",
    "print(transition_freq.sum(dim = 1))\n"
   ]
  },
  {
   "cell_type": "code",
   "execution_count": 13,
   "metadata": {},
   "outputs": [
    {
     "name": "stdout",
     "output_type": "stream",
     "text": [
      "tensor([[1.0000, 0.0000, 0.0000, 0.0000, 0.0000, 0.0000],\n",
      "        [0.2112, 0.6014, 0.0828, 0.0451, 0.0327, 0.0268],\n",
      "        [0.1266, 0.0840, 0.7354, 0.0239, 0.0191, 0.0110],\n",
      "        [0.1011, 0.1676, 0.0743, 0.4087, 0.2315, 0.0167],\n",
      "        [0.1678, 0.0945, 0.1123, 0.2521, 0.3550, 0.0183],\n",
      "        [0.1530, 0.1869, 0.0474, 0.0189, 0.0188, 0.5751]])\n",
      "tensor([[1.0000, 0.0000, 0.0000, 0.0000, 0.0000, 0.0000],\n",
      "        [0.2104, 0.5978, 0.0834, 0.0475, 0.0358, 0.0252],\n",
      "        [0.1238, 0.0894, 0.7329, 0.0217, 0.0217, 0.0105],\n",
      "        [0.0975, 0.1681, 0.0818, 0.4214, 0.2151, 0.0162],\n",
      "        [0.1663, 0.1020, 0.1156, 0.2534, 0.3480, 0.0148],\n",
      "        [0.1423, 0.1819, 0.0579, 0.0203, 0.0234, 0.5742]])\n",
      "tensor(0.0035)\n",
      "CPU times: user 14.9 s, sys: 0 ns, total: 14.9 s\n",
      "Wall time: 14.9 s\n"
     ]
    }
   ],
   "source": [
    "%%time\n",
    "\n",
    "iterator = Iterator(train, batch_size = len(train_sequences))\n",
    "\n",
    "transition_count1, transition_freq1 = get_transition_matrix(next(iter(iterator)).ENDPOINTS.transpose(0, 1), vocab_size, d = 1)    \n",
    "transition_count2, transition_freq2 = get_transition_matrix(next(iter(val_iter)).ENDPOINTS.transpose(0, 1), vocab_size, d = 1)    \n",
    "\n",
    "print(transition_freq1)\n",
    "print(transition_freq2)\n",
    "print((transition_freq1 - transition_freq2).abs().mean())\n"
   ]
  },
  {
   "cell_type": "code",
   "execution_count": 14,
   "metadata": {},
   "outputs": [
    {
     "name": "stdout",
     "output_type": "stream",
     "text": [
      "53458\n",
      "2.6188783718059038e-05\n"
     ]
    }
   ],
   "source": [
    "subjects = sequences.index\n",
    "n_individuals = len(subjects)\n",
    "print(n_individuals)\n",
    "print(vocab_size / (n_individuals * sequence_length)) # The lower this is the easier it is for the generator to learn"
   ]
  },
  {
   "cell_type": "code",
   "execution_count": 15,
   "metadata": {},
   "outputs": [
    {
     "name": "stdout",
     "output_type": "stream",
     "text": [
      "tensor([[[1., 0., 0., 0.],\n",
      "         [0., 1., 0., 0.],\n",
      "         [0., 0., 1., 0.],\n",
      "         [0., 0., 0., 1.]]], device='cuda:0')\n",
      "tensor([[[0., 0., 1., 0., 0., 0., 0.],\n",
      "         [0., 0., 0., 0., 1., 0., 0.],\n",
      "         [0., 0., 0., 0., 1., 0., 0.],\n",
      "         [0., 0., 0., 0., 1., 0., 0.],\n",
      "         [0., 0., 0., 1., 0., 0., 0.]]], device='cuda:0',\n",
      "       grad_fn=<CatBackward>)\n",
      "tensor([[2, 4, 4, 4, 3]], device='cuda:0')\n",
      "tensor([[[ 0.4045,  2.0664, -0.6504, -1.6638],\n",
      "         [-0.2094,  2.3664, -0.8660, -1.8978],\n",
      "         [-0.4826,  1.7057,  0.3471, -1.5894],\n",
      "         [-0.3069,  1.6215, -0.8934,  0.0105]]], device='cuda:0',\n",
      "       grad_fn=<AddBackward0>)\n"
     ]
    }
   ],
   "source": [
    "# Test generator output\n",
    "\n",
    "mem_slots = 4\n",
    "head_size = 2\n",
    "embed_size = 2\n",
    "temperature = 1\n",
    "num_heads = 2\n",
    "\n",
    "G = RelationalMemoryGenerator(mem_slots, head_size, embed_size, vocab_size, temperature, num_heads)\n",
    "\n",
    "start_token = torch.tensor([[2]])\n",
    "memory = G.initial_state(batch_size = 1)\n",
    "\n",
    "if cuda:\n",
    "    G.cuda()\n",
    "    memory = memory.cuda()\n",
    "    start_token = start_token.cuda()\n",
    "\n",
    "print(memory)\n",
    "logits, tokens, _, memory = G(start_token, memory, sequence_length, None)\n",
    "print(logits)\n",
    "print(tokens)\n",
    "print(memory)\n"
   ]
  },
  {
   "cell_type": "code",
   "execution_count": 18,
   "metadata": {},
   "outputs": [
    {
     "name": "stdout",
     "output_type": "stream",
     "text": [
      "tensor(0.6580)\n",
      "tensor([5.5139, 1.8327, 1.9046, 0.6298, 0.5837, 1.0774])\n",
      "tensor([[5.4837, 1.8652, 1.9475, 0.5850, 0.5343, 1.0497],\n",
      "        [5.2146, 1.8274, 1.7690, 0.5722, 0.7744, 0.8941],\n",
      "        [3.8910, 1.7887, 1.7570, 0.6770, 0.7651, 0.9219],\n",
      "        [0.0000, 1.6658, 1.7582, 0.8447, 0.8379, 1.1461]])\n",
      "CPU times: user 14.9 s, sys: 28 ms, total: 14.9 s\n",
      "Wall time: 14.9 s\n"
     ]
    }
   ],
   "source": [
    "%%time\n",
    "\n",
    "# Define generator evaluation function\n",
    "\n",
    "def chi_sqrd_dist(counts1, counts2, separate = False, eps = 1e-20):\n",
    "    counts1 = counts1.view(1, -1)\n",
    "    counts2 = counts2.view(1, -1)\n",
    "    table = torch.cat([counts1, counts2], dim = 0)\n",
    "    col_sums = torch.sum(table, dim = 0)\n",
    "    row_sums = torch.sum(table, dim = 1)\n",
    "    n = torch.sum(col_sums)\n",
    "    \n",
    "    table_freq = table / (n + eps)\n",
    "    col_freqs = col_sums / (n + eps)\n",
    "    row_freqs = row_sums / (n + eps)\n",
    "    \n",
    "    diffs = table_freq[0, :] / (row_freqs[0] + eps) - table_freq[1, :] / (row_freqs[1] + eps)\n",
    "    diffs_sqrd = diffs ** 2\n",
    "    diffs_sqrd_norm = diffs_sqrd / (col_freqs + eps)\n",
    "    \n",
    "    if separate: \n",
    "        return diffs_sqrd_norm\n",
    "    \n",
    "    chi_sqrd_distance = torch.sum(diffs_sqrd_norm)\n",
    "    \n",
    "    return chi_sqrd_distance\n",
    "\n",
    "def get_fake_distribution(G, dataset, batch_size = 64, vocab_size = vocab_size, sequence_length = sequence_length):\n",
    "    iterator = Iterator(dataset, batch_size = batch_size)\n",
    "    \n",
    "    if cuda:\n",
    "        G.cuda()\n",
    "    \n",
    "    data_fake = []\n",
    "    \n",
    "    for batch in iterator:\n",
    "        data_tmp = batch.ENDPOINTS.transpose(0, 1)\n",
    "\n",
    "        start_tokens = data_tmp[:, :1]\n",
    "        memory = G.initial_state(batch_size = start_tokens.shape[0])\n",
    "\n",
    "        if cuda:\n",
    "            start_tokens = start_tokens.cuda()\n",
    "            memory = memory.cuda()\n",
    "\n",
    "        _, data_fake_tmp, _, _ = G(start_tokens, memory, sequence_length)\n",
    "        \n",
    "        data_fake.append(data_fake_tmp.cpu())\n",
    "    \n",
    "    data_fake = torch.cat(data_fake)\n",
    "    \n",
    "    counts_fake, freqs_fake = get_distribution(data_fake, None, vocab_size, fake = True)\n",
    "    \n",
    "    return counts_fake, freqs_fake\n",
    "    \n",
    "def get_score(G, ENDPOINT, dataset, batch_size = 64, vocab_size = vocab_size, sequence_length = sequence_length):\n",
    "    counts_real, freqs_real = get_distribution(None, ENDPOINT, vocab_size, fake = False)\n",
    "    \n",
    "    counts_fake, freqs_fake = get_fake_distribution(G, dataset, batch_size, vocab_size, sequence_length)\n",
    "    \n",
    "    score = chi_sqrd_dist(counts_real, counts_fake)\n",
    "    return score\n",
    "\n",
    "def get_transition_score(G, dataset, batch_size = 64, d = 1, separate = False, vocab_size = vocab_size, sequence_length = sequence_length):\n",
    "    iterator = Iterator(dataset, batch_size = batch_size)\n",
    "    \n",
    "    if cuda:\n",
    "        G.cuda()\n",
    "    \n",
    "    data = []\n",
    "    data_fake = []\n",
    "    \n",
    "    for batch in iterator:\n",
    "        data_tmp = batch.ENDPOINTS.transpose(0, 1)\n",
    "        data.append(data_tmp)\n",
    "\n",
    "        start_tokens = data_tmp[:, :1]\n",
    "        memory = G.initial_state(batch_size = start_tokens.shape[0])\n",
    "\n",
    "        if cuda:\n",
    "            start_tokens = start_tokens.cuda()\n",
    "            memory = memory.cuda()\n",
    "\n",
    "        _, data_fake_tmp, _, _ = G(start_tokens, memory, sequence_length)\n",
    "        \n",
    "        data_fake.append(data_fake_tmp.cpu())\n",
    "    \n",
    "    \n",
    "    data = torch.cat(data)\n",
    "    data_fake = torch.cat(data_fake)\n",
    "    \n",
    "    transition_count_real, transition_freq_real = get_transition_matrix(data, vocab_size, d)\n",
    "    transition_count_fake, transition_freq_fake = get_transition_matrix(data_fake, vocab_size, d)\n",
    "    \n",
    "    chi_sqrd_ds = []\n",
    "    for i in range(vocab_size - 1):\n",
    "        chi_sqrd_d = chi_sqrd_dist(transition_count_fake[i, :], transition_count_real[i, :])\n",
    "        chi_sqrd_ds.append(chi_sqrd_d)\n",
    "        \n",
    "    chi_sqrd_ds = torch.tensor(chi_sqrd_ds)\n",
    "    \n",
    "    if separate:\n",
    "        return chi_sqrd_ds\n",
    "        \n",
    "    return torch.mean(chi_sqrd_ds)\n",
    "    \n",
    "def get_aggregate_transition_score(G, dataset, batch_size = 64, separate1 = True, separate2 = True, vocab_size = vocab_size, sequence_length = sequence_length):\n",
    "    scores = []\n",
    "    for d in range(1, sequence_length):\n",
    "        transition_score = get_transition_score(G, dataset, batch_size, d, separate1, vocab_size, sequence_length)\n",
    "        scores.append(transition_score)\n",
    "        \n",
    "    result = torch.stack(scores)\n",
    "    \n",
    "    if separate2:\n",
    "        return result\n",
    "    \n",
    "    if separate1:\n",
    "        return torch.mean(result, dim = 0)\n",
    "    else:\n",
    "        return torch.mean(result)\n",
    "\n",
    "val_data = next(iter(val_iter)).ENDPOINTS.transpose(0, 1)\n",
    "\n",
    "score = get_score(G, ENDPOINT, val)\n",
    "print(score)\n",
    "\n",
    "transition_score = get_transition_score(G, val, d = 1, separate = True)\n",
    "print(transition_score)\n",
    "\n",
    "aggr_transition_score = get_aggregate_transition_score(G, val, separate1 = True, separate2 = True)\n",
    "print(aggr_transition_score)\n"
   ]
  },
  {
   "cell_type": "code",
   "execution_count": 19,
   "metadata": {},
   "outputs": [
    {
     "name": "stdout",
     "output_type": "stream",
     "text": [
      "tensor([[[0., 0., 1., 0., 0., 0., 0.],\n",
      "         [0., 0., 0., 0., 1., 0., 0.],\n",
      "         [0., 0., 0., 0., 1., 0., 0.],\n",
      "         [0., 0., 0., 0., 1., 0., 0.],\n",
      "         [0., 0., 0., 1., 0., 0., 0.]]], device='cuda:0',\n",
      "       grad_fn=<CatBackward>)\n",
      "tensor([[0.6301, 0.6447]], device='cuda:0', grad_fn=<SqueezeBackward1>)\n",
      "tensor([0.6374], device='cuda:0', grad_fn=<MeanBackward2>)\n"
     ]
    }
   ],
   "source": [
    "# Test Discriminator output\n",
    "\n",
    "n_embeddings = 2\n",
    "embed_size = 2\n",
    "out_channels = 5 \n",
    "filter_sizes = [2, 3] # values can be at most the sequence_length\n",
    "\n",
    "D = RelGANDiscriminator(n_embeddings, vocab_size, embed_size, sequence_length, out_channels, filter_sizes)\n",
    "\n",
    "if cuda:\n",
    "    D.cuda()\n",
    "\n",
    "inp = logits\n",
    "print(inp)\n",
    "print(D(inp, False))\n",
    "print(D(inp))\n"
   ]
  },
  {
   "cell_type": "code",
   "execution_count": 24,
   "metadata": {},
   "outputs": [],
   "source": [
    "# Define the generator pre-train function\n",
    "\n",
    "def pretrain_generator(G, train, batch_size, vocab_size, sequence_length, n_epochs, lr, print_step = 10):\n",
    "    loss_function = nn.BCELoss()\n",
    "    optimizer = torch.optim.Adam(G.parameters(), lr=lr)\n",
    "    \n",
    "    if cuda:\n",
    "        G.cuda()\n",
    "        loss_function.cuda()\n",
    "    \n",
    "    for e in range(n_epochs):\n",
    "        train_iter = Iterator(train, batch_size = batch_size, device = device)\n",
    "        loss_total = 0\n",
    "        count = 0\n",
    "        \n",
    "        for batch in train_iter:\n",
    "            train_data = batch.ENDPOINTS.transpose(0, 1)\n",
    "            train_data_one_hot = F.one_hot(train_data, vocab_size).type(Tensor)\n",
    "            \n",
    "            start_token = train_data[:, :1]\n",
    "            optimizer.zero_grad()\n",
    "\n",
    "            memory = G.initial_state(batch_size = train_data.shape[0])\n",
    "\n",
    "            if cuda:\n",
    "                start_token = start_token.cuda()\n",
    "                memory = memory.cuda()\n",
    "                \n",
    "            logits, _, _, _ = G(start_token, memory, sequence_length, 1.0)\n",
    "\n",
    "            loss = loss_function(logits, train_data_one_hot)\n",
    "            \n",
    "            loss_total += loss.item()\n",
    "            count += 1\n",
    "\n",
    "            loss.backward()\n",
    "            optimizer.step()\n",
    "            \n",
    "        \n",
    "        if e % print_step == 0:\n",
    "            print(\n",
    "                \"[Epoch %d/%d] [G loss: %f]\"\n",
    "                % (e, n_epochs, loss_total / count)\n",
    "            )"
   ]
  },
  {
   "cell_type": "code",
   "execution_count": 25,
   "metadata": {},
   "outputs": [
    {
     "name": "stdout",
     "output_type": "stream",
     "text": [
      "tensor(0.3501)\n",
      "tensor([[2.2403, 1.2093, 1.5616, 0.8908, 0.6910, 0.8677],\n",
      "        [2.1918, 0.8432, 1.1707, 0.4959, 0.5331, 0.5581],\n",
      "        [1.9117, 0.7222, 0.9231, 0.3240, 0.3171, 0.3469],\n",
      "        [0.0000, 0.6223, 0.8181, 0.3148, 0.4626, 0.3132]])\n",
      "tensor(0.8471)\n",
      "[Epoch 0/2] [G loss: 4.423706]\n",
      "[Epoch 1/2] [G loss: 4.254490]\n",
      "tensor(0.0104)\n",
      "tensor([[1.3878, 0.1014, 0.6538, 0.7580, 0.5461, 1.2344],\n",
      "        [1.3227, 0.0643, 0.3919, 0.4945, 0.4032, 0.7355],\n",
      "        [1.3016, 0.0298, 0.1940, 0.3031, 0.2255, 0.4093],\n",
      "        [0.0000, 0.0321, 0.1446, 0.1652, 0.1580, 0.3196]])\n",
      "tensor(0.4740)\n"
     ]
    }
   ],
   "source": [
    "mem_slots = 4\n",
    "head_size = 2\n",
    "embed_size = 2\n",
    "temperature = 1\n",
    "num_heads = 2\n",
    "\n",
    "G = RelationalMemoryGenerator(mem_slots, head_size, embed_size, vocab_size, temperature, num_heads)\n",
    "    \n",
    "score = get_score(G, ENDPOINT, val)\n",
    "print(score)\n",
    "aggr_transition_score = get_aggregate_transition_score(G, val, 64, True, True)\n",
    "print(aggr_transition_score)\n",
    "print(aggr_transition_score.mean())\n",
    "\n",
    "batch_size = 64\n",
    "pretrain_generator(G, train, batch_size, vocab_size, sequence_length, 2, 0.01, print_step = 1)\n",
    "\n",
    "score = get_score(G, ENDPOINT, val)\n",
    "print(score)\n",
    "aggr_transition_score = get_aggregate_transition_score(G, val, 64, True, True)\n",
    "print(aggr_transition_score)\n",
    "print(aggr_transition_score.mean())"
   ]
  },
  {
   "cell_type": "code",
   "execution_count": 27,
   "metadata": {},
   "outputs": [
    {
     "data": {
      "image/png": "[encoded data removed]",
      "text/plain": [
       "<Figure size 432x432 with 1 Axes>"
      ]
     },
     "metadata": {
      "needs_background": "light"
     },
     "output_type": "display_data"
    }
   ],
   "source": [
    "def save_grouped_barplot(freqs, freqs_fake, idx, title, N=10):\n",
    "    freqs1 = freqs.numpy()[idx]\n",
    "    freqs2 = freqs_fake.numpy()[idx]\n",
    "\n",
    "    fig, ax = plt.subplots(figsize=(6,6))\n",
    "\n",
    "    ind = np.arange(N)    # the x locations for the groups\n",
    "    width = 0.35         # the width of the bars\n",
    "    p1 = ax.bar(ind, freqs1, width, bottom=0)\n",
    "\n",
    "    p2 = ax.bar(ind + width, freqs2, width, bottom=0)\n",
    "\n",
    "    ax.set_title(title)\n",
    "    ax.set_xticks(ind + width / 2)\n",
    "    ax.set_xticklabels(map(lambda x: ENDPOINT.vocab.itos[x], idx + 2), rotation=90)\n",
    "\n",
    "    ax.legend((p1[0], p2[0]), ('real', 'fake'))\n",
    "    ax.autoscale_view()\n",
    "    \n",
    "    fig.subplots_adjust(bottom=0.36)\n",
    "    fig.savefig('figs/' + '_'.join(title.split(' ')).translate({ord(i): None for i in ':()'}) + '.svg')\n",
    "    \n",
    "def save_relative_and_absolute(freqs, freqs_fake, counts, counts_fake, vocab_size, prefix='', N_max=10):\n",
    "    N = min(N_max, vocab_size - 2)\n",
    "    if not prefix == '':\n",
    "        prefix += ' '\n",
    "    \n",
    "    if N == vocab_size - 2:\n",
    "        idx = np.arange(N)\n",
    "        \n",
    "        title = prefix + 'Differences in frequencies'\n",
    "        save_grouped_barplot(freqs, freqs_fake, idx, title, N)\n",
    "    else:\n",
    "        abs_diffs = np.abs(freqs - freqs_fake)\n",
    "        idx = np.argsort(abs_diffs)[-N:]\n",
    "        idx = np.flip(idx)\n",
    "        \n",
    "        title = prefix + 'Largest absolute differences in frequencies'\n",
    "        save_grouped_barplot(freqs, freqs_fake, idx, title, N)\n",
    "\n",
    "        chi_sqrd_dists = chi_sqrd_dist(counts, counts_fake, separate = True)\n",
    "        idx = np.argsort(chi_sqrd_dists)[-N:]\n",
    "        idx = np.flip(idx)\n",
    "\n",
    "        title = prefix + 'Largest relative differences in frequencies'\n",
    "        save_grouped_barplot(freqs, freqs_fake, idx, title, N)\n",
    "    \n",
    "counts, freqs = get_distribution(None, ENDPOINT, vocab_size, fake = False)\n",
    "counts_fake1, _ = get_fake_distribution(G, val)\n",
    "counts_fake2, _ = get_fake_distribution(G, train)\n",
    "\n",
    "counts_fake = counts_fake1 + counts_fake2\n",
    "freqs_fake = counts_fake / torch.sum(counts_fake)\n",
    "\n",
    "N_max = 10\n",
    "prefix = '(Test):'\n",
    "\n",
    "save_relative_and_absolute(freqs, freqs_fake, counts, counts_fake, vocab_size, prefix, N_max)"
   ]
  },
  {
   "cell_type": "code",
   "execution_count": 28,
   "metadata": {},
   "outputs": [],
   "source": [
    "# Define the training function\n",
    "\n",
    "def get_scores(G, ENDPOINT, dataset, batch_size = 128, separate1 = True, separate2 = True, \\\n",
    "               vocab_size = vocab_size, sequence_length = sequence_length):\n",
    "    start_tokens = next(iter(iterator)).ENDPOINTS.transpose(0, 1)[:, :1]\n",
    "    \n",
    "    score1 = get_score(G, ENDPOINT, dataset, batch_size, vocab_size, sequence_length)\n",
    "    \n",
    "    score2 = get_aggregate_transition_score(G, dataset, batch_size, separate1, separate2, vocab_size, sequence_length)\n",
    "    \n",
    "    return score1, score2.mean(), score2\n",
    "\n",
    "def train_GAN(G, D, train, val_iter, batch_size, vocab_size, sequence_length, \\\n",
    "              n_epochs, lr, temperature, print_step = 10, score_fn = get_scores):    \n",
    "    scores = []\n",
    "    accuracies_real = []\n",
    "    accuracies_fake = []\n",
    "    \n",
    "    score = score_fn(G, ENDPOINT, val)\n",
    "    print('Scores before training:', *score)\n",
    "    scores.append(score)\n",
    "    \n",
    "    print('pretraining generator...')\n",
    "    pretrain_generator(G, train, batch_size, vocab_size, sequence_length, max(n_epochs // 10, 1), \\\n",
    "                       lr * 100, print_step = max(n_epochs // 10 - 1, 1))\n",
    "    print('pretraining complete')\n",
    "    \n",
    "    score = score_fn(G, ENDPOINT, val)\n",
    "    print(\"[Scores:\", *score, \"]\")\n",
    "    scores.append(score)\n",
    "    \n",
    "    adversarial_loss = torch.nn.BCELoss()\n",
    "    \n",
    "    optimizer_G = torch.optim.Adam(G.parameters(), lr=lr)\n",
    "    optimizer_D = torch.optim.Adam(D.parameters(), lr=lr)\n",
    "    \n",
    "    if cuda:\n",
    "        G.cuda()\n",
    "        D.cuda()\n",
    "        adversarial_loss.cuda()\n",
    "    \n",
    "    for e in range(n_epochs):\n",
    "        train_iter = Iterator(train, batch_size = batch_size, device = device)\n",
    "        #loss_total = 0\n",
    "        #count = 0\n",
    "        \n",
    "        for batch in train_iter:\n",
    "            train_data = batch.ENDPOINTS.transpose(0, 1)\n",
    "            train_data_one_hot = F.one_hot(train_data, vocab_size).type(Tensor)\n",
    "\n",
    "            start_token = train_data[:, :1]\n",
    "            \n",
    "            # Adversarial ground truths\n",
    "            valid = Variable(Tensor(train_data.shape[0]).fill_(1.0), requires_grad=False)\n",
    "            fake = Variable(Tensor(train_data.shape[0]).fill_(0.0), requires_grad=False)\n",
    "\n",
    "            optimizer_G.zero_grad()\n",
    "\n",
    "            # Generate a batch of images\n",
    "            memory = G.initial_state(batch_size = train_data.shape[0])\n",
    "            if cuda:\n",
    "                memory = memory.cuda()\n",
    "\n",
    "            temp = temperature ** ((e + 1) / n_epochs)\n",
    "            fake_one_hot, _, _, _ = G(start_token, memory, sequence_length, temp)\n",
    "\n",
    "            # Loss measures generator's ability to fool the discriminator\n",
    "            g_loss = adversarial_loss(D(fake_one_hot).view(-1), valid)\n",
    "\n",
    "            g_loss.backward()\n",
    "            optimizer_G.step()\n",
    "\n",
    "            optimizer_D.zero_grad()\n",
    "\n",
    "            # Measure discriminator's ability to classify real from generated samples\n",
    "            D_out_real = D(train_data_one_hot).view(-1)\n",
    "            D_out_fake = D(fake_one_hot.detach()).view(-1)\n",
    "            \n",
    "            #print(D_out_real)\n",
    "            #print(torch.round(D_out_real))\n",
    "            accuracy_real = torch.mean(D_out_real)\n",
    "            accuracy_fake = torch.mean(1 - D_out_fake)\n",
    "            \n",
    "            real_loss = adversarial_loss(D_out_real, valid)\n",
    "            fake_loss = adversarial_loss(D_out_fake, fake)\n",
    "            d_loss = (real_loss + fake_loss) / 2\n",
    "\n",
    "            d_loss.backward()\n",
    "            optimizer_D.step()\n",
    "\n",
    "        if e % print_step == 0:\n",
    "            print()\n",
    "            print(\n",
    "                \"[Epoch %d/%d] [D loss: %f] [G loss: %f] [Acc real: %f] [Acc fake: %f]\"\n",
    "                % (e, n_epochs, d_loss.item(), g_loss.item(), accuracy_real, accuracy_fake)\n",
    "            )\n",
    "            score = score_fn(G, ENDPOINT, val)\n",
    "            print(\"[Scores:\", *score, \"]\")\n",
    "            scores.append(score)\n",
    "            accuracies_real.append(accuracy_real)\n",
    "            accuracies_fake.append(accuracy_fake)\n",
    "            \n",
    "    score = score_fn(G, ENDPOINT, val)\n",
    "    print('Scores after training:', *score)\n",
    "    scores.append(score)\n",
    "            \n",
    "    output = [[] for _ in range(len(scores[0]))]\n",
    "    for i in range(len(scores)):\n",
    "        for j in range(len(scores[i])):\n",
    "            output[j].append(scores[i][j])\n",
    "\n",
    "    output.append(accuracies_real)\n",
    "    output.append(accuracies_fake)\n",
    "            \n",
    "    for j in range(len(output)):\n",
    "        output[j] = torch.stack(output[j])\n",
    "            \n",
    "    return tuple(output)\n"
   ]
  },
  {
   "cell_type": "code",
   "execution_count": 29,
   "metadata": {},
   "outputs": [
    {
     "name": "stdout",
     "output_type": "stream",
     "text": [
      "Scores before training: tensor(0.2378) tensor(1.1884) tensor([[4.2703, 1.2491, 0.8774, 0.8485, 0.5769, 1.1704],\n",
      "        [3.7960, 1.0403, 0.7614, 0.5368, 0.6404, 0.8616],\n",
      "        [3.3354, 1.2362, 0.7878, 0.5484, 0.5413, 0.8627],\n",
      "        [0.0000, 1.3112, 0.9820, 0.6925, 0.6889, 0.9064]])\n",
      "pretraining generator...\n",
      "[Epoch 0/1] [G loss: 4.206811]\n",
      "pretraining complete\n",
      "[Scores: tensor(0.0096) tensor(0.3567) tensor([[1.3443, 0.0840, 0.6324, 0.4491, 0.2370, 0.7454],\n",
      "        [1.2273, 0.0841, 0.3666, 0.2538, 0.2505, 0.4968],\n",
      "        [1.1541, 0.0732, 0.1613, 0.1445, 0.0873, 0.2522],\n",
      "        [0.0000, 0.0858, 0.0679, 0.1101, 0.1459, 0.1071]]) ]\n",
      "\n",
      "[Epoch 0/10] [D loss: 0.625876] [G loss: 0.887250] [Acc real: 0.533561] [Acc fake: 0.568807]\n",
      "[Scores: tensor(0.1204) tensor(0.6757) tensor([[1.2301, 0.0496, 0.2101, 0.6069, 0.3757, 0.7112],\n",
      "        [1.3731, 0.0915, 0.1704, 0.5858, 1.0523, 0.7569],\n",
      "        [1.9411, 0.1193, 0.2556, 0.9734, 1.1583, 0.8672],\n",
      "        [0.0000, 0.1115, 0.4201, 1.0345, 1.3014, 0.8204]]) ]\n",
      "\n",
      "[Epoch 1/10] [D loss: 0.664804] [G loss: 0.810570] [Acc real: 0.514893] [Acc fake: 0.546057]\n",
      "[Scores: tensor(0.0469) tensor(0.3679) tensor([[0.1731, 0.1952, 0.1635, 0.2789, 0.1803, 0.6954],\n",
      "        [0.2174, 0.2737, 0.2270, 0.4222, 0.0819, 0.9229],\n",
      "        [0.9318, 0.3174, 0.3482, 0.1919, 0.1214, 0.9856],\n",
      "        [0.0000, 0.3560, 0.4817, 0.2984, 0.1776, 0.7871]]) ]\n",
      "\n",
      "[Epoch 2/10] [D loss: 0.636922] [G loss: 0.914943] [Acc real: 0.565078] [Acc fake: 0.560235]\n",
      "[Scores: tensor(0.0889) tensor(0.5003) tensor([[0.2581, 0.2344, 0.1007, 0.2545, 0.4091, 0.4695],\n",
      "        [0.4242, 0.4118, 0.1553, 0.4744, 0.6813, 0.5786],\n",
      "        [0.9994, 0.4550, 0.2862, 0.6979, 0.8464, 0.5708],\n",
      "        [0.0000, 0.4575, 0.5083, 1.1003, 0.9762, 0.6577]]) ]\n",
      "\n",
      "[Epoch 3/10] [D loss: 0.567693] [G loss: 0.916840] [Acc real: 0.578934] [Acc fake: 0.592343]\n",
      "[Scores: tensor(0.0624) tensor(0.2352) tensor([[0.1293, 0.1169, 0.0857, 0.1143, 0.1189, 0.5020],\n",
      "        [0.1873, 0.1844, 0.1267, 0.0725, 0.1785, 0.4167],\n",
      "        [0.5702, 0.2086, 0.3006, 0.1639, 0.1365, 0.4099],\n",
      "        [0.0000, 0.1635, 0.7999, 0.1408, 0.1618, 0.3558]]) ]\n",
      "\n",
      "[Epoch 4/10] [D loss: 0.594619] [G loss: 0.892994] [Acc real: 0.573086] [Acc fake: 0.577150]\n",
      "[Scores: tensor(0.0191) tensor(0.1909) tensor([[0.1429, 0.1450, 0.1014, 0.0222, 0.0431, 0.3670],\n",
      "        [0.3388, 0.2571, 0.1537, 0.0515, 0.0176, 0.3749],\n",
      "        [0.4124, 0.2163, 0.2643, 0.0332, 0.0605, 0.4542],\n",
      "        [0.0000, 0.1770, 0.5364, 0.0545, 0.0571, 0.3012]]) ]\n",
      "\n",
      "[Epoch 5/10] [D loss: 0.638529] [G loss: 0.840019] [Acc real: 0.576262] [Acc fake: 0.546955]\n",
      "[Scores: tensor(0.0127) tensor(0.1992) tensor([[0.0492, 0.1452, 0.1683, 0.0598, 0.0980, 0.2586],\n",
      "        [0.0486, 0.1990, 0.2782, 0.0578, 0.1424, 0.2939],\n",
      "        [0.4379, 0.1841, 0.4870, 0.0691, 0.1209, 0.2032],\n",
      "        [0.0000, 0.2068, 0.8748, 0.1709, 0.0880, 0.1391]]) ]\n",
      "\n",
      "[Epoch 6/10] [D loss: 0.601282] [G loss: 0.873754] [Acc real: 0.600082] [Acc fake: 0.564070]\n",
      "[Scores: tensor(0.0162) tensor(0.3306) tensor([[0.1506, 0.2262, 0.1440, 0.0779, 0.1703, 0.2659],\n",
      "        [0.4029, 0.4259, 0.2544, 0.1361, 0.2619, 0.1575],\n",
      "        [1.9029, 0.5346, 0.4033, 0.1242, 0.2873, 0.1193],\n",
      "        [0.0000, 0.5102, 0.7783, 0.1437, 0.3726, 0.0856]]) ]\n",
      "\n",
      "[Epoch 7/10] [D loss: 0.579202] [G loss: 0.927994] [Acc real: 0.587999] [Acc fake: 0.588221]\n",
      "[Scores: tensor(0.0153) tensor(0.3794) tensor([[0.2846, 0.3334, 0.1793, 0.2218, 0.3028, 0.1387],\n",
      "        [0.5217, 0.5641, 0.2484, 0.2806, 0.3905, 0.1020],\n",
      "        [1.7372, 0.6425, 0.4012, 0.2382, 0.3509, 0.0642],\n",
      "        [0.0000, 0.6068, 0.7369, 0.2700, 0.4411, 0.0498]]) ]\n",
      "\n",
      "[Epoch 8/10] [D loss: 0.597242] [G loss: 1.012928] [Acc real: 0.582752] [Acc fake: 0.604792]\n",
      "[Scores: tensor(0.1290) tensor(0.2306) tensor([[0.0858, 0.3783, 0.1227, 0.0968, 0.1148, 0.1245],\n",
      "        [0.0790, 0.5428, 0.2152, 0.1293, 0.2010, 0.0979],\n",
      "        [0.3293, 0.5520, 0.3454, 0.1709, 0.2356, 0.0596],\n",
      "        [0.0000, 0.5244, 0.6059, 0.1806, 0.2832, 0.0599]]) ]\n",
      "\n",
      "[Epoch 9/10] [D loss: 0.632255] [G loss: 0.829397] [Acc real: 0.597568] [Acc fake: 0.548245]\n",
      "[Scores: tensor(0.1007) tensor(0.3368) tensor([[0.2003, 0.3386, 0.2139, 0.1757, 0.0853, 0.0179],\n",
      "        [0.3783, 0.6469, 0.3882, 0.2189, 0.2359, 0.0235],\n",
      "        [0.8615, 0.6919, 0.5974, 0.3496, 0.2848, 0.0394],\n",
      "        [0.0000, 0.7042, 0.9196, 0.3755, 0.2666, 0.0683]]) ]\n",
      "Scores after training: tensor(0.0953) tensor(0.3640) tensor([[0.2120, 0.3294, 0.2076, 0.1887, 0.0820, 0.0215],\n",
      "        [0.4524, 0.6199, 0.3572, 0.2120, 0.2752, 0.0432],\n",
      "        [1.3912, 0.6864, 0.5978, 0.3591, 0.2329, 0.0587],\n",
      "        [0.0000, 0.7042, 0.9839, 0.3842, 0.2606, 0.0761]])\n",
      "Time taken: 1260.0 seconds\n"
     ]
    },
    {
     "data": {
      "image/png": "[encoded data removed]",
      "text/plain": [
       "<Figure size 432x432 with 1 Axes>"
      ]
     },
     "metadata": {
      "needs_background": "light"
     },
     "output_type": "display_data"
    },
    {
     "data": {
      "image/png": "[encoded data removed]",
      "text/plain": [
       "<Figure size 432x432 with 1 Axes>"
      ]
     },
     "metadata": {
      "needs_background": "light"
     },
     "output_type": "display_data"
    }
   ],
   "source": [
    "# Train the GAN\n",
    "\n",
    "start_time = time.time()\n",
    "\n",
    "# Generator params\n",
    "mem_slots = 1\n",
    "head_size = 6\n",
    "embed_size = 10\n",
    "temperature = 5\n",
    "num_heads = 10\n",
    "num_blocks = 6\n",
    "\n",
    "G = RelationalMemoryGenerator(mem_slots, head_size, embed_size, vocab_size, temperature, num_heads, num_blocks)\n",
    "\n",
    "# Discriminator params\n",
    "n_embeddings = 5\n",
    "embed_size = embed_size\n",
    "out_channels = 15\n",
    "filter_sizes = [2, 3, 4] # values can be at most the sequence_length\n",
    "\n",
    "D = RelGANDiscriminator(n_embeddings, vocab_size, embed_size, sequence_length, out_channels, filter_sizes)\n",
    "\n",
    "counts_fake1, _ = get_fake_distribution(G, val)\n",
    "counts_fake2, _ = get_fake_distribution(G, train)\n",
    "\n",
    "counts_fake = counts_fake1 + counts_fake2\n",
    "freqs_fake = counts_fake / torch.sum(counts_fake)\n",
    "\n",
    "N_max = 10\n",
    "prefix = 'Before:'\n",
    "\n",
    "save_relative_and_absolute(freqs, freqs_fake, counts, counts_fake, vocab_size, prefix, N_max)\n",
    "\n",
    "\n",
    "\n",
    "batch_size = 64\n",
    "n_epochs = 10\n",
    "print_step = max(n_epochs // 10, 1)\n",
    "lr = 1e-4\n",
    "\n",
    "# Train the GAN\n",
    "scores1, scores2, scores3, accuracies_real, accuracies_fake = train_GAN(\n",
    "    G, D, train, val_iter, batch_size, vocab_size, sequence_length, n_epochs, lr, temperature, print_step\n",
    ")\n",
    "\n",
    "\n",
    "\n",
    "counts_fake1, _ = get_fake_distribution(G, val)\n",
    "counts_fake2, _ = get_fake_distribution(G, train)\n",
    "\n",
    "counts_fake = counts_fake1 + counts_fake2\n",
    "freqs_fake = counts_fake / torch.sum(counts_fake)\n",
    "\n",
    "prefix = 'After:'\n",
    "\n",
    "save_relative_and_absolute(freqs, freqs_fake, counts, counts_fake, vocab_size, prefix, N_max)\n",
    "\n",
    "print('Time taken:', round_to_n(time.time() - start_time, n = 3), 'seconds')\n"
   ]
  },
  {
   "cell_type": "code",
   "execution_count": 30,
   "metadata": {},
   "outputs": [
    {
     "data": {
      "image/png": "[encoded data removed]",
      "text/plain": [
       "<Figure size 432x288 with 1 Axes>"
      ]
     },
     "metadata": {
      "needs_background": "light"
     },
     "output_type": "display_data"
    }
   ],
   "source": [
    "%matplotlib inline\n",
    "\n",
    "plt.plot(range(scores1.shape[0]), scores1.numpy())\n",
    "plt.ylabel('Chi-Squared Distance of frequencies')\n",
    "plt.xlabel('Epoch')\n",
    "plt.savefig('figs/chisqrd_freqs.svg')"
   ]
  },
  {
   "cell_type": "code",
   "execution_count": 31,
   "metadata": {},
   "outputs": [
    {
     "data": {
      "image/png": "[encoded data removed]",
      "text/plain": [
       "<Figure size 432x288 with 1 Axes>"
      ]
     },
     "metadata": {
      "needs_background": "light"
     },
     "output_type": "display_data"
    }
   ],
   "source": [
    "plt.plot(range(scores2.shape[0]), scores2.numpy())\n",
    "plt.ylabel('Mean transition score')\n",
    "plt.xlabel('Epoch')\n",
    "plt.savefig('figs/mean_transition_score.svg')"
   ]
  },
  {
   "cell_type": "code",
   "execution_count": 32,
   "metadata": {},
   "outputs": [
    {
     "data": {
      "image/png": "[encoded data removed]",
      "text/plain": [
       "<Figure size 432x288 with 1 Axes>"
      ]
     },
     "metadata": {
      "needs_background": "light"
     },
     "output_type": "display_data"
    }
   ],
   "source": [
    "plt.plot(range(accuracies_real.shape[0]), accuracies_real.detach().cpu().numpy())\n",
    "plt.ylabel('Accuracy real')\n",
    "plt.xlabel('Epoch')\n",
    "plt.savefig('figs/accuracy_real.svg')"
   ]
  },
  {
   "cell_type": "code",
   "execution_count": 33,
   "metadata": {},
   "outputs": [
    {
     "data": {
      "image/png": "[encoded data removed]",
      "text/plain": [
       "<Figure size 432x288 with 1 Axes>"
      ]
     },
     "metadata": {
      "needs_background": "light"
     },
     "output_type": "display_data"
    }
   ],
   "source": [
    "plt.plot(range(accuracies_fake.shape[0]), accuracies_fake.detach().cpu().numpy())\n",
    "plt.ylabel('Accuracy fake')\n",
    "plt.xlabel('Epoch')\n",
    "plt.savefig('figs/accuracy_fake.svg')"
   ]
  },
  {
   "cell_type": "code",
   "execution_count": 34,
   "metadata": {},
   "outputs": [
    {
     "data": {
      "text/plain": [
       "<Figure size 432x288 with 0 Axes>"
      ]
     },
     "metadata": {},
     "output_type": "display_data"
    }
   ],
   "source": [
    "for d in range(1, sequence_length):\n",
    "    plt.plot(range(scores3.shape[0]), scores3[:, d - 1, :].numpy())\n",
    "    plt.ylabel('Transition score')\n",
    "    plt.xlabel('Epoch')\n",
    "    title = 'd=' + str(d)\n",
    "    plt.title(title)\n",
    "    labels = [ENDPOINT.vocab.itos[i] for i in range(1, vocab_size)]\n",
    "    plt.legend(labels)\n",
    "    plt.savefig('figs/' + title + '.svg')\n",
    "    plt.clf()"
   ]
  },
  {
   "cell_type": "code",
   "execution_count": 35,
   "metadata": {},
   "outputs": [
    {
     "data": {
      "text/plain": [
       "<Figure size 432x288 with 0 Axes>"
      ]
     },
     "metadata": {},
     "output_type": "display_data"
    }
   ],
   "source": [
    "for v in range(1, vocab_size):\n",
    "    plt.plot(range(scores3.shape[0]), scores3[:, :, v - 1].numpy())\n",
    "    plt.ylabel('Transition score')\n",
    "    plt.xlabel('Epoch')\n",
    "    title = 'enpoint=' + ENDPOINT.vocab.itos[v]\n",
    "    plt.title(title)\n",
    "    labels = ['d=' + str(i) for i in range(1, sequence_length)]\n",
    "    plt.legend(labels)\n",
    "    plt.savefig('figs/' + title + '.svg')\n",
    "    plt.clf()"
   ]
  },
  {
   "cell_type": "code",
   "execution_count": 36,
   "metadata": {},
   "outputs": [
    {
     "name": "stdout",
     "output_type": "stream",
     "text": [
      "tensor([[4],\n",
      "        [4],\n",
      "        [3],\n",
      "        [3],\n",
      "        [4],\n",
      "        [6],\n",
      "        [5],\n",
      "        [3],\n",
      "        [2],\n",
      "        [3]])\n"
     ]
    },
    {
     "data": {
      "text/plain": [
       "tensor([[4, 4, 5, 5, 3],\n",
       "        [4, 4, 4, 4, 4],\n",
       "        [3, 3, 3, 3, 3],\n",
       "        [3, 3, 3, 3, 3],\n",
       "        [4, 2, 1, 1, 1],\n",
       "        [6, 6, 6, 6, 6],\n",
       "        [5, 5, 3, 3, 3],\n",
       "        [3, 3, 3, 3, 3],\n",
       "        [2, 2, 2, 2, 3],\n",
       "        [3, 3, 3, 3, 3]], device='cuda:0')"
      ]
     },
     "execution_count": 36,
     "metadata": {},
     "output_type": "execute_result"
    }
   ],
   "source": [
    "test_size = 10\n",
    "start_tokens = torch.randint(2, vocab_size, (test_size, 1))\n",
    "print(start_tokens)\n",
    "\n",
    "memory = G.initial_state(batch_size = test_size)\n",
    "\n",
    "if cuda:\n",
    "    memory = memory.cuda()\n",
    "    start_tokens = start_tokens.cuda()\n",
    "    \n",
    "_, data_fake, _, _ = G(start_tokens, memory, sequence_length)\n",
    "\n",
    "data_fake"
   ]
  },
  {
   "cell_type": "code",
   "execution_count": null,
   "metadata": {},
   "outputs": [],
   "source": []
  }
 ],
 "metadata": {
  "kernelspec": {
   "display_name": "Python 3",
   "language": "python",
   "name": "python3"
  },
  "language_info": {
   "codemirror_mode": {
    "name": "ipython",
    "version": 3
   },
   "file_extension": ".py",
   "mimetype": "text/x-python",
   "name": "python",
   "nbconvert_exporter": "python",
   "pygments_lexer": "ipython3",
   "version": "3.7.3"
  }
 },
 "nbformat": 4,
 "nbformat_minor": 2
}
